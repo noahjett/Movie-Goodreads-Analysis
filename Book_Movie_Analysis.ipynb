{
  "nbformat": 4,
  "nbformat_minor": 0,
  "metadata": {
    "colab": {
      "name": "Book/Movie Analysis.ipynb",
      "provenance": [],
      "collapsed_sections": [],
      "toc_visible": true,
      "include_colab_link": true
    },
    "kernelspec": {
      "name": "python3",
      "display_name": "Python 3"
    }
  },
  "cells": [
    {
      "cell_type": "markdown",
      "metadata": {
        "id": "view-in-github",
        "colab_type": "text"
      },
      "source": [
        "<a href=\"https://colab.research.google.com/github/noahjett/Movie-Goodreads-Analysis/blob/master/Book_Movie_Analysis.ipynb\" target=\"_parent\"><img src=\"https://colab.research.google.com/assets/colab-badge.svg\" alt=\"Open In Colab\"/></a>"
      ]
    },
    {
      "cell_type": "markdown",
      "metadata": {
        "id": "4Q3-1IK1sWpk",
        "colab_type": "text"
      },
      "source": [
        "# Movie & Book Reviews Project"
      ]
    },
    {
      "cell_type": "markdown",
      "metadata": {
        "id": "fXiloO06s75e",
        "colab_type": "text"
      },
      "source": [
        "Author: Noah Jett\n",
        "\n",
        "Date: 11/13/2019\n",
        "\n",
        "Made as part of Data Science 377 at Illinois Wesleyan University\n",
        "\n",
        "This project seeks to explore two well documented datasets from popular data science site Kaggle, 'Goodreads-books' and 'TMDB 5000 Movie Dataset'. \n"
      ]
    },
    {
      "cell_type": "markdown",
      "metadata": {
        "id": "MbGjHkJDq52F",
        "colab_type": "text"
      },
      "source": [
        "### Dataset 1: Goodreads-books from Kaggle\n",
        "Goodreads-books is data pulled from popular book review and reccomendation site Goodreads. Each entry in this dataset is a unique book, and contains information like author, pages, average rating, and number of reviews. The data was scraped from the site directly using the publically available Goodreads API.\n",
        "\n",
        "Can be found here:\n",
        "https://www.kaggle.com/jealousleopard/goodreadsbooks\n",
        "\n"
      ]
    },
    {
      "cell_type": "markdown",
      "metadata": {
        "id": "fTahXy09hWgB",
        "colab_type": "text"
      },
      "source": [
        "### Dataset 2: TMDB 5000 Movie Dataset from Kaggle\n",
        "Data on 5000 movies scraped from The Movie Database (TMDB).\n",
        "\n",
        "Can be found here:\n",
        "https://www.kaggle.com/tmdb/tmdb-movie-metadata#tmdb_5000_credits.csv\n",
        "\n"
      ]
    },
    {
      "cell_type": "markdown",
      "metadata": {
        "id": "-LNrzfHcvsgU",
        "colab_type": "text"
      },
      "source": [
        "### Goal\n",
        "\n",
        "The goal of this project is to do exploratory analyses on these datasets, combine them, and look at entries occurring in both datasets, i.e. books which have a movie adaptation. \n",
        "\n"
      ]
    },
    {
      "cell_type": "markdown",
      "metadata": {
        "id": "LnWuV9LMUzOB",
        "colab_type": "text"
      },
      "source": [
        "### Research Questions: \n",
        "1.   What is the relationship between movies based on a book, and movies not based on a book?\n",
        "2. Alternatively, are books with movie adaptations rated differently than those without? How?\n",
        "\n",
        "An important note is that merging the two datasets is itself an important goal of the project. Combining datasets can create value by allowing future data scientists to look at data in different ways, and ask different questions.\n"
      ]
    },
    {
      "cell_type": "markdown",
      "metadata": {
        "id": "hkBNM9pA3Jyg",
        "colab_type": "text"
      },
      "source": [
        "### Ethics Statement\n",
        "\n",
        "This project uses two publically available datasets, which can be found here https://www.kaggle.com/jealousleopard/goodreadsbooks, and here https://www.kaggle.com/tmdb/tmdb-movie-metadata#tmdb_5000_credits.csv.\n",
        "\n",
        "These datasets were created through publically available APIs, and are some of the highest rated sets on the popular data science site Kaggle. They do not contain any private information on persons or compaines. The movie dataset contains information about movie budgets and revenues, both of which are publically available information. \n",
        "\n",
        "The result of this project, to combine the datasets and identify relationships between them, should not have any negative impact on specific works or their creators. The subjects of the datasets can realistically only gain from the information created from this project."
      ]
    },
    {
      "cell_type": "markdown",
      "metadata": {
        "id": "HPV640LxWNh1",
        "colab_type": "text"
      },
      "source": [
        "### Imports and setup"
      ]
    },
    {
      "cell_type": "code",
      "metadata": {
        "id": "doX8HGMMqPJv",
        "colab_type": "code",
        "colab": {}
      },
      "source": [
        "import os\n",
        "import pandas as pd\n",
        "import matplotlib.pyplot as plt\n",
        "import seaborn as sns\n",
        "import numpy as np\n",
        "\n",
        "pd.options.display.float_format = '{:.2f}'.format\n",
        "pd.set_option('display.max_colwidth',1000)"
      ],
      "execution_count": 0,
      "outputs": []
    },
    {
      "cell_type": "code",
      "metadata": {
        "id": "lSGNvBTp6SNW",
        "colab_type": "code",
        "outputId": "a3a4912d-aad1-437b-c41f-609e8ba889e2",
        "colab": {
          "base_uri": "https://localhost:8080/",
          "height": 67
        }
      },
      "source": [
        "!pip install fuzzywuzzy\n",
        "!pip install python-Levenshtein"
      ],
      "execution_count": 2,
      "outputs": [
        {
          "output_type": "stream",
          "text": [
            "Requirement already satisfied: fuzzywuzzy in /usr/local/lib/python3.6/dist-packages (0.17.0)\n",
            "Requirement already satisfied: python-Levenshtein in /usr/local/lib/python3.6/dist-packages (0.12.0)\n",
            "Requirement already satisfied: setuptools in /usr/local/lib/python3.6/dist-packages (from python-Levenshtein) (41.6.0)\n"
          ],
          "name": "stdout"
        }
      ]
    },
    {
      "cell_type": "code",
      "metadata": {
        "id": "ECssR9Jt6aTQ",
        "colab_type": "code",
        "colab": {}
      },
      "source": [
        "import fuzzywuzzy\n",
        "from fuzzywuzzy import process "
      ],
      "execution_count": 0,
      "outputs": []
    },
    {
      "cell_type": "markdown",
      "metadata": {
        "id": "S1OeY1tGq0nP",
        "colab_type": "text"
      },
      "source": [
        "Import Method: From Google Drive"
      ]
    },
    {
      "cell_type": "code",
      "metadata": {
        "id": "Y06KtUVkqRvW",
        "colab_type": "code",
        "outputId": "8a76e1cf-49ff-4aed-e3cf-692f0d9b45ae",
        "colab": {
          "base_uri": "https://localhost:8080/",
          "height": 121
        }
      },
      "source": [
        "from google.colab import drive\n",
        "drive.mount('/content/drive/')"
      ],
      "execution_count": 4,
      "outputs": [
        {
          "output_type": "stream",
          "text": [
            "Go to this URL in a browser: https://accounts.google.com/o/oauth2/auth?client_id=947318989803-6bn6qk8qdgf4n4g3pfee6491hc0brc4i.apps.googleusercontent.com&redirect_uri=urn%3aietf%3awg%3aoauth%3a2.0%3aoob&response_type=code&scope=email%20https%3a%2f%2fwww.googleapis.com%2fauth%2fdocs.test%20https%3a%2f%2fwww.googleapis.com%2fauth%2fdrive%20https%3a%2f%2fwww.googleapis.com%2fauth%2fdrive.photos.readonly%20https%3a%2f%2fwww.googleapis.com%2fauth%2fpeopleapi.readonly\n",
            "\n",
            "Enter your authorization code:\n",
            "··········\n",
            "Mounted at /content/drive/\n"
          ],
          "name": "stdout"
        }
      ]
    },
    {
      "cell_type": "code",
      "metadata": {
        "id": "3VokIlj8qU_J",
        "colab_type": "code",
        "outputId": "0be15bed-43fb-4fe2-e9b1-2d4a62b64a43",
        "colab": {
          "base_uri": "https://localhost:8080/",
          "height": 54
        }
      },
      "source": [
        "path1 = \"/content/drive/My Drive/data/books.csv\"\n",
        "books = pd.read_csv(path1, error_bad_lines=False)\n",
        "\n",
        "path2 = \"/content/drive/My Drive/data/tmdb_5000_movies.csv\"\n",
        "movies = pd.read_csv(path2, error_bad_lines=False)\n",
        "\n",
        "path3 = \"/content/drive/My Drive/data/tmdb_5000_credits.csv\"\n",
        "credits = pd.read_csv(path3, error_bad_lines=False)\n",
        "\n",
        "#path4 = \"/content/drive/My Drive/data/Dataframe.csv\"\n",
        "#df = pd.read_csv(path4, error_bad_lines=False)\n"
      ],
      "execution_count": 5,
      "outputs": [
        {
          "output_type": "stream",
          "text": [
            "b'Skipping line 4012: expected 10 fields, saw 11\\nSkipping line 5688: expected 10 fields, saw 11\\nSkipping line 7056: expected 10 fields, saw 11\\nSkipping line 10601: expected 10 fields, saw 11\\nSkipping line 10668: expected 10 fields, saw 11\\n'\n"
          ],
          "name": "stderr"
        }
      ]
    },
    {
      "cell_type": "markdown",
      "metadata": {
        "id": "dA5pyQjprO1H",
        "colab_type": "text"
      },
      "source": [
        "### Missing values "
      ]
    },
    {
      "cell_type": "code",
      "metadata": {
        "id": "_6hvhR8yqu_n",
        "colab_type": "code",
        "outputId": "8f269bbc-cc00-49b4-ada3-4f2eed9d91c9",
        "colab": {
          "base_uri": "https://localhost:8080/",
          "height": 202
        }
      },
      "source": [
        "books.isna().sum()\n"
      ],
      "execution_count": 6,
      "outputs": [
        {
          "output_type": "execute_result",
          "data": {
            "text/plain": [
              "bookID                0\n",
              "title                 0\n",
              "authors               0\n",
              "average_rating        0\n",
              "isbn                  0\n",
              "isbn13                0\n",
              "language_code         0\n",
              "# num_pages           0\n",
              "ratings_count         0\n",
              "text_reviews_count    0\n",
              "dtype: int64"
            ]
          },
          "metadata": {
            "tags": []
          },
          "execution_count": 6
        }
      ]
    },
    {
      "cell_type": "markdown",
      "metadata": {
        "id": "3FrwTbrurWI0",
        "colab_type": "text"
      },
      "source": [
        "Goodreads dataset has no missing values"
      ]
    },
    {
      "cell_type": "code",
      "metadata": {
        "id": "NI_iD_puQF2_",
        "colab_type": "code",
        "outputId": "2b309d6d-d075-4220-f876-989fda0b463c",
        "colab": {
          "base_uri": "https://localhost:8080/",
          "height": 370
        }
      },
      "source": [
        "movies.isna().sum()"
      ],
      "execution_count": 7,
      "outputs": [
        {
          "output_type": "execute_result",
          "data": {
            "text/plain": [
              "budget                     0\n",
              "genres                     0\n",
              "homepage                3091\n",
              "id                         0\n",
              "keywords                   0\n",
              "original_language          0\n",
              "original_title             0\n",
              "overview                   3\n",
              "popularity                 0\n",
              "production_companies       0\n",
              "production_countries       0\n",
              "release_date               1\n",
              "revenue                    0\n",
              "runtime                    2\n",
              "spoken_languages           0\n",
              "status                     0\n",
              "tagline                  844\n",
              "title                      0\n",
              "vote_average               0\n",
              "vote_count                 0\n",
              "dtype: int64"
            ]
          },
          "metadata": {
            "tags": []
          },
          "execution_count": 7
        }
      ]
    },
    {
      "cell_type": "markdown",
      "metadata": {
        "id": "NEUmvTq_QQYN",
        "colab_type": "text"
      },
      "source": [
        "We see that the 'homepage' and 'tagline' fields are empty for many entries, but these are values we are not concerned with. \n",
        "\n",
        "There are also a few (<=3) for other fields, but since they are so few these can likely be dropped with no effect."
      ]
    },
    {
      "cell_type": "markdown",
      "metadata": {
        "id": "EHPEx373XGWR",
        "colab_type": "text"
      },
      "source": [
        "### Goodreads Relevant Columns/Variables\n",
        "\n",
        "\n",
        "\n",
        "*   **title** - The name of the book\n",
        "*   **authors** - The writer of the book\n",
        "*   **average_rating** - From 1-5, the average rating given by reviewers\n",
        "*   **language_code** - A shorthand for the language used\n",
        "*   **# num_pages** - The number of pages in the book\n",
        "*   **ratings_count** - The total number of reviews for the book\n",
        "\n",
        "\n"
      ]
    },
    {
      "cell_type": "markdown",
      "metadata": {
        "id": "XJ0c2aPTeuDc",
        "colab_type": "text"
      },
      "source": [
        "### Goodreads descriptives"
      ]
    },
    {
      "cell_type": "code",
      "metadata": {
        "id": "LubAVYZWrUjc",
        "colab_type": "code",
        "outputId": "4cc9dcd1-2bc4-48d8-f67d-df027b8aa0ae",
        "colab": {
          "base_uri": "https://localhost:8080/",
          "height": 582
        }
      },
      "source": [
        "books.head(5)"
      ],
      "execution_count": 8,
      "outputs": [
        {
          "output_type": "execute_result",
          "data": {
            "text/html": [
              "<div>\n",
              "<style scoped>\n",
              "    .dataframe tbody tr th:only-of-type {\n",
              "        vertical-align: middle;\n",
              "    }\n",
              "\n",
              "    .dataframe tbody tr th {\n",
              "        vertical-align: top;\n",
              "    }\n",
              "\n",
              "    .dataframe thead th {\n",
              "        text-align: right;\n",
              "    }\n",
              "</style>\n",
              "<table border=\"1\" class=\"dataframe\">\n",
              "  <thead>\n",
              "    <tr style=\"text-align: right;\">\n",
              "      <th></th>\n",
              "      <th>bookID</th>\n",
              "      <th>title</th>\n",
              "      <th>authors</th>\n",
              "      <th>average_rating</th>\n",
              "      <th>isbn</th>\n",
              "      <th>isbn13</th>\n",
              "      <th>language_code</th>\n",
              "      <th># num_pages</th>\n",
              "      <th>ratings_count</th>\n",
              "      <th>text_reviews_count</th>\n",
              "    </tr>\n",
              "  </thead>\n",
              "  <tbody>\n",
              "    <tr>\n",
              "      <th>0</th>\n",
              "      <td>1</td>\n",
              "      <td>Harry Potter and the Half-Blood Prince (Harry Potter  #6)</td>\n",
              "      <td>J.K. Rowling-Mary GrandPré</td>\n",
              "      <td>4.56</td>\n",
              "      <td>0439785960</td>\n",
              "      <td>9780439785969</td>\n",
              "      <td>eng</td>\n",
              "      <td>652</td>\n",
              "      <td>1944099</td>\n",
              "      <td>26249</td>\n",
              "    </tr>\n",
              "    <tr>\n",
              "      <th>1</th>\n",
              "      <td>2</td>\n",
              "      <td>Harry Potter and the Order of the Phoenix (Harry Potter  #5)</td>\n",
              "      <td>J.K. Rowling-Mary GrandPré</td>\n",
              "      <td>4.49</td>\n",
              "      <td>0439358078</td>\n",
              "      <td>9780439358071</td>\n",
              "      <td>eng</td>\n",
              "      <td>870</td>\n",
              "      <td>1996446</td>\n",
              "      <td>27613</td>\n",
              "    </tr>\n",
              "    <tr>\n",
              "      <th>2</th>\n",
              "      <td>3</td>\n",
              "      <td>Harry Potter and the Sorcerer's Stone (Harry Potter  #1)</td>\n",
              "      <td>J.K. Rowling-Mary GrandPré</td>\n",
              "      <td>4.47</td>\n",
              "      <td>0439554934</td>\n",
              "      <td>9780439554930</td>\n",
              "      <td>eng</td>\n",
              "      <td>320</td>\n",
              "      <td>5629932</td>\n",
              "      <td>70390</td>\n",
              "    </tr>\n",
              "    <tr>\n",
              "      <th>3</th>\n",
              "      <td>4</td>\n",
              "      <td>Harry Potter and the Chamber of Secrets (Harry Potter  #2)</td>\n",
              "      <td>J.K. Rowling</td>\n",
              "      <td>4.41</td>\n",
              "      <td>0439554896</td>\n",
              "      <td>9780439554893</td>\n",
              "      <td>eng</td>\n",
              "      <td>352</td>\n",
              "      <td>6267</td>\n",
              "      <td>272</td>\n",
              "    </tr>\n",
              "    <tr>\n",
              "      <th>4</th>\n",
              "      <td>5</td>\n",
              "      <td>Harry Potter and the Prisoner of Azkaban (Harry Potter  #3)</td>\n",
              "      <td>J.K. Rowling-Mary GrandPré</td>\n",
              "      <td>4.55</td>\n",
              "      <td>043965548X</td>\n",
              "      <td>9780439655484</td>\n",
              "      <td>eng</td>\n",
              "      <td>435</td>\n",
              "      <td>2149872</td>\n",
              "      <td>33964</td>\n",
              "    </tr>\n",
              "  </tbody>\n",
              "</table>\n",
              "</div>"
            ],
            "text/plain": [
              "   bookID  ... text_reviews_count\n",
              "0       1  ...              26249\n",
              "1       2  ...              27613\n",
              "2       3  ...              70390\n",
              "3       4  ...                272\n",
              "4       5  ...              33964\n",
              "\n",
              "[5 rows x 10 columns]"
            ]
          },
          "metadata": {
            "tags": []
          },
          "execution_count": 8
        }
      ]
    },
    {
      "cell_type": "markdown",
      "metadata": {
        "id": "HZ3eagQcrsUq",
        "colab_type": "text"
      },
      "source": [
        "### Dropping unused columns"
      ]
    },
    {
      "cell_type": "code",
      "metadata": {
        "id": "FoSNoayfGqRO",
        "colab_type": "code",
        "colab": {}
      },
      "source": [
        "books = books.drop(columns=['bookID', 'isbn', 'isbn13', 'language_code'])"
      ],
      "execution_count": 0,
      "outputs": []
    },
    {
      "cell_type": "code",
      "metadata": {
        "id": "wBeTX2ZErjGn",
        "colab_type": "code",
        "outputId": "9230518b-7e54-4186-bd05-096d2764189b",
        "colab": {
          "base_uri": "https://localhost:8080/",
          "height": 202
        }
      },
      "source": [
        "books.info()"
      ],
      "execution_count": 10,
      "outputs": [
        {
          "output_type": "stream",
          "text": [
            "<class 'pandas.core.frame.DataFrame'>\n",
            "RangeIndex: 13714 entries, 0 to 13713\n",
            "Data columns (total 6 columns):\n",
            "title                 13714 non-null object\n",
            "authors               13714 non-null object\n",
            "average_rating        13714 non-null float64\n",
            "# num_pages           13714 non-null int64\n",
            "ratings_count         13714 non-null int64\n",
            "text_reviews_count    13714 non-null int64\n",
            "dtypes: float64(1), int64(3), object(2)\n",
            "memory usage: 643.0+ KB\n"
          ],
          "name": "stdout"
        }
      ]
    },
    {
      "cell_type": "code",
      "metadata": {
        "id": "_KZC7i6Cr62j",
        "colab_type": "code",
        "outputId": "84048ed5-d482-4bc6-c67d-596058758654",
        "colab": {
          "base_uri": "https://localhost:8080/",
          "height": 166
        }
      },
      "source": [
        "books.describe().T"
      ],
      "execution_count": 11,
      "outputs": [
        {
          "output_type": "execute_result",
          "data": {
            "text/html": [
              "<div>\n",
              "<style scoped>\n",
              "    .dataframe tbody tr th:only-of-type {\n",
              "        vertical-align: middle;\n",
              "    }\n",
              "\n",
              "    .dataframe tbody tr th {\n",
              "        vertical-align: top;\n",
              "    }\n",
              "\n",
              "    .dataframe thead th {\n",
              "        text-align: right;\n",
              "    }\n",
              "</style>\n",
              "<table border=\"1\" class=\"dataframe\">\n",
              "  <thead>\n",
              "    <tr style=\"text-align: right;\">\n",
              "      <th></th>\n",
              "      <th>count</th>\n",
              "      <th>mean</th>\n",
              "      <th>std</th>\n",
              "      <th>min</th>\n",
              "      <th>25%</th>\n",
              "      <th>50%</th>\n",
              "      <th>75%</th>\n",
              "      <th>max</th>\n",
              "    </tr>\n",
              "  </thead>\n",
              "  <tbody>\n",
              "    <tr>\n",
              "      <th>average_rating</th>\n",
              "      <td>13714.00</td>\n",
              "      <td>3.93</td>\n",
              "      <td>0.36</td>\n",
              "      <td>0.00</td>\n",
              "      <td>3.77</td>\n",
              "      <td>3.96</td>\n",
              "      <td>4.13</td>\n",
              "      <td>5.00</td>\n",
              "    </tr>\n",
              "    <tr>\n",
              "      <th># num_pages</th>\n",
              "      <td>13714.00</td>\n",
              "      <td>342.40</td>\n",
              "      <td>252.65</td>\n",
              "      <td>0.00</td>\n",
              "      <td>196.00</td>\n",
              "      <td>301.00</td>\n",
              "      <td>421.00</td>\n",
              "      <td>6576.00</td>\n",
              "    </tr>\n",
              "    <tr>\n",
              "      <th>ratings_count</th>\n",
              "      <td>13714.00</td>\n",
              "      <td>17765.40</td>\n",
              "      <td>112957.23</td>\n",
              "      <td>0.00</td>\n",
              "      <td>83.00</td>\n",
              "      <td>630.50</td>\n",
              "      <td>4742.25</td>\n",
              "      <td>5629932.00</td>\n",
              "    </tr>\n",
              "    <tr>\n",
              "      <th>text_reviews_count</th>\n",
              "      <td>13714.00</td>\n",
              "      <td>533.63</td>\n",
              "      <td>2529.01</td>\n",
              "      <td>0.00</td>\n",
              "      <td>7.00</td>\n",
              "      <td>40.00</td>\n",
              "      <td>222.00</td>\n",
              "      <td>93619.00</td>\n",
              "    </tr>\n",
              "  </tbody>\n",
              "</table>\n",
              "</div>"
            ],
            "text/plain": [
              "                      count     mean       std  ...    50%     75%        max\n",
              "average_rating     13714.00     3.93      0.36  ...   3.96    4.13       5.00\n",
              "# num_pages        13714.00   342.40    252.65  ... 301.00  421.00    6576.00\n",
              "ratings_count      13714.00 17765.40 112957.23  ... 630.50 4742.25 5629932.00\n",
              "text_reviews_count 13714.00   533.63   2529.01  ...  40.00  222.00   93619.00\n",
              "\n",
              "[4 rows x 8 columns]"
            ]
          },
          "metadata": {
            "tags": []
          },
          "execution_count": 11
        }
      ]
    },
    {
      "cell_type": "markdown",
      "metadata": {
        "id": "j7NTRFu1YhOf",
        "colab_type": "text"
      },
      "source": [
        "### Movies Relevant Columns/Variables\n",
        "\n",
        "\n",
        "\n",
        "*  **title** - The name of the movie\n",
        "*  **vote_average** - From 1-10, the average score given by reviewers\n",
        "*  **runtime** - Length of the movie in minutes\n",
        "*  **revenue** - Money earned in USD\n",
        "*  **overview** - A short description of the movie \n",
        "*  **popularity** - A metric for the movie's popularity, provided by TMDB, poorly defined\n",
        "*  **keywords** - Word/phrases/names assiciated with the movie, its type/genre\n",
        "*  **budget** - Budget the movie had in production in USD\n",
        "\n"
      ]
    },
    {
      "cell_type": "markdown",
      "metadata": {
        "id": "ITjTsPR7e2qR",
        "colab_type": "text"
      },
      "source": [
        "### Movie descriptives"
      ]
    },
    {
      "cell_type": "code",
      "metadata": {
        "id": "B7B5rc7ufKUm",
        "colab_type": "code",
        "outputId": "e2bf077f-5ac6-4197-bff2-bc49f118d531",
        "colab": {
          "base_uri": "https://localhost:8080/",
          "height": 1000
        }
      },
      "source": [
        "movies.head(5)"
      ],
      "execution_count": 12,
      "outputs": [
        {
          "output_type": "execute_result",
          "data": {
            "text/html": [
              "<div>\n",
              "<style scoped>\n",
              "    .dataframe tbody tr th:only-of-type {\n",
              "        vertical-align: middle;\n",
              "    }\n",
              "\n",
              "    .dataframe tbody tr th {\n",
              "        vertical-align: top;\n",
              "    }\n",
              "\n",
              "    .dataframe thead th {\n",
              "        text-align: right;\n",
              "    }\n",
              "</style>\n",
              "<table border=\"1\" class=\"dataframe\">\n",
              "  <thead>\n",
              "    <tr style=\"text-align: right;\">\n",
              "      <th></th>\n",
              "      <th>budget</th>\n",
              "      <th>genres</th>\n",
              "      <th>homepage</th>\n",
              "      <th>id</th>\n",
              "      <th>keywords</th>\n",
              "      <th>original_language</th>\n",
              "      <th>original_title</th>\n",
              "      <th>overview</th>\n",
              "      <th>popularity</th>\n",
              "      <th>production_companies</th>\n",
              "      <th>production_countries</th>\n",
              "      <th>release_date</th>\n",
              "      <th>revenue</th>\n",
              "      <th>runtime</th>\n",
              "      <th>spoken_languages</th>\n",
              "      <th>status</th>\n",
              "      <th>tagline</th>\n",
              "      <th>title</th>\n",
              "      <th>vote_average</th>\n",
              "      <th>vote_count</th>\n",
              "    </tr>\n",
              "  </thead>\n",
              "  <tbody>\n",
              "    <tr>\n",
              "      <th>0</th>\n",
              "      <td>237000000</td>\n",
              "      <td>[{\"id\": 28, \"name\": \"Action\"}, {\"id\": 12, \"name\": \"Adventure\"}, {\"id\": 14, \"name\": \"Fantasy\"}, {\"id\": 878, \"name\": \"Science Fiction\"}]</td>\n",
              "      <td>http://www.avatarmovie.com/</td>\n",
              "      <td>19995</td>\n",
              "      <td>[{\"id\": 1463, \"name\": \"culture clash\"}, {\"id\": 2964, \"name\": \"future\"}, {\"id\": 3386, \"name\": \"space war\"}, {\"id\": 3388, \"name\": \"space colony\"}, {\"id\": 3679, \"name\": \"society\"}, {\"id\": 3801, \"name\": \"space travel\"}, {\"id\": 9685, \"name\": \"futuristic\"}, {\"id\": 9840, \"name\": \"romance\"}, {\"id\": 9882, \"name\": \"space\"}, {\"id\": 9951, \"name\": \"alien\"}, {\"id\": 10148, \"name\": \"tribe\"}, {\"id\": 10158, \"name\": \"alien planet\"}, {\"id\": 10987, \"name\": \"cgi\"}, {\"id\": 11399, \"name\": \"marine\"}, {\"id\": 13065, \"name\": \"soldier\"}, {\"id\": 14643, \"name\": \"battle\"}, {\"id\": 14720, \"name\": \"love affair\"}, {\"id\": 165431, \"name\": \"anti war\"}, {\"id\": 193554, \"name\": \"power relations\"}, {\"id\": 206690, \"name\": \"mind and soul\"}, {\"id\": 209714, \"name\": \"3d\"}]</td>\n",
              "      <td>en</td>\n",
              "      <td>Avatar</td>\n",
              "      <td>In the 22nd century, a paraplegic Marine is dispatched to the moon Pandora on a unique mission, but becomes torn between following orders and protecting an alien civilization.</td>\n",
              "      <td>150.44</td>\n",
              "      <td>[{\"name\": \"Ingenious Film Partners\", \"id\": 289}, {\"name\": \"Twentieth Century Fox Film Corporation\", \"id\": 306}, {\"name\": \"Dune Entertainment\", \"id\": 444}, {\"name\": \"Lightstorm Entertainment\", \"id\": 574}]</td>\n",
              "      <td>[{\"iso_3166_1\": \"US\", \"name\": \"United States of America\"}, {\"iso_3166_1\": \"GB\", \"name\": \"United Kingdom\"}]</td>\n",
              "      <td>2009-12-10</td>\n",
              "      <td>2787965087</td>\n",
              "      <td>162.00</td>\n",
              "      <td>[{\"iso_639_1\": \"en\", \"name\": \"English\"}, {\"iso_639_1\": \"es\", \"name\": \"Espa\\u00f1ol\"}]</td>\n",
              "      <td>Released</td>\n",
              "      <td>Enter the World of Pandora.</td>\n",
              "      <td>Avatar</td>\n",
              "      <td>7.20</td>\n",
              "      <td>11800</td>\n",
              "    </tr>\n",
              "    <tr>\n",
              "      <th>1</th>\n",
              "      <td>300000000</td>\n",
              "      <td>[{\"id\": 12, \"name\": \"Adventure\"}, {\"id\": 14, \"name\": \"Fantasy\"}, {\"id\": 28, \"name\": \"Action\"}]</td>\n",
              "      <td>http://disney.go.com/disneypictures/pirates/</td>\n",
              "      <td>285</td>\n",
              "      <td>[{\"id\": 270, \"name\": \"ocean\"}, {\"id\": 726, \"name\": \"drug abuse\"}, {\"id\": 911, \"name\": \"exotic island\"}, {\"id\": 1319, \"name\": \"east india trading company\"}, {\"id\": 2038, \"name\": \"love of one's life\"}, {\"id\": 2052, \"name\": \"traitor\"}, {\"id\": 2580, \"name\": \"shipwreck\"}, {\"id\": 2660, \"name\": \"strong woman\"}, {\"id\": 3799, \"name\": \"ship\"}, {\"id\": 5740, \"name\": \"alliance\"}, {\"id\": 5941, \"name\": \"calypso\"}, {\"id\": 6155, \"name\": \"afterlife\"}, {\"id\": 6211, \"name\": \"fighter\"}, {\"id\": 12988, \"name\": \"pirate\"}, {\"id\": 157186, \"name\": \"swashbuckler\"}, {\"id\": 179430, \"name\": \"aftercreditsstinger\"}]</td>\n",
              "      <td>en</td>\n",
              "      <td>Pirates of the Caribbean: At World's End</td>\n",
              "      <td>Captain Barbossa, long believed to be dead, has come back to life and is headed to the edge of the Earth with Will Turner and Elizabeth Swann. But nothing is quite as it seems.</td>\n",
              "      <td>139.08</td>\n",
              "      <td>[{\"name\": \"Walt Disney Pictures\", \"id\": 2}, {\"name\": \"Jerry Bruckheimer Films\", \"id\": 130}, {\"name\": \"Second Mate Productions\", \"id\": 19936}]</td>\n",
              "      <td>[{\"iso_3166_1\": \"US\", \"name\": \"United States of America\"}]</td>\n",
              "      <td>2007-05-19</td>\n",
              "      <td>961000000</td>\n",
              "      <td>169.00</td>\n",
              "      <td>[{\"iso_639_1\": \"en\", \"name\": \"English\"}]</td>\n",
              "      <td>Released</td>\n",
              "      <td>At the end of the world, the adventure begins.</td>\n",
              "      <td>Pirates of the Caribbean: At World's End</td>\n",
              "      <td>6.90</td>\n",
              "      <td>4500</td>\n",
              "    </tr>\n",
              "    <tr>\n",
              "      <th>2</th>\n",
              "      <td>245000000</td>\n",
              "      <td>[{\"id\": 28, \"name\": \"Action\"}, {\"id\": 12, \"name\": \"Adventure\"}, {\"id\": 80, \"name\": \"Crime\"}]</td>\n",
              "      <td>http://www.sonypictures.com/movies/spectre/</td>\n",
              "      <td>206647</td>\n",
              "      <td>[{\"id\": 470, \"name\": \"spy\"}, {\"id\": 818, \"name\": \"based on novel\"}, {\"id\": 4289, \"name\": \"secret agent\"}, {\"id\": 9663, \"name\": \"sequel\"}, {\"id\": 14555, \"name\": \"mi6\"}, {\"id\": 156095, \"name\": \"british secret service\"}, {\"id\": 158431, \"name\": \"united kingdom\"}]</td>\n",
              "      <td>en</td>\n",
              "      <td>Spectre</td>\n",
              "      <td>A cryptic message from Bond’s past sends him on a trail to uncover a sinister organization. While M battles political forces to keep the secret service alive, Bond peels back the layers of deceit to reveal the terrible truth behind SPECTRE.</td>\n",
              "      <td>107.38</td>\n",
              "      <td>[{\"name\": \"Columbia Pictures\", \"id\": 5}, {\"name\": \"Danjaq\", \"id\": 10761}, {\"name\": \"B24\", \"id\": 69434}]</td>\n",
              "      <td>[{\"iso_3166_1\": \"GB\", \"name\": \"United Kingdom\"}, {\"iso_3166_1\": \"US\", \"name\": \"United States of America\"}]</td>\n",
              "      <td>2015-10-26</td>\n",
              "      <td>880674609</td>\n",
              "      <td>148.00</td>\n",
              "      <td>[{\"iso_639_1\": \"fr\", \"name\": \"Fran\\u00e7ais\"}, {\"iso_639_1\": \"en\", \"name\": \"English\"}, {\"iso_639_1\": \"es\", \"name\": \"Espa\\u00f1ol\"}, {\"iso_639_1\": \"it\", \"name\": \"Italiano\"}, {\"iso_639_1\": \"de\", \"name\": \"Deutsch\"}]</td>\n",
              "      <td>Released</td>\n",
              "      <td>A Plan No One Escapes</td>\n",
              "      <td>Spectre</td>\n",
              "      <td>6.30</td>\n",
              "      <td>4466</td>\n",
              "    </tr>\n",
              "    <tr>\n",
              "      <th>3</th>\n",
              "      <td>250000000</td>\n",
              "      <td>[{\"id\": 28, \"name\": \"Action\"}, {\"id\": 80, \"name\": \"Crime\"}, {\"id\": 18, \"name\": \"Drama\"}, {\"id\": 53, \"name\": \"Thriller\"}]</td>\n",
              "      <td>http://www.thedarkknightrises.com/</td>\n",
              "      <td>49026</td>\n",
              "      <td>[{\"id\": 849, \"name\": \"dc comics\"}, {\"id\": 853, \"name\": \"crime fighter\"}, {\"id\": 949, \"name\": \"terrorist\"}, {\"id\": 1308, \"name\": \"secret identity\"}, {\"id\": 1437, \"name\": \"burglar\"}, {\"id\": 3051, \"name\": \"hostage drama\"}, {\"id\": 3562, \"name\": \"time bomb\"}, {\"id\": 6969, \"name\": \"gotham city\"}, {\"id\": 7002, \"name\": \"vigilante\"}, {\"id\": 9665, \"name\": \"cover-up\"}, {\"id\": 9715, \"name\": \"superhero\"}, {\"id\": 9990, \"name\": \"villainess\"}, {\"id\": 10044, \"name\": \"tragic hero\"}, {\"id\": 13015, \"name\": \"terrorism\"}, {\"id\": 14796, \"name\": \"destruction\"}, {\"id\": 18933, \"name\": \"catwoman\"}, {\"id\": 156082, \"name\": \"cat burglar\"}, {\"id\": 156395, \"name\": \"imax\"}, {\"id\": 173272, \"name\": \"flood\"}, {\"id\": 179093, \"name\": \"criminal underworld\"}, {\"id\": 230775, \"name\": \"batman\"}]</td>\n",
              "      <td>en</td>\n",
              "      <td>The Dark Knight Rises</td>\n",
              "      <td>Following the death of District Attorney Harvey Dent, Batman assumes responsibility for Dent's crimes to protect the late attorney's reputation and is subsequently hunted by the Gotham City Police Department. Eight years later, Batman encounters the mysterious Selina Kyle and the villainous Bane, a new terrorist leader who overwhelms Gotham's finest. The Dark Knight resurfaces to protect a city that has branded him an enemy.</td>\n",
              "      <td>112.31</td>\n",
              "      <td>[{\"name\": \"Legendary Pictures\", \"id\": 923}, {\"name\": \"Warner Bros.\", \"id\": 6194}, {\"name\": \"DC Entertainment\", \"id\": 9993}, {\"name\": \"Syncopy\", \"id\": 9996}]</td>\n",
              "      <td>[{\"iso_3166_1\": \"US\", \"name\": \"United States of America\"}]</td>\n",
              "      <td>2012-07-16</td>\n",
              "      <td>1084939099</td>\n",
              "      <td>165.00</td>\n",
              "      <td>[{\"iso_639_1\": \"en\", \"name\": \"English\"}]</td>\n",
              "      <td>Released</td>\n",
              "      <td>The Legend Ends</td>\n",
              "      <td>The Dark Knight Rises</td>\n",
              "      <td>7.60</td>\n",
              "      <td>9106</td>\n",
              "    </tr>\n",
              "    <tr>\n",
              "      <th>4</th>\n",
              "      <td>260000000</td>\n",
              "      <td>[{\"id\": 28, \"name\": \"Action\"}, {\"id\": 12, \"name\": \"Adventure\"}, {\"id\": 878, \"name\": \"Science Fiction\"}]</td>\n",
              "      <td>http://movies.disney.com/john-carter</td>\n",
              "      <td>49529</td>\n",
              "      <td>[{\"id\": 818, \"name\": \"based on novel\"}, {\"id\": 839, \"name\": \"mars\"}, {\"id\": 1456, \"name\": \"medallion\"}, {\"id\": 3801, \"name\": \"space travel\"}, {\"id\": 7376, \"name\": \"princess\"}, {\"id\": 9951, \"name\": \"alien\"}, {\"id\": 10028, \"name\": \"steampunk\"}, {\"id\": 10539, \"name\": \"martian\"}, {\"id\": 10685, \"name\": \"escape\"}, {\"id\": 161511, \"name\": \"edgar rice burroughs\"}, {\"id\": 163252, \"name\": \"alien race\"}, {\"id\": 179102, \"name\": \"superhuman strength\"}, {\"id\": 190320, \"name\": \"mars civilization\"}, {\"id\": 195446, \"name\": \"sword and planet\"}, {\"id\": 207928, \"name\": \"19th century\"}, {\"id\": 209714, \"name\": \"3d\"}]</td>\n",
              "      <td>en</td>\n",
              "      <td>John Carter</td>\n",
              "      <td>John Carter is a war-weary, former military captain who's inexplicably transported to the mysterious and exotic planet of Barsoom (Mars) and reluctantly becomes embroiled in an epic conflict. It's a world on the brink of collapse, and Carter rediscovers his humanity when he realizes the survival of Barsoom and its people rests in his hands.</td>\n",
              "      <td>43.93</td>\n",
              "      <td>[{\"name\": \"Walt Disney Pictures\", \"id\": 2}]</td>\n",
              "      <td>[{\"iso_3166_1\": \"US\", \"name\": \"United States of America\"}]</td>\n",
              "      <td>2012-03-07</td>\n",
              "      <td>284139100</td>\n",
              "      <td>132.00</td>\n",
              "      <td>[{\"iso_639_1\": \"en\", \"name\": \"English\"}]</td>\n",
              "      <td>Released</td>\n",
              "      <td>Lost in our world, found in another.</td>\n",
              "      <td>John Carter</td>\n",
              "      <td>6.10</td>\n",
              "      <td>2124</td>\n",
              "    </tr>\n",
              "  </tbody>\n",
              "</table>\n",
              "</div>"
            ],
            "text/plain": [
              "      budget  ... vote_count\n",
              "0  237000000  ...      11800\n",
              "1  300000000  ...       4500\n",
              "2  245000000  ...       4466\n",
              "3  250000000  ...       9106\n",
              "4  260000000  ...       2124\n",
              "\n",
              "[5 rows x 20 columns]"
            ]
          },
          "metadata": {
            "tags": []
          },
          "execution_count": 12
        }
      ]
    },
    {
      "cell_type": "markdown",
      "metadata": {
        "id": "L-nD5Gh1G-A-",
        "colab_type": "text"
      },
      "source": [
        "### Dropping unused movie columns"
      ]
    },
    {
      "cell_type": "code",
      "metadata": {
        "id": "cb-uc_i3HA54",
        "colab_type": "code",
        "colab": {}
      },
      "source": [
        "movies = movies.drop(columns=['genres', 'homepage', 'id', 'original_language', 'production_countries'])"
      ],
      "execution_count": 0,
      "outputs": []
    },
    {
      "cell_type": "code",
      "metadata": {
        "id": "h6yilouUe5Gz",
        "colab_type": "code",
        "outputId": "251cc1dd-d2db-48b8-849d-83e0065ee5e7",
        "colab": {
          "base_uri": "https://localhost:8080/",
          "height": 353
        }
      },
      "source": [
        "movies.info()"
      ],
      "execution_count": 14,
      "outputs": [
        {
          "output_type": "stream",
          "text": [
            "<class 'pandas.core.frame.DataFrame'>\n",
            "RangeIndex: 4803 entries, 0 to 4802\n",
            "Data columns (total 15 columns):\n",
            "budget                  4803 non-null int64\n",
            "keywords                4803 non-null object\n",
            "original_title          4803 non-null object\n",
            "overview                4800 non-null object\n",
            "popularity              4803 non-null float64\n",
            "production_companies    4803 non-null object\n",
            "release_date            4802 non-null object\n",
            "revenue                 4803 non-null int64\n",
            "runtime                 4801 non-null float64\n",
            "spoken_languages        4803 non-null object\n",
            "status                  4803 non-null object\n",
            "tagline                 3959 non-null object\n",
            "title                   4803 non-null object\n",
            "vote_average            4803 non-null float64\n",
            "vote_count              4803 non-null int64\n",
            "dtypes: float64(3), int64(3), object(9)\n",
            "memory usage: 563.0+ KB\n"
          ],
          "name": "stdout"
        }
      ]
    },
    {
      "cell_type": "code",
      "metadata": {
        "id": "LMfbcirUfHiu",
        "colab_type": "code",
        "outputId": "466b9776-03fb-467b-dffc-bd7d8a22d72c",
        "colab": {
          "base_uri": "https://localhost:8080/",
          "height": 225
        }
      },
      "source": [
        "movies.describe().T"
      ],
      "execution_count": 15,
      "outputs": [
        {
          "output_type": "execute_result",
          "data": {
            "text/html": [
              "<div>\n",
              "<style scoped>\n",
              "    .dataframe tbody tr th:only-of-type {\n",
              "        vertical-align: middle;\n",
              "    }\n",
              "\n",
              "    .dataframe tbody tr th {\n",
              "        vertical-align: top;\n",
              "    }\n",
              "\n",
              "    .dataframe thead th {\n",
              "        text-align: right;\n",
              "    }\n",
              "</style>\n",
              "<table border=\"1\" class=\"dataframe\">\n",
              "  <thead>\n",
              "    <tr style=\"text-align: right;\">\n",
              "      <th></th>\n",
              "      <th>count</th>\n",
              "      <th>mean</th>\n",
              "      <th>std</th>\n",
              "      <th>min</th>\n",
              "      <th>25%</th>\n",
              "      <th>50%</th>\n",
              "      <th>75%</th>\n",
              "      <th>max</th>\n",
              "    </tr>\n",
              "  </thead>\n",
              "  <tbody>\n",
              "    <tr>\n",
              "      <th>budget</th>\n",
              "      <td>4803.00</td>\n",
              "      <td>29045039.88</td>\n",
              "      <td>40722391.26</td>\n",
              "      <td>0.00</td>\n",
              "      <td>790000.00</td>\n",
              "      <td>15000000.00</td>\n",
              "      <td>40000000.00</td>\n",
              "      <td>380000000.00</td>\n",
              "    </tr>\n",
              "    <tr>\n",
              "      <th>popularity</th>\n",
              "      <td>4803.00</td>\n",
              "      <td>21.49</td>\n",
              "      <td>31.82</td>\n",
              "      <td>0.00</td>\n",
              "      <td>4.67</td>\n",
              "      <td>12.92</td>\n",
              "      <td>28.31</td>\n",
              "      <td>875.58</td>\n",
              "    </tr>\n",
              "    <tr>\n",
              "      <th>revenue</th>\n",
              "      <td>4803.00</td>\n",
              "      <td>82260638.65</td>\n",
              "      <td>162857100.94</td>\n",
              "      <td>0.00</td>\n",
              "      <td>0.00</td>\n",
              "      <td>19170001.00</td>\n",
              "      <td>92917187.00</td>\n",
              "      <td>2787965087.00</td>\n",
              "    </tr>\n",
              "    <tr>\n",
              "      <th>runtime</th>\n",
              "      <td>4801.00</td>\n",
              "      <td>106.88</td>\n",
              "      <td>22.61</td>\n",
              "      <td>0.00</td>\n",
              "      <td>94.00</td>\n",
              "      <td>103.00</td>\n",
              "      <td>118.00</td>\n",
              "      <td>338.00</td>\n",
              "    </tr>\n",
              "    <tr>\n",
              "      <th>vote_average</th>\n",
              "      <td>4803.00</td>\n",
              "      <td>6.09</td>\n",
              "      <td>1.19</td>\n",
              "      <td>0.00</td>\n",
              "      <td>5.60</td>\n",
              "      <td>6.20</td>\n",
              "      <td>6.80</td>\n",
              "      <td>10.00</td>\n",
              "    </tr>\n",
              "    <tr>\n",
              "      <th>vote_count</th>\n",
              "      <td>4803.00</td>\n",
              "      <td>690.22</td>\n",
              "      <td>1234.59</td>\n",
              "      <td>0.00</td>\n",
              "      <td>54.00</td>\n",
              "      <td>235.00</td>\n",
              "      <td>737.00</td>\n",
              "      <td>13752.00</td>\n",
              "    </tr>\n",
              "  </tbody>\n",
              "</table>\n",
              "</div>"
            ],
            "text/plain": [
              "               count        mean  ...         75%           max\n",
              "budget       4803.00 29045039.88  ... 40000000.00  380000000.00\n",
              "popularity   4803.00       21.49  ...       28.31        875.58\n",
              "revenue      4803.00 82260638.65  ... 92917187.00 2787965087.00\n",
              "runtime      4801.00      106.88  ...      118.00        338.00\n",
              "vote_average 4803.00        6.09  ...        6.80         10.00\n",
              "vote_count   4803.00      690.22  ...      737.00      13752.00\n",
              "\n",
              "[6 rows x 8 columns]"
            ]
          },
          "metadata": {
            "tags": []
          },
          "execution_count": 15
        }
      ]
    },
    {
      "cell_type": "markdown",
      "metadata": {
        "id": "I2Nnj0KuWlPy",
        "colab_type": "text"
      },
      "source": [
        "## Overview of data transformations and merge\n",
        "\n",
        "A significant goal of this project is to perform transformations on and merge the dataset. The final result we want is a single dataframe, whose entries are Things which are both a book and a movie, and the corresponding information for each of those.\n",
        "\n",
        "####Failed Attempts/Techniques:\n",
        "\n",
        "\n",
        "\n",
        "**Naive merge with Pandas**\n",
        "\n",
        "\n",
        "\n",
        "```\n",
        "pd.merge(books, movies)\n",
        "```\n",
        "\n",
        "\n",
        "\n",
        "The Pandas library provides a built in merge function, which uses relational database-like joins to combine datasets. If you give these two datasets, unmodified, to this method, it will find the shared column 'title', and merge all entries which have the same title.\n",
        "\n",
        "There are two major problems from this:\n",
        "\n",
        "1.   It only matches titles which are exactly the same.\n",
        "2.   A book and movie might have the same title, but be different things.\n",
        "\n",
        "\n",
        "**Using metadata to merge**\n",
        "\n",
        "A potential solution which avoids these problems is to merge on some other data. The movie dataset in particular has a lot of information in the **overview** and **keywords** columns. If a movie directly mentioned the title of a book in these areas, or mentioned the author of the book in the credits, we could potentially use that information to match with the book. This method had limited success because entries had inconsistent amount of data. Some movies mentioned the books they were based on, some didn't.\n",
        "\n",
        "However, this method was accurate enough for this dataset to be turned into a **verify()** function which checked whether a book/movie pair were actually the same thing, **solving problem 2**.\n",
        "\n",
        "**Partial String Matching with Fuzzywuzzy to solve problem 1**\n",
        "\n",
        "With any data entry, it is common for entries to have slight variations. The goodreads dataset shows a lot of this, with different editions and versions of the same book. For example, the most common versions of the Harry Potter novels have the form 'Harry Potter and the Sorcerers Stone (Harry Potter #1)'. This title would not match with the movie entry, which does not have the trailing part in parentheses. What we want then is to see if a title is at least xx% the same, to account for these differences.\n",
        "\n",
        "One way to do this is to calculate the Levenshtein distance, described in more detail [here](https://en.wikipedia.org/wiki/Levenshtein_distance). One Python library which implements this is Fuzzywuzzy.\n",
        "\n",
        "\n"
      ]
    },
    {
      "cell_type": "markdown",
      "metadata": {
        "id": "VX8nGX-5hFW5",
        "colab_type": "text"
      },
      "source": [
        "# Basic Visualizations (move/get rid of?)\n",
        "\n",
        "This section explores the datasets indivually with simple research questions and visualizations. \n"
      ]
    },
    {
      "cell_type": "markdown",
      "metadata": {
        "id": "Yl70S8rEZnta",
        "colab_type": "text"
      },
      "source": [
        "### What authors have published the most books?"
      ]
    },
    {
      "cell_type": "code",
      "metadata": {
        "id": "w5c54ZSmYS0Q",
        "colab_type": "code",
        "outputId": "72f66ee1-6091-4aad-8436-620c76b1b9be",
        "colab": {
          "base_uri": "https://localhost:8080/",
          "height": 343
        }
      },
      "source": [
        "most_published_authors = books['authors'].value_counts()[:10]\n",
        "mostcounts = most_published_authors.reset_index()\n",
        "mostcounts\n"
      ],
      "execution_count": 16,
      "outputs": [
        {
          "output_type": "execute_result",
          "data": {
            "text/html": [
              "<div>\n",
              "<style scoped>\n",
              "    .dataframe tbody tr th:only-of-type {\n",
              "        vertical-align: middle;\n",
              "    }\n",
              "\n",
              "    .dataframe tbody tr th {\n",
              "        vertical-align: top;\n",
              "    }\n",
              "\n",
              "    .dataframe thead th {\n",
              "        text-align: right;\n",
              "    }\n",
              "</style>\n",
              "<table border=\"1\" class=\"dataframe\">\n",
              "  <thead>\n",
              "    <tr style=\"text-align: right;\">\n",
              "      <th></th>\n",
              "      <th>index</th>\n",
              "      <th>authors</th>\n",
              "    </tr>\n",
              "  </thead>\n",
              "  <tbody>\n",
              "    <tr>\n",
              "      <th>0</th>\n",
              "      <td>Agatha Christie</td>\n",
              "      <td>69</td>\n",
              "    </tr>\n",
              "    <tr>\n",
              "      <th>1</th>\n",
              "      <td>Stephen King</td>\n",
              "      <td>66</td>\n",
              "    </tr>\n",
              "    <tr>\n",
              "      <th>2</th>\n",
              "      <td>Orson Scott Card</td>\n",
              "      <td>48</td>\n",
              "    </tr>\n",
              "    <tr>\n",
              "      <th>3</th>\n",
              "      <td>Rumiko Takahashi</td>\n",
              "      <td>46</td>\n",
              "    </tr>\n",
              "    <tr>\n",
              "      <th>4</th>\n",
              "      <td>P.G. Wodehouse</td>\n",
              "      <td>42</td>\n",
              "    </tr>\n",
              "    <tr>\n",
              "      <th>5</th>\n",
              "      <td>Terry Brooks</td>\n",
              "      <td>40</td>\n",
              "    </tr>\n",
              "    <tr>\n",
              "      <th>6</th>\n",
              "      <td>Piers Anthony</td>\n",
              "      <td>34</td>\n",
              "    </tr>\n",
              "    <tr>\n",
              "      <th>7</th>\n",
              "      <td>Margaret Weis-Tracy Hickman</td>\n",
              "      <td>33</td>\n",
              "    </tr>\n",
              "    <tr>\n",
              "      <th>8</th>\n",
              "      <td>Dan Simmons</td>\n",
              "      <td>32</td>\n",
              "    </tr>\n",
              "    <tr>\n",
              "      <th>9</th>\n",
              "      <td>Gabriel García Márquez</td>\n",
              "      <td>31</td>\n",
              "    </tr>\n",
              "  </tbody>\n",
              "</table>\n",
              "</div>"
            ],
            "text/plain": [
              "                         index  authors\n",
              "0              Agatha Christie       69\n",
              "1                 Stephen King       66\n",
              "2             Orson Scott Card       48\n",
              "3             Rumiko Takahashi       46\n",
              "4               P.G. Wodehouse       42\n",
              "5                 Terry Brooks       40\n",
              "6                Piers Anthony       34\n",
              "7  Margaret Weis-Tracy Hickman       33\n",
              "8                  Dan Simmons       32\n",
              "9       Gabriel García Márquez       31"
            ]
          },
          "metadata": {
            "tags": []
          },
          "execution_count": 16
        }
      ]
    },
    {
      "cell_type": "code",
      "metadata": {
        "id": "sAKjC8-UZRIt",
        "colab_type": "code",
        "outputId": "a8b568f8-ca96-4ff4-e909-5bb546f65d3e",
        "colab": {
          "base_uri": "https://localhost:8080/",
          "height": 374
        }
      },
      "source": [
        "authorplot = sns.barplot(x = 'index',y='authors', data=mostcounts, palette=\"pastel\")\n",
        "authorplot.set_xticklabels(authorplot.get_xticklabels(), rotation=40, ha=\"right\")\n",
        "authorplot.set(xlabel='Author', ylabel='Frequency')\n",
        "plt.show()"
      ],
      "execution_count": 17,
      "outputs": [
        {
          "output_type": "display_data",
          "data": {
            "image/png": "[encoded data removed]",
            "text/plain": [
              "<Figure size 432x288 with 1 Axes>"
            ]
          },
          "metadata": {
            "tags": []
          }
        }
      ]
    },
    {
      "cell_type": "markdown",
      "metadata": {
        "id": "ml81FGXKZxDQ",
        "colab_type": "text"
      },
      "source": [
        "### What are the highest rated books?"
      ]
    },
    {
      "cell_type": "code",
      "metadata": {
        "id": "WFl4RqP7Zz8i",
        "colab_type": "code",
        "outputId": "a4042d82-7800-4b4c-c8de-5d93ac5e45ce",
        "colab": {
          "base_uri": "https://localhost:8080/",
          "height": 676
        }
      },
      "source": [
        "# Do with groupby?\n",
        "\n",
        "highest_rated_all = books.sort_values('average_rating', ascending=False)[:15]\n",
        "highest_rated_books = highest_rated_all[['title', 'authors', 'average_rating', 'ratings_count', 'text_reviews_count']]\n",
        "highest_rated_books\n"
      ],
      "execution_count": 18,
      "outputs": [
        {
          "output_type": "execute_result",
          "data": {
            "text/html": [
              "<div>\n",
              "<style scoped>\n",
              "    .dataframe tbody tr th:only-of-type {\n",
              "        vertical-align: middle;\n",
              "    }\n",
              "\n",
              "    .dataframe tbody tr th {\n",
              "        vertical-align: top;\n",
              "    }\n",
              "\n",
              "    .dataframe thead th {\n",
              "        text-align: right;\n",
              "    }\n",
              "</style>\n",
              "<table border=\"1\" class=\"dataframe\">\n",
              "  <thead>\n",
              "    <tr style=\"text-align: right;\">\n",
              "      <th></th>\n",
              "      <th>title</th>\n",
              "      <th>authors</th>\n",
              "      <th>average_rating</th>\n",
              "      <th>ratings_count</th>\n",
              "      <th>text_reviews_count</th>\n",
              "    </tr>\n",
              "  </thead>\n",
              "  <tbody>\n",
              "    <tr>\n",
              "      <th>6077</th>\n",
              "      <td>The Complete Theory Fun Factory: Music Theory Puzzles and Games for the Early Grades</td>\n",
              "      <td>Ian        Martin-Katie Elliott</td>\n",
              "      <td>5.00</td>\n",
              "      <td>1</td>\n",
              "      <td>0</td>\n",
              "    </tr>\n",
              "    <tr>\n",
              "      <th>4939</th>\n",
              "      <td>Zone of the Enders: The 2nd Runner Official Strategy Guide</td>\n",
              "      <td>Tim Bogenn</td>\n",
              "      <td>5.00</td>\n",
              "      <td>2</td>\n",
              "      <td>0</td>\n",
              "    </tr>\n",
              "    <tr>\n",
              "      <th>963</th>\n",
              "      <td>Literature Circle Guide: Bridge to Terabithia: Everything You Need For Successful Literature Circles That Get Kids Thinking  Talking  Writing—and Loving Literature</td>\n",
              "      <td>Tara MacCarthy</td>\n",
              "      <td>5.00</td>\n",
              "      <td>4</td>\n",
              "      <td>1</td>\n",
              "    </tr>\n",
              "    <tr>\n",
              "      <th>7506</th>\n",
              "      <td>The New Big Book of America</td>\n",
              "      <td>Todd Davis-Marc Frey</td>\n",
              "      <td>5.00</td>\n",
              "      <td>2</td>\n",
              "      <td>1</td>\n",
              "    </tr>\n",
              "    <tr>\n",
              "      <th>11067</th>\n",
              "      <td>Bubbles in the Middle (The Powerpuff Girls Plus You Club  #16)</td>\n",
              "      <td>Aaron Rosenberg-Christopher Cook</td>\n",
              "      <td>5.00</td>\n",
              "      <td>5</td>\n",
              "      <td>0</td>\n",
              "    </tr>\n",
              "    <tr>\n",
              "      <th>13050</th>\n",
              "      <td>Ecuador Nature Guide: Southwest Forests:  Sozoranga Forest Project</td>\n",
              "      <td>Chris Jiggins-Pablo Andrade-Eduardo Cueva</td>\n",
              "      <td>5.00</td>\n",
              "      <td>1</td>\n",
              "      <td>0</td>\n",
              "    </tr>\n",
              "    <tr>\n",
              "      <th>879</th>\n",
              "      <td>Willem de Kooning: Late Paintings</td>\n",
              "      <td>Julie Sylvester-David Sylvester</td>\n",
              "      <td>5.00</td>\n",
              "      <td>1</td>\n",
              "      <td>0</td>\n",
              "    </tr>\n",
              "    <tr>\n",
              "      <th>7434</th>\n",
              "      <td>Taxation of Mineral Rents</td>\n",
              "      <td>Ross Garnaut</td>\n",
              "      <td>5.00</td>\n",
              "      <td>1</td>\n",
              "      <td>0</td>\n",
              "    </tr>\n",
              "    <tr>\n",
              "      <th>11542</th>\n",
              "      <td>The Irish Anatomist: A Study of Flann O'Brien</td>\n",
              "      <td>Keith Donohue</td>\n",
              "      <td>5.00</td>\n",
              "      <td>1</td>\n",
              "      <td>0</td>\n",
              "    </tr>\n",
              "    <tr>\n",
              "      <th>8146</th>\n",
              "      <td>Delwau Duon: Peintiadau Nicholas Evans = Symphonies in Black: The Paintings of Nicholas Evans</td>\n",
              "      <td>Nicholas    Evans-Rhonda  Evans</td>\n",
              "      <td>5.00</td>\n",
              "      <td>1</td>\n",
              "      <td>0</td>\n",
              "    </tr>\n",
              "    <tr>\n",
              "      <th>2988</th>\n",
              "      <td>Insights: Talks On The Nature Of Existence</td>\n",
              "      <td>Frederick P. Lenz</td>\n",
              "      <td>5.00</td>\n",
              "      <td>1</td>\n",
              "      <td>0</td>\n",
              "    </tr>\n",
              "    <tr>\n",
              "      <th>705</th>\n",
              "      <td>Comoediae 1: Acharenses/Equites/Nubes/Vespae/Pax/Aves</td>\n",
              "      <td>Aristophanes-F.W. Hall-W.M. Geldart</td>\n",
              "      <td>5.00</td>\n",
              "      <td>0</td>\n",
              "      <td>0</td>\n",
              "    </tr>\n",
              "    <tr>\n",
              "      <th>5786</th>\n",
              "      <td>The Diamond Color Meditation: Color Path to the Soul</td>\n",
              "      <td>John  Diamond</td>\n",
              "      <td>5.00</td>\n",
              "      <td>5</td>\n",
              "      <td>3</td>\n",
              "    </tr>\n",
              "    <tr>\n",
              "      <th>13568</th>\n",
              "      <td>Lectures d'une oeuvre: The Handmaid's tale de Margaret Atwood</td>\n",
              "      <td>Jean-Paul Gabilliet-François Gallix-Janice Fiamengo-Raphaelle Costa de Beauregard-Priscilla Morin-Ollier</td>\n",
              "      <td>5.00</td>\n",
              "      <td>2</td>\n",
              "      <td>0</td>\n",
              "    </tr>\n",
              "    <tr>\n",
              "      <th>11674</th>\n",
              "      <td>The American Campaign: U.S. Presidential Campaigns and the National Vote</td>\n",
              "      <td>James E. Campbell</td>\n",
              "      <td>5.00</td>\n",
              "      <td>0</td>\n",
              "      <td>0</td>\n",
              "    </tr>\n",
              "  </tbody>\n",
              "</table>\n",
              "</div>"
            ],
            "text/plain": [
              "                                                                                                                                                                     title  ... text_reviews_count\n",
              "6077                                                                                  The Complete Theory Fun Factory: Music Theory Puzzles and Games for the Early Grades  ...                  0\n",
              "4939                                                                                                            Zone of the Enders: The 2nd Runner Official Strategy Guide  ...                  0\n",
              "963    Literature Circle Guide: Bridge to Terabithia: Everything You Need For Successful Literature Circles That Get Kids Thinking  Talking  Writing—and Loving Literature  ...                  1\n",
              "7506                                                                                                                                           The New Big Book of America  ...                  1\n",
              "11067                                                                                                       Bubbles in the Middle (The Powerpuff Girls Plus You Club  #16)  ...                  0\n",
              "13050                                                                                                   Ecuador Nature Guide: Southwest Forests:  Sozoranga Forest Project  ...                  0\n",
              "879                                                                                                                                      Willem de Kooning: Late Paintings  ...                  0\n",
              "7434                                                                                                                                             Taxation of Mineral Rents  ...                  0\n",
              "11542                                                                                                                        The Irish Anatomist: A Study of Flann O'Brien  ...                  0\n",
              "8146                                                                         Delwau Duon: Peintiadau Nicholas Evans = Symphonies in Black: The Paintings of Nicholas Evans  ...                  0\n",
              "2988                                                                                                                            Insights: Talks On The Nature Of Existence  ...                  0\n",
              "705                                                                                                                  Comoediae 1: Acharenses/Equites/Nubes/Vespae/Pax/Aves  ...                  0\n",
              "5786                                                                                                                  The Diamond Color Meditation: Color Path to the Soul  ...                  3\n",
              "13568                                                                                                        Lectures d'une oeuvre: The Handmaid's tale de Margaret Atwood  ...                  0\n",
              "11674                                                                                             The American Campaign: U.S. Presidential Campaigns and the National Vote  ...                  0\n",
              "\n",
              "[15 rows x 5 columns]"
            ]
          },
          "metadata": {
            "tags": []
          },
          "execution_count": 18
        }
      ]
    },
    {
      "cell_type": "markdown",
      "metadata": {
        "id": "vEMO-kLiFtdl",
        "colab_type": "text"
      },
      "source": [
        "The above cell showed an important detail, that not all entries have the same amount of reviews\n",
        "\n",
        "Let's see what the highest rated books with at least 100 reviews are"
      ]
    },
    {
      "cell_type": "code",
      "metadata": {
        "id": "h_D-P8DjF7f4",
        "colab_type": "code",
        "outputId": "076fa076-ab6f-4f25-af9c-53b186c33e60",
        "colab": {
          "base_uri": "https://localhost:8080/",
          "height": 47
        }
      },
      "source": [
        "highest_with_hundred = highest_rated_all[highest_rated_all['ratings_count'] >= 100][:10]\n",
        "highest_with_hundred = highest_with_hundred[['title', 'authors', 'average_rating', 'ratings_count']]\n",
        "\n",
        "fave_cols = highest_with_hundred[['title', 'average_rating']]\n",
        "\n",
        "highest_with_hundred"
      ],
      "execution_count": 19,
      "outputs": [
        {
          "output_type": "execute_result",
          "data": {
            "text/html": [
              "<div>\n",
              "<style scoped>\n",
              "    .dataframe tbody tr th:only-of-type {\n",
              "        vertical-align: middle;\n",
              "    }\n",
              "\n",
              "    .dataframe tbody tr th {\n",
              "        vertical-align: top;\n",
              "    }\n",
              "\n",
              "    .dataframe thead th {\n",
              "        text-align: right;\n",
              "    }\n",
              "</style>\n",
              "<table border=\"1\" class=\"dataframe\">\n",
              "  <thead>\n",
              "    <tr style=\"text-align: right;\">\n",
              "      <th></th>\n",
              "      <th>title</th>\n",
              "      <th>authors</th>\n",
              "      <th>average_rating</th>\n",
              "      <th>ratings_count</th>\n",
              "    </tr>\n",
              "  </thead>\n",
              "  <tbody>\n",
              "  </tbody>\n",
              "</table>\n",
              "</div>"
            ],
            "text/plain": [
              "Empty DataFrame\n",
              "Columns: [title, authors, average_rating, ratings_count]\n",
              "Index: []"
            ]
          },
          "metadata": {
            "tags": []
          },
          "execution_count": 19
        }
      ]
    },
    {
      "cell_type": "markdown",
      "metadata": {
        "id": "6g9dkpBrG_lE",
        "colab_type": "text"
      },
      "source": [
        "**The world really likes Calvin and Hobbes**"
      ]
    },
    {
      "cell_type": "code",
      "metadata": {
        "id": "ZuNm7UTDHtDM",
        "colab_type": "code",
        "outputId": "b6edb885-2905-41ab-91a1-65afd0afc384",
        "colab": {
          "base_uri": "https://localhost:8080/",
          "height": 54
        }
      },
      "source": [
        "\"\"\"\n",
        "favebookplot = sns.barplot(x = 'title',y='average_rating', data=fave_cols, palette=\"pastel\")\n",
        "favebookplot.set_xticklabels(favebookplot.get_xticklabels(), rotation=40, ha=\"right\")\n",
        "favebookplot.set(xlabel='Book', ylabel='Rating')\n",
        "plt.show()\n",
        "\"\"\""
      ],
      "execution_count": 20,
      "outputs": [
        {
          "output_type": "execute_result",
          "data": {
            "text/plain": [
              "'\\nfavebookplot = sns.barplot(x = \\'title\\',y=\\'average_rating\\', data=fave_cols, palette=\"pastel\")\\nfavebookplot.set_xticklabels(favebookplot.get_xticklabels(), rotation=40, ha=\"right\")\\nfavebookplot.set(xlabel=\\'Book\\', ylabel=\\'Rating\\')\\nplt.show()\\n'"
            ]
          },
          "metadata": {
            "tags": []
          },
          "execution_count": 20
        }
      ]
    },
    {
      "cell_type": "markdown",
      "metadata": {
        "id": "ihfV3TsjcBVf",
        "colab_type": "text"
      },
      "source": [
        "### What are the highest budget movies?"
      ]
    },
    {
      "cell_type": "code",
      "metadata": {
        "id": "8t3xLAE6cE5H",
        "colab_type": "code",
        "outputId": "494cef73-f54d-4a60-a601-baa647930c41",
        "colab": {
          "base_uri": "https://localhost:8080/",
          "height": 417
        }
      },
      "source": [
        "most_expensive_df = movies.sort_values('budget',ascending=False)[:10]\n",
        "\n",
        "most_expensive = most_expensive_df[['title', 'budget', 'revenue']]\n",
        "\n",
        "expensiveplot = sns.barplot(x = 'title',y='budget', data=most_expensive, palette=\"pastel\")\n",
        "expensiveplot.set_xticklabels(expensiveplot.get_xticklabels(), rotation=40, ha=\"right\")\n",
        "expensiveplot.set(xlabel='Movie', ylabel='Budget (in US dollars)')\n",
        "plt.ticklabel_format(style='plain', axis='y')\n",
        "plt.show()"
      ],
      "execution_count": 21,
      "outputs": [
        {
          "output_type": "display_data",
          "data": {
            "image/png": "[encoded data removed]",
            "text/plain": [
              "<Figure size 432x288 with 1 Axes>"
            ]
          },
          "metadata": {
            "tags": []
          }
        }
      ]
    },
    {
      "cell_type": "code",
      "metadata": {
        "id": "6sLkrtLBIOWt",
        "colab_type": "code",
        "outputId": "78c92b14-6f6b-4e5e-bb42-ac67e3a03d0b",
        "colab": {
          "base_uri": "https://localhost:8080/",
          "height": 343
        }
      },
      "source": [
        "most_expensive"
      ],
      "execution_count": 22,
      "outputs": [
        {
          "output_type": "execute_result",
          "data": {
            "text/html": [
              "<div>\n",
              "<style scoped>\n",
              "    .dataframe tbody tr th:only-of-type {\n",
              "        vertical-align: middle;\n",
              "    }\n",
              "\n",
              "    .dataframe tbody tr th {\n",
              "        vertical-align: top;\n",
              "    }\n",
              "\n",
              "    .dataframe thead th {\n",
              "        text-align: right;\n",
              "    }\n",
              "</style>\n",
              "<table border=\"1\" class=\"dataframe\">\n",
              "  <thead>\n",
              "    <tr style=\"text-align: right;\">\n",
              "      <th></th>\n",
              "      <th>title</th>\n",
              "      <th>budget</th>\n",
              "      <th>revenue</th>\n",
              "    </tr>\n",
              "  </thead>\n",
              "  <tbody>\n",
              "    <tr>\n",
              "      <th>17</th>\n",
              "      <td>Pirates of the Caribbean: On Stranger Tides</td>\n",
              "      <td>380000000</td>\n",
              "      <td>1045713802</td>\n",
              "    </tr>\n",
              "    <tr>\n",
              "      <th>1</th>\n",
              "      <td>Pirates of the Caribbean: At World's End</td>\n",
              "      <td>300000000</td>\n",
              "      <td>961000000</td>\n",
              "    </tr>\n",
              "    <tr>\n",
              "      <th>7</th>\n",
              "      <td>Avengers: Age of Ultron</td>\n",
              "      <td>280000000</td>\n",
              "      <td>1405403694</td>\n",
              "    </tr>\n",
              "    <tr>\n",
              "      <th>10</th>\n",
              "      <td>Superman Returns</td>\n",
              "      <td>270000000</td>\n",
              "      <td>391081192</td>\n",
              "    </tr>\n",
              "    <tr>\n",
              "      <th>4</th>\n",
              "      <td>John Carter</td>\n",
              "      <td>260000000</td>\n",
              "      <td>284139100</td>\n",
              "    </tr>\n",
              "    <tr>\n",
              "      <th>6</th>\n",
              "      <td>Tangled</td>\n",
              "      <td>260000000</td>\n",
              "      <td>591794936</td>\n",
              "    </tr>\n",
              "    <tr>\n",
              "      <th>5</th>\n",
              "      <td>Spider-Man 3</td>\n",
              "      <td>258000000</td>\n",
              "      <td>890871626</td>\n",
              "    </tr>\n",
              "    <tr>\n",
              "      <th>13</th>\n",
              "      <td>The Lone Ranger</td>\n",
              "      <td>255000000</td>\n",
              "      <td>89289910</td>\n",
              "    </tr>\n",
              "    <tr>\n",
              "      <th>46</th>\n",
              "      <td>X-Men: Days of Future Past</td>\n",
              "      <td>250000000</td>\n",
              "      <td>747862775</td>\n",
              "    </tr>\n",
              "    <tr>\n",
              "      <th>22</th>\n",
              "      <td>The Hobbit: The Desolation of Smaug</td>\n",
              "      <td>250000000</td>\n",
              "      <td>958400000</td>\n",
              "    </tr>\n",
              "  </tbody>\n",
              "</table>\n",
              "</div>"
            ],
            "text/plain": [
              "                                          title     budget     revenue\n",
              "17  Pirates of the Caribbean: On Stranger Tides  380000000  1045713802\n",
              "1      Pirates of the Caribbean: At World's End  300000000   961000000\n",
              "7                       Avengers: Age of Ultron  280000000  1405403694\n",
              "10                             Superman Returns  270000000   391081192\n",
              "4                                   John Carter  260000000   284139100\n",
              "6                                       Tangled  260000000   591794936\n",
              "5                                  Spider-Man 3  258000000   890871626\n",
              "13                              The Lone Ranger  255000000    89289910\n",
              "46                   X-Men: Days of Future Past  250000000   747862775\n",
              "22          The Hobbit: The Desolation of Smaug  250000000   958400000"
            ]
          },
          "metadata": {
            "tags": []
          },
          "execution_count": 22
        }
      ]
    },
    {
      "cell_type": "markdown",
      "metadata": {
        "id": "1GeqYl3-dwig",
        "colab_type": "text"
      },
      "source": [
        "### What are the most popular movies?\n",
        "\n",
        "Using the TMDB popularity metric, which is not clearly defined anywhere. \n",
        "\n",
        "Per the TMDB documentation [here](https://developers.themoviedb.org/3/getting-started/popularity), it is some combination of:\n",
        "\n",
        "\n",
        "Number of votes for the day\n",
        "\n",
        "Number of views for the day\n",
        "\n",
        "Number of users who marked it as a \"favourite\" for the day\n",
        "\n",
        "Number of users who added it to their \"watchlist\" for the day\n",
        "\n",
        "Release date\n",
        "\n",
        "Number of total votes\n",
        "\n",
        "Previous days score"
      ]
    },
    {
      "cell_type": "code",
      "metadata": {
        "id": "WjDXMRxydzX9",
        "colab_type": "code",
        "outputId": "883ab8aa-6b05-496e-c8f6-88d2daa7a4b7",
        "colab": {
          "base_uri": "https://localhost:8080/",
          "height": 343
        }
      },
      "source": [
        "most_popular_df = movies.sort_values('popularity',ascending=False)[:10]\n",
        "most_popular = most_popular_df[['title', 'popularity', 'release_date']]\n",
        "most_popular"
      ],
      "execution_count": 23,
      "outputs": [
        {
          "output_type": "execute_result",
          "data": {
            "text/html": [
              "<div>\n",
              "<style scoped>\n",
              "    .dataframe tbody tr th:only-of-type {\n",
              "        vertical-align: middle;\n",
              "    }\n",
              "\n",
              "    .dataframe tbody tr th {\n",
              "        vertical-align: top;\n",
              "    }\n",
              "\n",
              "    .dataframe thead th {\n",
              "        text-align: right;\n",
              "    }\n",
              "</style>\n",
              "<table border=\"1\" class=\"dataframe\">\n",
              "  <thead>\n",
              "    <tr style=\"text-align: right;\">\n",
              "      <th></th>\n",
              "      <th>title</th>\n",
              "      <th>popularity</th>\n",
              "      <th>release_date</th>\n",
              "    </tr>\n",
              "  </thead>\n",
              "  <tbody>\n",
              "    <tr>\n",
              "      <th>546</th>\n",
              "      <td>Minions</td>\n",
              "      <td>875.58</td>\n",
              "      <td>2015-06-17</td>\n",
              "    </tr>\n",
              "    <tr>\n",
              "      <th>95</th>\n",
              "      <td>Interstellar</td>\n",
              "      <td>724.25</td>\n",
              "      <td>2014-11-05</td>\n",
              "    </tr>\n",
              "    <tr>\n",
              "      <th>788</th>\n",
              "      <td>Deadpool</td>\n",
              "      <td>514.57</td>\n",
              "      <td>2016-02-09</td>\n",
              "    </tr>\n",
              "    <tr>\n",
              "      <th>94</th>\n",
              "      <td>Guardians of the Galaxy</td>\n",
              "      <td>481.10</td>\n",
              "      <td>2014-07-30</td>\n",
              "    </tr>\n",
              "    <tr>\n",
              "      <th>127</th>\n",
              "      <td>Mad Max: Fury Road</td>\n",
              "      <td>434.28</td>\n",
              "      <td>2015-05-13</td>\n",
              "    </tr>\n",
              "    <tr>\n",
              "      <th>28</th>\n",
              "      <td>Jurassic World</td>\n",
              "      <td>418.71</td>\n",
              "      <td>2015-06-09</td>\n",
              "    </tr>\n",
              "    <tr>\n",
              "      <th>199</th>\n",
              "      <td>Pirates of the Caribbean: The Curse of the Black Pearl</td>\n",
              "      <td>271.97</td>\n",
              "      <td>2003-07-09</td>\n",
              "    </tr>\n",
              "    <tr>\n",
              "      <th>82</th>\n",
              "      <td>Dawn of the Planet of the Apes</td>\n",
              "      <td>243.79</td>\n",
              "      <td>2014-06-26</td>\n",
              "    </tr>\n",
              "    <tr>\n",
              "      <th>200</th>\n",
              "      <td>The Hunger Games: Mockingjay - Part 1</td>\n",
              "      <td>206.23</td>\n",
              "      <td>2014-11-18</td>\n",
              "    </tr>\n",
              "    <tr>\n",
              "      <th>88</th>\n",
              "      <td>Big Hero 6</td>\n",
              "      <td>203.73</td>\n",
              "      <td>2014-10-24</td>\n",
              "    </tr>\n",
              "  </tbody>\n",
              "</table>\n",
              "</div>"
            ],
            "text/plain": [
              "                                                      title  ...  release_date\n",
              "546                                                 Minions  ...    2015-06-17\n",
              "95                                             Interstellar  ...    2014-11-05\n",
              "788                                                Deadpool  ...    2016-02-09\n",
              "94                                  Guardians of the Galaxy  ...    2014-07-30\n",
              "127                                      Mad Max: Fury Road  ...    2015-05-13\n",
              "28                                           Jurassic World  ...    2015-06-09\n",
              "199  Pirates of the Caribbean: The Curse of the Black Pearl  ...    2003-07-09\n",
              "82                           Dawn of the Planet of the Apes  ...    2014-06-26\n",
              "200                   The Hunger Games: Mockingjay - Part 1  ...    2014-11-18\n",
              "88                                               Big Hero 6  ...    2014-10-24\n",
              "\n",
              "[10 rows x 3 columns]"
            ]
          },
          "metadata": {
            "tags": []
          },
          "execution_count": 23
        }
      ]
    },
    {
      "cell_type": "markdown",
      "metadata": {
        "id": "-0YkLKBAji5b",
        "colab_type": "text"
      },
      "source": [
        "### Old matching techniques"
      ]
    },
    {
      "cell_type": "markdown",
      "metadata": {
        "id": "F_yWR87XZv4r",
        "colab_type": "text"
      },
      "source": [
        "Now we are looking to do exact title matches.\n",
        "\n",
        "Thinking back to the 'Hatchet' example, we can prune some values.\n",
        "Can drop titles with only one word, since it is highly likely single word titles have been used repeatedly.\n",
        "\n",
        "The below code drops 800 book rows, 1000 movie rows\n",
        "\n",
        "I made copies of the dataset here rather than modifying the original."
      ]
    },
    {
      "cell_type": "code",
      "metadata": {
        "id": "OYgon_AcZ1D6",
        "colab_type": "code",
        "outputId": "ae59f2fa-94bb-42b0-bc42-6b5d20aa9106",
        "colab": {
          "base_uri": "https://localhost:8080/",
          "height": 54
        }
      },
      "source": [
        "\"\"\"\n",
        "books_for_match['wordcount'] = books_for_match['title'].str.split().str.len()\n",
        "books_for_match = books_for_match[books_for_match['wordcount'] > 1]\n",
        "movies_for_match['wordcount'] = movies_for_match['title'].str.split().str.len()\n",
        "movies_for_match = movies_for_match[movies_for_match['wordcount'] > 1]\n",
        "\"\"\""
      ],
      "execution_count": 24,
      "outputs": [
        {
          "output_type": "execute_result",
          "data": {
            "text/plain": [
              "\"\\nbooks_for_match['wordcount'] = books_for_match['title'].str.split().str.len()\\nbooks_for_match = books_for_match[books_for_match['wordcount'] > 1]\\nmovies_for_match['wordcount'] = movies_for_match['title'].str.split().str.len()\\nmovies_for_match = movies_for_match[movies_for_match['wordcount'] > 1]\\n\""
            ]
          },
          "metadata": {
            "tags": []
          },
          "execution_count": 24
        }
      ]
    },
    {
      "cell_type": "code",
      "metadata": {
        "id": "szC3bvP9Z5ZV",
        "colab_type": "code",
        "colab": {}
      },
      "source": [
        "# try merging these two\n",
        "#merge3 = pd.merge(books_for_match, movies_for_match)\n",
        "\n",
        "#merge3.info()\n",
        "#merge3.head(10);"
      ],
      "execution_count": 0,
      "outputs": []
    },
    {
      "cell_type": "markdown",
      "metadata": {
        "id": "WbuFNtk2auwZ",
        "colab_type": "text"
      },
      "source": [
        "In merged2 we combined: books and movies explicitly marked as being based on a book.\n",
        "In merged3 we combined: all books and movies with titles greater than 1 word\n",
        "\n",
        "We want to combine these without the duplicates, try pandas method 'concat'"
      ]
    },
    {
      "cell_type": "code",
      "metadata": {
        "id": "53xTKxGHawh3",
        "colab_type": "code",
        "colab": {}
      },
      "source": [
        "#merge4 = pd.concat([merge2,merge3],sort=True).drop_duplicates().reset_index(drop=True)\n",
        "\n",
        "#merge4.info()"
      ],
      "execution_count": 0,
      "outputs": []
    },
    {
      "cell_type": "markdown",
      "metadata": {
        "id": "tqQ4iZE0dXYw",
        "colab_type": "text"
      },
      "source": [
        "#### The above dataframe merge4, is our most accurate and complete thus far. It has 520 entries, but with notable absences like the Harry Potter series. The reason for this is that the book entries have more complex titles. See below."
      ]
    },
    {
      "cell_type": "code",
      "metadata": {
        "id": "JHoPcrUseiNS",
        "colab_type": "code",
        "outputId": "e17d2b21-c428-4f0c-89e1-dfb955d28b8c",
        "colab": {
          "base_uri": "https://localhost:8080/",
          "height": 235
        }
      },
      "source": [
        "books[books['title'].str.contains('Har')]['title'][:5], ' ', movies[movies['title'].str.contains('Har')]['title'][:5]"
      ],
      "execution_count": 27,
      "outputs": [
        {
          "output_type": "execute_result",
          "data": {
            "text/plain": [
              "(0       Harry Potter and the Half-Blood Prince (Harry Potter  #6)\n",
              " 1    Harry Potter and the Order of the Phoenix (Harry Potter  #5)\n",
              " 2        Harry Potter and the Sorcerer's Stone (Harry Potter  #1)\n",
              " 3      Harry Potter and the Chamber of Secrets (Harry Potter  #2)\n",
              " 4     Harry Potter and the Prisoner of Azkaban (Harry Potter  #3)\n",
              " Name: title, dtype: object,\n",
              " ' ',\n",
              " 8         Harry Potter and the Half-Blood Prince\n",
              " 110                                 Pearl Harbor\n",
              " 113    Harry Potter and the Order of the Phoenix\n",
              " 114          Harry Potter and the Goblet of Fire\n",
              " 191     Harry Potter and the Prisoner of Azkaban\n",
              " Name: title, dtype: object)"
            ]
          },
          "metadata": {
            "tags": []
          },
          "execution_count": 27
        }
      ]
    },
    {
      "cell_type": "markdown",
      "metadata": {
        "id": "i4B1DnqB7osl",
        "colab_type": "text"
      },
      "source": [
        "Compare titles 1: O(n^2) over ~15,000 elements\n",
        "\n",
        "    for the title of each book entry:  \n",
        "     compare to the title of each movie entry:\n",
        "        if titles are within acceptabe range of same:\n",
        "          found match!\n",
        "\n",
        "\n",
        "Look for pandas vectorized operations to do above:\n",
        "\n"
      ]
    },
    {
      "cell_type": "markdown",
      "metadata": {
        "id": "yKQtPBPWWJ_E",
        "colab_type": "text"
      },
      "source": [
        "# Transformations and merging"
      ]
    },
    {
      "cell_type": "markdown",
      "metadata": {
        "id": "18K7fWR-WSFp",
        "colab_type": "text"
      },
      "source": [
        "## Partial String Matching"
      ]
    },
    {
      "cell_type": "markdown",
      "metadata": {
        "id": "tDlJ01AazlMr",
        "colab_type": "text"
      },
      "source": [
        "#### **find_matches()**\n",
        "\n",
        "This function makes use of the fuzzywuzzy library to do partial string matching, and returns all strings at least xx% the same as the input string"
      ]
    },
    {
      "cell_type": "code",
      "metadata": {
        "id": "z_dU0prMLaBv",
        "colab_type": "code",
        "colab": {}
      },
      "source": [
        "def find_matches(df, column, string_to_match, min_ratio):\n",
        "    # get a list of unique strings\n",
        "    strings = df[column].unique()\n",
        "    \n",
        "    # get the top 10 closest matches to our input string\n",
        "    matches = fuzzywuzzy.process.extract(string_to_match, strings, \n",
        "                                         limit=10, scorer=fuzzywuzzy.fuzz.token_sort_ratio)\n",
        "    #print('matches', matches)\n",
        "\n",
        "    # only get matches with a ratio > min_ratio\n",
        "    close_matches = [matches[0] for matches in matches if matches[1] >= min_ratio]\n",
        "    #print('close_matches',close_matches)\n",
        "    return close_matches\n",
        "\n",
        "\n",
        "\n"
      ],
      "execution_count": 0,
      "outputs": []
    },
    {
      "cell_type": "code",
      "metadata": {
        "id": "Twoq7_FCsueH",
        "colab_type": "code",
        "colab": {}
      },
      "source": [
        "books_slice = books[0:2000].copy()\n",
        "movie_slice = movies[0:2000].copy()"
      ],
      "execution_count": 0,
      "outputs": []
    },
    {
      "cell_type": "markdown",
      "metadata": {
        "id": "C7t57MI8z9wb",
        "colab_type": "text"
      },
      "source": [
        "Generator below enumerates through all titles to find possible matches. This brute force approach takes ~ minutes for the full datasets."
      ]
    },
    {
      "cell_type": "code",
      "metadata": {
        "id": "kv11YQJTvh8C",
        "colab_type": "code",
        "outputId": "ef9d5096-9440-4e2f-a4aa-a2f370cd3a82",
        "colab": {
          "base_uri": "https://localhost:8080/",
          "height": 402
        }
      },
      "source": [
        "\n",
        "matches_dict = {}\n",
        "# smaller_book_section works\n",
        "for i in books['title']:\n",
        "  tmp = find_matches(movies, column='title', string_to_match=str(i),min_ratio=70)\n",
        "  if tmp != []:\n",
        "    matches_dict[i] = tmp\n",
        "\n",
        "    \n",
        "# takes ~11 minutes\n",
        "\n",
        "same_names = pd.DataFrame.from_dict(matches_dict, orient='index')\n",
        "same_names = same_names.reset_index()\n",
        "same_names = same_names[['index',0]]\n",
        "same_names.columns = ['Book', 'Movie']\n",
        "\n",
        "# Same names shows all of the book/movie title matches at an 80% threshold\n",
        "same_names\n",
        "\n",
        " "
      ],
      "execution_count": 30,
      "outputs": [
        {
          "output_type": "execute_result",
          "data": {
            "text/html": [
              "<div>\n",
              "<style scoped>\n",
              "    .dataframe tbody tr th:only-of-type {\n",
              "        vertical-align: middle;\n",
              "    }\n",
              "\n",
              "    .dataframe tbody tr th {\n",
              "        vertical-align: top;\n",
              "    }\n",
              "\n",
              "    .dataframe thead th {\n",
              "        text-align: right;\n",
              "    }\n",
              "</style>\n",
              "<table border=\"1\" class=\"dataframe\">\n",
              "  <thead>\n",
              "    <tr style=\"text-align: right;\">\n",
              "      <th></th>\n",
              "      <th>Book</th>\n",
              "      <th>Movie</th>\n",
              "    </tr>\n",
              "  </thead>\n",
              "  <tbody>\n",
              "    <tr>\n",
              "      <th>0</th>\n",
              "      <td>Harry Potter and the Half-Blood Prince (Harry Potter  #6)</td>\n",
              "      <td>Harry Potter and the Half-Blood Prince</td>\n",
              "    </tr>\n",
              "    <tr>\n",
              "      <th>1</th>\n",
              "      <td>Harry Potter and the Order of the Phoenix (Harry Potter  #5)</td>\n",
              "      <td>Harry Potter and the Order of the Phoenix</td>\n",
              "    </tr>\n",
              "    <tr>\n",
              "      <th>2</th>\n",
              "      <td>Harry Potter and the Sorcerer's Stone (Harry Potter  #1)</td>\n",
              "      <td>Harry Potter and the Philosopher's Stone</td>\n",
              "    </tr>\n",
              "    <tr>\n",
              "      <th>3</th>\n",
              "      <td>Harry Potter and the Chamber of Secrets (Harry Potter  #2)</td>\n",
              "      <td>Harry Potter and the Chamber of Secrets</td>\n",
              "    </tr>\n",
              "    <tr>\n",
              "      <th>4</th>\n",
              "      <td>Harry Potter and the Prisoner of Azkaban (Harry Potter  #3)</td>\n",
              "      <td>Harry Potter and the Prisoner of Azkaban</td>\n",
              "    </tr>\n",
              "    <tr>\n",
              "      <th>...</th>\n",
              "      <td>...</td>\n",
              "      <td>...</td>\n",
              "    </tr>\n",
              "    <tr>\n",
              "      <th>2150</th>\n",
              "      <td>Seeing</td>\n",
              "      <td>Se7en</td>\n",
              "    </tr>\n",
              "    <tr>\n",
              "      <th>2151</th>\n",
              "      <td>The Cinderella Pact</td>\n",
              "      <td>Cinderella Man</td>\n",
              "    </tr>\n",
              "    <tr>\n",
              "      <th>2152</th>\n",
              "      <td>Harlequin Valentine</td>\n",
              "      <td>Blue Valentine</td>\n",
              "    </tr>\n",
              "    <tr>\n",
              "      <th>2153</th>\n",
              "      <td>Black Orchid</td>\n",
              "      <td>Black or White</td>\n",
              "    </tr>\n",
              "    <tr>\n",
              "      <th>2154</th>\n",
              "      <td>The World of The Dark Crystal</td>\n",
              "      <td>Thor: The Dark World</td>\n",
              "    </tr>\n",
              "  </tbody>\n",
              "</table>\n",
              "<p>2155 rows × 2 columns</p>\n",
              "</div>"
            ],
            "text/plain": [
              "                                                              Book                                      Movie\n",
              "0        Harry Potter and the Half-Blood Prince (Harry Potter  #6)     Harry Potter and the Half-Blood Prince\n",
              "1     Harry Potter and the Order of the Phoenix (Harry Potter  #5)  Harry Potter and the Order of the Phoenix\n",
              "2         Harry Potter and the Sorcerer's Stone (Harry Potter  #1)   Harry Potter and the Philosopher's Stone\n",
              "3       Harry Potter and the Chamber of Secrets (Harry Potter  #2)    Harry Potter and the Chamber of Secrets\n",
              "4      Harry Potter and the Prisoner of Azkaban (Harry Potter  #3)   Harry Potter and the Prisoner of Azkaban\n",
              "...                                                            ...                                        ...\n",
              "2150                                                        Seeing                                      Se7en\n",
              "2151                                           The Cinderella Pact                             Cinderella Man\n",
              "2152                                           Harlequin Valentine                             Blue Valentine\n",
              "2153                                                  Black Orchid                             Black or White\n",
              "2154                                 The World of The Dark Crystal                       Thor: The Dark World\n",
              "\n",
              "[2155 rows x 2 columns]"
            ]
          },
          "metadata": {
            "tags": []
          },
          "execution_count": 30
        }
      ]
    },
    {
      "cell_type": "markdown",
      "metadata": {
        "id": "0fSTLY--0aFq",
        "colab_type": "text"
      },
      "source": [
        "Previously we observed that there is a high likelyhood for one word titles to match, but not be the same thing. We do a second pass over one word titles, requiring a higher level of similarity to accept them as the same."
      ]
    },
    {
      "cell_type": "code",
      "metadata": {
        "id": "XYQaRu3BzlOa",
        "colab_type": "code",
        "colab": {}
      },
      "source": [
        "\n",
        "one_word_titles = same_names[same_names['Book'].str.split().str.len() == 1]\n",
        "one_word_dict = {}\n",
        "for i in one_word_titles['Book']:\n",
        "  tmp = find_matches(one_word_titles, column='Movie', string_to_match=str(i),min_ratio=95)\n",
        "  if tmp != []:\n",
        "    one_word_dict[i] = tmp\n",
        "\n",
        "# one_word_dict shows all one word title book/movie matches at a 90% threshold\n",
        "one_word_dict\n",
        "one_word_df = pd.DataFrame.from_dict(one_word_dict, orient='index')\n",
        "one_word_df = one_word_df.reset_index()\n",
        "one_word_df\n",
        "\n",
        "\n",
        "one_word_df.columns = ['Book', 'Movie']\n",
        "#one_word_df\n"
      ],
      "execution_count": 0,
      "outputs": []
    },
    {
      "cell_type": "code",
      "metadata": {
        "id": "9HM7nZcA02CT",
        "colab_type": "code",
        "outputId": "2c767ed6-4b7c-4aaa-cc83-a9d51d06ffce",
        "colab": {
          "base_uri": "https://localhost:8080/",
          "height": 402
        }
      },
      "source": [
        "# grab more than one word titles\n",
        "same_names_no_ones = same_names[same_names['Book'].str.split().str.len() > 1]\n",
        "\n",
        "# combine highly likely one-word titles and more than one word titles\n",
        "same_names_final = pd.concat([same_names_no_ones, one_word_df],sort=True).reset_index(drop=True)\n",
        "\n",
        "\n",
        "# *********\n",
        "# Final title matched dataframe\n",
        "same_names_final\n",
        "\n"
      ],
      "execution_count": 32,
      "outputs": [
        {
          "output_type": "execute_result",
          "data": {
            "text/html": [
              "<div>\n",
              "<style scoped>\n",
              "    .dataframe tbody tr th:only-of-type {\n",
              "        vertical-align: middle;\n",
              "    }\n",
              "\n",
              "    .dataframe tbody tr th {\n",
              "        vertical-align: top;\n",
              "    }\n",
              "\n",
              "    .dataframe thead th {\n",
              "        text-align: right;\n",
              "    }\n",
              "</style>\n",
              "<table border=\"1\" class=\"dataframe\">\n",
              "  <thead>\n",
              "    <tr style=\"text-align: right;\">\n",
              "      <th></th>\n",
              "      <th>Book</th>\n",
              "      <th>Movie</th>\n",
              "    </tr>\n",
              "  </thead>\n",
              "  <tbody>\n",
              "    <tr>\n",
              "      <th>0</th>\n",
              "      <td>Harry Potter and the Half-Blood Prince (Harry Potter  #6)</td>\n",
              "      <td>Harry Potter and the Half-Blood Prince</td>\n",
              "    </tr>\n",
              "    <tr>\n",
              "      <th>1</th>\n",
              "      <td>Harry Potter and the Order of the Phoenix (Harry Potter  #5)</td>\n",
              "      <td>Harry Potter and the Order of the Phoenix</td>\n",
              "    </tr>\n",
              "    <tr>\n",
              "      <th>2</th>\n",
              "      <td>Harry Potter and the Sorcerer's Stone (Harry Potter  #1)</td>\n",
              "      <td>Harry Potter and the Philosopher's Stone</td>\n",
              "    </tr>\n",
              "    <tr>\n",
              "      <th>3</th>\n",
              "      <td>Harry Potter and the Chamber of Secrets (Harry Potter  #2)</td>\n",
              "      <td>Harry Potter and the Chamber of Secrets</td>\n",
              "    </tr>\n",
              "    <tr>\n",
              "      <th>4</th>\n",
              "      <td>Harry Potter and the Prisoner of Azkaban (Harry Potter  #3)</td>\n",
              "      <td>Harry Potter and the Prisoner of Azkaban</td>\n",
              "    </tr>\n",
              "    <tr>\n",
              "      <th>...</th>\n",
              "      <td>...</td>\n",
              "      <td>...</td>\n",
              "    </tr>\n",
              "    <tr>\n",
              "      <th>1919</th>\n",
              "      <td>Holes</td>\n",
              "      <td>Holes</td>\n",
              "    </tr>\n",
              "    <tr>\n",
              "      <th>1920</th>\n",
              "      <td>After</td>\n",
              "      <td>After</td>\n",
              "    </tr>\n",
              "    <tr>\n",
              "      <th>1921</th>\n",
              "      <td>Thirteen</td>\n",
              "      <td>Thirteen</td>\n",
              "    </tr>\n",
              "    <tr>\n",
              "      <th>1922</th>\n",
              "      <td>Monster</td>\n",
              "      <td>Monster</td>\n",
              "    </tr>\n",
              "    <tr>\n",
              "      <th>1923</th>\n",
              "      <td>Chocolat</td>\n",
              "      <td>Chocolat</td>\n",
              "    </tr>\n",
              "  </tbody>\n",
              "</table>\n",
              "<p>1924 rows × 2 columns</p>\n",
              "</div>"
            ],
            "text/plain": [
              "                                                              Book                                      Movie\n",
              "0        Harry Potter and the Half-Blood Prince (Harry Potter  #6)     Harry Potter and the Half-Blood Prince\n",
              "1     Harry Potter and the Order of the Phoenix (Harry Potter  #5)  Harry Potter and the Order of the Phoenix\n",
              "2         Harry Potter and the Sorcerer's Stone (Harry Potter  #1)   Harry Potter and the Philosopher's Stone\n",
              "3       Harry Potter and the Chamber of Secrets (Harry Potter  #2)    Harry Potter and the Chamber of Secrets\n",
              "4      Harry Potter and the Prisoner of Azkaban (Harry Potter  #3)   Harry Potter and the Prisoner of Azkaban\n",
              "...                                                            ...                                        ...\n",
              "1919                                                         Holes                                      Holes\n",
              "1920                                                         After                                      After\n",
              "1921                                                      Thirteen                                   Thirteen\n",
              "1922                                                       Monster                                    Monster\n",
              "1923                                                      Chocolat                                   Chocolat\n",
              "\n",
              "[1924 rows x 2 columns]"
            ]
          },
          "metadata": {
            "tags": []
          },
          "execution_count": 32
        }
      ]
    },
    {
      "cell_type": "code",
      "metadata": {
        "id": "lEs8aAysM33R",
        "colab_type": "code",
        "colab": {}
      },
      "source": [
        "same_names_final = same_names_final.reset_index()\n"
      ],
      "execution_count": 0,
      "outputs": []
    },
    {
      "cell_type": "markdown",
      "metadata": {
        "id": "Xitg4jlu1EA9",
        "colab_type": "text"
      },
      "source": [
        "Our same_names_final dataframe contains our partially string matched titles. If we want to do a pandas merge, they still will not merge with the same title. The easiest way to fix this is to simply set one of the titles to the other, so they are consistent"
      ]
    },
    {
      "cell_type": "code",
      "metadata": {
        "id": "K6bACRfCqlpo",
        "colab_type": "code",
        "colab": {}
      },
      "source": [
        "#same_names_final\n",
        "for i in same_names_final['Book']:\n",
        "  movie = same_names_final[same_names_final['Book'] == i]['Movie'].iloc[0]\n",
        "\n",
        "  books.loc[books['title'] == i, 'title'] = movie\n",
        "  same_names_final.loc[same_names_final['Movie']== movie, 'Book'] = movie\n"
      ],
      "execution_count": 0,
      "outputs": []
    },
    {
      "cell_type": "code",
      "metadata": {
        "id": "Wyxgp1pp1OWh",
        "colab_type": "code",
        "colab": {}
      },
      "source": [
        "book_to_list = same_names_final['Book'].tolist()\n",
        "movie_to_list = same_names_final['Movie'].tolist()\n",
        "\n",
        "get_matched_books = books[books['title'].isin(book_to_list)]\n",
        "get_matched_movies = movies[movies['title'].isin(movie_to_list)]\n",
        "\n",
        "\n",
        "\n"
      ],
      "execution_count": 0,
      "outputs": []
    },
    {
      "cell_type": "code",
      "metadata": {
        "id": "B2GYbJx7q9Xs",
        "colab_type": "code",
        "outputId": "bc2118c7-0dea-4b61-f877-262f0e353deb",
        "colab": {
          "base_uri": "https://localhost:8080/",
          "height": 34
        }
      },
      "source": [
        "# potentially unnecessary sorting step\n",
        "get_matched_movies.sort_values(by='title')\n",
        "get_matched_books.sort_values(by='title')\n",
        ";"
      ],
      "execution_count": 36,
      "outputs": [
        {
          "output_type": "execute_result",
          "data": {
            "text/plain": [
              "''"
            ]
          },
          "metadata": {
            "tags": []
          },
          "execution_count": 36
        }
      ]
    },
    {
      "cell_type": "markdown",
      "metadata": {
        "id": "tmKm_av1pT5H",
        "colab_type": "text"
      },
      "source": [
        "### Merge String-matched Titles"
      ]
    },
    {
      "cell_type": "code",
      "metadata": {
        "id": "IqCsjmc9-w2Q",
        "colab_type": "code",
        "colab": {}
      },
      "source": [
        "df = pd.merge(get_matched_books,get_matched_movies)\n",
        "\n"
      ],
      "execution_count": 0,
      "outputs": []
    },
    {
      "cell_type": "code",
      "metadata": {
        "id": "ByHgIv-Q0nHB",
        "colab_type": "code",
        "outputId": "fe7359c2-e0ae-4977-9cd2-da68c564c858",
        "colab": {
          "base_uri": "https://localhost:8080/",
          "height": 437
        }
      },
      "source": [
        "df.info()"
      ],
      "execution_count": 38,
      "outputs": [
        {
          "output_type": "stream",
          "text": [
            "<class 'pandas.core.frame.DataFrame'>\n",
            "Int64Index: 1767 entries, 0 to 1766\n",
            "Data columns (total 20 columns):\n",
            "title                   1767 non-null object\n",
            "authors                 1767 non-null object\n",
            "average_rating          1767 non-null float64\n",
            "# num_pages             1767 non-null int64\n",
            "ratings_count           1767 non-null int64\n",
            "text_reviews_count      1767 non-null int64\n",
            "budget                  1767 non-null int64\n",
            "keywords                1767 non-null object\n",
            "original_title          1767 non-null object\n",
            "overview                1767 non-null object\n",
            "popularity              1767 non-null float64\n",
            "production_companies    1767 non-null object\n",
            "release_date            1767 non-null object\n",
            "revenue                 1767 non-null int64\n",
            "runtime                 1767 non-null float64\n",
            "spoken_languages        1767 non-null object\n",
            "status                  1767 non-null object\n",
            "tagline                 1514 non-null object\n",
            "vote_average            1767 non-null float64\n",
            "vote_count              1767 non-null int64\n",
            "dtypes: float64(4), int64(6), object(10)\n",
            "memory usage: 289.9+ KB\n"
          ],
          "name": "stdout"
        }
      ]
    },
    {
      "cell_type": "code",
      "metadata": {
        "id": "NZBV_a1jc2q2",
        "colab_type": "code",
        "outputId": "a66d5a5e-4289-4a65-b903-329e2a7e1fdc",
        "colab": {
          "base_uri": "https://localhost:8080/",
          "height": 1000
        }
      },
      "source": [
        "df.head(5)"
      ],
      "execution_count": 39,
      "outputs": [
        {
          "output_type": "execute_result",
          "data": {
            "text/html": [
              "<div>\n",
              "<style scoped>\n",
              "    .dataframe tbody tr th:only-of-type {\n",
              "        vertical-align: middle;\n",
              "    }\n",
              "\n",
              "    .dataframe tbody tr th {\n",
              "        vertical-align: top;\n",
              "    }\n",
              "\n",
              "    .dataframe thead th {\n",
              "        text-align: right;\n",
              "    }\n",
              "</style>\n",
              "<table border=\"1\" class=\"dataframe\">\n",
              "  <thead>\n",
              "    <tr style=\"text-align: right;\">\n",
              "      <th></th>\n",
              "      <th>title</th>\n",
              "      <th>authors</th>\n",
              "      <th>average_rating</th>\n",
              "      <th># num_pages</th>\n",
              "      <th>ratings_count</th>\n",
              "      <th>text_reviews_count</th>\n",
              "      <th>budget</th>\n",
              "      <th>keywords</th>\n",
              "      <th>original_title</th>\n",
              "      <th>overview</th>\n",
              "      <th>popularity</th>\n",
              "      <th>production_companies</th>\n",
              "      <th>release_date</th>\n",
              "      <th>revenue</th>\n",
              "      <th>runtime</th>\n",
              "      <th>spoken_languages</th>\n",
              "      <th>status</th>\n",
              "      <th>tagline</th>\n",
              "      <th>vote_average</th>\n",
              "      <th>vote_count</th>\n",
              "    </tr>\n",
              "  </thead>\n",
              "  <tbody>\n",
              "    <tr>\n",
              "      <th>0</th>\n",
              "      <td>Harry Potter and the Half-Blood Prince</td>\n",
              "      <td>J.K. Rowling-Mary GrandPré</td>\n",
              "      <td>4.56</td>\n",
              "      <td>652</td>\n",
              "      <td>1944099</td>\n",
              "      <td>26249</td>\n",
              "      <td>250000000</td>\n",
              "      <td>[{\"id\": 616, \"name\": \"witch\"}, {\"id\": 2343, \"name\": \"magic\"}, {\"id\": 3872, \"name\": \"broom\"}, {\"id\": 3884, \"name\": \"school of witchcraft\"}, {\"id\": 6333, \"name\": \"wizardry\"}, {\"id\": 10164, \"name\": \"apparition\"}, {\"id\": 10791, \"name\": \"teenage crush\"}, {\"id\": 12564, \"name\": \"werewolf\"}]</td>\n",
              "      <td>Harry Potter and the Half-Blood Prince</td>\n",
              "      <td>As Harry begins his sixth year at Hogwarts, he discovers an old book marked as 'Property of the Half-Blood Prince', and begins to learn more about Lord Voldemort's dark past.</td>\n",
              "      <td>98.89</td>\n",
              "      <td>[{\"name\": \"Warner Bros.\", \"id\": 6194}, {\"name\": \"Heyday Films\", \"id\": 7364}]</td>\n",
              "      <td>2009-07-07</td>\n",
              "      <td>933959197</td>\n",
              "      <td>153.00</td>\n",
              "      <td>[{\"iso_639_1\": \"en\", \"name\": \"English\"}]</td>\n",
              "      <td>Released</td>\n",
              "      <td>Dark Secrets Revealed</td>\n",
              "      <td>7.40</td>\n",
              "      <td>5293</td>\n",
              "    </tr>\n",
              "    <tr>\n",
              "      <th>1</th>\n",
              "      <td>Harry Potter and the Half-Blood Prince</td>\n",
              "      <td>J.K. Rowling</td>\n",
              "      <td>4.56</td>\n",
              "      <td>768</td>\n",
              "      <td>1173</td>\n",
              "      <td>72</td>\n",
              "      <td>250000000</td>\n",
              "      <td>[{\"id\": 616, \"name\": \"witch\"}, {\"id\": 2343, \"name\": \"magic\"}, {\"id\": 3872, \"name\": \"broom\"}, {\"id\": 3884, \"name\": \"school of witchcraft\"}, {\"id\": 6333, \"name\": \"wizardry\"}, {\"id\": 10164, \"name\": \"apparition\"}, {\"id\": 10791, \"name\": \"teenage crush\"}, {\"id\": 12564, \"name\": \"werewolf\"}]</td>\n",
              "      <td>Harry Potter and the Half-Blood Prince</td>\n",
              "      <td>As Harry begins his sixth year at Hogwarts, he discovers an old book marked as 'Property of the Half-Blood Prince', and begins to learn more about Lord Voldemort's dark past.</td>\n",
              "      <td>98.89</td>\n",
              "      <td>[{\"name\": \"Warner Bros.\", \"id\": 6194}, {\"name\": \"Heyday Films\", \"id\": 7364}]</td>\n",
              "      <td>2009-07-07</td>\n",
              "      <td>933959197</td>\n",
              "      <td>153.00</td>\n",
              "      <td>[{\"iso_639_1\": \"en\", \"name\": \"English\"}]</td>\n",
              "      <td>Released</td>\n",
              "      <td>Dark Secrets Revealed</td>\n",
              "      <td>7.40</td>\n",
              "      <td>5293</td>\n",
              "    </tr>\n",
              "    <tr>\n",
              "      <th>2</th>\n",
              "      <td>Harry Potter and the Order of the Phoenix</td>\n",
              "      <td>J.K. Rowling-Mary GrandPré</td>\n",
              "      <td>4.49</td>\n",
              "      <td>870</td>\n",
              "      <td>1996446</td>\n",
              "      <td>27613</td>\n",
              "      <td>150000000</td>\n",
              "      <td>[{\"id\": 530, \"name\": \"prophecy\"}, {\"id\": 616, \"name\": \"witch\"}, {\"id\": 1014, \"name\": \"loss of lover\"}, {\"id\": 2343, \"name\": \"magic\"}, {\"id\": 2630, \"name\": \"cutting the cord\"}, {\"id\": 3650, \"name\": \"child hero\"}, {\"id\": 3737, \"name\": \"dying and death\"}, {\"id\": 3872, \"name\": \"broom\"}, {\"id\": 3873, \"name\": \"sorcerer's apprentice\"}, {\"id\": 3884, \"name\": \"school of witchcraft\"}, {\"id\": 4252, \"name\": \"black magic\"}, {\"id\": 4959, \"name\": \"death of a friend\"}, {\"id\": 5147, \"name\": \"sorcery\"}, {\"id\": 221387, \"name\": \"occultism\"}]</td>\n",
              "      <td>Harry Potter and the Order of the Phoenix</td>\n",
              "      <td>Returning for his fifth year of study at Hogwarts, Harry is stunned to find that his warnings about the return of Lord Voldemort have been ignored. Left with no choice, Harry takes matters into his own hands, training a small group of students – dubbed 'Dumbledore's Army' – to defend themselves against the dark arts.</td>\n",
              "      <td>78.14</td>\n",
              "      <td>[{\"name\": \"Warner Bros.\", \"id\": 6194}, {\"name\": \"Heyday Films\", \"id\": 7364}]</td>\n",
              "      <td>2007-06-28</td>\n",
              "      <td>938212738</td>\n",
              "      <td>138.00</td>\n",
              "      <td>[{\"iso_639_1\": \"en\", \"name\": \"English\"}]</td>\n",
              "      <td>Released</td>\n",
              "      <td>Evil Must Be Confronted.</td>\n",
              "      <td>7.40</td>\n",
              "      <td>5494</td>\n",
              "    </tr>\n",
              "    <tr>\n",
              "      <th>3</th>\n",
              "      <td>Harry Potter and the Philosopher's Stone</td>\n",
              "      <td>J.K. Rowling-Mary GrandPré</td>\n",
              "      <td>4.47</td>\n",
              "      <td>320</td>\n",
              "      <td>5629932</td>\n",
              "      <td>70390</td>\n",
              "      <td>125000000</td>\n",
              "      <td>[{\"id\": 616, \"name\": \"witch\"}, {\"id\": 1441, \"name\": \"christmas party\"}, {\"id\": 2343, \"name\": \"magic\"}, {\"id\": 2630, \"name\": \"cutting the cord\"}, {\"id\": 3335, \"name\": \"halloween\"}, {\"id\": 3650, \"name\": \"child hero\"}, {\"id\": 3872, \"name\": \"broom\"}, {\"id\": 4238, \"name\": \"chosen one\"}, {\"id\": 4456, \"name\": \"frog\"}, {\"id\": 170362, \"name\": \"fantasy world\"}, {\"id\": 223438, \"name\": \"based on young adult novel\"}]</td>\n",
              "      <td>Harry Potter and the Philosopher's Stone</td>\n",
              "      <td>Harry Potter has lived under the stairs at his aunt and uncle's house his whole life. But on his 11th birthday, he learns he's a powerful wizard -- with a place waiting for him at the Hogwarts School of Witchcraft and Wizardry. As he learns to harness his newfound powers with the help of the school's kindly headmaster, Harry uncovers the truth about his parents' deaths -- and about the villain who's to blame.</td>\n",
              "      <td>109.98</td>\n",
              "      <td>[{\"name\": \"1492 Pictures\", \"id\": 436}, {\"name\": \"Warner Bros.\", \"id\": 6194}, {\"name\": \"Heyday Films\", \"id\": 7364}]</td>\n",
              "      <td>2001-11-16</td>\n",
              "      <td>976475550</td>\n",
              "      <td>152.00</td>\n",
              "      <td>[{\"iso_639_1\": \"en\", \"name\": \"English\"}]</td>\n",
              "      <td>Released</td>\n",
              "      <td>Let the Magic Begin.</td>\n",
              "      <td>7.50</td>\n",
              "      <td>7006</td>\n",
              "    </tr>\n",
              "    <tr>\n",
              "      <th>4</th>\n",
              "      <td>Harry Potter and the Philosopher's Stone</td>\n",
              "      <td>J.K. Rowling-Mary GrandPré</td>\n",
              "      <td>4.47</td>\n",
              "      <td>424</td>\n",
              "      <td>132</td>\n",
              "      <td>12</td>\n",
              "      <td>125000000</td>\n",
              "      <td>[{\"id\": 616, \"name\": \"witch\"}, {\"id\": 1441, \"name\": \"christmas party\"}, {\"id\": 2343, \"name\": \"magic\"}, {\"id\": 2630, \"name\": \"cutting the cord\"}, {\"id\": 3335, \"name\": \"halloween\"}, {\"id\": 3650, \"name\": \"child hero\"}, {\"id\": 3872, \"name\": \"broom\"}, {\"id\": 4238, \"name\": \"chosen one\"}, {\"id\": 4456, \"name\": \"frog\"}, {\"id\": 170362, \"name\": \"fantasy world\"}, {\"id\": 223438, \"name\": \"based on young adult novel\"}]</td>\n",
              "      <td>Harry Potter and the Philosopher's Stone</td>\n",
              "      <td>Harry Potter has lived under the stairs at his aunt and uncle's house his whole life. But on his 11th birthday, he learns he's a powerful wizard -- with a place waiting for him at the Hogwarts School of Witchcraft and Wizardry. As he learns to harness his newfound powers with the help of the school's kindly headmaster, Harry uncovers the truth about his parents' deaths -- and about the villain who's to blame.</td>\n",
              "      <td>109.98</td>\n",
              "      <td>[{\"name\": \"1492 Pictures\", \"id\": 436}, {\"name\": \"Warner Bros.\", \"id\": 6194}, {\"name\": \"Heyday Films\", \"id\": 7364}]</td>\n",
              "      <td>2001-11-16</td>\n",
              "      <td>976475550</td>\n",
              "      <td>152.00</td>\n",
              "      <td>[{\"iso_639_1\": \"en\", \"name\": \"English\"}]</td>\n",
              "      <td>Released</td>\n",
              "      <td>Let the Magic Begin.</td>\n",
              "      <td>7.50</td>\n",
              "      <td>7006</td>\n",
              "    </tr>\n",
              "  </tbody>\n",
              "</table>\n",
              "</div>"
            ],
            "text/plain": [
              "                                       title  ... vote_count\n",
              "0     Harry Potter and the Half-Blood Prince  ...       5293\n",
              "1     Harry Potter and the Half-Blood Prince  ...       5293\n",
              "2  Harry Potter and the Order of the Phoenix  ...       5494\n",
              "3   Harry Potter and the Philosopher's Stone  ...       7006\n",
              "4   Harry Potter and the Philosopher's Stone  ...       7006\n",
              "\n",
              "[5 rows x 20 columns]"
            ]
          },
          "metadata": {
            "tags": []
          },
          "execution_count": 39
        }
      ]
    },
    {
      "cell_type": "markdown",
      "metadata": {
        "id": "FsvwbgkTKcu3",
        "colab_type": "text"
      },
      "source": [
        "'authors' column includes foreward writers, translators etc. The first entry is always the actual author, so grab that and make an 'author' column."
      ]
    },
    {
      "cell_type": "code",
      "metadata": {
        "id": "EezYV0mWfdsl",
        "colab_type": "code",
        "colab": {}
      },
      "source": [
        "grab = df['authors'].str.split('-')\n",
        "grab = grab.apply(lambda x: x[0])\n",
        "df['author'] = grab\n"
      ],
      "execution_count": 0,
      "outputs": []
    },
    {
      "cell_type": "markdown",
      "metadata": {
        "id": "0A4vx-cYXDap",
        "colab_type": "text"
      },
      "source": [
        "### Merge Credits\n",
        "\n",
        "The TMDB dataset includes addtional information on a movies cast and cres in a dataset called 'credits'. We will use it in the verify function below"
      ]
    },
    {
      "cell_type": "code",
      "metadata": {
        "id": "rqbqJRoxsmBT",
        "colab_type": "code",
        "colab": {}
      },
      "source": [
        "df = pd.merge(df, credits)"
      ],
      "execution_count": 0,
      "outputs": []
    },
    {
      "cell_type": "markdown",
      "metadata": {
        "id": "ysA4Das6XU7N",
        "colab_type": "text"
      },
      "source": [
        "### Drop duplicates"
      ]
    },
    {
      "cell_type": "code",
      "metadata": {
        "id": "wwF1F6ZuLFoE",
        "colab_type": "code",
        "colab": {}
      },
      "source": [
        "grab_duplicates = df.sort_values('ratings_count', ascending=False).duplicated(['title'], keep = 'first')\n"
      ],
      "execution_count": 0,
      "outputs": []
    },
    {
      "cell_type": "code",
      "metadata": {
        "id": "0uJ87Ugq9EiO",
        "colab_type": "code",
        "outputId": "de4df5db-e5e4-4f88-99a2-ee32afda9d34",
        "colab": {
          "base_uri": "https://localhost:8080/",
          "height": 558
        }
      },
      "source": [
        "df = df.drop(df[grab_duplicates].index)\n",
        "df.info()"
      ],
      "execution_count": 43,
      "outputs": [
        {
          "output_type": "stream",
          "text": [
            "<class 'pandas.core.frame.DataFrame'>\n",
            "Int64Index: 1231 entries, 0 to 1772\n",
            "Data columns (total 24 columns):\n",
            "title                   1231 non-null object\n",
            "authors                 1231 non-null object\n",
            "average_rating          1231 non-null float64\n",
            "# num_pages             1231 non-null int64\n",
            "ratings_count           1231 non-null int64\n",
            "text_reviews_count      1231 non-null int64\n",
            "budget                  1231 non-null int64\n",
            "keywords                1231 non-null object\n",
            "original_title          1231 non-null object\n",
            "overview                1231 non-null object\n",
            "popularity              1231 non-null float64\n",
            "production_companies    1231 non-null object\n",
            "release_date            1231 non-null object\n",
            "revenue                 1231 non-null int64\n",
            "runtime                 1231 non-null float64\n",
            "spoken_languages        1231 non-null object\n",
            "status                  1231 non-null object\n",
            "tagline                 1049 non-null object\n",
            "vote_average            1231 non-null float64\n",
            "vote_count              1231 non-null int64\n",
            "author                  1231 non-null object\n",
            "movie_id                1231 non-null int64\n",
            "cast                    1231 non-null object\n",
            "crew                    1231 non-null object\n",
            "dtypes: float64(4), int64(7), object(13)\n",
            "memory usage: 240.4+ KB\n"
          ],
          "name": "stdout"
        },
        {
          "output_type": "stream",
          "text": [
            "/usr/local/lib/python3.6/dist-packages/ipykernel_launcher.py:1: UserWarning: Boolean Series key will be reindexed to match DataFrame index.\n",
            "  \"\"\"Entry point for launching an IPython kernel.\n"
          ],
          "name": "stderr"
        }
      ]
    },
    {
      "cell_type": "markdown",
      "metadata": {
        "id": "v_3Wt1Nyyt33",
        "colab_type": "text"
      },
      "source": [
        "### Verify\n",
        "\n",
        "\n",
        "Steps:\n",
        "*   Does movie mention book author?\n",
        "*   Look for 'based on novel' type phrase in movie: keywords, genre, credits\n",
        "*   Look for reference to book in overview\n",
        "\n",
        "\n"
      ]
    },
    {
      "cell_type": "markdown",
      "metadata": {
        "id": "VbW4fRqGV5y_",
        "colab_type": "text"
      },
      "source": [
        "Verify step 1: Does movie mention book author?"
      ]
    },
    {
      "cell_type": "code",
      "metadata": {
        "id": "ivwc8VxNqLWt",
        "colab_type": "code",
        "colab": {}
      },
      "source": [
        "for i in df['title']:\n",
        "  author = df[df['title'] == i]['author']\n",
        "  author = author.iloc[0]\n",
        "  get = df[df['title'] == i]['crew'].str.contains(f'{author}').iloc[0]\n",
        "  #print(f'\"{author}\"\"')\n",
        "  df.loc[df['title'] == i, 'Mentions Author'] = get\n",
        "\n"
      ],
      "execution_count": 0,
      "outputs": []
    },
    {
      "cell_type": "markdown",
      "metadata": {
        "id": "6hz8ik57V9ez",
        "colab_type": "text"
      },
      "source": [
        "Verify step 2: Explicitly says based on novel"
      ]
    },
    {
      "cell_type": "code",
      "metadata": {
        "id": "Or0eLBTPWCZU",
        "colab_type": "code",
        "colab": {}
      },
      "source": [
        "for i in df['title']:\n",
        "  keyword = df[df['title'] == i]['keywords'].str.lower()\n",
        "  value = keyword.str.contains('novel')\n",
        "  df.loc[df['title'] == i, 'Based on Novel'] = value\n",
        "\n"
      ],
      "execution_count": 0,
      "outputs": []
    },
    {
      "cell_type": "markdown",
      "metadata": {
        "id": "nop5fDl4ZTWY",
        "colab_type": "text"
      },
      "source": [
        "Verify step 3: Look in overview for 'novel, book, authobiography'"
      ]
    },
    {
      "cell_type": "code",
      "metadata": {
        "id": "qgfDDPp7ZRTv",
        "colab_type": "code",
        "colab": {}
      },
      "source": [
        "for i in df['title']:\n",
        "  overview = df[df['title'] == i]['overview'].str.lower()\n",
        "  author = df[df['title'] == i]['author'].str.lower()\n",
        "\n",
        "  novel = overview.str.contains('novel')\n",
        "  book = overview.str.contains('book')\n",
        "  best_selling = overview.str.contains('best selling')\n",
        "  potter = overview.str.contains('potter')\n",
        "  mentions_author = overview.str.contains(str(author))\n",
        "  contains_one = novel | book | best_selling | mentions_author | potter\n",
        "  df.loc[df['title'] == i, 'Overview mentions book'] = contains_one\n",
        "\n"
      ],
      "execution_count": 0,
      "outputs": []
    },
    {
      "cell_type": "code",
      "metadata": {
        "id": "0F6EYZXKdDrc",
        "colab_type": "code",
        "colab": {}
      },
      "source": [
        "def verify(df):\n",
        "  df['Verify'] = df['Mentions Author'] | df['Based on Novel'] | df['Overview mentions book']\n",
        "\n"
      ],
      "execution_count": 0,
      "outputs": []
    },
    {
      "cell_type": "code",
      "metadata": {
        "id": "sAqfEN2s80PT",
        "colab_type": "code",
        "colab": {}
      },
      "source": [
        "verify(df)\n",
        "\n",
        "unverified = df[df['Verify'] == False]\n",
        "df = df[df['Verify'] == True]\n"
      ],
      "execution_count": 0,
      "outputs": []
    },
    {
      "cell_type": "code",
      "metadata": {
        "id": "CH2fE2vt9fcW",
        "colab_type": "code",
        "outputId": "a1ffb357-4a7c-4221-a17c-f8f7a2c1dfe4",
        "colab": {
          "base_uri": "https://localhost:8080/",
          "height": 571
        }
      },
      "source": [
        "unverified.info()"
      ],
      "execution_count": 49,
      "outputs": [
        {
          "output_type": "stream",
          "text": [
            "<class 'pandas.core.frame.DataFrame'>\n",
            "Int64Index: 905 entries, 20 to 1772\n",
            "Data columns (total 28 columns):\n",
            "title                     905 non-null object\n",
            "authors                   905 non-null object\n",
            "average_rating            905 non-null float64\n",
            "# num_pages               905 non-null int64\n",
            "ratings_count             905 non-null int64\n",
            "text_reviews_count        905 non-null int64\n",
            "budget                    905 non-null int64\n",
            "keywords                  905 non-null object\n",
            "original_title            905 non-null object\n",
            "overview                  905 non-null object\n",
            "popularity                905 non-null float64\n",
            "production_companies      905 non-null object\n",
            "release_date              905 non-null object\n",
            "revenue                   905 non-null int64\n",
            "runtime                   905 non-null float64\n",
            "spoken_languages          905 non-null object\n",
            "status                    905 non-null object\n",
            "tagline                   768 non-null object\n",
            "vote_average              905 non-null float64\n",
            "vote_count                905 non-null int64\n",
            "author                    905 non-null object\n",
            "movie_id                  905 non-null int64\n",
            "cast                      905 non-null object\n",
            "crew                      905 non-null object\n",
            "Mentions Author           905 non-null bool\n",
            "Based on Novel            905 non-null bool\n",
            "Overview mentions book    905 non-null bool\n",
            "Verify                    905 non-null bool\n",
            "dtypes: bool(4), float64(4), int64(7), object(13)\n",
            "memory usage: 180.3+ KB\n"
          ],
          "name": "stdout"
        }
      ]
    },
    {
      "cell_type": "markdown",
      "metadata": {
        "id": "hJ5svtPjo_yP",
        "colab_type": "text"
      },
      "source": [
        "# Merged Set \n",
        "\n"
      ]
    },
    {
      "cell_type": "code",
      "metadata": {
        "id": "PjUvdaGQ19K_",
        "colab_type": "code",
        "colab": {}
      },
      "source": [
        "df = df.rename(columns={'average_rating': 'book_rating', 'vote_average': 'movie_rating'})\n"
      ],
      "execution_count": 0,
      "outputs": []
    },
    {
      "cell_type": "markdown",
      "metadata": {
        "id": "oR3s2TEeWgrI",
        "colab_type": "text"
      },
      "source": [
        "Utility function for saving df to drive"
      ]
    },
    {
      "cell_type": "code",
      "metadata": {
        "id": "PcEIYiXtnK53",
        "colab_type": "code",
        "colab": {}
      },
      "source": [
        "def save_df(df):\n",
        "  dataframe_csv = df.to_csv()\n",
        "  with open(\"/content/drive/My Drive/data/Dataframe.csv\", 'w') as f:\n",
        "    f.write(dataframe_csv)\n"
      ],
      "execution_count": 0,
      "outputs": []
    },
    {
      "cell_type": "code",
      "metadata": {
        "id": "jPH4I1zxo-Rm",
        "colab_type": "code",
        "outputId": "b29a9903-82db-4e61-ff0a-c3a994cf3e9d",
        "colab": {
          "base_uri": "https://localhost:8080/",
          "height": 571
        }
      },
      "source": [
        "df.info()"
      ],
      "execution_count": 52,
      "outputs": [
        {
          "output_type": "stream",
          "text": [
            "<class 'pandas.core.frame.DataFrame'>\n",
            "Int64Index: 326 entries, 0 to 1766\n",
            "Data columns (total 28 columns):\n",
            "title                     326 non-null object\n",
            "authors                   326 non-null object\n",
            "book_rating               326 non-null float64\n",
            "# num_pages               326 non-null int64\n",
            "ratings_count             326 non-null int64\n",
            "text_reviews_count        326 non-null int64\n",
            "budget                    326 non-null int64\n",
            "keywords                  326 non-null object\n",
            "original_title            326 non-null object\n",
            "overview                  326 non-null object\n",
            "popularity                326 non-null float64\n",
            "production_companies      326 non-null object\n",
            "release_date              326 non-null object\n",
            "revenue                   326 non-null int64\n",
            "runtime                   326 non-null float64\n",
            "spoken_languages          326 non-null object\n",
            "status                    326 non-null object\n",
            "tagline                   281 non-null object\n",
            "movie_rating              326 non-null float64\n",
            "vote_count                326 non-null int64\n",
            "author                    326 non-null object\n",
            "movie_id                  326 non-null int64\n",
            "cast                      326 non-null object\n",
            "crew                      326 non-null object\n",
            "Mentions Author           326 non-null bool\n",
            "Based on Novel            326 non-null bool\n",
            "Overview mentions book    326 non-null bool\n",
            "Verify                    326 non-null bool\n",
            "dtypes: bool(4), float64(4), int64(7), object(13)\n",
            "memory usage: 64.9+ KB\n"
          ],
          "name": "stdout"
        }
      ]
    },
    {
      "cell_type": "code",
      "metadata": {
        "id": "hnnk0Zy7RzEn",
        "colab_type": "code",
        "outputId": "dd4997f6-1811-4c0b-9556-e491655d0f8f",
        "colab": {
          "base_uri": "https://localhost:8080/",
          "height": 373
        }
      },
      "source": [
        "df.describe().T"
      ],
      "execution_count": 53,
      "outputs": [
        {
          "output_type": "execute_result",
          "data": {
            "text/html": [
              "<div>\n",
              "<style scoped>\n",
              "    .dataframe tbody tr th:only-of-type {\n",
              "        vertical-align: middle;\n",
              "    }\n",
              "\n",
              "    .dataframe tbody tr th {\n",
              "        vertical-align: top;\n",
              "    }\n",
              "\n",
              "    .dataframe thead th {\n",
              "        text-align: right;\n",
              "    }\n",
              "</style>\n",
              "<table border=\"1\" class=\"dataframe\">\n",
              "  <thead>\n",
              "    <tr style=\"text-align: right;\">\n",
              "      <th></th>\n",
              "      <th>count</th>\n",
              "      <th>mean</th>\n",
              "      <th>std</th>\n",
              "      <th>min</th>\n",
              "      <th>25%</th>\n",
              "      <th>50%</th>\n",
              "      <th>75%</th>\n",
              "      <th>max</th>\n",
              "    </tr>\n",
              "  </thead>\n",
              "  <tbody>\n",
              "    <tr>\n",
              "      <th>book_rating</th>\n",
              "      <td>326.00</td>\n",
              "      <td>3.94</td>\n",
              "      <td>0.25</td>\n",
              "      <td>2.86</td>\n",
              "      <td>3.80</td>\n",
              "      <td>3.96</td>\n",
              "      <td>4.10</td>\n",
              "      <td>4.56</td>\n",
              "    </tr>\n",
              "    <tr>\n",
              "      <th># num_pages</th>\n",
              "      <td>326.00</td>\n",
              "      <td>333.96</td>\n",
              "      <td>202.64</td>\n",
              "      <td>1.00</td>\n",
              "      <td>211.00</td>\n",
              "      <td>303.50</td>\n",
              "      <td>418.25</td>\n",
              "      <td>1463.00</td>\n",
              "    </tr>\n",
              "    <tr>\n",
              "      <th>ratings_count</th>\n",
              "      <td>326.00</td>\n",
              "      <td>177326.98</td>\n",
              "      <td>457442.85</td>\n",
              "      <td>2.00</td>\n",
              "      <td>1392.25</td>\n",
              "      <td>15072.00</td>\n",
              "      <td>159474.75</td>\n",
              "      <td>5629932.00</td>\n",
              "    </tr>\n",
              "    <tr>\n",
              "      <th>text_reviews_count</th>\n",
              "      <td>326.00</td>\n",
              "      <td>4153.71</td>\n",
              "      <td>9674.73</td>\n",
              "      <td>0.00</td>\n",
              "      <td>94.00</td>\n",
              "      <td>848.50</td>\n",
              "      <td>3472.25</td>\n",
              "      <td>84237.00</td>\n",
              "    </tr>\n",
              "    <tr>\n",
              "      <th>budget</th>\n",
              "      <td>326.00</td>\n",
              "      <td>40125102.94</td>\n",
              "      <td>45849453.26</td>\n",
              "      <td>0.00</td>\n",
              "      <td>7050000.00</td>\n",
              "      <td>25000000.00</td>\n",
              "      <td>60000000.00</td>\n",
              "      <td>250000000.00</td>\n",
              "    </tr>\n",
              "    <tr>\n",
              "      <th>popularity</th>\n",
              "      <td>326.00</td>\n",
              "      <td>30.04</td>\n",
              "      <td>29.44</td>\n",
              "      <td>0.02</td>\n",
              "      <td>9.37</td>\n",
              "      <td>21.10</td>\n",
              "      <td>42.57</td>\n",
              "      <td>167.93</td>\n",
              "    </tr>\n",
              "    <tr>\n",
              "      <th>revenue</th>\n",
              "      <td>326.00</td>\n",
              "      <td>132691983.58</td>\n",
              "      <td>212837541.87</td>\n",
              "      <td>0.00</td>\n",
              "      <td>9355599.00</td>\n",
              "      <td>49848044.50</td>\n",
              "      <td>150765877.25</td>\n",
              "      <td>1118888979.00</td>\n",
              "    </tr>\n",
              "    <tr>\n",
              "      <th>runtime</th>\n",
              "      <td>326.00</td>\n",
              "      <td>118.99</td>\n",
              "      <td>24.85</td>\n",
              "      <td>75.00</td>\n",
              "      <td>101.00</td>\n",
              "      <td>115.00</td>\n",
              "      <td>131.00</td>\n",
              "      <td>242.00</td>\n",
              "    </tr>\n",
              "    <tr>\n",
              "      <th>movie_rating</th>\n",
              "      <td>326.00</td>\n",
              "      <td>6.61</td>\n",
              "      <td>0.80</td>\n",
              "      <td>4.40</td>\n",
              "      <td>6.10</td>\n",
              "      <td>6.70</td>\n",
              "      <td>7.20</td>\n",
              "      <td>8.40</td>\n",
              "    </tr>\n",
              "    <tr>\n",
              "      <th>vote_count</th>\n",
              "      <td>326.00</td>\n",
              "      <td>1128.04</td>\n",
              "      <td>1667.59</td>\n",
              "      <td>1.00</td>\n",
              "      <td>130.25</td>\n",
              "      <td>482.50</td>\n",
              "      <td>1291.25</td>\n",
              "      <td>9413.00</td>\n",
              "    </tr>\n",
              "    <tr>\n",
              "      <th>movie_id</th>\n",
              "      <td>326.00</td>\n",
              "      <td>32385.80</td>\n",
              "      <td>61891.52</td>\n",
              "      <td>66.00</td>\n",
              "      <td>2168.25</td>\n",
              "      <td>10547.00</td>\n",
              "      <td>25916.75</td>\n",
              "      <td>339984.00</td>\n",
              "    </tr>\n",
              "  </tbody>\n",
              "</table>\n",
              "</div>"
            ],
            "text/plain": [
              "                    count         mean  ...          75%           max\n",
              "book_rating        326.00         3.94  ...         4.10          4.56\n",
              "# num_pages        326.00       333.96  ...       418.25       1463.00\n",
              "ratings_count      326.00    177326.98  ...    159474.75    5629932.00\n",
              "text_reviews_count 326.00      4153.71  ...      3472.25      84237.00\n",
              "budget             326.00  40125102.94  ...  60000000.00  250000000.00\n",
              "popularity         326.00        30.04  ...        42.57        167.93\n",
              "revenue            326.00 132691983.58  ... 150765877.25 1118888979.00\n",
              "runtime            326.00       118.99  ...       131.00        242.00\n",
              "movie_rating       326.00         6.61  ...         7.20          8.40\n",
              "vote_count         326.00      1128.04  ...      1291.25       9413.00\n",
              "movie_id           326.00     32385.80  ...     25916.75     339984.00\n",
              "\n",
              "[11 rows x 8 columns]"
            ]
          },
          "metadata": {
            "tags": []
          },
          "execution_count": 53
        }
      ]
    },
    {
      "cell_type": "code",
      "metadata": {
        "id": "JTu0-UzA9fyL",
        "colab_type": "code",
        "outputId": "156f8840-ceeb-4140-f4eb-c07e06878195",
        "colab": {
          "base_uri": "https://localhost:8080/",
          "height": 1000
        }
      },
      "source": [
        "df['title'].unique()"
      ],
      "execution_count": 54,
      "outputs": [
        {
          "output_type": "execute_result",
          "data": {
            "text/plain": [
              "array(['Harry Potter and the Half-Blood Prince',\n",
              "       'Harry Potter and the Order of the Phoenix',\n",
              "       \"Harry Potter and the Philosopher's Stone\",\n",
              "       'Harry Potter and the Chamber of Secrets',\n",
              "       'Harry Potter and the Prisoner of Azkaban',\n",
              "       \"The Hitchhiker's Guide to the Galaxy\",\n",
              "       'The Lord of the Rings: The Fellowship of the Ring',\n",
              "       'The Lord of the Rings: The Two Towers',\n",
              "       'The Count of Monte Cristo',\n",
              "       \"What to Expect When You're Expecting\", 'Anna Karenina',\n",
              "       'Treasure Planet', 'The Wedding Date', 'The Namesake',\n",
              "       'Paper Towns', 'The Lovely Bones', 'Atlas Shrugged Part II',\n",
              "       'The Living Wake', 'The Big Year', 'The Kite Runner',\n",
              "       'Memoirs of a Geisha', 'Angels & Demons', 'The Da Vinci Code',\n",
              "       'Snow Flower and the Secret Fan', 'Life of Pi',\n",
              "       'The Clan of the Cave Bear', 'Warm Bodies', 'The Great Raid',\n",
              "       'The Princess and the Frog', 'Hamlet', 'Veronika Decides to Die',\n",
              "       'Brokeback Mountain', 'The Town', 'The Men Who Stare at Goats',\n",
              "       'Into the Wild', 'Pride & Prejudice',\n",
              "       'Pride and Prejudice and Zombies', 'Little Women', 'The Hours',\n",
              "       'A Home at the End of the World', 'Dear John', 'Peaceful Warrior',\n",
              "       'In Cold Blood', 'The House of Mirth', 'Moby Dick',\n",
              "       'The Time Machine', \"All the King's Men\", 'On the Road',\n",
              "       'To Kill a Mockingbird', 'The Book of Eli',\n",
              "       'Snow Falling on Cedars', 'Bridge to Terabithia',\n",
              "       'Girl with a Pearl Earring', 'The Virgin Suicides',\n",
              "       'The Adventures of Huck Finn', 'The Little Prince', 'The Firm',\n",
              "       'The Revenant', 'A Room with a View', 'Howards End', 'Maurice',\n",
              "       \"Captain Corelli's Mandolin\", 'Message in a Bottle',\n",
              "       'A Walk to Remember', 'The Giver', 'The Quiet American',\n",
              "       'The Ninth Gate', 'The Extra Man', 'Stranger Than Fiction',\n",
              "       \"Charlotte's Web\", 'Harriet the Spy', 'Diamonds Are Forever',\n",
              "       'You Only Live Twice', \"On Her Majesty's Secret Service\",\n",
              "       'Live and Let Die', 'From Russia with Love', 'Legends of the Fall',\n",
              "       'The Haunting', 'American Psycho', 'Fever Pitch', 'High Fidelity',\n",
              "       'About a Boy', 'Running with Scissors', \"Bridget Jones's Diary\",\n",
              "       'Bridget Jones: The Edge of Reason',\n",
              "       'Extremely Loud & Incredibly Close', 'Catch-22',\n",
              "       'The Great Gatsby', 'The Raid', 'A Beautiful Mind',\n",
              "       'Star Wars: Episode I - The Phantom Menace', 'Midnight in Paris',\n",
              "       \"Angela's Ashes\", 'Breakfast of Champions', 'A Dangerous Method',\n",
              "       'The Deep End of the Ocean', 'Where the Heart Is', 'The Reader',\n",
              "       'White Oleander', 'An Ideal Husband', 'A Christmas Story',\n",
              "       'A Christmas Carol', 'The Rainmaker', 'The Client', 'Fight Club',\n",
              "       'Choke', 'Vanity Fair', 'Casino Royale', 'The Host', 'The Road',\n",
              "       'Beloved', 'All the Pretty Horses', \"The General's Daughter\",\n",
              "       \"Howl's Moving Castle\", 'Charlie and the Chocolate Factory',\n",
              "       'The BFG', 'Never Let Me Go', 'One Night with the King',\n",
              "       'The Puffy Chair', 'Fantastic Mr. Fox', 'Cloud Atlas',\n",
              "       'Romeo + Juliet', 'Atonement', \"My Sister's Keeper\", 'Emma',\n",
              "       \"Legend of the Guardians: The Owls of Ga'Hoole\",\n",
              "       'Under the Tuscan Sun', 'The Secret Life of Bees',\n",
              "       'The Lord of the Rings: The Return of the King',\n",
              "       'The Shipping News', 'Midnight in the Garden of Good and Evil',\n",
              "       'Lolita', 'Timeline', 'The Andromeda Strain', 'Congo',\n",
              "       'The First Great Train Robbery', 'My Fair Lady',\n",
              "       \"Gulliver's Travels\", 'Fear and Loathing in Las Vegas',\n",
              "       'The Bourne Identity', \"Winter's Tale\",\n",
              "       'Cloudy with a Chance of Meatballs',\n",
              "       'Cloudy with a Chance of Meatballs 2', 'Anne of Green Gables',\n",
              "       'The Man Who Knew Too Little', 'Nerve',\n",
              "       'The Lost World: Jurassic Park', 'The Last Temptation of Christ',\n",
              "       'Planet of the Apes', 'War of the Worlds',\n",
              "       \"Cirque du Freak: The Vampire's Assistant\",\n",
              "       'I Hope They Serve Beer in Hell', 'The Homesman',\n",
              "       'The Fault in Our Stars', 'The Rules of Attraction',\n",
              "       'The Informers', 'The Secret of Kells', 'The Three Musketeers',\n",
              "       'Pet Sematary', 'The Shining', 'Carrie', 'Now Is Good',\n",
              "       'A Farewell to Arms', 'Shopgirl', 'Cold Mountain', 'The Mighty',\n",
              "       'The Chronicles of Narnia: Prince Caspian', 'The Scarlet Letter',\n",
              "       \"One Flew Over the Cuckoo's Nest\", 'Elmer Gantry',\n",
              "       'Betty Fisher and Other Stories', 'The Color Purple',\n",
              "       'Body of Lies', 'The Green Mile', 'Dreamcatcher', 'The Dead Zone',\n",
              "       'Creepshow', 'Hearts in Atlantis', 'Stand by Me',\n",
              "       'The Hotel New Hampshire', 'The Princess Diaries',\n",
              "       'The Killer Inside Me', 'Henry V', 'Glengarry Glen Ross',\n",
              "       'A Streetcar Named Desire', 'No Country for Old Men', 'Caravans',\n",
              "       'Rebecca', 'Much Ado About Nothing', 'Alice in Wonderland',\n",
              "       'Gone Girl', 'Striptease', 'Hoot', 'Along Came a Spider',\n",
              "       'The Prestige', 'Miracles from Heaven',\n",
              "       'The Chronicles of Narnia: The Lion, the Witch and the Wardrobe',\n",
              "       \"The Time Traveler's Wife\", 'I Am Legend', 'The Relic',\n",
              "       'Fun with Dick and Jane', 'Under the Rainbow', 'One for the Money',\n",
              "       'The Bridge of San Luis Rey', 'A Scanner Darkly', 'The Outsiders',\n",
              "       'Sense and Sensibility', 'Absolute Power', 'The Words',\n",
              "       'The Ice Storm', 'The Bourne Supremacy', 'Sideways',\n",
              "       'House of Sand and Fog', 'Dark Water', 'The Inhabited Island',\n",
              "       'The End of the Affair', 'Wonder Boys', 'The Prince of Tides',\n",
              "       'Stardust', 'A Single Man', 'The Amazing Spider-Man',\n",
              "       'Notes on a Scandal', 'Coraline', 'Starship Troopers', 'Dracula',\n",
              "       'The Great Escape', 'The Princess Bride',\n",
              "       'Alice Through the Looking Glass',\n",
              "       'The Chronicles of Narnia: The Voyage of the Dawn Treader',\n",
              "       'Oliver Twist', 'Gone with the Wind', 'The Spy Who Loved Me',\n",
              "       'The Book Thief', 'Confessions of a Teenage Drama Queen',\n",
              "       \"It's Kind of a Funny Story\", 'Moonraker', 'Eat Pray Love',\n",
              "       'Where the Wild Things Are', 'Four Weddings and a Funeral',\n",
              "       'Halloween', 'Mystic River', 'Shutter Island', 'The Black Dahlia',\n",
              "       'First Blood', 'The Godfather', 'Jurassic Park',\n",
              "       'The Dangerous Lives of Altar Boys', 'Practical Magic',\n",
              "       'Miracle at St. Anna', 'From Hell', 'Something Borrowed',\n",
              "       'The Silence of the Lambs', 'Trainspotting',\n",
              "       'When Harry Met Sally...', 'The Notebook',\n",
              "       'The Merchant of Venice', 'Les Misérables',\n",
              "       'Because of Winn-Dixie', 'Ella Enchanted', 'How to Be Single',\n",
              "       'The Tale of Despereaux', 'In Dreams', 'Bright Lights, Big City',\n",
              "       'The Golden Compass', 'Tuck Everlasting', 'Out of Africa',\n",
              "       \"Nick and Norah's Infinite Playlist\",\n",
              "       'The Postman Always Rings Twice', 'The NeverEnding Story',\n",
              "       'Percy Jackson: Sea of Monsters',\n",
              "       'Percy Jackson & the Olympians: The Lightning Thief', 'Inkheart',\n",
              "       'Taxi Driver', 'Layer Cake', '20,000 Leagues Under the Sea',\n",
              "       'The Adventurer: The Curse of the Midas Box',\n",
              "       'The Island of Dr. Moreau', 'Blood and Chocolate',\n",
              "       'American Splendor', 'Evil Words', 'Atlantis: The Lost Empire',\n",
              "       'The Hunchback of Notre Dame', 'Little Children', 'Up in the Air',\n",
              "       'Thumbsucker', 'The Other Boleyn Girl', 'Tom Jones',\n",
              "       'The Bourne Ultimatum', 'Richard III', 'Safe Haven',\n",
              "       'The Pelican Brief', 'A Time to Kill', 'Clear and Present Danger',\n",
              "       'The Mothman Prophecies', 'The Tempest', 'Stuart Little',\n",
              "       'What Dreams May Come', 'Interview with the Vampire',\n",
              "       'Damnation Alley', 'The Woman in Black', 'The Ring Two',\n",
              "       'The Big Bounce', 'The Jungle Book', 'The Maze Runner', 'Holes',\n",
              "       'Rabbit Hole', 'The Great Beauty', 'The Martian',\n",
              "       'Thank You for Smoking', 'How Green Was My Valley',\n",
              "       'The Right Stuff', 'The Eclipse', 'Raise the Titanic',\n",
              "       'Head Over Heels', 'The Wizard of Oz', 'White Fang',\n",
              "       'Harry Potter and the Goblet of Fire', 'Water for Elephants',\n",
              "       'A Passage to India', 'Quo Vadis',\n",
              "       'Jekyll and Hyde ... Together Again', 'The Musketeer',\n",
              "       'Alexander and the Terrible, Horrible, No Good, Very Bad Day',\n",
              "       'Requiem for a Dream', 'Freedom Writers', 'Chocolat'], dtype=object)"
            ]
          },
          "metadata": {
            "tags": []
          },
          "execution_count": 54
        }
      ]
    },
    {
      "cell_type": "markdown",
      "metadata": {
        "id": "iUQMPMNCMviK",
        "colab_type": "text"
      },
      "source": [
        "We have the books which have movies, grab those that don't, store in datafraem called just_books"
      ]
    },
    {
      "cell_type": "code",
      "metadata": {
        "id": "SvHcos5IfCVI",
        "colab_type": "code",
        "colab": {}
      },
      "source": [
        "just_books = books[~books['title'].isin(df['title'])]\n",
        "\n",
        "books['Made into movie'] = books['title'].isin(df['title'])"
      ],
      "execution_count": 0,
      "outputs": []
    },
    {
      "cell_type": "code",
      "metadata": {
        "id": "Q5cd69gy3flB",
        "colab_type": "code",
        "outputId": "919c131b-9823-44e8-c0b7-a7b8e71c629b",
        "colab": {
          "base_uri": "https://localhost:8080/",
          "height": 321
        }
      },
      "source": [
        "just_books = just_books.rename(columns={'average_rating': 'book_rating'})\n",
        "\n",
        "just_books.describe()\n",
        "df.describe()"
      ],
      "execution_count": 56,
      "outputs": [
        {
          "output_type": "execute_result",
          "data": {
            "text/html": [
              "<div>\n",
              "<style scoped>\n",
              "    .dataframe tbody tr th:only-of-type {\n",
              "        vertical-align: middle;\n",
              "    }\n",
              "\n",
              "    .dataframe tbody tr th {\n",
              "        vertical-align: top;\n",
              "    }\n",
              "\n",
              "    .dataframe thead th {\n",
              "        text-align: right;\n",
              "    }\n",
              "</style>\n",
              "<table border=\"1\" class=\"dataframe\">\n",
              "  <thead>\n",
              "    <tr style=\"text-align: right;\">\n",
              "      <th></th>\n",
              "      <th>book_rating</th>\n",
              "      <th># num_pages</th>\n",
              "      <th>ratings_count</th>\n",
              "      <th>text_reviews_count</th>\n",
              "      <th>budget</th>\n",
              "      <th>popularity</th>\n",
              "      <th>revenue</th>\n",
              "      <th>runtime</th>\n",
              "      <th>movie_rating</th>\n",
              "      <th>vote_count</th>\n",
              "      <th>movie_id</th>\n",
              "    </tr>\n",
              "  </thead>\n",
              "  <tbody>\n",
              "    <tr>\n",
              "      <th>count</th>\n",
              "      <td>326.00</td>\n",
              "      <td>326.00</td>\n",
              "      <td>326.00</td>\n",
              "      <td>326.00</td>\n",
              "      <td>326.00</td>\n",
              "      <td>326.00</td>\n",
              "      <td>326.00</td>\n",
              "      <td>326.00</td>\n",
              "      <td>326.00</td>\n",
              "      <td>326.00</td>\n",
              "      <td>326.00</td>\n",
              "    </tr>\n",
              "    <tr>\n",
              "      <th>mean</th>\n",
              "      <td>3.94</td>\n",
              "      <td>333.96</td>\n",
              "      <td>177326.98</td>\n",
              "      <td>4153.71</td>\n",
              "      <td>40125102.94</td>\n",
              "      <td>30.04</td>\n",
              "      <td>132691983.58</td>\n",
              "      <td>118.99</td>\n",
              "      <td>6.61</td>\n",
              "      <td>1128.04</td>\n",
              "      <td>32385.80</td>\n",
              "    </tr>\n",
              "    <tr>\n",
              "      <th>std</th>\n",
              "      <td>0.25</td>\n",
              "      <td>202.64</td>\n",
              "      <td>457442.85</td>\n",
              "      <td>9674.73</td>\n",
              "      <td>45849453.26</td>\n",
              "      <td>29.44</td>\n",
              "      <td>212837541.87</td>\n",
              "      <td>24.85</td>\n",
              "      <td>0.80</td>\n",
              "      <td>1667.59</td>\n",
              "      <td>61891.52</td>\n",
              "    </tr>\n",
              "    <tr>\n",
              "      <th>min</th>\n",
              "      <td>2.86</td>\n",
              "      <td>1.00</td>\n",
              "      <td>2.00</td>\n",
              "      <td>0.00</td>\n",
              "      <td>0.00</td>\n",
              "      <td>0.02</td>\n",
              "      <td>0.00</td>\n",
              "      <td>75.00</td>\n",
              "      <td>4.40</td>\n",
              "      <td>1.00</td>\n",
              "      <td>66.00</td>\n",
              "    </tr>\n",
              "    <tr>\n",
              "      <th>25%</th>\n",
              "      <td>3.80</td>\n",
              "      <td>211.00</td>\n",
              "      <td>1392.25</td>\n",
              "      <td>94.00</td>\n",
              "      <td>7050000.00</td>\n",
              "      <td>9.37</td>\n",
              "      <td>9355599.00</td>\n",
              "      <td>101.00</td>\n",
              "      <td>6.10</td>\n",
              "      <td>130.25</td>\n",
              "      <td>2168.25</td>\n",
              "    </tr>\n",
              "    <tr>\n",
              "      <th>50%</th>\n",
              "      <td>3.96</td>\n",
              "      <td>303.50</td>\n",
              "      <td>15072.00</td>\n",
              "      <td>848.50</td>\n",
              "      <td>25000000.00</td>\n",
              "      <td>21.10</td>\n",
              "      <td>49848044.50</td>\n",
              "      <td>115.00</td>\n",
              "      <td>6.70</td>\n",
              "      <td>482.50</td>\n",
              "      <td>10547.00</td>\n",
              "    </tr>\n",
              "    <tr>\n",
              "      <th>75%</th>\n",
              "      <td>4.10</td>\n",
              "      <td>418.25</td>\n",
              "      <td>159474.75</td>\n",
              "      <td>3472.25</td>\n",
              "      <td>60000000.00</td>\n",
              "      <td>42.57</td>\n",
              "      <td>150765877.25</td>\n",
              "      <td>131.00</td>\n",
              "      <td>7.20</td>\n",
              "      <td>1291.25</td>\n",
              "      <td>25916.75</td>\n",
              "    </tr>\n",
              "    <tr>\n",
              "      <th>max</th>\n",
              "      <td>4.56</td>\n",
              "      <td>1463.00</td>\n",
              "      <td>5629932.00</td>\n",
              "      <td>84237.00</td>\n",
              "      <td>250000000.00</td>\n",
              "      <td>167.93</td>\n",
              "      <td>1118888979.00</td>\n",
              "      <td>242.00</td>\n",
              "      <td>8.40</td>\n",
              "      <td>9413.00</td>\n",
              "      <td>339984.00</td>\n",
              "    </tr>\n",
              "  </tbody>\n",
              "</table>\n",
              "</div>"
            ],
            "text/plain": [
              "       book_rating  # num_pages  ...  vote_count  movie_id\n",
              "count       326.00       326.00  ...      326.00    326.00\n",
              "mean          3.94       333.96  ...     1128.04  32385.80\n",
              "std           0.25       202.64  ...     1667.59  61891.52\n",
              "min           2.86         1.00  ...        1.00     66.00\n",
              "25%           3.80       211.00  ...      130.25   2168.25\n",
              "50%           3.96       303.50  ...      482.50  10547.00\n",
              "75%           4.10       418.25  ...     1291.25  25916.75\n",
              "max           4.56      1463.00  ...     9413.00 339984.00\n",
              "\n",
              "[8 rows x 11 columns]"
            ]
          },
          "metadata": {
            "tags": []
          },
          "execution_count": 56
        }
      ]
    },
    {
      "cell_type": "markdown",
      "metadata": {
        "id": "H4OtuvVuLOJ9",
        "colab_type": "text"
      },
      "source": [
        "### Combined rating\n",
        "Books on goodreads are rated out out of 5.\n",
        "\n",
        "Movies are rated out of 10\n",
        "\n",
        "In comparing a book+movie combination it would make sense to have a total rating that fairly weighs the two scores. For now I am multiplying the book rating by 2, adding it to the movie score, dividing the total by 2."
      ]
    },
    {
      "cell_type": "code",
      "metadata": {
        "id": "ZsgR0zG_k61z",
        "colab_type": "code",
        "outputId": "4cce6ab0-7917-4465-d8d1-7d1150baea0c",
        "colab": {
          "base_uri": "https://localhost:8080/",
          "height": 360
        }
      },
      "source": [
        "df['Combined Rating'] = ((df['book_rating'] * 2)  + df['movie_rating']) / 2\n",
        "print('Highest combined rating')\n",
        "df.sort_values('Combined Rating', ascending=False)[:10][['title','Combined Rating']]"
      ],
      "execution_count": 57,
      "outputs": [
        {
          "output_type": "stream",
          "text": [
            "Highest combined rating\n"
          ],
          "name": "stdout"
        },
        {
          "output_type": "execute_result",
          "data": {
            "text/html": [
              "<div>\n",
              "<style scoped>\n",
              "    .dataframe tbody tr th:only-of-type {\n",
              "        vertical-align: middle;\n",
              "    }\n",
              "\n",
              "    .dataframe tbody tr th {\n",
              "        vertical-align: top;\n",
              "    }\n",
              "\n",
              "    .dataframe thead th {\n",
              "        text-align: right;\n",
              "    }\n",
              "</style>\n",
              "<table border=\"1\" class=\"dataframe\">\n",
              "  <thead>\n",
              "    <tr style=\"text-align: right;\">\n",
              "      <th></th>\n",
              "      <th>title</th>\n",
              "      <th>Combined Rating</th>\n",
              "    </tr>\n",
              "  </thead>\n",
              "  <tbody>\n",
              "    <tr>\n",
              "      <th>633</th>\n",
              "      <td>Howl's Moving Castle</td>\n",
              "      <td>8.61</td>\n",
              "    </tr>\n",
              "    <tr>\n",
              "      <th>1305</th>\n",
              "      <td>The Godfather</td>\n",
              "      <td>8.57</td>\n",
              "    </tr>\n",
              "    <tr>\n",
              "      <th>952</th>\n",
              "      <td>The Green Mile</td>\n",
              "      <td>8.54</td>\n",
              "    </tr>\n",
              "    <tr>\n",
              "      <th>19</th>\n",
              "      <td>The Lord of the Rings: The Two Towers</td>\n",
              "      <td>8.53</td>\n",
              "    </tr>\n",
              "    <tr>\n",
              "      <th>704</th>\n",
              "      <td>The Lord of the Rings: The Return of the King</td>\n",
              "      <td>8.51</td>\n",
              "    </tr>\n",
              "    <tr>\n",
              "      <th>11</th>\n",
              "      <td>The Lord of the Rings: The Fellowship of the Ring</td>\n",
              "      <td>8.49</td>\n",
              "    </tr>\n",
              "    <tr>\n",
              "      <th>7</th>\n",
              "      <td>Harry Potter and the Prisoner of Azkaban</td>\n",
              "      <td>8.40</td>\n",
              "    </tr>\n",
              "    <tr>\n",
              "      <th>589</th>\n",
              "      <td>Fight Club</td>\n",
              "      <td>8.35</td>\n",
              "    </tr>\n",
              "    <tr>\n",
              "      <th>771</th>\n",
              "      <td>Anne of Green Gables</td>\n",
              "      <td>8.34</td>\n",
              "    </tr>\n",
              "    <tr>\n",
              "      <th>1711</th>\n",
              "      <td>Harry Potter and the Goblet of Fire</td>\n",
              "      <td>8.30</td>\n",
              "    </tr>\n",
              "  </tbody>\n",
              "</table>\n",
              "</div>"
            ],
            "text/plain": [
              "                                                  title  Combined Rating\n",
              "633                                Howl's Moving Castle             8.61\n",
              "1305                                      The Godfather             8.57\n",
              "952                                      The Green Mile             8.54\n",
              "19                The Lord of the Rings: The Two Towers             8.53\n",
              "704       The Lord of the Rings: The Return of the King             8.51\n",
              "11    The Lord of the Rings: The Fellowship of the Ring             8.49\n",
              "7              Harry Potter and the Prisoner of Azkaban             8.40\n",
              "589                                          Fight Club             8.35\n",
              "771                                Anne of Green Gables             8.34\n",
              "1711                Harry Potter and the Goblet of Fire             8.30"
            ]
          },
          "metadata": {
            "tags": []
          },
          "execution_count": 57
        }
      ]
    },
    {
      "cell_type": "code",
      "metadata": {
        "id": "a7vI1HaXQm9e",
        "colab_type": "code",
        "outputId": "987d91f8-c834-4029-92c1-10516878f8cf",
        "colab": {
          "base_uri": "https://localhost:8080/",
          "height": 360
        }
      },
      "source": [
        "print('Lowest combined rating')\n",
        "df.sort_values('Combined Rating', ascending=True)[:10][['title','Combined Rating']]"
      ],
      "execution_count": 58,
      "outputs": [
        {
          "output_type": "stream",
          "text": [
            "Lowest combined rating\n"
          ],
          "name": "stdout"
        },
        {
          "output_type": "execute_result",
          "data": {
            "text/html": [
              "<div>\n",
              "<style scoped>\n",
              "    .dataframe tbody tr th:only-of-type {\n",
              "        vertical-align: middle;\n",
              "    }\n",
              "\n",
              "    .dataframe tbody tr th {\n",
              "        vertical-align: top;\n",
              "    }\n",
              "\n",
              "    .dataframe thead th {\n",
              "        text-align: right;\n",
              "    }\n",
              "</style>\n",
              "<table border=\"1\" class=\"dataframe\">\n",
              "  <thead>\n",
              "    <tr style=\"text-align: right;\">\n",
              "      <th></th>\n",
              "      <th>title</th>\n",
              "      <th>Combined Rating</th>\n",
              "    </tr>\n",
              "  </thead>\n",
              "  <tbody>\n",
              "    <tr>\n",
              "      <th>842</th>\n",
              "      <td>The Informers</td>\n",
              "      <td>5.58</td>\n",
              "    </tr>\n",
              "    <tr>\n",
              "      <th>1252</th>\n",
              "      <td>Confessions of a Teenage Drama Queen</td>\n",
              "      <td>5.87</td>\n",
              "    </tr>\n",
              "    <tr>\n",
              "      <th>736</th>\n",
              "      <td>Gulliver's Travels</td>\n",
              "      <td>6.01</td>\n",
              "    </tr>\n",
              "    <tr>\n",
              "      <th>1488</th>\n",
              "      <td>The Island of Dr. Moreau</td>\n",
              "      <td>6.02</td>\n",
              "    </tr>\n",
              "    <tr>\n",
              "      <th>1082</th>\n",
              "      <td>Under the Rainbow</td>\n",
              "      <td>6.04</td>\n",
              "    </tr>\n",
              "    <tr>\n",
              "      <th>1034</th>\n",
              "      <td>Striptease</td>\n",
              "      <td>6.04</td>\n",
              "    </tr>\n",
              "    <tr>\n",
              "      <th>109</th>\n",
              "      <td>The Big Year</td>\n",
              "      <td>6.05</td>\n",
              "    </tr>\n",
              "    <tr>\n",
              "      <th>1608</th>\n",
              "      <td>Damnation Alley</td>\n",
              "      <td>6.07</td>\n",
              "    </tr>\n",
              "    <tr>\n",
              "      <th>729</th>\n",
              "      <td>Congo</td>\n",
              "      <td>6.08</td>\n",
              "    </tr>\n",
              "    <tr>\n",
              "      <th>389</th>\n",
              "      <td>The Extra Man</td>\n",
              "      <td>6.10</td>\n",
              "    </tr>\n",
              "  </tbody>\n",
              "</table>\n",
              "</div>"
            ],
            "text/plain": [
              "                                     title  Combined Rating\n",
              "842                          The Informers             5.58\n",
              "1252  Confessions of a Teenage Drama Queen             5.87\n",
              "736                     Gulliver's Travels             6.01\n",
              "1488              The Island of Dr. Moreau             6.02\n",
              "1082                     Under the Rainbow             6.04\n",
              "1034                            Striptease             6.04\n",
              "109                           The Big Year             6.05\n",
              "1608                       Damnation Alley             6.07\n",
              "729                                  Congo             6.08\n",
              "389                          The Extra Man             6.10"
            ]
          },
          "metadata": {
            "tags": []
          },
          "execution_count": 58
        }
      ]
    },
    {
      "cell_type": "code",
      "metadata": {
        "id": "nUPB0IeJCUw6",
        "colab_type": "code",
        "outputId": "61c7bafc-c05a-4509-ee53-982bf13466b2",
        "colab": {
          "base_uri": "https://localhost:8080/",
          "height": 265
        }
      },
      "source": [
        "df['Combined Rating'].hist()\n",
        "plt.ylabel('Combined Rating')\n",
        "plt.show()"
      ],
      "execution_count": 59,
      "outputs": [
        {
          "output_type": "display_data",
          "data": {
            "image/png": "[encoded data removed]",
            "text/plain": [
              "<Figure size 432x288 with 1 Axes>"
            ]
          },
          "metadata": {
            "tags": []
          }
        }
      ]
    },
    {
      "cell_type": "code",
      "metadata": {
        "id": "hW5QJZ8bNxvL",
        "colab_type": "code",
        "outputId": "95220935-72c6-4296-eb8d-642968bbbe36",
        "colab": {
          "base_uri": "https://localhost:8080/",
          "height": 302
        }
      },
      "source": [
        "df.corr()['Combined Rating'].abs().sort_values(ascending=False)"
      ],
      "execution_count": 60,
      "outputs": [
        {
          "output_type": "execute_result",
          "data": {
            "text/plain": [
              "Combined Rating          1.00\n",
              "movie_rating             0.92\n",
              "book_rating              0.76\n",
              "popularity               0.49\n",
              "vote_count               0.48\n",
              "runtime                  0.41\n",
              "revenue                  0.31\n",
              "ratings_count            0.24\n",
              "text_reviews_count       0.19\n",
              "# num_pages              0.12\n",
              "Mentions Author          0.09\n",
              "budget                   0.07\n",
              "Based on Novel           0.05\n",
              "movie_id                 0.04\n",
              "Overview mentions book   0.01\n",
              "Verify                    nan\n",
              "Name: Combined Rating, dtype: float64"
            ]
          },
          "metadata": {
            "tags": []
          },
          "execution_count": 60
        }
      ]
    },
    {
      "cell_type": "code",
      "metadata": {
        "id": "SzzlfEOPqIwT",
        "colab_type": "code",
        "outputId": "e1b29c58-221e-42e0-d672-a97952b85b5c",
        "colab": {
          "base_uri": "https://localhost:8080/",
          "height": 302
        }
      },
      "source": [
        "df.corr()['book_rating'].abs().sort_values(ascending=False)"
      ],
      "execution_count": 61,
      "outputs": [
        {
          "output_type": "execute_result",
          "data": {
            "text/plain": [
              "book_rating              1.00\n",
              "Combined Rating          0.76\n",
              "movie_rating             0.44\n",
              "popularity               0.32\n",
              "vote_count               0.31\n",
              "ratings_count            0.30\n",
              "runtime                  0.29\n",
              "revenue                  0.28\n",
              "text_reviews_count       0.24\n",
              "budget                   0.17\n",
              "# num_pages              0.16\n",
              "Based on Novel           0.10\n",
              "Mentions Author          0.06\n",
              "movie_id                 0.03\n",
              "Overview mentions book   0.01\n",
              "Verify                    nan\n",
              "Name: book_rating, dtype: float64"
            ]
          },
          "metadata": {
            "tags": []
          },
          "execution_count": 61
        }
      ]
    },
    {
      "cell_type": "code",
      "metadata": {
        "id": "bZj86tx9qiQF",
        "colab_type": "code",
        "outputId": "453d09cd-7e59-4239-a7e1-a45eacea2efa",
        "colab": {
          "base_uri": "https://localhost:8080/",
          "height": 302
        }
      },
      "source": [
        "df.corr()['movie_rating'].abs().sort_values(ascending=False)"
      ],
      "execution_count": 62,
      "outputs": [
        {
          "output_type": "execute_result",
          "data": {
            "text/plain": [
              "movie_rating             1.00\n",
              "Combined Rating          0.92\n",
              "popularity               0.48\n",
              "vote_count               0.48\n",
              "book_rating              0.44\n",
              "runtime                  0.40\n",
              "revenue                  0.26\n",
              "ratings_count            0.14\n",
              "text_reviews_count       0.11\n",
              "Mentions Author          0.08\n",
              "# num_pages              0.06\n",
              "movie_id                 0.04\n",
              "budget                   0.01\n",
              "Overview mentions book   0.01\n",
              "Based on Novel           0.00\n",
              "Verify                    nan\n",
              "Name: movie_rating, dtype: float64"
            ]
          },
          "metadata": {
            "tags": []
          },
          "execution_count": 62
        }
      ]
    },
    {
      "cell_type": "code",
      "metadata": {
        "id": "yQecSQW4nnS3",
        "colab_type": "code",
        "colab": {}
      },
      "source": [
        "from sklearn.linear_model import LinearRegression"
      ],
      "execution_count": 0,
      "outputs": []
    },
    {
      "cell_type": "markdown",
      "metadata": {
        "id": "-kkxIRf--I9Q",
        "colab_type": "text"
      },
      "source": [
        "### Can we use linear regression to predict what a book's movie rating would be?"
      ]
    },
    {
      "cell_type": "code",
      "metadata": {
        "id": "X2bHdN07nw04",
        "colab_type": "code",
        "colab": {}
      },
      "source": [
        "# to predict combined rating\n",
        "features = df[['book_rating', 'ratings_count', '# num_pages', 'text_reviews_count']].values.reshape(-1,4)\n",
        "outcome = df['movie_rating'].values.reshape(-1,1)\n",
        "\n",
        "\n"
      ],
      "execution_count": 0,
      "outputs": []
    },
    {
      "cell_type": "code",
      "metadata": {
        "id": "QWyJEkC8NGaQ",
        "colab_type": "code",
        "colab": {
          "base_uri": "https://localhost:8080/",
          "height": 50
        },
        "outputId": "fbae15e4-8930-4f54-8900-f8b3523e5edc"
      },
      "source": [
        "from sklearn.model_selection import train_test_split \n",
        "# 80% of data train, 20% to test\n",
        "X_train, X_test, y_train, y_test = train_test_split(features, outcome, test_size=0.2, random_state=0)\n",
        "\n",
        "movie_rating_regression = LinearRegression().fit(X_train, y_train)\n",
        "\n",
        "print('intercept', movie_rating_regression.intercept_)\n",
        "print('coefficient', movie_rating_regression.coef_)\n",
        "\n"
      ],
      "execution_count": 92,
      "outputs": [
        {
          "output_type": "stream",
          "text": [
            "intercept [1.00465962]\n",
            "coefficient [[ 1.40231249e+00  4.92959618e-08  8.52395772e-05 -7.23584793e-07]]\n"
          ],
          "name": "stdout"
        }
      ]
    },
    {
      "cell_type": "code",
      "metadata": {
        "id": "wb2_rpZUNyPJ",
        "colab_type": "code",
        "colab": {
          "base_uri": "https://localhost:8080/",
          "height": 402
        },
        "outputId": "b0a50c50-e2ed-4ccc-ea55-d34f0a7173eb"
      },
      "source": [
        "y_pred = movie_rating_regression.predict(X_test)\n",
        "#print(type(y_pred))\n",
        "#print(type(y_test))\n",
        "regression_test = pd.DataFrame({'Actual': y_test.flatten(), 'Predicted': y_pred.flatten()})\n",
        "regression_test"
      ],
      "execution_count": 93,
      "outputs": [
        {
          "output_type": "execute_result",
          "data": {
            "text/html": [
              "<div>\n",
              "<style scoped>\n",
              "    .dataframe tbody tr th:only-of-type {\n",
              "        vertical-align: middle;\n",
              "    }\n",
              "\n",
              "    .dataframe tbody tr th {\n",
              "        vertical-align: top;\n",
              "    }\n",
              "\n",
              "    .dataframe thead th {\n",
              "        text-align: right;\n",
              "    }\n",
              "</style>\n",
              "<table border=\"1\" class=\"dataframe\">\n",
              "  <thead>\n",
              "    <tr style=\"text-align: right;\">\n",
              "      <th></th>\n",
              "      <th>Actual</th>\n",
              "      <th>Predicted</th>\n",
              "    </tr>\n",
              "  </thead>\n",
              "  <tbody>\n",
              "    <tr>\n",
              "      <th>0</th>\n",
              "      <td>7.40</td>\n",
              "      <td>6.50</td>\n",
              "    </tr>\n",
              "    <tr>\n",
              "      <th>1</th>\n",
              "      <td>6.30</td>\n",
              "      <td>6.23</td>\n",
              "    </tr>\n",
              "    <tr>\n",
              "      <th>2</th>\n",
              "      <td>6.40</td>\n",
              "      <td>6.20</td>\n",
              "    </tr>\n",
              "    <tr>\n",
              "      <th>3</th>\n",
              "      <td>7.60</td>\n",
              "      <td>6.67</td>\n",
              "    </tr>\n",
              "    <tr>\n",
              "      <th>4</th>\n",
              "      <td>6.20</td>\n",
              "      <td>6.32</td>\n",
              "    </tr>\n",
              "    <tr>\n",
              "      <th>...</th>\n",
              "      <td>...</td>\n",
              "      <td>...</td>\n",
              "    </tr>\n",
              "    <tr>\n",
              "      <th>61</th>\n",
              "      <td>6.90</td>\n",
              "      <td>6.83</td>\n",
              "    </tr>\n",
              "    <tr>\n",
              "      <th>62</th>\n",
              "      <td>6.40</td>\n",
              "      <td>6.11</td>\n",
              "    </tr>\n",
              "    <tr>\n",
              "      <th>63</th>\n",
              "      <td>6.40</td>\n",
              "      <td>6.47</td>\n",
              "    </tr>\n",
              "    <tr>\n",
              "      <th>64</th>\n",
              "      <td>5.90</td>\n",
              "      <td>6.26</td>\n",
              "    </tr>\n",
              "    <tr>\n",
              "      <th>65</th>\n",
              "      <td>5.30</td>\n",
              "      <td>6.24</td>\n",
              "    </tr>\n",
              "  </tbody>\n",
              "</table>\n",
              "<p>66 rows × 2 columns</p>\n",
              "</div>"
            ],
            "text/plain": [
              "    Actual  Predicted\n",
              "0     7.40       6.50\n",
              "1     6.30       6.23\n",
              "2     6.40       6.20\n",
              "3     7.60       6.67\n",
              "4     6.20       6.32\n",
              "..     ...        ...\n",
              "61    6.90       6.83\n",
              "62    6.40       6.11\n",
              "63    6.40       6.47\n",
              "64    5.90       6.26\n",
              "65    5.30       6.24\n",
              "\n",
              "[66 rows x 2 columns]"
            ]
          },
          "metadata": {
            "tags": []
          },
          "execution_count": 93
        }
      ]
    },
    {
      "cell_type": "code",
      "metadata": {
        "id": "1Cs7zLAaOGaR",
        "colab_type": "code",
        "colab": {
          "base_uri": "https://localhost:8080/",
          "height": 594
        },
        "outputId": "379497f1-5aeb-464d-82c8-9c3ca8ce6934"
      },
      "source": [
        "regression_test_plot = regression_test.head(25)\n",
        "regression_test_plot.plot(kind='bar',figsize=(16,10))\n",
        "plt.grid(which='major', linestyle='-', linewidth='0.5', color='green')\n",
        "plt.grid(which='minor', linestyle=':', linewidth='0.5', color='black')\n",
        "plt.show()"
      ],
      "execution_count": 94,
      "outputs": [
        {
          "output_type": "display_data",
          "data": {
            "image/png": "[encoded data removed]",
            "text/plain": [
              "<Figure size 1152x720 with 1 Axes>"
            ]
          },
          "metadata": {
            "tags": []
          }
        }
      ]
    },
    {
      "cell_type": "code",
      "metadata": {
        "id": "eYZsJeGcOTB-",
        "colab_type": "code",
        "colab": {
          "base_uri": "https://localhost:8080/",
          "height": 265
        },
        "outputId": "ad936ae5-b2c8-4326-b1cc-817184401467"
      },
      "source": [
        "plt.scatter(X_test[:,0], y_test,  color='gray')\n",
        "plt.plot(X_test[:,0], y_pred, color='red', linewidth=2)\n",
        "plt.show()"
      ],
      "execution_count": 99,
      "outputs": [
        {
          "output_type": "display_data",
          "data": {
            "image/png": "[encoded data removed]",
            "text/plain": [
              "<Figure size 432x288 with 1 Axes>"
            ]
          },
          "metadata": {
            "tags": []
          }
        }
      ]
    },
    {
      "cell_type": "code",
      "metadata": {
        "id": "luwQI8hDoirQ",
        "colab_type": "code",
        "outputId": "8c000c19-5859-4d31-bd89-b14f6b03a522",
        "colab": {
          "base_uri": "https://localhost:8080/",
          "height": 34
        }
      },
      "source": [
        "print(\"This model's r-squared is:\", movie_rating_regression.score(features,outcome).round(2))\n",
        "\n"
      ],
      "execution_count": 100,
      "outputs": [
        {
          "output_type": "stream",
          "text": [
            "This model's r-squared is: 0.19\n"
          ],
          "name": "stdout"
        }
      ]
    },
    {
      "cell_type": "code",
      "metadata": {
        "id": "W1nzNCRBojTD",
        "colab_type": "code",
        "colab": {}
      },
      "source": [
        "print('The predicted combined rating with these ratings is: ', movie_rating_regression.predict([[4, 1000, 350, 400]]).round(2))"
      ],
      "execution_count": 0,
      "outputs": []
    },
    {
      "cell_type": "code",
      "metadata": {
        "id": "PiMnI8Froser",
        "colab_type": "code",
        "colab": {}
      },
      "source": [
        "grab1 = df[(df['book_rating'] > 3.9) & (df['book_rating'] < 4.1) & (df['ratings_count'] > 800) & (df['ratings_count'] < 1200)]\n",
        "\n",
        "grab1[['book_rating', 'movie_rating', 'ratings_count']]"
      ],
      "execution_count": 0,
      "outputs": []
    },
    {
      "cell_type": "markdown",
      "metadata": {
        "id": "t_dR135Yv3GC",
        "colab_type": "text"
      },
      "source": [
        "What do books that make good movies have in common?\n",
        "\n",
        "Books that make bad ones?\n",
        "\n",
        "How long do books with movie adaptations tend to be?\n",
        "\n",
        "Regression that predicts if book will be amde into a movie\n",
        "\n",
        "Notes:\n",
        "Logistic regression used to find predictors for classifications\n",
        "\n"
      ]
    },
    {
      "cell_type": "code",
      "metadata": {
        "id": "4OB26glhojQA",
        "colab_type": "code",
        "colab": {}
      },
      "source": [
        "good = df[df['Combined Rating'] > 7]\n",
        "good.describe().T"
      ],
      "execution_count": 0,
      "outputs": []
    },
    {
      "cell_type": "code",
      "metadata": {
        "id": "5N5-1HaGESom",
        "colab_type": "code",
        "colab": {}
      },
      "source": [
        "bad = df[df['Combined Rating'] < 7]\n",
        "bad.describe().T\n"
      ],
      "execution_count": 0,
      "outputs": []
    },
    {
      "cell_type": "code",
      "metadata": {
        "id": "auXCHTIG-k1-",
        "colab_type": "code",
        "colab": {}
      },
      "source": [
        ""
      ],
      "execution_count": 0,
      "outputs": []
    },
    {
      "cell_type": "markdown",
      "metadata": {
        "id": "CGeNuodce5kx",
        "colab_type": "text"
      },
      "source": [
        "Want to predict if book will be made into movie. Put boolean 'made into movie' column in books dataframe. Logistic regression?"
      ]
    },
    {
      "cell_type": "code",
      "metadata": {
        "id": "e1hYIoDtfHwf",
        "colab_type": "code",
        "colab": {}
      },
      "source": [
        "books.corr()['Made into movie'].abs().sort_values(ascending=False)"
      ],
      "execution_count": 0,
      "outputs": []
    },
    {
      "cell_type": "code",
      "metadata": {
        "id": "TIVX12cJBpEP",
        "colab_type": "code",
        "colab": {}
      },
      "source": [
        "sns.distplot(df['Combined Rating'])"
      ],
      "execution_count": 0,
      "outputs": []
    },
    {
      "cell_type": "code",
      "metadata": {
        "id": "o3l59zHPplXd",
        "colab_type": "code",
        "colab": {}
      },
      "source": [
        "interesting_cols = ['book_rating', 'movie_rating', '# num_pages', 'ratings_count', 'text_reviews_count', 'budget', 'popularity', 'revenue', 'runtime']\n",
        "for i in interesting_cols:\n",
        "  sns.lmplot(x='Combined Rating', y=i, data=df)"
      ],
      "execution_count": 0,
      "outputs": []
    },
    {
      "cell_type": "markdown",
      "metadata": {
        "id": "3Xm0OKN-0ecK",
        "colab_type": "text"
      },
      "source": [
        "###T test to determine if difference in means between movie-books and non-movie books is significant. \n",
        "Two tailed, independent\n",
        "\n",
        "Following this guide https://pythonfordatascience.org/independent-t-test-python/\n",
        "\n"
      ]
    },
    {
      "cell_type": "code",
      "metadata": {
        "id": "1N2wRDCa06oe",
        "colab_type": "code",
        "colab": {}
      },
      "source": [
        "from scipy import stats\n"
      ],
      "execution_count": 0,
      "outputs": []
    },
    {
      "cell_type": "markdown",
      "metadata": {
        "id": "2-aPmxYHD1ub",
        "colab_type": "text"
      },
      "source": [
        "####Assumptions:\n",
        "\n",
        "1. Equal variance\n",
        "* Levene Test\n",
        "* Bartlett Test\n",
        "\n",
        "Normally distributed:\n",
        "* Kind of"
      ]
    },
    {
      "cell_type": "code",
      "metadata": {
        "id": "hMvGxlEVEhiN",
        "colab_type": "code",
        "outputId": "6121c8eb-0d15-49d2-9f10-41c143f63a40",
        "colab": {
          "base_uri": "https://localhost:8080/",
          "height": 34
        }
      },
      "source": [
        "# levene's test for homogenity of variance\n",
        "stats.levene(df['book_rating'], just_books['book_rating'])"
      ],
      "execution_count": 105,
      "outputs": [
        {
          "output_type": "execute_result",
          "data": {
            "text/plain": [
              "LeveneResult(statistic=9.78319496438978, pvalue=0.0017648998990131596)"
            ]
          },
          "metadata": {
            "tags": []
          },
          "execution_count": 105
        }
      ]
    },
    {
      "cell_type": "code",
      "metadata": {
        "id": "r_YIIsT0GOE5",
        "colab_type": "code",
        "outputId": "d1ea483d-cfd1-4ac3-86fe-a2f70951f98f",
        "colab": {
          "base_uri": "https://localhost:8080/",
          "height": 34
        }
      },
      "source": [
        "stats.bartlett(df['book_rating'], just_books['book_rating'])"
      ],
      "execution_count": 106,
      "outputs": [
        {
          "output_type": "execute_result",
          "data": {
            "text/plain": [
              "BartlettResult(statistic=71.33512807939051, pvalue=3.014212917754956e-17)"
            ]
          },
          "metadata": {
            "tags": []
          },
          "execution_count": 106
        }
      ]
    },
    {
      "cell_type": "markdown",
      "metadata": {
        "id": "uOALNjd6E54e",
        "colab_type": "text"
      },
      "source": [
        "Tiny p-value, we reject the null hypothesis of equal variance. Conclude that our samples have different variance.\n",
        "\n"
      ]
    },
    {
      "cell_type": "code",
      "metadata": {
        "id": "D_lvEZR4-qrr",
        "colab_type": "code",
        "outputId": "97bd417c-0663-4595-989c-39cfa7b9d842",
        "colab": {
          "base_uri": "https://localhost:8080/",
          "height": 297
        }
      },
      "source": [
        "just_books['book_rating'].mean(), sns.distplot(just_books['book_rating'])"
      ],
      "execution_count": 107,
      "outputs": [
        {
          "output_type": "execute_result",
          "data": {
            "text/plain": [
              "(3.929766803840863, <matplotlib.axes._subplots.AxesSubplot at 0x7f0795e17fd0>)"
            ]
          },
          "metadata": {
            "tags": []
          },
          "execution_count": 107
        },
        {
          "output_type": "display_data",
          "data": {
            "image/png": "[encoded data removed]",
            "text/plain": [
              "<Figure size 432x288 with 1 Axes>"
            ]
          },
          "metadata": {
            "tags": []
          }
        }
      ]
    },
    {
      "cell_type": "code",
      "metadata": {
        "id": "euz_05rd-72o",
        "colab_type": "code",
        "outputId": "f0840ec0-6511-4e94-d82c-3185a953ffa5",
        "colab": {
          "base_uri": "https://localhost:8080/",
          "height": 297
        }
      },
      "source": [
        "df['book_rating'].mean(), sns.distplot(df['book_rating'])"
      ],
      "execution_count": 108,
      "outputs": [
        {
          "output_type": "execute_result",
          "data": {
            "text/plain": [
              "(3.9433435582822094, <matplotlib.axes._subplots.AxesSubplot at 0x7f0795d83e48>)"
            ]
          },
          "metadata": {
            "tags": []
          },
          "execution_count": 108
        },
        {
          "output_type": "display_data",
          "data": {
            "image/png": "[encoded data removed]",
            "text/plain": [
              "<Figure size 432x288 with 1 Axes>"
            ]
          },
          "metadata": {
            "tags": []
          }
        }
      ]
    },
    {
      "cell_type": "code",
      "metadata": {
        "id": "kmcRNlOKG1VV",
        "colab_type": "code",
        "colab": {}
      },
      "source": [
        "diff = df['book_rating'] - just_books['book_rating']"
      ],
      "execution_count": 0,
      "outputs": []
    },
    {
      "cell_type": "code",
      "metadata": {
        "id": "6AW-m0PoG5qi",
        "colab_type": "code",
        "outputId": "de93ddd4-e55b-4046-f736-39db314ddc4d",
        "colab": {
          "base_uri": "https://localhost:8080/",
          "height": 362
        }
      },
      "source": [
        "stats.probplot(diff, plot= plt)\n"
      ],
      "execution_count": 110,
      "outputs": [
        {
          "output_type": "execute_result",
          "data": {
            "text/plain": [
              "((array([-3.87786126, -3.65639293, -3.53497198, ...,  3.53497198,\n",
              "          3.65639293,  3.87786126]),\n",
              "  array([-1.15, -1.08, -0.94, ...,   nan,   nan,   nan])),\n",
              " (nan, nan, nan))"
            ]
          },
          "metadata": {
            "tags": []
          },
          "execution_count": 110
        },
        {
          "output_type": "display_data",
          "data": {
            "image/png": "[encoded data removed]",
            "text/plain": [
              "<Figure size 432x288 with 1 Axes>"
            ]
          },
          "metadata": {
            "tags": []
          }
        }
      ]
    },
    {
      "cell_type": "markdown",
      "metadata": {
        "id": "U1ANfd-EGqd6",
        "colab_type": "text"
      },
      "source": [
        "Welch's T-test may work for unequal variance"
      ]
    },
    {
      "cell_type": "code",
      "metadata": {
        "id": "4lwJB53vGth_",
        "colab_type": "code",
        "outputId": "aea6aabd-98e8-4367-8579-85f50f25692c",
        "colab": {
          "base_uri": "https://localhost:8080/",
          "height": 34
        }
      },
      "source": [
        "stats.ttest_ind(df['book_rating'], just_books['book_rating'], equal_var=False)"
      ],
      "execution_count": 111,
      "outputs": [
        {
          "output_type": "execute_result",
          "data": {
            "text/plain": [
              "Ttest_indResult(statistic=0.9611519252322183, pvalue=0.33712069660557586)"
            ]
          },
          "metadata": {
            "tags": []
          },
          "execution_count": 111
        }
      ]
    },
    {
      "cell_type": "markdown",
      "metadata": {
        "id": "-PmYKkUb_f5A",
        "colab_type": "text"
      },
      "source": [
        "The test returned a pvalue of 0.337. If I am interpreting that correctly, then we can not reject the null hypothesis, which says there is no difference between the true averages of the groups. We conclude the average ratings between books which are made into movies, and those which are not, is NOT significantly different. "
      ]
    },
    {
      "cell_type": "markdown",
      "metadata": {
        "id": "Vf3C4d4nCwjK",
        "colab_type": "text"
      },
      "source": [
        "### What were the best books that made the worst movies?"
      ]
    },
    {
      "cell_type": "markdown",
      "metadata": {
        "id": "IYYOH7dLFS32",
        "colab_type": "text"
      },
      "source": [
        "Books which were much better than the movie."
      ]
    },
    {
      "cell_type": "code",
      "metadata": {
        "id": "NLs6eBvgC6Xu",
        "colab_type": "code",
        "outputId": "eaebbe3f-7653-43fe-bc58-f84234fec6e6",
        "colab": {
          "base_uri": "https://localhost:8080/",
          "height": 343
        }
      },
      "source": [
        "df['rating_difference'] = (df['book_rating'] * 2) - df['movie_rating']\n",
        "\n",
        "df.sort_values(by='rating_difference', ascending=False)[['title', 'book_rating', 'movie_rating', 'rating_difference']][:10]"
      ],
      "execution_count": 112,
      "outputs": [
        {
          "output_type": "execute_result",
          "data": {
            "text/html": [
              "<div>\n",
              "<style scoped>\n",
              "    .dataframe tbody tr th:only-of-type {\n",
              "        vertical-align: middle;\n",
              "    }\n",
              "\n",
              "    .dataframe tbody tr th {\n",
              "        vertical-align: top;\n",
              "    }\n",
              "\n",
              "    .dataframe thead th {\n",
              "        text-align: right;\n",
              "    }\n",
              "</style>\n",
              "<table border=\"1\" class=\"dataframe\">\n",
              "  <thead>\n",
              "    <tr style=\"text-align: right;\">\n",
              "      <th></th>\n",
              "      <th>title</th>\n",
              "      <th>book_rating</th>\n",
              "      <th>movie_rating</th>\n",
              "      <th>rating_difference</th>\n",
              "    </tr>\n",
              "  </thead>\n",
              "  <tbody>\n",
              "    <tr>\n",
              "      <th>1087</th>\n",
              "      <td>The Bridge of San Luis Rey</td>\n",
              "      <td>4.43</td>\n",
              "      <td>5.40</td>\n",
              "      <td>3.46</td>\n",
              "    </tr>\n",
              "    <tr>\n",
              "      <th>1085</th>\n",
              "      <td>One for the Money</td>\n",
              "      <td>4.35</td>\n",
              "      <td>5.30</td>\n",
              "      <td>3.40</td>\n",
              "    </tr>\n",
              "    <tr>\n",
              "      <th>221</th>\n",
              "      <td>Pride and Prejudice and Zombies</td>\n",
              "      <td>4.43</td>\n",
              "      <td>5.50</td>\n",
              "      <td>3.36</td>\n",
              "    </tr>\n",
              "    <tr>\n",
              "      <th>138</th>\n",
              "      <td>The Clan of the Cave Bear</td>\n",
              "      <td>4.04</td>\n",
              "      <td>4.80</td>\n",
              "      <td>3.28</td>\n",
              "    </tr>\n",
              "    <tr>\n",
              "      <th>1034</th>\n",
              "      <td>Striptease</td>\n",
              "      <td>3.84</td>\n",
              "      <td>4.40</td>\n",
              "      <td>3.28</td>\n",
              "    </tr>\n",
              "    <tr>\n",
              "      <th>1755</th>\n",
              "      <td>Jekyll and Hyde ... Together Again</td>\n",
              "      <td>3.80</td>\n",
              "      <td>4.60</td>\n",
              "      <td>3.00</td>\n",
              "    </tr>\n",
              "    <tr>\n",
              "      <th>513</th>\n",
              "      <td>Breakfast of Champions</td>\n",
              "      <td>4.08</td>\n",
              "      <td>5.20</td>\n",
              "      <td>2.96</td>\n",
              "    </tr>\n",
              "    <tr>\n",
              "      <th>1757</th>\n",
              "      <td>The Musketeer</td>\n",
              "      <td>4.07</td>\n",
              "      <td>5.20</td>\n",
              "      <td>2.94</td>\n",
              "    </tr>\n",
              "    <tr>\n",
              "      <th>1633</th>\n",
              "      <td>The Big Bounce</td>\n",
              "      <td>3.95</td>\n",
              "      <td>5.00</td>\n",
              "      <td>2.90</td>\n",
              "    </tr>\n",
              "    <tr>\n",
              "      <th>1488</th>\n",
              "      <td>The Island of Dr. Moreau</td>\n",
              "      <td>3.72</td>\n",
              "      <td>4.60</td>\n",
              "      <td>2.84</td>\n",
              "    </tr>\n",
              "  </tbody>\n",
              "</table>\n",
              "</div>"
            ],
            "text/plain": [
              "                                   title  ...  rating_difference\n",
              "1087          The Bridge of San Luis Rey  ...               3.46\n",
              "1085                   One for the Money  ...               3.40\n",
              "221      Pride and Prejudice and Zombies  ...               3.36\n",
              "138            The Clan of the Cave Bear  ...               3.28\n",
              "1034                          Striptease  ...               3.28\n",
              "1755  Jekyll and Hyde ... Together Again  ...               3.00\n",
              "513               Breakfast of Champions  ...               2.96\n",
              "1757                       The Musketeer  ...               2.94\n",
              "1633                      The Big Bounce  ...               2.90\n",
              "1488            The Island of Dr. Moreau  ...               2.84\n",
              "\n",
              "[10 rows x 4 columns]"
            ]
          },
          "metadata": {
            "tags": []
          },
          "execution_count": 112
        }
      ]
    },
    {
      "cell_type": "markdown",
      "metadata": {
        "id": "LcUg3feLFY_k",
        "colab_type": "text"
      },
      "source": [
        "Movies which were much better than the book."
      ]
    },
    {
      "cell_type": "code",
      "metadata": {
        "id": "0XO_12-qFeeJ",
        "colab_type": "code",
        "outputId": "2883346b-7001-495f-ac55-b14d9c09f5ad",
        "colab": {
          "base_uri": "https://localhost:8080/",
          "height": 343
        }
      },
      "source": [
        "df.sort_values(by='rating_difference', ascending=True)[['title', 'book_rating', 'movie_rating', 'rating_difference']][:10]"
      ],
      "execution_count": 113,
      "outputs": [
        {
          "output_type": "execute_result",
          "data": {
            "text/html": [
              "<div>\n",
              "<style scoped>\n",
              "    .dataframe tbody tr th:only-of-type {\n",
              "        vertical-align: middle;\n",
              "    }\n",
              "\n",
              "    .dataframe tbody tr th {\n",
              "        vertical-align: top;\n",
              "    }\n",
              "\n",
              "    .dataframe thead th {\n",
              "        text-align: right;\n",
              "    }\n",
              "</style>\n",
              "<table border=\"1\" class=\"dataframe\">\n",
              "  <thead>\n",
              "    <tr style=\"text-align: right;\">\n",
              "      <th></th>\n",
              "      <th>title</th>\n",
              "      <th>book_rating</th>\n",
              "      <th>movie_rating</th>\n",
              "      <th>rating_difference</th>\n",
              "    </tr>\n",
              "  </thead>\n",
              "  <tbody>\n",
              "    <tr>\n",
              "      <th>1520</th>\n",
              "      <td>Up in the Air</td>\n",
              "      <td>2.86</td>\n",
              "      <td>6.70</td>\n",
              "      <td>-0.98</td>\n",
              "    </tr>\n",
              "    <tr>\n",
              "      <th>1033</th>\n",
              "      <td>Gone Girl</td>\n",
              "      <td>3.62</td>\n",
              "      <td>7.90</td>\n",
              "      <td>-0.66</td>\n",
              "    </tr>\n",
              "    <tr>\n",
              "      <th>840</th>\n",
              "      <td>The Fault in Our Stars</td>\n",
              "      <td>3.59</td>\n",
              "      <td>7.60</td>\n",
              "      <td>-0.42</td>\n",
              "    </tr>\n",
              "    <tr>\n",
              "      <th>1048</th>\n",
              "      <td>The Prestige</td>\n",
              "      <td>3.88</td>\n",
              "      <td>8.00</td>\n",
              "      <td>-0.24</td>\n",
              "    </tr>\n",
              "    <tr>\n",
              "      <th>1355</th>\n",
              "      <td>The Notebook</td>\n",
              "      <td>3.76</td>\n",
              "      <td>7.70</td>\n",
              "      <td>-0.18</td>\n",
              "    </tr>\n",
              "    <tr>\n",
              "      <th>1666</th>\n",
              "      <td>The Martian</td>\n",
              "      <td>3.77</td>\n",
              "      <td>7.60</td>\n",
              "      <td>-0.06</td>\n",
              "    </tr>\n",
              "    <tr>\n",
              "      <th>345</th>\n",
              "      <td>The Revenant</td>\n",
              "      <td>3.66</td>\n",
              "      <td>7.30</td>\n",
              "      <td>0.02</td>\n",
              "    </tr>\n",
              "    <tr>\n",
              "      <th>475</th>\n",
              "      <td>The Raid</td>\n",
              "      <td>3.67</td>\n",
              "      <td>7.30</td>\n",
              "      <td>0.04</td>\n",
              "    </tr>\n",
              "    <tr>\n",
              "      <th>391</th>\n",
              "      <td>Stranger Than Fiction</td>\n",
              "      <td>3.57</td>\n",
              "      <td>7.10</td>\n",
              "      <td>0.04</td>\n",
              "    </tr>\n",
              "    <tr>\n",
              "      <th>270</th>\n",
              "      <td>Moby Dick</td>\n",
              "      <td>3.49</td>\n",
              "      <td>6.90</td>\n",
              "      <td>0.08</td>\n",
              "    </tr>\n",
              "  </tbody>\n",
              "</table>\n",
              "</div>"
            ],
            "text/plain": [
              "                       title  book_rating  movie_rating  rating_difference\n",
              "1520           Up in the Air         2.86          6.70              -0.98\n",
              "1033               Gone Girl         3.62          7.90              -0.66\n",
              "840   The Fault in Our Stars         3.59          7.60              -0.42\n",
              "1048            The Prestige         3.88          8.00              -0.24\n",
              "1355            The Notebook         3.76          7.70              -0.18\n",
              "1666             The Martian         3.77          7.60              -0.06\n",
              "345             The Revenant         3.66          7.30               0.02\n",
              "475                 The Raid         3.67          7.30               0.04\n",
              "391    Stranger Than Fiction         3.57          7.10               0.04\n",
              "270                Moby Dick         3.49          6.90               0.08"
            ]
          },
          "metadata": {
            "tags": []
          },
          "execution_count": 113
        }
      ]
    },
    {
      "cell_type": "code",
      "metadata": {
        "id": "8PdrJjExED0F",
        "colab_type": "code",
        "colab": {}
      },
      "source": [
        ""
      ],
      "execution_count": 0,
      "outputs": []
    },
    {
      "cell_type": "markdown",
      "metadata": {
        "id": "CLp6qdt-mTDy",
        "colab_type": "text"
      },
      "source": [
        "Some books are made into movies, some are not. I am interested in finding what book characteristic can predict likelihood of being made into a movie. I have found two datasets for reviews, one from goodreads one from Total Movie Database. \n",
        "\n",
        "\n",
        "Do well rated books predict well rated movies?\n",
        "\n",
        "Are movies based on books rated better than other movies?\n",
        "\n",
        "Are popular books also popular movies?\n",
        "\n",
        "\n",
        "\n",
        "\n"
      ]
    },
    {
      "cell_type": "markdown",
      "metadata": {
        "id": "0KP5AZ-4XpUO",
        "colab_type": "text"
      },
      "source": [
        "### Logistic regression to categorize books as likely/not likely to be made into a movie."
      ]
    },
    {
      "cell_type": "code",
      "metadata": {
        "id": "MvFZFsOVncuT",
        "colab_type": "code",
        "colab": {}
      },
      "source": [
        "books['Made into movie'] = books['Made into movie'].map({True: 1, False: 0})\n"
      ],
      "execution_count": 0,
      "outputs": []
    },
    {
      "cell_type": "code",
      "metadata": {
        "id": "iTXIGGXsYjQk",
        "colab_type": "code",
        "colab": {}
      },
      "source": [
        "logfeatures = books[['average_rating', 'ratings_count']].values.reshape(-1,2)\n",
        "\n",
        "logoutcomes = books['Made into movie'].values.reshape(-1,1)"
      ],
      "execution_count": 0,
      "outputs": []
    },
    {
      "cell_type": "code",
      "metadata": {
        "id": "Sa_YYrp1Xyrb",
        "colab_type": "code",
        "colab": {}
      },
      "source": [
        "from sklearn.model_selection import train_test_split\n",
        "xtrain, xtest, ytrain, ytest = train_test_split( \n",
        "        logfeatures, logoutcomes, test_size = 0.25, random_state = 0) "
      ],
      "execution_count": 0,
      "outputs": []
    },
    {
      "cell_type": "code",
      "metadata": {
        "id": "4U38fO1pYXD9",
        "colab_type": "code",
        "colab": {}
      },
      "source": [
        "\"\"\"\n",
        "from sklearn.preprocessing import StandardScaler \n",
        "sc_x = StandardScaler() \n",
        "xtrain = sc_x.fit_transform(xtrain)  \n",
        "xtest = sc_x.transform(xtest) \n",
        "\n",
        "print(xtrain[0:10, :])\n",
        "\"\"\""
      ],
      "execution_count": 0,
      "outputs": []
    },
    {
      "cell_type": "code",
      "metadata": {
        "id": "r2nWAUxQZWYP",
        "colab_type": "code",
        "colab": {
          "base_uri": "https://localhost:8080/",
          "height": 188
        },
        "outputId": "413b01bb-5c00-4fd8-e1ef-789226301661"
      },
      "source": [
        "from sklearn.linear_model import LogisticRegression \n",
        "classifier = LogisticRegression(random_state = 0) \n",
        "classifier.fit(xtrain, ytrain) "
      ],
      "execution_count": 137,
      "outputs": [
        {
          "output_type": "stream",
          "text": [
            "/usr/local/lib/python3.6/dist-packages/sklearn/linear_model/logistic.py:432: FutureWarning: Default solver will be changed to 'lbfgs' in 0.22. Specify a solver to silence this warning.\n",
            "  FutureWarning)\n",
            "/usr/local/lib/python3.6/dist-packages/sklearn/utils/validation.py:724: DataConversionWarning: A column-vector y was passed when a 1d array was expected. Please change the shape of y to (n_samples, ), for example using ravel().\n",
            "  y = column_or_1d(y, warn=True)\n"
          ],
          "name": "stderr"
        },
        {
          "output_type": "execute_result",
          "data": {
            "text/plain": [
              "LogisticRegression(C=1.0, class_weight=None, dual=False, fit_intercept=True,\n",
              "                   intercept_scaling=1, l1_ratio=None, max_iter=100,\n",
              "                   multi_class='warn', n_jobs=None, penalty='l2',\n",
              "                   random_state=0, solver='warn', tol=0.0001, verbose=0,\n",
              "                   warm_start=False)"
            ]
          },
          "metadata": {
            "tags": []
          },
          "execution_count": 137
        }
      ]
    },
    {
      "cell_type": "code",
      "metadata": {
        "id": "FQmOetRqZZPW",
        "colab_type": "code",
        "colab": {}
      },
      "source": [
        "y_pred = classifier.predict(xtest) "
      ],
      "execution_count": 0,
      "outputs": []
    },
    {
      "cell_type": "code",
      "metadata": {
        "id": "KrRG5n19ZdTg",
        "colab_type": "code",
        "colab": {
          "base_uri": "https://localhost:8080/",
          "height": 67
        },
        "outputId": "8961759a-eda7-4e1f-aaf4-d07bcf30584e"
      },
      "source": [
        "from sklearn.metrics import confusion_matrix \n",
        "cm = confusion_matrix(ytest, y_pred) \n",
        "  \n",
        "print (\"Confusion Matrix : \\n\", cm)"
      ],
      "execution_count": 139,
      "outputs": [
        {
          "output_type": "stream",
          "text": [
            "Confusion Matrix : \n",
            " [[3285    2]\n",
            " [ 142    0]]\n"
          ],
          "name": "stdout"
        }
      ]
    },
    {
      "cell_type": "code",
      "metadata": {
        "id": "J81wg7yvZgip",
        "colab_type": "code",
        "colab": {
          "base_uri": "https://localhost:8080/",
          "height": 34
        },
        "outputId": "ae1354df-0f88-45eb-a17a-f40e58865e01"
      },
      "source": [
        "from sklearn.metrics import accuracy_score \n",
        "print (\"Accuracy : \", accuracy_score(ytest, y_pred)) "
      ],
      "execution_count": 140,
      "outputs": [
        {
          "output_type": "stream",
          "text": [
            "Accuracy :  0.958005249343832\n"
          ],
          "name": "stdout"
        }
      ]
    },
    {
      "cell_type": "code",
      "metadata": {
        "id": "S89K8FIq4CU0",
        "colab_type": "code",
        "colab": {
          "base_uri": "https://localhost:8080/",
          "height": 282
        },
        "outputId": "c41a8de7-a15e-4167-8465-6d73cc436b1c"
      },
      "source": [
        "sns.regplot(x=logfeatures[:,0], y=logoutcomes, data=books, logistic=True)\n"
      ],
      "execution_count": 145,
      "outputs": [
        {
          "output_type": "execute_result",
          "data": {
            "text/plain": [
              "<matplotlib.axes._subplots.AxesSubplot at 0x7f078d449ba8>"
            ]
          },
          "metadata": {
            "tags": []
          },
          "execution_count": 145
        },
        {
          "output_type": "display_data",
          "data": {
            "image/png": "[encoded data removed]",
            "text/plain": [
              "<Figure size 432x288 with 1 Axes>"
            ]
          },
          "metadata": {
            "tags": []
          }
        }
      ]
    },
    {
      "cell_type": "code",
      "metadata": {
        "id": "-K9Y5DlsfDud",
        "colab_type": "code",
        "colab": {}
      },
      "source": [
        ""
      ],
      "execution_count": 0,
      "outputs": []
    }
  ]
}