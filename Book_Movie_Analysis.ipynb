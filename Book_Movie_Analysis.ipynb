{
  "nbformat": 4,
  "nbformat_minor": 0,
  "metadata": {
    "colab": {
      "name": "Book/Movie Analysis.ipynb",
      "provenance": [],
      "include_colab_link": true
    },
    "kernelspec": {
      "name": "python3",
      "display_name": "Python 3"
    }
  },
  "cells": [
    {
      "cell_type": "markdown",
      "metadata": {
        "id": "view-in-github",
        "colab_type": "text"
      },
      "source": [
        "<a href=\"https://colab.research.google.com/github/noahjett/Movie-Goodreads-Analysis/blob/master/Book_Movie_Analysis.ipynb\" target=\"_parent\"><img src=\"https://colab.research.google.com/assets/colab-badge.svg\" alt=\"Open In Colab\"/></a>"
      ]
    },
    {
      "cell_type": "code",
      "metadata": {
        "id": "doX8HGMMqPJv",
        "colab_type": "code",
        "colab": {}
      },
      "source": [
        "import os\n",
        "import pandas as pd\n",
        "import matplotlib.pyplot as plt\n",
        "import seaborn as sns\n",
        "\n",
        "pd.options.display.float_format = '{:.2f}'.format"
      ],
      "execution_count": 0,
      "outputs": []
    },
    {
      "cell_type": "markdown",
      "metadata": {
        "id": "MbGjHkJDq52F",
        "colab_type": "text"
      },
      "source": [
        "### Dataset 1: Goodreads-books from Kaggle\n",
        "Pre-prepared dataset which aggregates book ratings and reviews from popular site 'Goodreads'\n",
        "\n",
        "### Dataset 2: TMDB 5000 Movie Dataset from Kaggle\n",
        "Data on 5000 movies scrabed from IMDB"
      ]
    },
    {
      "cell_type": "markdown",
      "metadata": {
        "id": "S1OeY1tGq0nP",
        "colab_type": "text"
      },
      "source": [
        "### Import Method: From Google Drive"
      ]
    },
    {
      "cell_type": "code",
      "metadata": {
        "id": "Y06KtUVkqRvW",
        "colab_type": "code",
        "colab": {
          "base_uri": "https://localhost:8080/",
          "height": 34
        },
        "outputId": "c5ffc89d-7738-4ecb-9636-4ef2e9955e31"
      },
      "source": [
        "from google.colab import drive\n",
        "drive.mount('/content/drive')\n"
      ],
      "execution_count": 72,
      "outputs": [
        {
          "output_type": "stream",
          "text": [
            "Drive already mounted at /content/drive; to attempt to forcibly remount, call drive.mount(\"/content/drive\", force_remount=True).\n"
          ],
          "name": "stdout"
        }
      ]
    },
    {
      "cell_type": "code",
      "metadata": {
        "id": "3VokIlj8qU_J",
        "colab_type": "code",
        "colab": {
          "base_uri": "https://localhost:8080/",
          "height": 54
        },
        "outputId": "a441e2fc-479c-4b33-cde1-e193ad9fd74a"
      },
      "source": [
        "path1 = \"/content/drive/My Drive/data/books.csv\"\n",
        "books = pd.read_csv(path1, error_bad_lines=False)\n",
        "\n",
        "path2 = \"/content/drive/My Drive/data/tmdb_5000_movies.csv\"\n",
        "movies = pd.read_csv(path2, error_bad_lines=False)\n"
      ],
      "execution_count": 73,
      "outputs": [
        {
          "output_type": "stream",
          "text": [
            "b'Skipping line 4012: expected 10 fields, saw 11\\nSkipping line 5688: expected 10 fields, saw 11\\nSkipping line 7056: expected 10 fields, saw 11\\nSkipping line 10601: expected 10 fields, saw 11\\nSkipping line 10668: expected 10 fields, saw 11\\n'\n"
          ],
          "name": "stderr"
        }
      ]
    },
    {
      "cell_type": "markdown",
      "metadata": {
        "id": "dA5pyQjprO1H",
        "colab_type": "text"
      },
      "source": [
        "### Goodreads: Check for Missing Values"
      ]
    },
    {
      "cell_type": "code",
      "metadata": {
        "id": "_6hvhR8yqu_n",
        "colab_type": "code",
        "colab": {
          "base_uri": "https://localhost:8080/",
          "height": 202
        },
        "outputId": "3d3c3ad8-e148-4619-e5ed-3d7b7d12d108"
      },
      "source": [
        "books.isna().sum()"
      ],
      "execution_count": 74,
      "outputs": [
        {
          "output_type": "execute_result",
          "data": {
            "text/plain": [
              "bookID                0\n",
              "title                 0\n",
              "authors               0\n",
              "average_rating        0\n",
              "isbn                  0\n",
              "isbn13                0\n",
              "language_code         0\n",
              "# num_pages           0\n",
              "ratings_count         0\n",
              "text_reviews_count    0\n",
              "dtype: int64"
            ]
          },
          "metadata": {
            "tags": []
          },
          "execution_count": 74
        }
      ]
    },
    {
      "cell_type": "markdown",
      "metadata": {
        "id": "3FrwTbrurWI0",
        "colab_type": "text"
      },
      "source": [
        "### Goodreads dataset has no missing values"
      ]
    },
    {
      "cell_type": "markdown",
      "metadata": {
        "id": "SkAHPtubQMff",
        "colab_type": "text"
      },
      "source": [
        "### Movies: Check for Missing Values"
      ]
    },
    {
      "cell_type": "code",
      "metadata": {
        "id": "NI_iD_puQF2_",
        "colab_type": "code",
        "colab": {
          "base_uri": "https://localhost:8080/",
          "height": 370
        },
        "outputId": "fcd8e811-6c9f-4231-dbbb-237ce24e14e3"
      },
      "source": [
        "movies.isna().sum()"
      ],
      "execution_count": 75,
      "outputs": [
        {
          "output_type": "execute_result",
          "data": {
            "text/plain": [
              "budget                     0\n",
              "genres                     0\n",
              "homepage                3091\n",
              "id                         0\n",
              "keywords                   0\n",
              "original_language          0\n",
              "original_title             0\n",
              "overview                   3\n",
              "popularity                 0\n",
              "production_companies       0\n",
              "production_countries       0\n",
              "release_date               1\n",
              "revenue                    0\n",
              "runtime                    2\n",
              "spoken_languages           0\n",
              "status                     0\n",
              "tagline                  844\n",
              "title                      0\n",
              "vote_average               0\n",
              "vote_count                 0\n",
              "dtype: int64"
            ]
          },
          "metadata": {
            "tags": []
          },
          "execution_count": 75
        }
      ]
    },
    {
      "cell_type": "markdown",
      "metadata": {
        "id": "NEUmvTq_QQYN",
        "colab_type": "text"
      },
      "source": [
        "We see that the 'homepage' and 'tagline' fields are empty for many entries, but these are values we are not concerned with. \n",
        "\n",
        "There are also a few (<=3) for other fields, but since they are so few these can likely be dropped with no effect."
      ]
    },
    {
      "cell_type": "code",
      "metadata": {
        "id": "LubAVYZWrUjc",
        "colab_type": "code",
        "colab": {
          "base_uri": "https://localhost:8080/",
          "height": 461
        },
        "outputId": "ba347222-7d83-43a4-e103-492663f48bc4"
      },
      "source": [
        "books.head(10)"
      ],
      "execution_count": 76,
      "outputs": [
        {
          "output_type": "execute_result",
          "data": {
            "text/html": [
              "<div>\n",
              "<style scoped>\n",
              "    .dataframe tbody tr th:only-of-type {\n",
              "        vertical-align: middle;\n",
              "    }\n",
              "\n",
              "    .dataframe tbody tr th {\n",
              "        vertical-align: top;\n",
              "    }\n",
              "\n",
              "    .dataframe thead th {\n",
              "        text-align: right;\n",
              "    }\n",
              "</style>\n",
              "<table border=\"1\" class=\"dataframe\">\n",
              "  <thead>\n",
              "    <tr style=\"text-align: right;\">\n",
              "      <th></th>\n",
              "      <th>bookID</th>\n",
              "      <th>title</th>\n",
              "      <th>authors</th>\n",
              "      <th>average_rating</th>\n",
              "      <th>isbn</th>\n",
              "      <th>isbn13</th>\n",
              "      <th>language_code</th>\n",
              "      <th># num_pages</th>\n",
              "      <th>ratings_count</th>\n",
              "      <th>text_reviews_count</th>\n",
              "    </tr>\n",
              "  </thead>\n",
              "  <tbody>\n",
              "    <tr>\n",
              "      <th>0</th>\n",
              "      <td>1</td>\n",
              "      <td>Harry Potter and the Half-Blood Prince (Harry ...</td>\n",
              "      <td>J.K. Rowling-Mary GrandPré</td>\n",
              "      <td>4.56</td>\n",
              "      <td>0439785960</td>\n",
              "      <td>9780439785969</td>\n",
              "      <td>eng</td>\n",
              "      <td>652</td>\n",
              "      <td>1944099</td>\n",
              "      <td>26249</td>\n",
              "    </tr>\n",
              "    <tr>\n",
              "      <th>1</th>\n",
              "      <td>2</td>\n",
              "      <td>Harry Potter and the Order of the Phoenix (Har...</td>\n",
              "      <td>J.K. Rowling-Mary GrandPré</td>\n",
              "      <td>4.49</td>\n",
              "      <td>0439358078</td>\n",
              "      <td>9780439358071</td>\n",
              "      <td>eng</td>\n",
              "      <td>870</td>\n",
              "      <td>1996446</td>\n",
              "      <td>27613</td>\n",
              "    </tr>\n",
              "    <tr>\n",
              "      <th>2</th>\n",
              "      <td>3</td>\n",
              "      <td>Harry Potter and the Sorcerer's Stone (Harry P...</td>\n",
              "      <td>J.K. Rowling-Mary GrandPré</td>\n",
              "      <td>4.47</td>\n",
              "      <td>0439554934</td>\n",
              "      <td>9780439554930</td>\n",
              "      <td>eng</td>\n",
              "      <td>320</td>\n",
              "      <td>5629932</td>\n",
              "      <td>70390</td>\n",
              "    </tr>\n",
              "    <tr>\n",
              "      <th>3</th>\n",
              "      <td>4</td>\n",
              "      <td>Harry Potter and the Chamber of Secrets (Harry...</td>\n",
              "      <td>J.K. Rowling</td>\n",
              "      <td>4.41</td>\n",
              "      <td>0439554896</td>\n",
              "      <td>9780439554893</td>\n",
              "      <td>eng</td>\n",
              "      <td>352</td>\n",
              "      <td>6267</td>\n",
              "      <td>272</td>\n",
              "    </tr>\n",
              "    <tr>\n",
              "      <th>4</th>\n",
              "      <td>5</td>\n",
              "      <td>Harry Potter and the Prisoner of Azkaban (Harr...</td>\n",
              "      <td>J.K. Rowling-Mary GrandPré</td>\n",
              "      <td>4.55</td>\n",
              "      <td>043965548X</td>\n",
              "      <td>9780439655484</td>\n",
              "      <td>eng</td>\n",
              "      <td>435</td>\n",
              "      <td>2149872</td>\n",
              "      <td>33964</td>\n",
              "    </tr>\n",
              "    <tr>\n",
              "      <th>5</th>\n",
              "      <td>8</td>\n",
              "      <td>Harry Potter Boxed Set  Books 1-5 (Harry Potte...</td>\n",
              "      <td>J.K. Rowling-Mary GrandPré</td>\n",
              "      <td>4.78</td>\n",
              "      <td>0439682584</td>\n",
              "      <td>9780439682589</td>\n",
              "      <td>eng</td>\n",
              "      <td>2690</td>\n",
              "      <td>38872</td>\n",
              "      <td>154</td>\n",
              "    </tr>\n",
              "    <tr>\n",
              "      <th>6</th>\n",
              "      <td>9</td>\n",
              "      <td>Unauthorized Harry Potter Book Seven News: \"Ha...</td>\n",
              "      <td>W. Frederick Zimmerman</td>\n",
              "      <td>3.69</td>\n",
              "      <td>0976540606</td>\n",
              "      <td>9780976540601</td>\n",
              "      <td>en-US</td>\n",
              "      <td>152</td>\n",
              "      <td>18</td>\n",
              "      <td>1</td>\n",
              "    </tr>\n",
              "    <tr>\n",
              "      <th>7</th>\n",
              "      <td>10</td>\n",
              "      <td>Harry Potter Collection (Harry Potter  #1-6)</td>\n",
              "      <td>J.K. Rowling</td>\n",
              "      <td>4.73</td>\n",
              "      <td>0439827604</td>\n",
              "      <td>9780439827607</td>\n",
              "      <td>eng</td>\n",
              "      <td>3342</td>\n",
              "      <td>27410</td>\n",
              "      <td>820</td>\n",
              "    </tr>\n",
              "    <tr>\n",
              "      <th>8</th>\n",
              "      <td>12</td>\n",
              "      <td>The Ultimate Hitchhiker's Guide: Five Complete...</td>\n",
              "      <td>Douglas Adams</td>\n",
              "      <td>4.38</td>\n",
              "      <td>0517226952</td>\n",
              "      <td>9780517226957</td>\n",
              "      <td>eng</td>\n",
              "      <td>815</td>\n",
              "      <td>3602</td>\n",
              "      <td>258</td>\n",
              "    </tr>\n",
              "    <tr>\n",
              "      <th>9</th>\n",
              "      <td>13</td>\n",
              "      <td>The Ultimate Hitchhiker's Guide to the Galaxy</td>\n",
              "      <td>Douglas Adams</td>\n",
              "      <td>4.38</td>\n",
              "      <td>0345453743</td>\n",
              "      <td>9780345453747</td>\n",
              "      <td>eng</td>\n",
              "      <td>815</td>\n",
              "      <td>240189</td>\n",
              "      <td>3954</td>\n",
              "    </tr>\n",
              "  </tbody>\n",
              "</table>\n",
              "</div>"
            ],
            "text/plain": [
              "   bookID  ... text_reviews_count\n",
              "0       1  ...              26249\n",
              "1       2  ...              27613\n",
              "2       3  ...              70390\n",
              "3       4  ...                272\n",
              "4       5  ...              33964\n",
              "5       8  ...                154\n",
              "6       9  ...                  1\n",
              "7      10  ...                820\n",
              "8      12  ...                258\n",
              "9      13  ...               3954\n",
              "\n",
              "[10 rows x 10 columns]"
            ]
          },
          "metadata": {
            "tags": []
          },
          "execution_count": 76
        }
      ]
    },
    {
      "cell_type": "markdown",
      "metadata": {
        "id": "HZ3eagQcrsUq",
        "colab_type": "text"
      },
      "source": [
        "### Notice how there are several formats for J.K. Rowling's name, and at least two language codes for English (eng & en-US)\n",
        "\n",
        "### Implies some cleaning will need to be done"
      ]
    },
    {
      "cell_type": "code",
      "metadata": {
        "id": "wBeTX2ZErjGn",
        "colab_type": "code",
        "colab": {
          "base_uri": "https://localhost:8080/",
          "height": 269
        },
        "outputId": "28e9bf50-9cba-4d7b-fb02-c95e0cdbd15f"
      },
      "source": [
        "books.info()"
      ],
      "execution_count": 77,
      "outputs": [
        {
          "output_type": "stream",
          "text": [
            "<class 'pandas.core.frame.DataFrame'>\n",
            "RangeIndex: 13714 entries, 0 to 13713\n",
            "Data columns (total 10 columns):\n",
            "bookID                13714 non-null int64\n",
            "title                 13714 non-null object\n",
            "authors               13714 non-null object\n",
            "average_rating        13714 non-null float64\n",
            "isbn                  13714 non-null object\n",
            "isbn13                13714 non-null int64\n",
            "language_code         13714 non-null object\n",
            "# num_pages           13714 non-null int64\n",
            "ratings_count         13714 non-null int64\n",
            "text_reviews_count    13714 non-null int64\n",
            "dtypes: float64(1), int64(5), object(4)\n",
            "memory usage: 1.0+ MB\n"
          ],
          "name": "stdout"
        }
      ]
    },
    {
      "cell_type": "code",
      "metadata": {
        "id": "_KZC7i6Cr62j",
        "colab_type": "code",
        "colab": {
          "base_uri": "https://localhost:8080/",
          "height": 225
        },
        "outputId": "4d5d4433-b3ca-4e64-e0aa-ade8c2426783"
      },
      "source": [
        "books.describe().T"
      ],
      "execution_count": 92,
      "outputs": [
        {
          "output_type": "execute_result",
          "data": {
            "text/html": [
              "<div>\n",
              "<style scoped>\n",
              "    .dataframe tbody tr th:only-of-type {\n",
              "        vertical-align: middle;\n",
              "    }\n",
              "\n",
              "    .dataframe tbody tr th {\n",
              "        vertical-align: top;\n",
              "    }\n",
              "\n",
              "    .dataframe thead th {\n",
              "        text-align: right;\n",
              "    }\n",
              "</style>\n",
              "<table border=\"1\" class=\"dataframe\">\n",
              "  <thead>\n",
              "    <tr style=\"text-align: right;\">\n",
              "      <th></th>\n",
              "      <th>count</th>\n",
              "      <th>mean</th>\n",
              "      <th>std</th>\n",
              "      <th>min</th>\n",
              "      <th>25%</th>\n",
              "      <th>50%</th>\n",
              "      <th>75%</th>\n",
              "      <th>max</th>\n",
              "    </tr>\n",
              "  </thead>\n",
              "  <tbody>\n",
              "    <tr>\n",
              "      <th>bookID</th>\n",
              "      <td>13714.00</td>\n",
              "      <td>22159.86</td>\n",
              "      <td>13700.93</td>\n",
              "      <td>1.00</td>\n",
              "      <td>10619.25</td>\n",
              "      <td>21321.50</td>\n",
              "      <td>33311.75</td>\n",
              "      <td>47709.00</td>\n",
              "    </tr>\n",
              "    <tr>\n",
              "      <th>average_rating</th>\n",
              "      <td>13714.00</td>\n",
              "      <td>3.93</td>\n",
              "      <td>0.36</td>\n",
              "      <td>0.00</td>\n",
              "      <td>3.77</td>\n",
              "      <td>3.96</td>\n",
              "      <td>4.13</td>\n",
              "      <td>5.00</td>\n",
              "    </tr>\n",
              "    <tr>\n",
              "      <th>isbn13</th>\n",
              "      <td>13714.00</td>\n",
              "      <td>9764017227989.42</td>\n",
              "      <td>398767945696.43</td>\n",
              "      <td>8987059752.00</td>\n",
              "      <td>9780345473276.50</td>\n",
              "      <td>9780613030131.00</td>\n",
              "      <td>9780940450710.00</td>\n",
              "      <td>9790007672386.00</td>\n",
              "    </tr>\n",
              "    <tr>\n",
              "      <th># num_pages</th>\n",
              "      <td>13714.00</td>\n",
              "      <td>342.40</td>\n",
              "      <td>252.65</td>\n",
              "      <td>0.00</td>\n",
              "      <td>196.00</td>\n",
              "      <td>301.00</td>\n",
              "      <td>421.00</td>\n",
              "      <td>6576.00</td>\n",
              "    </tr>\n",
              "    <tr>\n",
              "      <th>ratings_count</th>\n",
              "      <td>13714.00</td>\n",
              "      <td>17765.40</td>\n",
              "      <td>112957.23</td>\n",
              "      <td>0.00</td>\n",
              "      <td>83.00</td>\n",
              "      <td>630.50</td>\n",
              "      <td>4742.25</td>\n",
              "      <td>5629932.00</td>\n",
              "    </tr>\n",
              "    <tr>\n",
              "      <th>text_reviews_count</th>\n",
              "      <td>13714.00</td>\n",
              "      <td>533.63</td>\n",
              "      <td>2529.01</td>\n",
              "      <td>0.00</td>\n",
              "      <td>7.00</td>\n",
              "      <td>40.00</td>\n",
              "      <td>222.00</td>\n",
              "      <td>93619.00</td>\n",
              "    </tr>\n",
              "  </tbody>\n",
              "</table>\n",
              "</div>"
            ],
            "text/plain": [
              "                      count             mean  ...              75%              max\n",
              "bookID             13714.00         22159.86  ...         33311.75         47709.00\n",
              "average_rating     13714.00             3.93  ...             4.13             5.00\n",
              "isbn13             13714.00 9764017227989.42  ... 9780940450710.00 9790007672386.00\n",
              "# num_pages        13714.00           342.40  ...           421.00          6576.00\n",
              "ratings_count      13714.00         17765.40  ...          4742.25       5629932.00\n",
              "text_reviews_count 13714.00           533.63  ...           222.00         93619.00\n",
              "\n",
              "[6 rows x 8 columns]"
            ]
          },
          "metadata": {
            "tags": []
          },
          "execution_count": 92
        }
      ]
    },
    {
      "cell_type": "markdown",
      "metadata": {
        "id": "Yl70S8rEZnta",
        "colab_type": "text"
      },
      "source": [
        "### What authors have published the most books?"
      ]
    },
    {
      "cell_type": "code",
      "metadata": {
        "id": "w5c54ZSmYS0Q",
        "colab_type": "code",
        "colab": {
          "base_uri": "https://localhost:8080/",
          "height": 343
        },
        "outputId": "8858f6cf-b058-4b41-cea5-0dd9485a8bda"
      },
      "source": [
        "most_published_authors = books['authors'].value_counts()[:10]\n",
        "mostcounts = most_published_authors.reset_index()\n",
        "mostcounts\n"
      ],
      "execution_count": 79,
      "outputs": [
        {
          "output_type": "execute_result",
          "data": {
            "text/html": [
              "<div>\n",
              "<style scoped>\n",
              "    .dataframe tbody tr th:only-of-type {\n",
              "        vertical-align: middle;\n",
              "    }\n",
              "\n",
              "    .dataframe tbody tr th {\n",
              "        vertical-align: top;\n",
              "    }\n",
              "\n",
              "    .dataframe thead th {\n",
              "        text-align: right;\n",
              "    }\n",
              "</style>\n",
              "<table border=\"1\" class=\"dataframe\">\n",
              "  <thead>\n",
              "    <tr style=\"text-align: right;\">\n",
              "      <th></th>\n",
              "      <th>index</th>\n",
              "      <th>authors</th>\n",
              "    </tr>\n",
              "  </thead>\n",
              "  <tbody>\n",
              "    <tr>\n",
              "      <th>0</th>\n",
              "      <td>Agatha Christie</td>\n",
              "      <td>69</td>\n",
              "    </tr>\n",
              "    <tr>\n",
              "      <th>1</th>\n",
              "      <td>Stephen King</td>\n",
              "      <td>66</td>\n",
              "    </tr>\n",
              "    <tr>\n",
              "      <th>2</th>\n",
              "      <td>Orson Scott Card</td>\n",
              "      <td>48</td>\n",
              "    </tr>\n",
              "    <tr>\n",
              "      <th>3</th>\n",
              "      <td>Rumiko Takahashi</td>\n",
              "      <td>46</td>\n",
              "    </tr>\n",
              "    <tr>\n",
              "      <th>4</th>\n",
              "      <td>P.G. Wodehouse</td>\n",
              "      <td>42</td>\n",
              "    </tr>\n",
              "    <tr>\n",
              "      <th>5</th>\n",
              "      <td>Terry Brooks</td>\n",
              "      <td>40</td>\n",
              "    </tr>\n",
              "    <tr>\n",
              "      <th>6</th>\n",
              "      <td>Piers Anthony</td>\n",
              "      <td>34</td>\n",
              "    </tr>\n",
              "    <tr>\n",
              "      <th>7</th>\n",
              "      <td>Margaret Weis-Tracy Hickman</td>\n",
              "      <td>33</td>\n",
              "    </tr>\n",
              "    <tr>\n",
              "      <th>8</th>\n",
              "      <td>Dan Simmons</td>\n",
              "      <td>32</td>\n",
              "    </tr>\n",
              "    <tr>\n",
              "      <th>9</th>\n",
              "      <td>Gabriel García Márquez</td>\n",
              "      <td>31</td>\n",
              "    </tr>\n",
              "  </tbody>\n",
              "</table>\n",
              "</div>"
            ],
            "text/plain": [
              "                         index  authors\n",
              "0              Agatha Christie       69\n",
              "1                 Stephen King       66\n",
              "2             Orson Scott Card       48\n",
              "3             Rumiko Takahashi       46\n",
              "4               P.G. Wodehouse       42\n",
              "5                 Terry Brooks       40\n",
              "6                Piers Anthony       34\n",
              "7  Margaret Weis-Tracy Hickman       33\n",
              "8                  Dan Simmons       32\n",
              "9       Gabriel García Márquez       31"
            ]
          },
          "metadata": {
            "tags": []
          },
          "execution_count": 79
        }
      ]
    },
    {
      "cell_type": "code",
      "metadata": {
        "id": "sAKjC8-UZRIt",
        "colab_type": "code",
        "colab": {
          "base_uri": "https://localhost:8080/",
          "height": 374
        },
        "outputId": "32825203-aa2c-464b-e8ef-d9f5d42527f3"
      },
      "source": [
        "authorplot = sns.barplot(x = 'index',y='authors', data=mostcounts, palette=\"pastel\")\n",
        "authorplot.set_xticklabels(authorplot.get_xticklabels(), rotation=40, ha=\"right\")\n",
        "authorplot.set(xlabel='Author', ylabel='Frequency')\n",
        "plt.show()"
      ],
      "execution_count": 80,
      "outputs": [
        {
          "output_type": "display_data",
          "data": {
            "image/png": "[encoded data removed]",
            "text/plain": [
              "<Figure size 432x288 with 1 Axes>"
            ]
          },
          "metadata": {
            "tags": []
          }
        }
      ]
    },
    {
      "cell_type": "markdown",
      "metadata": {
        "id": "ml81FGXKZxDQ",
        "colab_type": "text"
      },
      "source": [
        "### What are the 25 highest rated books?"
      ]
    },
    {
      "cell_type": "code",
      "metadata": {
        "id": "WFl4RqP7Zz8i",
        "colab_type": "code",
        "colab": {
          "base_uri": "https://localhost:8080/",
          "height": 402
        },
        "outputId": "0c563b4e-5c32-4b7f-fd79-6b67414b72ae"
      },
      "source": [
        "# Do with groupby?\n",
        "\n",
        "highest_rated_all = books.sort_values('average_rating', ascending=False)[:100]\n",
        "highest_rated_books = highest_rated_all[['title', 'authors', 'average_rating', 'ratings_count', 'text_reviews_count']]\n",
        "highest_rated_books\n"
      ],
      "execution_count": 110,
      "outputs": [
        {
          "output_type": "execute_result",
          "data": {
            "text/html": [
              "<div>\n",
              "<style scoped>\n",
              "    .dataframe tbody tr th:only-of-type {\n",
              "        vertical-align: middle;\n",
              "    }\n",
              "\n",
              "    .dataframe tbody tr th {\n",
              "        vertical-align: top;\n",
              "    }\n",
              "\n",
              "    .dataframe thead th {\n",
              "        text-align: right;\n",
              "    }\n",
              "</style>\n",
              "<table border=\"1\" class=\"dataframe\">\n",
              "  <thead>\n",
              "    <tr style=\"text-align: right;\">\n",
              "      <th></th>\n",
              "      <th>title</th>\n",
              "      <th>authors</th>\n",
              "      <th>average_rating</th>\n",
              "      <th>ratings_count</th>\n",
              "      <th>text_reviews_count</th>\n",
              "    </tr>\n",
              "  </thead>\n",
              "  <tbody>\n",
              "    <tr>\n",
              "      <th>6077</th>\n",
              "      <td>The Complete Theory Fun Factory: Music Theory ...</td>\n",
              "      <td>Ian        Martin-Katie Elliott</td>\n",
              "      <td>5.00</td>\n",
              "      <td>1</td>\n",
              "      <td>0</td>\n",
              "    </tr>\n",
              "    <tr>\n",
              "      <th>4939</th>\n",
              "      <td>Zone of the Enders: The 2nd Runner Official St...</td>\n",
              "      <td>Tim Bogenn</td>\n",
              "      <td>5.00</td>\n",
              "      <td>2</td>\n",
              "      <td>0</td>\n",
              "    </tr>\n",
              "    <tr>\n",
              "      <th>963</th>\n",
              "      <td>Literature Circle Guide: Bridge to Terabithia:...</td>\n",
              "      <td>Tara MacCarthy</td>\n",
              "      <td>5.00</td>\n",
              "      <td>4</td>\n",
              "      <td>1</td>\n",
              "    </tr>\n",
              "    <tr>\n",
              "      <th>7506</th>\n",
              "      <td>The New Big Book of America</td>\n",
              "      <td>Todd Davis-Marc Frey</td>\n",
              "      <td>5.00</td>\n",
              "      <td>2</td>\n",
              "      <td>1</td>\n",
              "    </tr>\n",
              "    <tr>\n",
              "      <th>11067</th>\n",
              "      <td>Bubbles in the Middle (The Powerpuff Girls Plu...</td>\n",
              "      <td>Aaron Rosenberg-Christopher Cook</td>\n",
              "      <td>5.00</td>\n",
              "      <td>5</td>\n",
              "      <td>0</td>\n",
              "    </tr>\n",
              "    <tr>\n",
              "      <th>...</th>\n",
              "      <td>...</td>\n",
              "      <td>...</td>\n",
              "      <td>...</td>\n",
              "      <td>...</td>\n",
              "      <td>...</td>\n",
              "    </tr>\n",
              "    <tr>\n",
              "      <th>13708</th>\n",
              "      <td>The Sandman: King of Dreams</td>\n",
              "      <td>Alisa Kwitney-Neil Gaiman</td>\n",
              "      <td>4.62</td>\n",
              "      <td>12775</td>\n",
              "      <td>34</td>\n",
              "    </tr>\n",
              "    <tr>\n",
              "      <th>11218</th>\n",
              "      <td>Organizational Architecture: Designs for Chang...</td>\n",
              "      <td>David A. Nadler-Robert B. Shaw-Marc S. Gerstein</td>\n",
              "      <td>4.62</td>\n",
              "      <td>2</td>\n",
              "      <td>0</td>\n",
              "    </tr>\n",
              "    <tr>\n",
              "      <th>10721</th>\n",
              "      <td>The Feynman Lectures on Physics Vol 2</td>\n",
              "      <td>Richard P. Feynman-Robert B. Leighton-Matthew ...</td>\n",
              "      <td>4.61</td>\n",
              "      <td>17</td>\n",
              "      <td>2</td>\n",
              "    </tr>\n",
              "    <tr>\n",
              "      <th>7555</th>\n",
              "      <td>Nausicaä de la vallée du vent  tome 5</td>\n",
              "      <td>Hayao Miyazaki</td>\n",
              "      <td>4.61</td>\n",
              "      <td>55</td>\n",
              "      <td>3</td>\n",
              "    </tr>\n",
              "    <tr>\n",
              "      <th>6501</th>\n",
              "      <td>A Guide to the Words of My Perfect Teacher</td>\n",
              "      <td>Ngawang Pelzang-Padmakara Translation Group-Pa...</td>\n",
              "      <td>4.61</td>\n",
              "      <td>79</td>\n",
              "      <td>0</td>\n",
              "    </tr>\n",
              "  </tbody>\n",
              "</table>\n",
              "<p>100 rows × 5 columns</p>\n",
              "</div>"
            ],
            "text/plain": [
              "                                                   title  ... text_reviews_count\n",
              "6077   The Complete Theory Fun Factory: Music Theory ...  ...                  0\n",
              "4939   Zone of the Enders: The 2nd Runner Official St...  ...                  0\n",
              "963    Literature Circle Guide: Bridge to Terabithia:...  ...                  1\n",
              "7506                         The New Big Book of America  ...                  1\n",
              "11067  Bubbles in the Middle (The Powerpuff Girls Plu...  ...                  0\n",
              "...                                                  ...  ...                ...\n",
              "13708                        The Sandman: King of Dreams  ...                 34\n",
              "11218  Organizational Architecture: Designs for Chang...  ...                  0\n",
              "10721              The Feynman Lectures on Physics Vol 2  ...                  2\n",
              "7555               Nausicaä de la vallée du vent  tome 5  ...                  3\n",
              "6501          A Guide to the Words of My Perfect Teacher  ...                  0\n",
              "\n",
              "[100 rows x 5 columns]"
            ]
          },
          "metadata": {
            "tags": []
          },
          "execution_count": 110
        }
      ]
    },
    {
      "cell_type": "markdown",
      "metadata": {
        "id": "vEMO-kLiFtdl",
        "colab_type": "text"
      },
      "source": [
        "### The above cell showed an important detail, that not all entries have the same amount of reviews\n",
        "\n",
        "### Let's see what the highest rated books with at least 100 reviews are"
      ]
    },
    {
      "cell_type": "code",
      "metadata": {
        "id": "h_D-P8DjF7f4",
        "colab_type": "code",
        "colab": {
          "base_uri": "https://localhost:8080/",
          "height": 343
        },
        "outputId": "90385b55-a26c-49c0-e3c4-e16146afed80"
      },
      "source": [
        "highest_with_hundred = highest_rated_all[highest_rated_all['ratings_count'] >= 100][:10]\n",
        "highest_with_hundred = highest_with_hundred[['title', 'authors', 'average_rating', 'ratings_count']]\n",
        "\n",
        "fave_cols = highest_with_hundred[['title', 'average_rating']]\n",
        "\n",
        "highest_with_hundred"
      ],
      "execution_count": 115,
      "outputs": [
        {
          "output_type": "execute_result",
          "data": {
            "text/html": [
              "<div>\n",
              "<style scoped>\n",
              "    .dataframe tbody tr th:only-of-type {\n",
              "        vertical-align: middle;\n",
              "    }\n",
              "\n",
              "    .dataframe tbody tr th {\n",
              "        vertical-align: top;\n",
              "    }\n",
              "\n",
              "    .dataframe thead th {\n",
              "        text-align: right;\n",
              "    }\n",
              "</style>\n",
              "<table border=\"1\" class=\"dataframe\">\n",
              "  <thead>\n",
              "    <tr style=\"text-align: right;\">\n",
              "      <th></th>\n",
              "      <th>title</th>\n",
              "      <th>authors</th>\n",
              "      <th>average_rating</th>\n",
              "      <th>ratings_count</th>\n",
              "    </tr>\n",
              "  </thead>\n",
              "  <tbody>\n",
              "    <tr>\n",
              "      <th>7922</th>\n",
              "      <td>The Complete Calvin and Hobbes</td>\n",
              "      <td>Bill Watterson</td>\n",
              "      <td>4.82</td>\n",
              "      <td>31249</td>\n",
              "    </tr>\n",
              "    <tr>\n",
              "      <th>5</th>\n",
              "      <td>Harry Potter Boxed Set  Books 1-5 (Harry Potte...</td>\n",
              "      <td>J.K. Rowling-Mary GrandPré</td>\n",
              "      <td>4.78</td>\n",
              "      <td>38872</td>\n",
              "    </tr>\n",
              "    <tr>\n",
              "      <th>8400</th>\n",
              "      <td>It's A Magical World</td>\n",
              "      <td>Bill Watterson</td>\n",
              "      <td>4.76</td>\n",
              "      <td>138</td>\n",
              "    </tr>\n",
              "    <tr>\n",
              "      <th>7924</th>\n",
              "      <td>It's a Magical World (Calvin and Hobbes #11)</td>\n",
              "      <td>Bill Watterson</td>\n",
              "      <td>4.76</td>\n",
              "      <td>23336</td>\n",
              "    </tr>\n",
              "    <tr>\n",
              "      <th>7925</th>\n",
              "      <td>The Indispensable Calvin and Hobbes</td>\n",
              "      <td>Bill Watterson</td>\n",
              "      <td>4.74</td>\n",
              "      <td>15641</td>\n",
              "    </tr>\n",
              "    <tr>\n",
              "      <th>7</th>\n",
              "      <td>Harry Potter Collection (Harry Potter  #1-6)</td>\n",
              "      <td>J.K. Rowling</td>\n",
              "      <td>4.73</td>\n",
              "      <td>27410</td>\n",
              "    </tr>\n",
              "    <tr>\n",
              "      <th>2182</th>\n",
              "      <td>Early Color</td>\n",
              "      <td>Saul Leiter-Martin Harrison</td>\n",
              "      <td>4.73</td>\n",
              "      <td>114</td>\n",
              "    </tr>\n",
              "    <tr>\n",
              "      <th>7926</th>\n",
              "      <td>Homicidal Psycho Jungle Cat (Calvin and Hobbes...</td>\n",
              "      <td>Bill Watterson</td>\n",
              "      <td>4.72</td>\n",
              "      <td>14952</td>\n",
              "    </tr>\n",
              "    <tr>\n",
              "      <th>7930</th>\n",
              "      <td>Calvin and Hobbes: Sunday Pages 1985-1995: An ...</td>\n",
              "      <td>Bill Watterson</td>\n",
              "      <td>4.71</td>\n",
              "      <td>3537</td>\n",
              "    </tr>\n",
              "    <tr>\n",
              "      <th>12976</th>\n",
              "      <td>The Price of the Ticket: Collected Nonfiction ...</td>\n",
              "      <td>James Baldwin</td>\n",
              "      <td>4.70</td>\n",
              "      <td>396</td>\n",
              "    </tr>\n",
              "  </tbody>\n",
              "</table>\n",
              "</div>"
            ],
            "text/plain": [
              "                                                   title  ... ratings_count\n",
              "7922                      The Complete Calvin and Hobbes  ...         31249\n",
              "5      Harry Potter Boxed Set  Books 1-5 (Harry Potte...  ...         38872\n",
              "8400                                It's A Magical World  ...           138\n",
              "7924        It's a Magical World (Calvin and Hobbes #11)  ...         23336\n",
              "7925                 The Indispensable Calvin and Hobbes  ...         15641\n",
              "7           Harry Potter Collection (Harry Potter  #1-6)  ...         27410\n",
              "2182                                         Early Color  ...           114\n",
              "7926   Homicidal Psycho Jungle Cat (Calvin and Hobbes...  ...         14952\n",
              "7930   Calvin and Hobbes: Sunday Pages 1985-1995: An ...  ...          3537\n",
              "12976  The Price of the Ticket: Collected Nonfiction ...  ...           396\n",
              "\n",
              "[10 rows x 4 columns]"
            ]
          },
          "metadata": {
            "tags": []
          },
          "execution_count": 115
        }
      ]
    },
    {
      "cell_type": "markdown",
      "metadata": {
        "id": "6g9dkpBrG_lE",
        "colab_type": "text"
      },
      "source": [
        "### The world really likes Calvin and Hobbes"
      ]
    },
    {
      "cell_type": "code",
      "metadata": {
        "id": "ZuNm7UTDHtDM",
        "colab_type": "code",
        "colab": {
          "base_uri": "https://localhost:8080/",
          "height": 506
        },
        "outputId": "f1b1f97c-0e6b-404b-ebd1-6370f5648c99"
      },
      "source": [
        "favebookplot = sns.barplot(x = 'title',y='average_rating', data=fave_cols, palette=\"pastel\")\n",
        "favebookplot.set_xticklabels(favebookplot.get_xticklabels(), rotation=40, ha=\"right\")\n",
        "favebookplot.set(xlabel='Book', ylabel='Rating')\n",
        "plt.show()"
      ],
      "execution_count": 116,
      "outputs": [
        {
          "output_type": "display_data",
          "data": {
            "image/png": "[encoded data removed]",
            "text/plain": [
              "<Figure size 432x288 with 1 Axes>"
            ]
          },
          "metadata": {
            "tags": []
          }
        }
      ]
    },
    {
      "cell_type": "code",
      "metadata": {
        "id": "JI8nI0AyJvZC",
        "colab_type": "code",
        "colab": {
          "base_uri": "https://localhost:8080/",
          "height": 134
        },
        "outputId": "5fb74e55-5278-474f-e1a9-cdb1d5bd1f63"
      },
      "source": [
        "books.corr()['average_rating']"
      ],
      "execution_count": 121,
      "outputs": [
        {
          "output_type": "execute_result",
          "data": {
            "text/plain": [
              "bookID               -0.04\n",
              "average_rating        1.00\n",
              "isbn13                0.00\n",
              "# num_pages           0.17\n",
              "ratings_count         0.04\n",
              "text_reviews_count    0.04\n",
              "Name: average_rating, dtype: float64"
            ]
          },
          "metadata": {
            "tags": []
          },
          "execution_count": 121
        }
      ]
    },
    {
      "cell_type": "code",
      "metadata": {
        "id": "DqLs-7XMQybY",
        "colab_type": "code",
        "colab": {
          "base_uri": "https://localhost:8080/",
          "height": 437
        },
        "outputId": "c3d09b32-8d05-4a71-e663-ae4a233f38a7"
      },
      "source": [
        "movies.info()"
      ],
      "execution_count": 82,
      "outputs": [
        {
          "output_type": "stream",
          "text": [
            "<class 'pandas.core.frame.DataFrame'>\n",
            "RangeIndex: 4803 entries, 0 to 4802\n",
            "Data columns (total 20 columns):\n",
            "budget                  4803 non-null int64\n",
            "genres                  4803 non-null object\n",
            "homepage                1712 non-null object\n",
            "id                      4803 non-null int64\n",
            "keywords                4803 non-null object\n",
            "original_language       4803 non-null object\n",
            "original_title          4803 non-null object\n",
            "overview                4800 non-null object\n",
            "popularity              4803 non-null float64\n",
            "production_companies    4803 non-null object\n",
            "production_countries    4803 non-null object\n",
            "release_date            4802 non-null object\n",
            "revenue                 4803 non-null int64\n",
            "runtime                 4801 non-null float64\n",
            "spoken_languages        4803 non-null object\n",
            "status                  4803 non-null object\n",
            "tagline                 3959 non-null object\n",
            "title                   4803 non-null object\n",
            "vote_average            4803 non-null float64\n",
            "vote_count              4803 non-null int64\n",
            "dtypes: float64(3), int64(4), object(13)\n",
            "memory usage: 750.6+ KB\n"
          ],
          "name": "stdout"
        }
      ]
    },
    {
      "cell_type": "code",
      "metadata": {
        "id": "VcViWXsAQrX7",
        "colab_type": "code",
        "colab": {
          "base_uri": "https://localhost:8080/",
          "height": 34
        },
        "outputId": "665017ae-018d-444c-baf3-742ece46c199"
      },
      "source": [
        "movies.head(10)\n",
        ";"
      ],
      "execution_count": 83,
      "outputs": [
        {
          "output_type": "execute_result",
          "data": {
            "text/plain": [
              "''"
            ]
          },
          "metadata": {
            "tags": []
          },
          "execution_count": 83
        }
      ]
    },
    {
      "cell_type": "code",
      "metadata": {
        "id": "olT9Mgwkr8QI",
        "colab_type": "code",
        "colab": {
          "base_uri": "https://localhost:8080/",
          "height": 254
        },
        "outputId": "6555ad25-f366-4cf0-b43f-c853337e9d9c"
      },
      "source": [
        "movies.describe().T"
      ],
      "execution_count": 93,
      "outputs": [
        {
          "output_type": "execute_result",
          "data": {
            "text/html": [
              "<div>\n",
              "<style scoped>\n",
              "    .dataframe tbody tr th:only-of-type {\n",
              "        vertical-align: middle;\n",
              "    }\n",
              "\n",
              "    .dataframe tbody tr th {\n",
              "        vertical-align: top;\n",
              "    }\n",
              "\n",
              "    .dataframe thead th {\n",
              "        text-align: right;\n",
              "    }\n",
              "</style>\n",
              "<table border=\"1\" class=\"dataframe\">\n",
              "  <thead>\n",
              "    <tr style=\"text-align: right;\">\n",
              "      <th></th>\n",
              "      <th>count</th>\n",
              "      <th>mean</th>\n",
              "      <th>std</th>\n",
              "      <th>min</th>\n",
              "      <th>25%</th>\n",
              "      <th>50%</th>\n",
              "      <th>75%</th>\n",
              "      <th>max</th>\n",
              "    </tr>\n",
              "  </thead>\n",
              "  <tbody>\n",
              "    <tr>\n",
              "      <th>budget</th>\n",
              "      <td>4803.00</td>\n",
              "      <td>29045039.88</td>\n",
              "      <td>40722391.26</td>\n",
              "      <td>0.00</td>\n",
              "      <td>790000.00</td>\n",
              "      <td>15000000.00</td>\n",
              "      <td>40000000.00</td>\n",
              "      <td>380000000.00</td>\n",
              "    </tr>\n",
              "    <tr>\n",
              "      <th>id</th>\n",
              "      <td>4803.00</td>\n",
              "      <td>57165.48</td>\n",
              "      <td>88694.61</td>\n",
              "      <td>5.00</td>\n",
              "      <td>9014.50</td>\n",
              "      <td>14629.00</td>\n",
              "      <td>58610.50</td>\n",
              "      <td>459488.00</td>\n",
              "    </tr>\n",
              "    <tr>\n",
              "      <th>popularity</th>\n",
              "      <td>4803.00</td>\n",
              "      <td>21.49</td>\n",
              "      <td>31.82</td>\n",
              "      <td>0.00</td>\n",
              "      <td>4.67</td>\n",
              "      <td>12.92</td>\n",
              "      <td>28.31</td>\n",
              "      <td>875.58</td>\n",
              "    </tr>\n",
              "    <tr>\n",
              "      <th>revenue</th>\n",
              "      <td>4803.00</td>\n",
              "      <td>82260638.65</td>\n",
              "      <td>162857100.94</td>\n",
              "      <td>0.00</td>\n",
              "      <td>0.00</td>\n",
              "      <td>19170001.00</td>\n",
              "      <td>92917187.00</td>\n",
              "      <td>2787965087.00</td>\n",
              "    </tr>\n",
              "    <tr>\n",
              "      <th>runtime</th>\n",
              "      <td>4801.00</td>\n",
              "      <td>106.88</td>\n",
              "      <td>22.61</td>\n",
              "      <td>0.00</td>\n",
              "      <td>94.00</td>\n",
              "      <td>103.00</td>\n",
              "      <td>118.00</td>\n",
              "      <td>338.00</td>\n",
              "    </tr>\n",
              "    <tr>\n",
              "      <th>vote_average</th>\n",
              "      <td>4803.00</td>\n",
              "      <td>6.09</td>\n",
              "      <td>1.19</td>\n",
              "      <td>0.00</td>\n",
              "      <td>5.60</td>\n",
              "      <td>6.20</td>\n",
              "      <td>6.80</td>\n",
              "      <td>10.00</td>\n",
              "    </tr>\n",
              "    <tr>\n",
              "      <th>vote_count</th>\n",
              "      <td>4803.00</td>\n",
              "      <td>690.22</td>\n",
              "      <td>1234.59</td>\n",
              "      <td>0.00</td>\n",
              "      <td>54.00</td>\n",
              "      <td>235.00</td>\n",
              "      <td>737.00</td>\n",
              "      <td>13752.00</td>\n",
              "    </tr>\n",
              "  </tbody>\n",
              "</table>\n",
              "</div>"
            ],
            "text/plain": [
              "               count        mean  ...         75%           max\n",
              "budget       4803.00 29045039.88  ... 40000000.00  380000000.00\n",
              "id           4803.00    57165.48  ...    58610.50     459488.00\n",
              "popularity   4803.00       21.49  ...       28.31        875.58\n",
              "revenue      4803.00 82260638.65  ... 92917187.00 2787965087.00\n",
              "runtime      4801.00      106.88  ...      118.00        338.00\n",
              "vote_average 4803.00        6.09  ...        6.80         10.00\n",
              "vote_count   4803.00      690.22  ...      737.00      13752.00\n",
              "\n",
              "[7 rows x 8 columns]"
            ]
          },
          "metadata": {
            "tags": []
          },
          "execution_count": 93
        }
      ]
    },
    {
      "cell_type": "markdown",
      "metadata": {
        "id": "ihfV3TsjcBVf",
        "colab_type": "text"
      },
      "source": [
        "### What are the highest budget movies?"
      ]
    },
    {
      "cell_type": "code",
      "metadata": {
        "id": "8t3xLAE6cE5H",
        "colab_type": "code",
        "colab": {
          "base_uri": "https://localhost:8080/",
          "height": 417
        },
        "outputId": "15d30f7d-f93c-465f-baa7-5a39b282b8d4"
      },
      "source": [
        "most_expensive_df = movies.sort_values('budget',ascending=False)[:10]\n",
        "\n",
        "most_expensive = most_expensive_df[['title', 'budget', 'revenue']]\n",
        "\n",
        "expensiveplot = sns.barplot(x = 'title',y='budget', data=most_expensive, palette=\"pastel\")\n",
        "expensiveplot.set_xticklabels(expensiveplot.get_xticklabels(), rotation=40, ha=\"right\")\n",
        "expensiveplot.set(xlabel='Movie', ylabel='Budget (in US dollars)')\n",
        "plt.ticklabel_format(style='plain', axis='y')\n",
        "plt.show()"
      ],
      "execution_count": 96,
      "outputs": [
        {
          "output_type": "display_data",
          "data": {
            "image/png": "[encoded data removed]",
            "text/plain": [
              "<Figure size 432x288 with 1 Axes>"
            ]
          },
          "metadata": {
            "tags": []
          }
        }
      ]
    },
    {
      "cell_type": "code",
      "metadata": {
        "id": "6sLkrtLBIOWt",
        "colab_type": "code",
        "colab": {
          "base_uri": "https://localhost:8080/",
          "height": 343
        },
        "outputId": "a872aaf7-45d7-429b-de6a-d5b64008fb27"
      },
      "source": [
        "most_expensive"
      ],
      "execution_count": 117,
      "outputs": [
        {
          "output_type": "execute_result",
          "data": {
            "text/html": [
              "<div>\n",
              "<style scoped>\n",
              "    .dataframe tbody tr th:only-of-type {\n",
              "        vertical-align: middle;\n",
              "    }\n",
              "\n",
              "    .dataframe tbody tr th {\n",
              "        vertical-align: top;\n",
              "    }\n",
              "\n",
              "    .dataframe thead th {\n",
              "        text-align: right;\n",
              "    }\n",
              "</style>\n",
              "<table border=\"1\" class=\"dataframe\">\n",
              "  <thead>\n",
              "    <tr style=\"text-align: right;\">\n",
              "      <th></th>\n",
              "      <th>title</th>\n",
              "      <th>budget</th>\n",
              "      <th>revenue</th>\n",
              "    </tr>\n",
              "  </thead>\n",
              "  <tbody>\n",
              "    <tr>\n",
              "      <th>17</th>\n",
              "      <td>Pirates of the Caribbean: On Stranger Tides</td>\n",
              "      <td>380000000</td>\n",
              "      <td>1045713802</td>\n",
              "    </tr>\n",
              "    <tr>\n",
              "      <th>1</th>\n",
              "      <td>Pirates of the Caribbean: At World's End</td>\n",
              "      <td>300000000</td>\n",
              "      <td>961000000</td>\n",
              "    </tr>\n",
              "    <tr>\n",
              "      <th>7</th>\n",
              "      <td>Avengers: Age of Ultron</td>\n",
              "      <td>280000000</td>\n",
              "      <td>1405403694</td>\n",
              "    </tr>\n",
              "    <tr>\n",
              "      <th>10</th>\n",
              "      <td>Superman Returns</td>\n",
              "      <td>270000000</td>\n",
              "      <td>391081192</td>\n",
              "    </tr>\n",
              "    <tr>\n",
              "      <th>4</th>\n",
              "      <td>John Carter</td>\n",
              "      <td>260000000</td>\n",
              "      <td>284139100</td>\n",
              "    </tr>\n",
              "    <tr>\n",
              "      <th>6</th>\n",
              "      <td>Tangled</td>\n",
              "      <td>260000000</td>\n",
              "      <td>591794936</td>\n",
              "    </tr>\n",
              "    <tr>\n",
              "      <th>5</th>\n",
              "      <td>Spider-Man 3</td>\n",
              "      <td>258000000</td>\n",
              "      <td>890871626</td>\n",
              "    </tr>\n",
              "    <tr>\n",
              "      <th>13</th>\n",
              "      <td>The Lone Ranger</td>\n",
              "      <td>255000000</td>\n",
              "      <td>89289910</td>\n",
              "    </tr>\n",
              "    <tr>\n",
              "      <th>46</th>\n",
              "      <td>X-Men: Days of Future Past</td>\n",
              "      <td>250000000</td>\n",
              "      <td>747862775</td>\n",
              "    </tr>\n",
              "    <tr>\n",
              "      <th>22</th>\n",
              "      <td>The Hobbit: The Desolation of Smaug</td>\n",
              "      <td>250000000</td>\n",
              "      <td>958400000</td>\n",
              "    </tr>\n",
              "  </tbody>\n",
              "</table>\n",
              "</div>"
            ],
            "text/plain": [
              "                                          title     budget     revenue\n",
              "17  Pirates of the Caribbean: On Stranger Tides  380000000  1045713802\n",
              "1      Pirates of the Caribbean: At World's End  300000000   961000000\n",
              "7                       Avengers: Age of Ultron  280000000  1405403694\n",
              "10                             Superman Returns  270000000   391081192\n",
              "4                                   John Carter  260000000   284139100\n",
              "6                                       Tangled  260000000   591794936\n",
              "5                                  Spider-Man 3  258000000   890871626\n",
              "13                              The Lone Ranger  255000000    89289910\n",
              "46                   X-Men: Days of Future Past  250000000   747862775\n",
              "22          The Hobbit: The Desolation of Smaug  250000000   958400000"
            ]
          },
          "metadata": {
            "tags": []
          },
          "execution_count": 117
        }
      ]
    },
    {
      "cell_type": "markdown",
      "metadata": {
        "id": "1GeqYl3-dwig",
        "colab_type": "text"
      },
      "source": [
        "### What are the most popular movies?"
      ]
    },
    {
      "cell_type": "code",
      "metadata": {
        "id": "WjDXMRxydzX9",
        "colab_type": "code",
        "colab": {
          "base_uri": "https://localhost:8080/",
          "height": 343
        },
        "outputId": "5ab21cc9-7b71-4254-aacd-72df027444c4"
      },
      "source": [
        "most_popular_df = movies.sort_values('popularity',ascending=False)[:10]\n",
        "most_popular = most_popular_df[['title', 'popularity', 'release_date']]\n",
        "most_popular"
      ],
      "execution_count": 86,
      "outputs": [
        {
          "output_type": "execute_result",
          "data": {
            "text/html": [
              "<div>\n",
              "<style scoped>\n",
              "    .dataframe tbody tr th:only-of-type {\n",
              "        vertical-align: middle;\n",
              "    }\n",
              "\n",
              "    .dataframe tbody tr th {\n",
              "        vertical-align: top;\n",
              "    }\n",
              "\n",
              "    .dataframe thead th {\n",
              "        text-align: right;\n",
              "    }\n",
              "</style>\n",
              "<table border=\"1\" class=\"dataframe\">\n",
              "  <thead>\n",
              "    <tr style=\"text-align: right;\">\n",
              "      <th></th>\n",
              "      <th>title</th>\n",
              "      <th>popularity</th>\n",
              "      <th>release_date</th>\n",
              "    </tr>\n",
              "  </thead>\n",
              "  <tbody>\n",
              "    <tr>\n",
              "      <th>546</th>\n",
              "      <td>Minions</td>\n",
              "      <td>875.581305</td>\n",
              "      <td>2015-06-17</td>\n",
              "    </tr>\n",
              "    <tr>\n",
              "      <th>95</th>\n",
              "      <td>Interstellar</td>\n",
              "      <td>724.247784</td>\n",
              "      <td>2014-11-05</td>\n",
              "    </tr>\n",
              "    <tr>\n",
              "      <th>788</th>\n",
              "      <td>Deadpool</td>\n",
              "      <td>514.569956</td>\n",
              "      <td>2016-02-09</td>\n",
              "    </tr>\n",
              "    <tr>\n",
              "      <th>94</th>\n",
              "      <td>Guardians of the Galaxy</td>\n",
              "      <td>481.098624</td>\n",
              "      <td>2014-07-30</td>\n",
              "    </tr>\n",
              "    <tr>\n",
              "      <th>127</th>\n",
              "      <td>Mad Max: Fury Road</td>\n",
              "      <td>434.278564</td>\n",
              "      <td>2015-05-13</td>\n",
              "    </tr>\n",
              "    <tr>\n",
              "      <th>28</th>\n",
              "      <td>Jurassic World</td>\n",
              "      <td>418.708552</td>\n",
              "      <td>2015-06-09</td>\n",
              "    </tr>\n",
              "    <tr>\n",
              "      <th>199</th>\n",
              "      <td>Pirates of the Caribbean: The Curse of the Bla...</td>\n",
              "      <td>271.972889</td>\n",
              "      <td>2003-07-09</td>\n",
              "    </tr>\n",
              "    <tr>\n",
              "      <th>82</th>\n",
              "      <td>Dawn of the Planet of the Apes</td>\n",
              "      <td>243.791743</td>\n",
              "      <td>2014-06-26</td>\n",
              "    </tr>\n",
              "    <tr>\n",
              "      <th>200</th>\n",
              "      <td>The Hunger Games: Mockingjay - Part 1</td>\n",
              "      <td>206.227151</td>\n",
              "      <td>2014-11-18</td>\n",
              "    </tr>\n",
              "    <tr>\n",
              "      <th>88</th>\n",
              "      <td>Big Hero 6</td>\n",
              "      <td>203.734590</td>\n",
              "      <td>2014-10-24</td>\n",
              "    </tr>\n",
              "  </tbody>\n",
              "</table>\n",
              "</div>"
            ],
            "text/plain": [
              "                                                 title  popularity release_date\n",
              "546                                            Minions  875.581305   2015-06-17\n",
              "95                                        Interstellar  724.247784   2014-11-05\n",
              "788                                           Deadpool  514.569956   2016-02-09\n",
              "94                             Guardians of the Galaxy  481.098624   2014-07-30\n",
              "127                                 Mad Max: Fury Road  434.278564   2015-05-13\n",
              "28                                      Jurassic World  418.708552   2015-06-09\n",
              "199  Pirates of the Caribbean: The Curse of the Bla...  271.972889   2003-07-09\n",
              "82                      Dawn of the Planet of the Apes  243.791743   2014-06-26\n",
              "200              The Hunger Games: Mockingjay - Part 1  206.227151   2014-11-18\n",
              "88                                          Big Hero 6  203.734590   2014-10-24"
            ]
          },
          "metadata": {
            "tags": []
          },
          "execution_count": 86
        }
      ]
    },
    {
      "cell_type": "code",
      "metadata": {
        "id": "yyIUoXfQJriR",
        "colab_type": "code",
        "colab": {
          "base_uri": "https://localhost:8080/",
          "height": 151
        },
        "outputId": "aaac1897-bd64-46b8-a2ec-9224164e182a"
      },
      "source": [
        "movies.corr()['popularity'].sort_values(ascending=False)"
      ],
      "execution_count": 124,
      "outputs": [
        {
          "output_type": "execute_result",
          "data": {
            "text/plain": [
              "popularity     1.00\n",
              "vote_count     0.78\n",
              "revenue        0.64\n",
              "budget         0.51\n",
              "vote_average   0.27\n",
              "runtime        0.23\n",
              "id             0.03\n",
              "Name: popularity, dtype: float64"
            ]
          },
          "metadata": {
            "tags": []
          },
          "execution_count": 124
        }
      ]
    },
    {
      "cell_type": "markdown",
      "metadata": {
        "id": "mJJJTLwUIf5P",
        "colab_type": "text"
      },
      "source": [
        "## This section attempts to merge the two datasets\n"
      ]
    },
    {
      "cell_type": "code",
      "metadata": {
        "id": "LqrdiE84Q2L4",
        "colab_type": "code",
        "colab": {
          "base_uri": "https://localhost:8080/",
          "height": 588
        },
        "outputId": "bb4bc75c-c4ab-499d-90b6-944d14ff4830"
      },
      "source": [
        "merged = pd.merge(books, movies)\n",
        "merged.info()"
      ],
      "execution_count": 87,
      "outputs": [
        {
          "output_type": "stream",
          "text": [
            "<class 'pandas.core.frame.DataFrame'>\n",
            "Int64Index: 508 entries, 0 to 507\n",
            "Data columns (total 29 columns):\n",
            "bookID                  508 non-null int64\n",
            "title                   508 non-null object\n",
            "authors                 508 non-null object\n",
            "average_rating          508 non-null float64\n",
            "isbn                    508 non-null object\n",
            "isbn13                  508 non-null int64\n",
            "language_code           508 non-null object\n",
            "# num_pages             508 non-null int64\n",
            "ratings_count           508 non-null int64\n",
            "text_reviews_count      508 non-null int64\n",
            "budget                  508 non-null int64\n",
            "genres                  508 non-null object\n",
            "homepage                184 non-null object\n",
            "id                      508 non-null int64\n",
            "keywords                508 non-null object\n",
            "original_language       508 non-null object\n",
            "original_title          508 non-null object\n",
            "overview                508 non-null object\n",
            "popularity              508 non-null float64\n",
            "production_companies    508 non-null object\n",
            "production_countries    508 non-null object\n",
            "release_date            508 non-null object\n",
            "revenue                 508 non-null int64\n",
            "runtime                 508 non-null float64\n",
            "spoken_languages        508 non-null object\n",
            "status                  508 non-null object\n",
            "tagline                 440 non-null object\n",
            "vote_average            508 non-null float64\n",
            "vote_count              508 non-null int64\n",
            "dtypes: float64(4), int64(9), object(16)\n",
            "memory usage: 119.1+ KB\n"
          ],
          "name": "stdout"
        }
      ]
    },
    {
      "cell_type": "markdown",
      "metadata": {
        "id": "xDKI3_CZIsB0",
        "colab_type": "text"
      },
      "source": [
        "### Everything in this dataframe should be both a book and a movie; does that seem true?\n",
        "\n",
        "The first entry is Hatchet by Gary Paulsen, the famous survival novel,\n",
        "but it was merged with what looks like a slasher horror movie.\n",
        "\n",
        "So this method will combine movie and books of the same title, even if they are different things."
      ]
    },
    {
      "cell_type": "code",
      "metadata": {
        "id": "GG3V_ufBSTSF",
        "colab_type": "code",
        "colab": {
          "base_uri": "https://localhost:8080/",
          "height": 1000
        },
        "outputId": "45293573-06d1-427b-a9bb-93af2e98f7ec"
      },
      "source": [
        "merged.head(10)"
      ],
      "execution_count": 118,
      "outputs": [
        {
          "output_type": "execute_result",
          "data": {
            "text/html": [
              "<div>\n",
              "<style scoped>\n",
              "    .dataframe tbody tr th:only-of-type {\n",
              "        vertical-align: middle;\n",
              "    }\n",
              "\n",
              "    .dataframe tbody tr th {\n",
              "        vertical-align: top;\n",
              "    }\n",
              "\n",
              "    .dataframe thead th {\n",
              "        text-align: right;\n",
              "    }\n",
              "</style>\n",
              "<table border=\"1\" class=\"dataframe\">\n",
              "  <thead>\n",
              "    <tr style=\"text-align: right;\">\n",
              "      <th></th>\n",
              "      <th>bookID</th>\n",
              "      <th>title</th>\n",
              "      <th>authors</th>\n",
              "      <th>average_rating</th>\n",
              "      <th>isbn</th>\n",
              "      <th>isbn13</th>\n",
              "      <th>language_code</th>\n",
              "      <th># num_pages</th>\n",
              "      <th>ratings_count</th>\n",
              "      <th>text_reviews_count</th>\n",
              "      <th>budget</th>\n",
              "      <th>genres</th>\n",
              "      <th>homepage</th>\n",
              "      <th>id</th>\n",
              "      <th>keywords</th>\n",
              "      <th>original_language</th>\n",
              "      <th>original_title</th>\n",
              "      <th>overview</th>\n",
              "      <th>popularity</th>\n",
              "      <th>production_companies</th>\n",
              "      <th>production_countries</th>\n",
              "      <th>release_date</th>\n",
              "      <th>revenue</th>\n",
              "      <th>runtime</th>\n",
              "      <th>spoken_languages</th>\n",
              "      <th>status</th>\n",
              "      <th>tagline</th>\n",
              "      <th>vote_average</th>\n",
              "      <th>vote_count</th>\n",
              "    </tr>\n",
              "  </thead>\n",
              "  <tbody>\n",
              "    <tr>\n",
              "      <th>0</th>\n",
              "      <td>50</td>\n",
              "      <td>Hatchet</td>\n",
              "      <td>Gary Paulsen</td>\n",
              "      <td>3.70</td>\n",
              "      <td>0689840926</td>\n",
              "      <td>9780689840920</td>\n",
              "      <td>eng</td>\n",
              "      <td>208</td>\n",
              "      <td>254827</td>\n",
              "      <td>11346</td>\n",
              "      <td>0</td>\n",
              "      <td>[{\"id\": 35, \"name\": \"Comedy\"}, {\"id\": 27, \"nam...</td>\n",
              "      <td>http://www.hatchetmovie.com/</td>\n",
              "      <td>11908</td>\n",
              "      <td>[{\"id\": 2411, \"name\": \"new orleans\"}, {\"id\": 3...</td>\n",
              "      <td>en</td>\n",
              "      <td>Hatchet</td>\n",
              "      <td>When a group of tourists on a New Orleans haun...</td>\n",
              "      <td>12.68</td>\n",
              "      <td>[{\"name\": \"ArieScope Pictures\", \"id\": 3960}]</td>\n",
              "      <td>[{\"iso_3166_1\": \"US\", \"name\": \"United States o...</td>\n",
              "      <td>2006-04-27</td>\n",
              "      <td>0</td>\n",
              "      <td>83.00</td>\n",
              "      <td>[{\"iso_639_1\": \"en\", \"name\": \"English\"}]</td>\n",
              "      <td>Released</td>\n",
              "      <td>Stay out of the swamp.</td>\n",
              "      <td>5.70</td>\n",
              "      <td>159</td>\n",
              "    </tr>\n",
              "    <tr>\n",
              "      <th>1</th>\n",
              "      <td>151</td>\n",
              "      <td>Anna Karenina</td>\n",
              "      <td>Leo Tolstoy-Richard Pevear-Larissa Volokhonsky</td>\n",
              "      <td>4.04</td>\n",
              "      <td>0143035002</td>\n",
              "      <td>9780143035008</td>\n",
              "      <td>eng</td>\n",
              "      <td>838</td>\n",
              "      <td>15747</td>\n",
              "      <td>1795</td>\n",
              "      <td>0</td>\n",
              "      <td>[{\"id\": 18, \"name\": \"Drama\"}, {\"id\": 10749, \"n...</td>\n",
              "      <td>NaN</td>\n",
              "      <td>96724</td>\n",
              "      <td>[{\"id\": 818, \"name\": \"based on novel\"}, {\"id\":...</td>\n",
              "      <td>en</td>\n",
              "      <td>Anna Karenina</td>\n",
              "      <td>Trapped in a loveless marriage, aristocrat Ann...</td>\n",
              "      <td>26.39</td>\n",
              "      <td>[{\"name\": \"Universal Pictures\", \"id\": 33}, {\"n...</td>\n",
              "      <td>[{\"iso_3166_1\": \"FR\", \"name\": \"France\"}, {\"iso...</td>\n",
              "      <td>2012-09-06</td>\n",
              "      <td>68929150</td>\n",
              "      <td>130.00</td>\n",
              "      <td>[{\"iso_639_1\": \"en\", \"name\": \"English\"}, {\"iso...</td>\n",
              "      <td>Released</td>\n",
              "      <td>An epic story of love.</td>\n",
              "      <td>6.50</td>\n",
              "      <td>639</td>\n",
              "    </tr>\n",
              "    <tr>\n",
              "      <th>2</th>\n",
              "      <td>152</td>\n",
              "      <td>Anna Karenina</td>\n",
              "      <td>Leo Tolstoy-David Magarshack-Priscilla Meyer</td>\n",
              "      <td>4.04</td>\n",
              "      <td>0451528611</td>\n",
              "      <td>9780451528612</td>\n",
              "      <td>eng</td>\n",
              "      <td>960</td>\n",
              "      <td>108970</td>\n",
              "      <td>5694</td>\n",
              "      <td>0</td>\n",
              "      <td>[{\"id\": 18, \"name\": \"Drama\"}, {\"id\": 10749, \"n...</td>\n",
              "      <td>NaN</td>\n",
              "      <td>96724</td>\n",
              "      <td>[{\"id\": 818, \"name\": \"based on novel\"}, {\"id\":...</td>\n",
              "      <td>en</td>\n",
              "      <td>Anna Karenina</td>\n",
              "      <td>Trapped in a loveless marriage, aristocrat Ann...</td>\n",
              "      <td>26.39</td>\n",
              "      <td>[{\"name\": \"Universal Pictures\", \"id\": 33}, {\"n...</td>\n",
              "      <td>[{\"iso_3166_1\": \"FR\", \"name\": \"France\"}, {\"iso...</td>\n",
              "      <td>2012-09-06</td>\n",
              "      <td>68929150</td>\n",
              "      <td>130.00</td>\n",
              "      <td>[{\"iso_639_1\": \"en\", \"name\": \"English\"}, {\"iso...</td>\n",
              "      <td>Released</td>\n",
              "      <td>An epic story of love.</td>\n",
              "      <td>6.50</td>\n",
              "      <td>639</td>\n",
              "    </tr>\n",
              "    <tr>\n",
              "      <th>3</th>\n",
              "      <td>153</td>\n",
              "      <td>Anna Karenina</td>\n",
              "      <td>Leo Tolstoy-Richard Pevear-Larissa Volokhonsky...</td>\n",
              "      <td>4.04</td>\n",
              "      <td>0140449175</td>\n",
              "      <td>9780140449174</td>\n",
              "      <td>eng</td>\n",
              "      <td>837</td>\n",
              "      <td>2835</td>\n",
              "      <td>300</td>\n",
              "      <td>0</td>\n",
              "      <td>[{\"id\": 18, \"name\": \"Drama\"}, {\"id\": 10749, \"n...</td>\n",
              "      <td>NaN</td>\n",
              "      <td>96724</td>\n",
              "      <td>[{\"id\": 818, \"name\": \"based on novel\"}, {\"id\":...</td>\n",
              "      <td>en</td>\n",
              "      <td>Anna Karenina</td>\n",
              "      <td>Trapped in a loveless marriage, aristocrat Ann...</td>\n",
              "      <td>26.39</td>\n",
              "      <td>[{\"name\": \"Universal Pictures\", \"id\": 33}, {\"n...</td>\n",
              "      <td>[{\"iso_3166_1\": \"FR\", \"name\": \"France\"}, {\"iso...</td>\n",
              "      <td>2012-09-06</td>\n",
              "      <td>68929150</td>\n",
              "      <td>130.00</td>\n",
              "      <td>[{\"iso_639_1\": \"en\", \"name\": \"English\"}, {\"iso...</td>\n",
              "      <td>Released</td>\n",
              "      <td>An epic story of love.</td>\n",
              "      <td>6.50</td>\n",
              "      <td>639</td>\n",
              "    </tr>\n",
              "    <tr>\n",
              "      <th>4</th>\n",
              "      <td>155</td>\n",
              "      <td>Anna Karenina</td>\n",
              "      <td>Leo Tolstoy-Amy Mandelker-Constance Garnett</td>\n",
              "      <td>4.04</td>\n",
              "      <td>1593080271</td>\n",
              "      <td>9781593080273</td>\n",
              "      <td>eng</td>\n",
              "      <td>803</td>\n",
              "      <td>9362</td>\n",
              "      <td>710</td>\n",
              "      <td>0</td>\n",
              "      <td>[{\"id\": 18, \"name\": \"Drama\"}, {\"id\": 10749, \"n...</td>\n",
              "      <td>NaN</td>\n",
              "      <td>96724</td>\n",
              "      <td>[{\"id\": 818, \"name\": \"based on novel\"}, {\"id\":...</td>\n",
              "      <td>en</td>\n",
              "      <td>Anna Karenina</td>\n",
              "      <td>Trapped in a loveless marriage, aristocrat Ann...</td>\n",
              "      <td>26.39</td>\n",
              "      <td>[{\"name\": \"Universal Pictures\", \"id\": 33}, {\"n...</td>\n",
              "      <td>[{\"iso_3166_1\": \"FR\", \"name\": \"France\"}, {\"iso...</td>\n",
              "      <td>2012-09-06</td>\n",
              "      <td>68929150</td>\n",
              "      <td>130.00</td>\n",
              "      <td>[{\"iso_639_1\": \"en\", \"name\": \"English\"}, {\"iso...</td>\n",
              "      <td>Released</td>\n",
              "      <td>An epic story of love.</td>\n",
              "      <td>6.50</td>\n",
              "      <td>639</td>\n",
              "    </tr>\n",
              "    <tr>\n",
              "      <th>5</th>\n",
              "      <td>156</td>\n",
              "      <td>Anna Karenina</td>\n",
              "      <td>Leo Tolstoy-Louise Maude-Aylmer Maude</td>\n",
              "      <td>4.04</td>\n",
              "      <td>0486437965</td>\n",
              "      <td>9780486437965</td>\n",
              "      <td>eng</td>\n",
              "      <td>752</td>\n",
              "      <td>460</td>\n",
              "      <td>71</td>\n",
              "      <td>0</td>\n",
              "      <td>[{\"id\": 18, \"name\": \"Drama\"}, {\"id\": 10749, \"n...</td>\n",
              "      <td>NaN</td>\n",
              "      <td>96724</td>\n",
              "      <td>[{\"id\": 818, \"name\": \"based on novel\"}, {\"id\":...</td>\n",
              "      <td>en</td>\n",
              "      <td>Anna Karenina</td>\n",
              "      <td>Trapped in a loveless marriage, aristocrat Ann...</td>\n",
              "      <td>26.39</td>\n",
              "      <td>[{\"name\": \"Universal Pictures\", \"id\": 33}, {\"n...</td>\n",
              "      <td>[{\"iso_3166_1\": \"FR\", \"name\": \"France\"}, {\"iso...</td>\n",
              "      <td>2012-09-06</td>\n",
              "      <td>68929150</td>\n",
              "      <td>130.00</td>\n",
              "      <td>[{\"iso_639_1\": \"en\", \"name\": \"English\"}, {\"iso...</td>\n",
              "      <td>Released</td>\n",
              "      <td>An epic story of love.</td>\n",
              "      <td>6.50</td>\n",
              "      <td>639</td>\n",
              "    </tr>\n",
              "    <tr>\n",
              "      <th>6</th>\n",
              "      <td>157</td>\n",
              "      <td>Anna Karenina</td>\n",
              "      <td>Leo Tolstoy-Constance Garnett-Amy Mandelker</td>\n",
              "      <td>4.04</td>\n",
              "      <td>1593081774</td>\n",
              "      <td>9781593081775</td>\n",
              "      <td>eng</td>\n",
              "      <td>803</td>\n",
              "      <td>298</td>\n",
              "      <td>47</td>\n",
              "      <td>0</td>\n",
              "      <td>[{\"id\": 18, \"name\": \"Drama\"}, {\"id\": 10749, \"n...</td>\n",
              "      <td>NaN</td>\n",
              "      <td>96724</td>\n",
              "      <td>[{\"id\": 818, \"name\": \"based on novel\"}, {\"id\":...</td>\n",
              "      <td>en</td>\n",
              "      <td>Anna Karenina</td>\n",
              "      <td>Trapped in a loveless marriage, aristocrat Ann...</td>\n",
              "      <td>26.39</td>\n",
              "      <td>[{\"name\": \"Universal Pictures\", \"id\": 33}, {\"n...</td>\n",
              "      <td>[{\"iso_3166_1\": \"FR\", \"name\": \"France\"}, {\"iso...</td>\n",
              "      <td>2012-09-06</td>\n",
              "      <td>68929150</td>\n",
              "      <td>130.00</td>\n",
              "      <td>[{\"iso_639_1\": \"en\", \"name\": \"English\"}, {\"iso...</td>\n",
              "      <td>Released</td>\n",
              "      <td>An epic story of love.</td>\n",
              "      <td>6.50</td>\n",
              "      <td>639</td>\n",
              "    </tr>\n",
              "    <tr>\n",
              "      <th>7</th>\n",
              "      <td>5685</td>\n",
              "      <td>Anna Karenina</td>\n",
              "      <td>Leo Tolstoy-Richard Pevear-Larissa Volokhonsky</td>\n",
              "      <td>4.04</td>\n",
              "      <td>0142000272</td>\n",
              "      <td>9780142000274</td>\n",
              "      <td>en-US</td>\n",
              "      <td>838</td>\n",
              "      <td>2377</td>\n",
              "      <td>400</td>\n",
              "      <td>0</td>\n",
              "      <td>[{\"id\": 18, \"name\": \"Drama\"}, {\"id\": 10749, \"n...</td>\n",
              "      <td>NaN</td>\n",
              "      <td>96724</td>\n",
              "      <td>[{\"id\": 818, \"name\": \"based on novel\"}, {\"id\":...</td>\n",
              "      <td>en</td>\n",
              "      <td>Anna Karenina</td>\n",
              "      <td>Trapped in a loveless marriage, aristocrat Ann...</td>\n",
              "      <td>26.39</td>\n",
              "      <td>[{\"name\": \"Universal Pictures\", \"id\": 33}, {\"n...</td>\n",
              "      <td>[{\"iso_3166_1\": \"FR\", \"name\": \"France\"}, {\"iso...</td>\n",
              "      <td>2012-09-06</td>\n",
              "      <td>68929150</td>\n",
              "      <td>130.00</td>\n",
              "      <td>[{\"iso_639_1\": \"en\", \"name\": \"English\"}, {\"iso...</td>\n",
              "      <td>Released</td>\n",
              "      <td>An epic story of love.</td>\n",
              "      <td>6.50</td>\n",
              "      <td>639</td>\n",
              "    </tr>\n",
              "    <tr>\n",
              "      <th>8</th>\n",
              "      <td>14313</td>\n",
              "      <td>Anna Karenina</td>\n",
              "      <td>Leo Tolstoy-Constance Garnett</td>\n",
              "      <td>4.04</td>\n",
              "      <td>0809596814</td>\n",
              "      <td>9780809596812</td>\n",
              "      <td>eng</td>\n",
              "      <td>740</td>\n",
              "      <td>28</td>\n",
              "      <td>8</td>\n",
              "      <td>0</td>\n",
              "      <td>[{\"id\": 18, \"name\": \"Drama\"}, {\"id\": 10749, \"n...</td>\n",
              "      <td>NaN</td>\n",
              "      <td>96724</td>\n",
              "      <td>[{\"id\": 818, \"name\": \"based on novel\"}, {\"id\":...</td>\n",
              "      <td>en</td>\n",
              "      <td>Anna Karenina</td>\n",
              "      <td>Trapped in a loveless marriage, aristocrat Ann...</td>\n",
              "      <td>26.39</td>\n",
              "      <td>[{\"name\": \"Universal Pictures\", \"id\": 33}, {\"n...</td>\n",
              "      <td>[{\"iso_3166_1\": \"FR\", \"name\": \"France\"}, {\"iso...</td>\n",
              "      <td>2012-09-06</td>\n",
              "      <td>68929150</td>\n",
              "      <td>130.00</td>\n",
              "      <td>[{\"iso_639_1\": \"en\", \"name\": \"English\"}, {\"iso...</td>\n",
              "      <td>Released</td>\n",
              "      <td>An epic story of love.</td>\n",
              "      <td>6.50</td>\n",
              "      <td>639</td>\n",
              "    </tr>\n",
              "    <tr>\n",
              "      <th>9</th>\n",
              "      <td>164</td>\n",
              "      <td>The Untouchables</td>\n",
              "      <td>Eliot Ness-Oscar Fraley</td>\n",
              "      <td>3.89</td>\n",
              "      <td>1568491980</td>\n",
              "      <td>9781568491981</td>\n",
              "      <td>eng</td>\n",
              "      <td>256</td>\n",
              "      <td>587</td>\n",
              "      <td>29</td>\n",
              "      <td>25000000</td>\n",
              "      <td>[{\"id\": 80, \"name\": \"Crime\"}, {\"id\": 18, \"name...</td>\n",
              "      <td>NaN</td>\n",
              "      <td>117</td>\n",
              "      <td>[{\"id\": 14899, \"name\": \"white suit\"}, {\"id\": 1...</td>\n",
              "      <td>en</td>\n",
              "      <td>The Untouchables</td>\n",
              "      <td>Young Treasury Agent Elliot Ness arrives in Ch...</td>\n",
              "      <td>38.27</td>\n",
              "      <td>[{\"name\": \"Paramount Pictures\", \"id\": 4}]</td>\n",
              "      <td>[{\"iso_3166_1\": \"US\", \"name\": \"United States o...</td>\n",
              "      <td>1987-06-02</td>\n",
              "      <td>76270454</td>\n",
              "      <td>119.00</td>\n",
              "      <td>[{\"iso_639_1\": \"en\", \"name\": \"English\"}]</td>\n",
              "      <td>Released</td>\n",
              "      <td>What are you prepared to do?</td>\n",
              "      <td>7.60</td>\n",
              "      <td>1384</td>\n",
              "    </tr>\n",
              "  </tbody>\n",
              "</table>\n",
              "</div>"
            ],
            "text/plain": [
              "   bookID             title  ... vote_average  vote_count\n",
              "0      50           Hatchet  ...         5.70         159\n",
              "1     151     Anna Karenina  ...         6.50         639\n",
              "2     152     Anna Karenina  ...         6.50         639\n",
              "3     153     Anna Karenina  ...         6.50         639\n",
              "4     155     Anna Karenina  ...         6.50         639\n",
              "5     156     Anna Karenina  ...         6.50         639\n",
              "6     157     Anna Karenina  ...         6.50         639\n",
              "7    5685     Anna Karenina  ...         6.50         639\n",
              "8   14313     Anna Karenina  ...         6.50         639\n",
              "9     164  The Untouchables  ...         7.60        1384\n",
              "\n",
              "[10 rows x 29 columns]"
            ]
          },
          "metadata": {
            "tags": []
          },
          "execution_count": 118
        }
      ]
    },
    {
      "cell_type": "code",
      "metadata": {
        "id": "DicdZItvIca7",
        "colab_type": "code",
        "colab": {}
      },
      "source": [
        ""
      ],
      "execution_count": 0,
      "outputs": []
    }
  ]
}