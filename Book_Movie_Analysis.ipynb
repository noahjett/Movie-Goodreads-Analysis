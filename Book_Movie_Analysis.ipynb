{
  "nbformat": 4,
  "nbformat_minor": 0,
  "metadata": {
    "colab": {
      "name": "Book/Movie Analysis.ipynb",
      "provenance": [],
      "include_colab_link": true
    },
    "kernelspec": {
      "name": "python3",
      "display_name": "Python 3"
    }
  },
  "cells": [
    {
      "cell_type": "markdown",
      "metadata": {
        "id": "view-in-github",
        "colab_type": "text"
      },
      "source": [
        "<a href=\"https://colab.research.google.com/github/noahjett/Movie-Goodreads-Analysis/blob/master/Book_Movie_Analysis.ipynb\" target=\"_parent\"><img src=\"https://colab.research.google.com/assets/colab-badge.svg\" alt=\"Open In Colab\"/></a>"
      ]
    },
    {
      "cell_type": "markdown",
      "metadata": {
        "id": "4Q3-1IK1sWpk",
        "colab_type": "text"
      },
      "source": [
        "# Movie & Book Reviews Project"
      ]
    },
    {
      "cell_type": "markdown",
      "metadata": {
        "id": "fXiloO06s75e",
        "colab_type": "text"
      },
      "source": [
        "Author: Noah Jett\n",
        "\n",
        "Date: 11/13/2019\n",
        "\n",
        "Made as part of Data Science 377 at Illinois Wesleyan University"
      ]
    },
    {
      "cell_type": "markdown",
      "metadata": {
        "id": "KwocpvxauZco",
        "colab_type": "text"
      },
      "source": [
        "### Introduction\n",
        "\n",
        "This project seeks to explore two well documented datasets from popular data science site Kaggle, 'Goodreads-books' and 'TMDB 5000 Movie Dataset'. \n",
        "\n",
        "\n",
        "\n"
      ]
    },
    {
      "cell_type": "markdown",
      "metadata": {
        "id": "MbGjHkJDq52F",
        "colab_type": "text"
      },
      "source": [
        "### Dataset 1: Goodreads-books from Kaggle\n",
        "Goodreads-books is data pulled from popular book review and reccomendation site Goodreads. Each entry in this dataset is a unique book, and contains information like author, pages, average rating, and number of reviews. The data was scraped from the site directly using the publically available Goodreads API.\n",
        "\n",
        "Can be found here:\n",
        "https://www.kaggle.com/jealousleopard/goodreadsbooks\n",
        "\n"
      ]
    },
    {
      "cell_type": "markdown",
      "metadata": {
        "id": "fTahXy09hWgB",
        "colab_type": "text"
      },
      "source": [
        "### Dataset 2: TMDB 5000 Movie Dataset from Kaggle\n",
        "Data on 5000 movies scraped from The Movie Database (TMDB).\n",
        "\n",
        "Can be found here:\n",
        "https://www.kaggle.com/tmdb/tmdb-movie-metadata#tmdb_5000_credits.csv\n",
        "\n"
      ]
    },
    {
      "cell_type": "markdown",
      "metadata": {
        "id": "-LNrzfHcvsgU",
        "colab_type": "text"
      },
      "source": [
        "### Goal\n",
        "\n",
        "The goal of this project is to do exploratory analysis on each dataset, combine them, and look at entries occurring in both datasets, i.e. books which have a movie adaptation. \n",
        "\n",
        "### Research Questions: \n",
        "1.   What is the relationship between movies based on a book, and movies not based on a book?\n",
        "2. Alternatively, are books with movie adaptations rated differently than those without? How?\n",
        "\n",
        "An important note is that merging the two datasets is itself an important goal of the project. Combining datasets can create value by allowing future data scientists to look at data in different ways, and ask different questions.\n",
        "\n",
        "\n"
      ]
    },
    {
      "cell_type": "markdown",
      "metadata": {
        "id": "hkBNM9pA3Jyg",
        "colab_type": "text"
      },
      "source": [
        "### Ethics Statement\n",
        "\n",
        "This project uses two publically available datasets, which can be found here https://www.kaggle.com/jealousleopard/goodreadsbooks, and here https://www.kaggle.com/tmdb/tmdb-movie-metadata#tmdb_5000_credits.csv.\n",
        "\n",
        "These datasets were created through publically available APIs, and are some of the highest rated sets on the popular data science site Kaggle. They do not contain any private information on persons or compaines. The movie dataset contains information about movie budgets and revenues, both of which are publically available information. \n",
        "\n",
        "The result of this project, to combine the datasets and identify relationships between them, should not have any negative impact on specific works or their creators. The subjects of the datasets can realistically only gain from the information created from this project."
      ]
    },
    {
      "cell_type": "code",
      "metadata": {
        "id": "doX8HGMMqPJv",
        "colab_type": "code",
        "colab": {}
      },
      "source": [
        "import os\n",
        "import pandas as pd\n",
        "import matplotlib.pyplot as plt\n",
        "import seaborn as sns\n",
        "import numpy as np\n",
        "\n",
        "pd.options.display.float_format = '{:.2f}'.format\n",
        "pd.set_option('display.max_colwidth',100)"
      ],
      "execution_count": 0,
      "outputs": []
    },
    {
      "cell_type": "code",
      "metadata": {
        "id": "lSGNvBTp6SNW",
        "colab_type": "code",
        "outputId": "a01f9581-cc3d-4404-f388-b853d4b7d1eb",
        "colab": {
          "base_uri": "https://localhost:8080/",
          "height": 67
        }
      },
      "source": [
        "!pip install fuzzywuzzy\n",
        "!pip install python-Levenshtein"
      ],
      "execution_count": 132,
      "outputs": [
        {
          "output_type": "stream",
          "text": [
            "Requirement already satisfied: fuzzywuzzy in /usr/local/lib/python3.6/dist-packages (0.17.0)\n",
            "Requirement already satisfied: python-Levenshtein in /usr/local/lib/python3.6/dist-packages (0.12.0)\n",
            "Requirement already satisfied: setuptools in /usr/local/lib/python3.6/dist-packages (from python-Levenshtein) (41.4.0)\n"
          ],
          "name": "stdout"
        }
      ]
    },
    {
      "cell_type": "code",
      "metadata": {
        "id": "ECssR9Jt6aTQ",
        "colab_type": "code",
        "colab": {}
      },
      "source": [
        "from fuzzywuzzy import fuzz \n",
        "from fuzzywuzzy import process "
      ],
      "execution_count": 0,
      "outputs": []
    },
    {
      "cell_type": "markdown",
      "metadata": {
        "id": "S1OeY1tGq0nP",
        "colab_type": "text"
      },
      "source": [
        "### Import Method: From Google Drive"
      ]
    },
    {
      "cell_type": "code",
      "metadata": {
        "id": "Y06KtUVkqRvW",
        "colab_type": "code",
        "outputId": "22a1d3e7-a86d-4af2-de6a-25712d8dd69d",
        "colab": {
          "base_uri": "https://localhost:8080/",
          "height": 34
        }
      },
      "source": [
        "from google.colab import drive\n",
        "drive.mount('/content/drive')\n"
      ],
      "execution_count": 134,
      "outputs": [
        {
          "output_type": "stream",
          "text": [
            "Drive already mounted at /content/drive; to attempt to forcibly remount, call drive.mount(\"/content/drive\", force_remount=True).\n"
          ],
          "name": "stdout"
        }
      ]
    },
    {
      "cell_type": "code",
      "metadata": {
        "id": "3VokIlj8qU_J",
        "colab_type": "code",
        "outputId": "72853188-e041-4ce9-bb25-f52b7ce68cb6",
        "colab": {
          "base_uri": "https://localhost:8080/",
          "height": 54
        }
      },
      "source": [
        "path1 = \"/content/drive/My Drive/data/books.csv\"\n",
        "books = pd.read_csv(path1, error_bad_lines=False)\n",
        "\n",
        "path2 = \"/content/drive/My Drive/data/tmdb_5000_movies.csv\"\n",
        "movies = pd.read_csv(path2, error_bad_lines=False)\n"
      ],
      "execution_count": 135,
      "outputs": [
        {
          "output_type": "stream",
          "text": [
            "b'Skipping line 4012: expected 10 fields, saw 11\\nSkipping line 5688: expected 10 fields, saw 11\\nSkipping line 7056: expected 10 fields, saw 11\\nSkipping line 10601: expected 10 fields, saw 11\\nSkipping line 10668: expected 10 fields, saw 11\\n'\n"
          ],
          "name": "stderr"
        }
      ]
    },
    {
      "cell_type": "markdown",
      "metadata": {
        "id": "dA5pyQjprO1H",
        "colab_type": "text"
      },
      "source": [
        "### Goodreads: Check for Missing Values"
      ]
    },
    {
      "cell_type": "code",
      "metadata": {
        "id": "_6hvhR8yqu_n",
        "colab_type": "code",
        "outputId": "aa73009f-98cb-469d-96a9-36f065622e65",
        "colab": {
          "base_uri": "https://localhost:8080/",
          "height": 570
        }
      },
      "source": [
        "books.isna().sum()\n",
        "books.dropna()"
      ],
      "execution_count": 136,
      "outputs": [
        {
          "output_type": "execute_result",
          "data": {
            "text/html": [
              "<div>\n",
              "<style scoped>\n",
              "    .dataframe tbody tr th:only-of-type {\n",
              "        vertical-align: middle;\n",
              "    }\n",
              "\n",
              "    .dataframe tbody tr th {\n",
              "        vertical-align: top;\n",
              "    }\n",
              "\n",
              "    .dataframe thead th {\n",
              "        text-align: right;\n",
              "    }\n",
              "</style>\n",
              "<table border=\"1\" class=\"dataframe\">\n",
              "  <thead>\n",
              "    <tr style=\"text-align: right;\">\n",
              "      <th></th>\n",
              "      <th>bookID</th>\n",
              "      <th>title</th>\n",
              "      <th>authors</th>\n",
              "      <th>average_rating</th>\n",
              "      <th>isbn</th>\n",
              "      <th>isbn13</th>\n",
              "      <th>language_code</th>\n",
              "      <th># num_pages</th>\n",
              "      <th>ratings_count</th>\n",
              "      <th>text_reviews_count</th>\n",
              "    </tr>\n",
              "  </thead>\n",
              "  <tbody>\n",
              "    <tr>\n",
              "      <th>0</th>\n",
              "      <td>1</td>\n",
              "      <td>Harry Potter and the Half-Blood Prince (Harry Potter  #6)</td>\n",
              "      <td>J.K. Rowling-Mary GrandPré</td>\n",
              "      <td>4.56</td>\n",
              "      <td>0439785960</td>\n",
              "      <td>9780439785969</td>\n",
              "      <td>eng</td>\n",
              "      <td>652</td>\n",
              "      <td>1944099</td>\n",
              "      <td>26249</td>\n",
              "    </tr>\n",
              "    <tr>\n",
              "      <th>1</th>\n",
              "      <td>2</td>\n",
              "      <td>Harry Potter and the Order of the Phoenix (Harry Potter  #5)</td>\n",
              "      <td>J.K. Rowling-Mary GrandPré</td>\n",
              "      <td>4.49</td>\n",
              "      <td>0439358078</td>\n",
              "      <td>9780439358071</td>\n",
              "      <td>eng</td>\n",
              "      <td>870</td>\n",
              "      <td>1996446</td>\n",
              "      <td>27613</td>\n",
              "    </tr>\n",
              "    <tr>\n",
              "      <th>2</th>\n",
              "      <td>3</td>\n",
              "      <td>Harry Potter and the Sorcerer's Stone (Harry Potter  #1)</td>\n",
              "      <td>J.K. Rowling-Mary GrandPré</td>\n",
              "      <td>4.47</td>\n",
              "      <td>0439554934</td>\n",
              "      <td>9780439554930</td>\n",
              "      <td>eng</td>\n",
              "      <td>320</td>\n",
              "      <td>5629932</td>\n",
              "      <td>70390</td>\n",
              "    </tr>\n",
              "    <tr>\n",
              "      <th>3</th>\n",
              "      <td>4</td>\n",
              "      <td>Harry Potter and the Chamber of Secrets (Harry Potter  #2)</td>\n",
              "      <td>J.K. Rowling</td>\n",
              "      <td>4.41</td>\n",
              "      <td>0439554896</td>\n",
              "      <td>9780439554893</td>\n",
              "      <td>eng</td>\n",
              "      <td>352</td>\n",
              "      <td>6267</td>\n",
              "      <td>272</td>\n",
              "    </tr>\n",
              "    <tr>\n",
              "      <th>4</th>\n",
              "      <td>5</td>\n",
              "      <td>Harry Potter and the Prisoner of Azkaban (Harry Potter  #3)</td>\n",
              "      <td>J.K. Rowling-Mary GrandPré</td>\n",
              "      <td>4.55</td>\n",
              "      <td>043965548X</td>\n",
              "      <td>9780439655484</td>\n",
              "      <td>eng</td>\n",
              "      <td>435</td>\n",
              "      <td>2149872</td>\n",
              "      <td>33964</td>\n",
              "    </tr>\n",
              "    <tr>\n",
              "      <th>...</th>\n",
              "      <td>...</td>\n",
              "      <td>...</td>\n",
              "      <td>...</td>\n",
              "      <td>...</td>\n",
              "      <td>...</td>\n",
              "      <td>...</td>\n",
              "      <td>...</td>\n",
              "      <td>...</td>\n",
              "      <td>...</td>\n",
              "      <td>...</td>\n",
              "    </tr>\n",
              "    <tr>\n",
              "      <th>13709</th>\n",
              "      <td>47699</td>\n",
              "      <td>M Is for Magic</td>\n",
              "      <td>Neil Gaiman-Teddy Kristiansen</td>\n",
              "      <td>3.82</td>\n",
              "      <td>0061186422</td>\n",
              "      <td>9780061186424</td>\n",
              "      <td>eng</td>\n",
              "      <td>260</td>\n",
              "      <td>11317</td>\n",
              "      <td>1060</td>\n",
              "    </tr>\n",
              "    <tr>\n",
              "      <th>13710</th>\n",
              "      <td>47700</td>\n",
              "      <td>Black Orchid</td>\n",
              "      <td>Neil Gaiman-Dave McKean</td>\n",
              "      <td>3.72</td>\n",
              "      <td>0930289552</td>\n",
              "      <td>9780930289553</td>\n",
              "      <td>eng</td>\n",
              "      <td>160</td>\n",
              "      <td>8710</td>\n",
              "      <td>361</td>\n",
              "    </tr>\n",
              "    <tr>\n",
              "      <th>13711</th>\n",
              "      <td>47701</td>\n",
              "      <td>InterWorld (InterWorld  #1)</td>\n",
              "      <td>Neil Gaiman-Michael Reaves</td>\n",
              "      <td>3.53</td>\n",
              "      <td>0061238961</td>\n",
              "      <td>9780061238963</td>\n",
              "      <td>en-US</td>\n",
              "      <td>239</td>\n",
              "      <td>14334</td>\n",
              "      <td>1485</td>\n",
              "    </tr>\n",
              "    <tr>\n",
              "      <th>13712</th>\n",
              "      <td>47708</td>\n",
              "      <td>The Faeries' Oracle</td>\n",
              "      <td>Brian Froud-Jessica Macbeth</td>\n",
              "      <td>4.43</td>\n",
              "      <td>0743201116</td>\n",
              "      <td>9780743201117</td>\n",
              "      <td>eng</td>\n",
              "      <td>224</td>\n",
              "      <td>1550</td>\n",
              "      <td>38</td>\n",
              "    </tr>\n",
              "    <tr>\n",
              "      <th>13713</th>\n",
              "      <td>47709</td>\n",
              "      <td>The World of The Dark Crystal</td>\n",
              "      <td>Brian Froud</td>\n",
              "      <td>4.29</td>\n",
              "      <td>1862056242</td>\n",
              "      <td>9781862056244</td>\n",
              "      <td>eng</td>\n",
              "      <td>132</td>\n",
              "      <td>3572</td>\n",
              "      <td>33</td>\n",
              "    </tr>\n",
              "  </tbody>\n",
              "</table>\n",
              "<p>13714 rows × 10 columns</p>\n",
              "</div>"
            ],
            "text/plain": [
              "       bookID  ... text_reviews_count\n",
              "0           1  ...              26249\n",
              "1           2  ...              27613\n",
              "2           3  ...              70390\n",
              "3           4  ...                272\n",
              "4           5  ...              33964\n",
              "...       ...  ...                ...\n",
              "13709   47699  ...               1060\n",
              "13710   47700  ...                361\n",
              "13711   47701  ...               1485\n",
              "13712   47708  ...                 38\n",
              "13713   47709  ...                 33\n",
              "\n",
              "[13714 rows x 10 columns]"
            ]
          },
          "metadata": {
            "tags": []
          },
          "execution_count": 136
        }
      ]
    },
    {
      "cell_type": "markdown",
      "metadata": {
        "id": "3FrwTbrurWI0",
        "colab_type": "text"
      },
      "source": [
        "### Goodreads dataset has no missing values"
      ]
    },
    {
      "cell_type": "markdown",
      "metadata": {
        "id": "XJ0c2aPTeuDc",
        "colab_type": "text"
      },
      "source": [
        "### Goodreads descriptives"
      ]
    },
    {
      "cell_type": "code",
      "metadata": {
        "id": "LubAVYZWrUjc",
        "colab_type": "code",
        "outputId": "003f9ebc-b359-429a-a521-e141d712847c",
        "colab": {
          "base_uri": "https://localhost:8080/",
          "height": 478
        }
      },
      "source": [
        "books.head(10)"
      ],
      "execution_count": 137,
      "outputs": [
        {
          "output_type": "execute_result",
          "data": {
            "text/html": [
              "<div>\n",
              "<style scoped>\n",
              "    .dataframe tbody tr th:only-of-type {\n",
              "        vertical-align: middle;\n",
              "    }\n",
              "\n",
              "    .dataframe tbody tr th {\n",
              "        vertical-align: top;\n",
              "    }\n",
              "\n",
              "    .dataframe thead th {\n",
              "        text-align: right;\n",
              "    }\n",
              "</style>\n",
              "<table border=\"1\" class=\"dataframe\">\n",
              "  <thead>\n",
              "    <tr style=\"text-align: right;\">\n",
              "      <th></th>\n",
              "      <th>bookID</th>\n",
              "      <th>title</th>\n",
              "      <th>authors</th>\n",
              "      <th>average_rating</th>\n",
              "      <th>isbn</th>\n",
              "      <th>isbn13</th>\n",
              "      <th>language_code</th>\n",
              "      <th># num_pages</th>\n",
              "      <th>ratings_count</th>\n",
              "      <th>text_reviews_count</th>\n",
              "    </tr>\n",
              "  </thead>\n",
              "  <tbody>\n",
              "    <tr>\n",
              "      <th>0</th>\n",
              "      <td>1</td>\n",
              "      <td>Harry Potter and the Half-Blood Prince (Harry Potter  #6)</td>\n",
              "      <td>J.K. Rowling-Mary GrandPré</td>\n",
              "      <td>4.56</td>\n",
              "      <td>0439785960</td>\n",
              "      <td>9780439785969</td>\n",
              "      <td>eng</td>\n",
              "      <td>652</td>\n",
              "      <td>1944099</td>\n",
              "      <td>26249</td>\n",
              "    </tr>\n",
              "    <tr>\n",
              "      <th>1</th>\n",
              "      <td>2</td>\n",
              "      <td>Harry Potter and the Order of the Phoenix (Harry Potter  #5)</td>\n",
              "      <td>J.K. Rowling-Mary GrandPré</td>\n",
              "      <td>4.49</td>\n",
              "      <td>0439358078</td>\n",
              "      <td>9780439358071</td>\n",
              "      <td>eng</td>\n",
              "      <td>870</td>\n",
              "      <td>1996446</td>\n",
              "      <td>27613</td>\n",
              "    </tr>\n",
              "    <tr>\n",
              "      <th>2</th>\n",
              "      <td>3</td>\n",
              "      <td>Harry Potter and the Sorcerer's Stone (Harry Potter  #1)</td>\n",
              "      <td>J.K. Rowling-Mary GrandPré</td>\n",
              "      <td>4.47</td>\n",
              "      <td>0439554934</td>\n",
              "      <td>9780439554930</td>\n",
              "      <td>eng</td>\n",
              "      <td>320</td>\n",
              "      <td>5629932</td>\n",
              "      <td>70390</td>\n",
              "    </tr>\n",
              "    <tr>\n",
              "      <th>3</th>\n",
              "      <td>4</td>\n",
              "      <td>Harry Potter and the Chamber of Secrets (Harry Potter  #2)</td>\n",
              "      <td>J.K. Rowling</td>\n",
              "      <td>4.41</td>\n",
              "      <td>0439554896</td>\n",
              "      <td>9780439554893</td>\n",
              "      <td>eng</td>\n",
              "      <td>352</td>\n",
              "      <td>6267</td>\n",
              "      <td>272</td>\n",
              "    </tr>\n",
              "    <tr>\n",
              "      <th>4</th>\n",
              "      <td>5</td>\n",
              "      <td>Harry Potter and the Prisoner of Azkaban (Harry Potter  #3)</td>\n",
              "      <td>J.K. Rowling-Mary GrandPré</td>\n",
              "      <td>4.55</td>\n",
              "      <td>043965548X</td>\n",
              "      <td>9780439655484</td>\n",
              "      <td>eng</td>\n",
              "      <td>435</td>\n",
              "      <td>2149872</td>\n",
              "      <td>33964</td>\n",
              "    </tr>\n",
              "    <tr>\n",
              "      <th>5</th>\n",
              "      <td>8</td>\n",
              "      <td>Harry Potter Boxed Set  Books 1-5 (Harry Potter  #1-5)</td>\n",
              "      <td>J.K. Rowling-Mary GrandPré</td>\n",
              "      <td>4.78</td>\n",
              "      <td>0439682584</td>\n",
              "      <td>9780439682589</td>\n",
              "      <td>eng</td>\n",
              "      <td>2690</td>\n",
              "      <td>38872</td>\n",
              "      <td>154</td>\n",
              "    </tr>\n",
              "    <tr>\n",
              "      <th>6</th>\n",
              "      <td>9</td>\n",
              "      <td>Unauthorized Harry Potter Book Seven News: \"Half-Blood Prince\" Analysis and Speculation</td>\n",
              "      <td>W. Frederick Zimmerman</td>\n",
              "      <td>3.69</td>\n",
              "      <td>0976540606</td>\n",
              "      <td>9780976540601</td>\n",
              "      <td>en-US</td>\n",
              "      <td>152</td>\n",
              "      <td>18</td>\n",
              "      <td>1</td>\n",
              "    </tr>\n",
              "    <tr>\n",
              "      <th>7</th>\n",
              "      <td>10</td>\n",
              "      <td>Harry Potter Collection (Harry Potter  #1-6)</td>\n",
              "      <td>J.K. Rowling</td>\n",
              "      <td>4.73</td>\n",
              "      <td>0439827604</td>\n",
              "      <td>9780439827607</td>\n",
              "      <td>eng</td>\n",
              "      <td>3342</td>\n",
              "      <td>27410</td>\n",
              "      <td>820</td>\n",
              "    </tr>\n",
              "    <tr>\n",
              "      <th>8</th>\n",
              "      <td>12</td>\n",
              "      <td>The Ultimate Hitchhiker's Guide: Five Complete Novels and One Story (Hitchhiker's Guide to the G...</td>\n",
              "      <td>Douglas Adams</td>\n",
              "      <td>4.38</td>\n",
              "      <td>0517226952</td>\n",
              "      <td>9780517226957</td>\n",
              "      <td>eng</td>\n",
              "      <td>815</td>\n",
              "      <td>3602</td>\n",
              "      <td>258</td>\n",
              "    </tr>\n",
              "    <tr>\n",
              "      <th>9</th>\n",
              "      <td>13</td>\n",
              "      <td>The Ultimate Hitchhiker's Guide to the Galaxy</td>\n",
              "      <td>Douglas Adams</td>\n",
              "      <td>4.38</td>\n",
              "      <td>0345453743</td>\n",
              "      <td>9780345453747</td>\n",
              "      <td>eng</td>\n",
              "      <td>815</td>\n",
              "      <td>240189</td>\n",
              "      <td>3954</td>\n",
              "    </tr>\n",
              "  </tbody>\n",
              "</table>\n",
              "</div>"
            ],
            "text/plain": [
              "   bookID  ... text_reviews_count\n",
              "0       1  ...              26249\n",
              "1       2  ...              27613\n",
              "2       3  ...              70390\n",
              "3       4  ...                272\n",
              "4       5  ...              33964\n",
              "5       8  ...                154\n",
              "6       9  ...                  1\n",
              "7      10  ...                820\n",
              "8      12  ...                258\n",
              "9      13  ...               3954\n",
              "\n",
              "[10 rows x 10 columns]"
            ]
          },
          "metadata": {
            "tags": []
          },
          "execution_count": 137
        }
      ]
    },
    {
      "cell_type": "markdown",
      "metadata": {
        "id": "HZ3eagQcrsUq",
        "colab_type": "text"
      },
      "source": [
        "### Notice how there are several formats for J.K. Rowling's name, and at least two language codes for English (eng & en-US)\n",
        "\n",
        "### Implies some cleaning will need to be done"
      ]
    },
    {
      "cell_type": "markdown",
      "metadata": {
        "id": "jFpfbtfBrX-0",
        "colab_type": "text"
      },
      "source": [
        "Changes language code 'en-US' to 'eng'"
      ]
    },
    {
      "cell_type": "code",
      "metadata": {
        "id": "2KduRDkErEdt",
        "colab_type": "code",
        "colab": {}
      },
      "source": [
        "books.loc[(books['language_code'] == 'en-US'), 'language_code'] = 'eng'\n"
      ],
      "execution_count": 0,
      "outputs": []
    },
    {
      "cell_type": "code",
      "metadata": {
        "id": "wBeTX2ZErjGn",
        "colab_type": "code",
        "outputId": "df219326-a5ce-49cd-f253-e2f4a9ff04e6",
        "colab": {
          "base_uri": "https://localhost:8080/",
          "height": 269
        }
      },
      "source": [
        "books.info()"
      ],
      "execution_count": 139,
      "outputs": [
        {
          "output_type": "stream",
          "text": [
            "<class 'pandas.core.frame.DataFrame'>\n",
            "RangeIndex: 13714 entries, 0 to 13713\n",
            "Data columns (total 10 columns):\n",
            "bookID                13714 non-null int64\n",
            "title                 13714 non-null object\n",
            "authors               13714 non-null object\n",
            "average_rating        13714 non-null float64\n",
            "isbn                  13714 non-null object\n",
            "isbn13                13714 non-null int64\n",
            "language_code         13714 non-null object\n",
            "# num_pages           13714 non-null int64\n",
            "ratings_count         13714 non-null int64\n",
            "text_reviews_count    13714 non-null int64\n",
            "dtypes: float64(1), int64(5), object(4)\n",
            "memory usage: 1.0+ MB\n"
          ],
          "name": "stdout"
        }
      ]
    },
    {
      "cell_type": "code",
      "metadata": {
        "id": "_KZC7i6Cr62j",
        "colab_type": "code",
        "outputId": "39f25885-669c-434a-dc73-8a86d1d1f85e",
        "colab": {
          "base_uri": "https://localhost:8080/",
          "height": 225
        }
      },
      "source": [
        "books.describe().T"
      ],
      "execution_count": 140,
      "outputs": [
        {
          "output_type": "execute_result",
          "data": {
            "text/html": [
              "<div>\n",
              "<style scoped>\n",
              "    .dataframe tbody tr th:only-of-type {\n",
              "        vertical-align: middle;\n",
              "    }\n",
              "\n",
              "    .dataframe tbody tr th {\n",
              "        vertical-align: top;\n",
              "    }\n",
              "\n",
              "    .dataframe thead th {\n",
              "        text-align: right;\n",
              "    }\n",
              "</style>\n",
              "<table border=\"1\" class=\"dataframe\">\n",
              "  <thead>\n",
              "    <tr style=\"text-align: right;\">\n",
              "      <th></th>\n",
              "      <th>count</th>\n",
              "      <th>mean</th>\n",
              "      <th>std</th>\n",
              "      <th>min</th>\n",
              "      <th>25%</th>\n",
              "      <th>50%</th>\n",
              "      <th>75%</th>\n",
              "      <th>max</th>\n",
              "    </tr>\n",
              "  </thead>\n",
              "  <tbody>\n",
              "    <tr>\n",
              "      <th>bookID</th>\n",
              "      <td>13714.00</td>\n",
              "      <td>22159.86</td>\n",
              "      <td>13700.93</td>\n",
              "      <td>1.00</td>\n",
              "      <td>10619.25</td>\n",
              "      <td>21321.50</td>\n",
              "      <td>33311.75</td>\n",
              "      <td>47709.00</td>\n",
              "    </tr>\n",
              "    <tr>\n",
              "      <th>average_rating</th>\n",
              "      <td>13714.00</td>\n",
              "      <td>3.93</td>\n",
              "      <td>0.36</td>\n",
              "      <td>0.00</td>\n",
              "      <td>3.77</td>\n",
              "      <td>3.96</td>\n",
              "      <td>4.13</td>\n",
              "      <td>5.00</td>\n",
              "    </tr>\n",
              "    <tr>\n",
              "      <th>isbn13</th>\n",
              "      <td>13714.00</td>\n",
              "      <td>9764017227989.42</td>\n",
              "      <td>398767945696.43</td>\n",
              "      <td>8987059752.00</td>\n",
              "      <td>9780345473276.50</td>\n",
              "      <td>9780613030131.00</td>\n",
              "      <td>9780940450710.00</td>\n",
              "      <td>9790007672386.00</td>\n",
              "    </tr>\n",
              "    <tr>\n",
              "      <th># num_pages</th>\n",
              "      <td>13714.00</td>\n",
              "      <td>342.40</td>\n",
              "      <td>252.65</td>\n",
              "      <td>0.00</td>\n",
              "      <td>196.00</td>\n",
              "      <td>301.00</td>\n",
              "      <td>421.00</td>\n",
              "      <td>6576.00</td>\n",
              "    </tr>\n",
              "    <tr>\n",
              "      <th>ratings_count</th>\n",
              "      <td>13714.00</td>\n",
              "      <td>17765.40</td>\n",
              "      <td>112957.23</td>\n",
              "      <td>0.00</td>\n",
              "      <td>83.00</td>\n",
              "      <td>630.50</td>\n",
              "      <td>4742.25</td>\n",
              "      <td>5629932.00</td>\n",
              "    </tr>\n",
              "    <tr>\n",
              "      <th>text_reviews_count</th>\n",
              "      <td>13714.00</td>\n",
              "      <td>533.63</td>\n",
              "      <td>2529.01</td>\n",
              "      <td>0.00</td>\n",
              "      <td>7.00</td>\n",
              "      <td>40.00</td>\n",
              "      <td>222.00</td>\n",
              "      <td>93619.00</td>\n",
              "    </tr>\n",
              "  </tbody>\n",
              "</table>\n",
              "</div>"
            ],
            "text/plain": [
              "                      count             mean  ...              75%              max\n",
              "bookID             13714.00         22159.86  ...         33311.75         47709.00\n",
              "average_rating     13714.00             3.93  ...             4.13             5.00\n",
              "isbn13             13714.00 9764017227989.42  ... 9780940450710.00 9790007672386.00\n",
              "# num_pages        13714.00           342.40  ...           421.00          6576.00\n",
              "ratings_count      13714.00         17765.40  ...          4742.25       5629932.00\n",
              "text_reviews_count 13714.00           533.63  ...           222.00         93619.00\n",
              "\n",
              "[6 rows x 8 columns]"
            ]
          },
          "metadata": {
            "tags": []
          },
          "execution_count": 140
        }
      ]
    },
    {
      "cell_type": "markdown",
      "metadata": {
        "id": "SkAHPtubQMff",
        "colab_type": "text"
      },
      "source": [
        "### Movies: Check for Missing Values"
      ]
    },
    {
      "cell_type": "code",
      "metadata": {
        "id": "NI_iD_puQF2_",
        "colab_type": "code",
        "outputId": "1ab63454-ed94-4c91-8bbc-806e88dec241",
        "colab": {
          "base_uri": "https://localhost:8080/",
          "height": 370
        }
      },
      "source": [
        "movies.isna().sum()"
      ],
      "execution_count": 141,
      "outputs": [
        {
          "output_type": "execute_result",
          "data": {
            "text/plain": [
              "budget                     0\n",
              "genres                     0\n",
              "homepage                3091\n",
              "id                         0\n",
              "keywords                   0\n",
              "original_language          0\n",
              "original_title             0\n",
              "overview                   3\n",
              "popularity                 0\n",
              "production_companies       0\n",
              "production_countries       0\n",
              "release_date               1\n",
              "revenue                    0\n",
              "runtime                    2\n",
              "spoken_languages           0\n",
              "status                     0\n",
              "tagline                  844\n",
              "title                      0\n",
              "vote_average               0\n",
              "vote_count                 0\n",
              "dtype: int64"
            ]
          },
          "metadata": {
            "tags": []
          },
          "execution_count": 141
        }
      ]
    },
    {
      "cell_type": "markdown",
      "metadata": {
        "id": "NEUmvTq_QQYN",
        "colab_type": "text"
      },
      "source": [
        "We see that the 'homepage' and 'tagline' fields are empty for many entries, but these are values we are not concerned with. \n",
        "\n",
        "There are also a few (<=3) for other fields, but since they are so few these can likely be dropped with no effect."
      ]
    },
    {
      "cell_type": "markdown",
      "metadata": {
        "id": "ITjTsPR7e2qR",
        "colab_type": "text"
      },
      "source": [
        "### Movie descriptives"
      ]
    },
    {
      "cell_type": "code",
      "metadata": {
        "id": "B7B5rc7ufKUm",
        "colab_type": "code",
        "outputId": "0758a0bb-0a7c-41c1-9903-903a30fb4473",
        "colab": {
          "base_uri": "https://localhost:8080/",
          "height": 1000
        }
      },
      "source": [
        "movies.head(10)"
      ],
      "execution_count": 142,
      "outputs": [
        {
          "output_type": "execute_result",
          "data": {
            "text/html": [
              "<div>\n",
              "<style scoped>\n",
              "    .dataframe tbody tr th:only-of-type {\n",
              "        vertical-align: middle;\n",
              "    }\n",
              "\n",
              "    .dataframe tbody tr th {\n",
              "        vertical-align: top;\n",
              "    }\n",
              "\n",
              "    .dataframe thead th {\n",
              "        text-align: right;\n",
              "    }\n",
              "</style>\n",
              "<table border=\"1\" class=\"dataframe\">\n",
              "  <thead>\n",
              "    <tr style=\"text-align: right;\">\n",
              "      <th></th>\n",
              "      <th>budget</th>\n",
              "      <th>genres</th>\n",
              "      <th>homepage</th>\n",
              "      <th>id</th>\n",
              "      <th>keywords</th>\n",
              "      <th>original_language</th>\n",
              "      <th>original_title</th>\n",
              "      <th>overview</th>\n",
              "      <th>popularity</th>\n",
              "      <th>production_companies</th>\n",
              "      <th>production_countries</th>\n",
              "      <th>release_date</th>\n",
              "      <th>revenue</th>\n",
              "      <th>runtime</th>\n",
              "      <th>spoken_languages</th>\n",
              "      <th>status</th>\n",
              "      <th>tagline</th>\n",
              "      <th>title</th>\n",
              "      <th>vote_average</th>\n",
              "      <th>vote_count</th>\n",
              "    </tr>\n",
              "  </thead>\n",
              "  <tbody>\n",
              "    <tr>\n",
              "      <th>0</th>\n",
              "      <td>237000000</td>\n",
              "      <td>[{\"id\": 28, \"name\": \"Action\"}, {\"id\": 12, \"name\": \"Adventure\"}, {\"id\": 14, \"name\": \"Fantasy\"}, {...</td>\n",
              "      <td>http://www.avatarmovie.com/</td>\n",
              "      <td>19995</td>\n",
              "      <td>[{\"id\": 1463, \"name\": \"culture clash\"}, {\"id\": 2964, \"name\": \"future\"}, {\"id\": 3386, \"name\": \"sp...</td>\n",
              "      <td>en</td>\n",
              "      <td>Avatar</td>\n",
              "      <td>In the 22nd century, a paraplegic Marine is dispatched to the moon Pandora on a unique mission, ...</td>\n",
              "      <td>150.44</td>\n",
              "      <td>[{\"name\": \"Ingenious Film Partners\", \"id\": 289}, {\"name\": \"Twentieth Century Fox Film Corporatio...</td>\n",
              "      <td>[{\"iso_3166_1\": \"US\", \"name\": \"United States of America\"}, {\"iso_3166_1\": \"GB\", \"name\": \"United ...</td>\n",
              "      <td>2009-12-10</td>\n",
              "      <td>2787965087</td>\n",
              "      <td>162.00</td>\n",
              "      <td>[{\"iso_639_1\": \"en\", \"name\": \"English\"}, {\"iso_639_1\": \"es\", \"name\": \"Espa\\u00f1ol\"}]</td>\n",
              "      <td>Released</td>\n",
              "      <td>Enter the World of Pandora.</td>\n",
              "      <td>Avatar</td>\n",
              "      <td>7.20</td>\n",
              "      <td>11800</td>\n",
              "    </tr>\n",
              "    <tr>\n",
              "      <th>1</th>\n",
              "      <td>300000000</td>\n",
              "      <td>[{\"id\": 12, \"name\": \"Adventure\"}, {\"id\": 14, \"name\": \"Fantasy\"}, {\"id\": 28, \"name\": \"Action\"}]</td>\n",
              "      <td>http://disney.go.com/disneypictures/pirates/</td>\n",
              "      <td>285</td>\n",
              "      <td>[{\"id\": 270, \"name\": \"ocean\"}, {\"id\": 726, \"name\": \"drug abuse\"}, {\"id\": 911, \"name\": \"exotic is...</td>\n",
              "      <td>en</td>\n",
              "      <td>Pirates of the Caribbean: At World's End</td>\n",
              "      <td>Captain Barbossa, long believed to be dead, has come back to life and is headed to the edge of t...</td>\n",
              "      <td>139.08</td>\n",
              "      <td>[{\"name\": \"Walt Disney Pictures\", \"id\": 2}, {\"name\": \"Jerry Bruckheimer Films\", \"id\": 130}, {\"na...</td>\n",
              "      <td>[{\"iso_3166_1\": \"US\", \"name\": \"United States of America\"}]</td>\n",
              "      <td>2007-05-19</td>\n",
              "      <td>961000000</td>\n",
              "      <td>169.00</td>\n",
              "      <td>[{\"iso_639_1\": \"en\", \"name\": \"English\"}]</td>\n",
              "      <td>Released</td>\n",
              "      <td>At the end of the world, the adventure begins.</td>\n",
              "      <td>Pirates of the Caribbean: At World's End</td>\n",
              "      <td>6.90</td>\n",
              "      <td>4500</td>\n",
              "    </tr>\n",
              "    <tr>\n",
              "      <th>2</th>\n",
              "      <td>245000000</td>\n",
              "      <td>[{\"id\": 28, \"name\": \"Action\"}, {\"id\": 12, \"name\": \"Adventure\"}, {\"id\": 80, \"name\": \"Crime\"}]</td>\n",
              "      <td>http://www.sonypictures.com/movies/spectre/</td>\n",
              "      <td>206647</td>\n",
              "      <td>[{\"id\": 470, \"name\": \"spy\"}, {\"id\": 818, \"name\": \"based on novel\"}, {\"id\": 4289, \"name\": \"secret...</td>\n",
              "      <td>en</td>\n",
              "      <td>Spectre</td>\n",
              "      <td>A cryptic message from Bond’s past sends him on a trail to uncover a sinister organization. Whil...</td>\n",
              "      <td>107.38</td>\n",
              "      <td>[{\"name\": \"Columbia Pictures\", \"id\": 5}, {\"name\": \"Danjaq\", \"id\": 10761}, {\"name\": \"B24\", \"id\": ...</td>\n",
              "      <td>[{\"iso_3166_1\": \"GB\", \"name\": \"United Kingdom\"}, {\"iso_3166_1\": \"US\", \"name\": \"United States of ...</td>\n",
              "      <td>2015-10-26</td>\n",
              "      <td>880674609</td>\n",
              "      <td>148.00</td>\n",
              "      <td>[{\"iso_639_1\": \"fr\", \"name\": \"Fran\\u00e7ais\"}, {\"iso_639_1\": \"en\", \"name\": \"English\"}, {\"iso_639...</td>\n",
              "      <td>Released</td>\n",
              "      <td>A Plan No One Escapes</td>\n",
              "      <td>Spectre</td>\n",
              "      <td>6.30</td>\n",
              "      <td>4466</td>\n",
              "    </tr>\n",
              "    <tr>\n",
              "      <th>3</th>\n",
              "      <td>250000000</td>\n",
              "      <td>[{\"id\": 28, \"name\": \"Action\"}, {\"id\": 80, \"name\": \"Crime\"}, {\"id\": 18, \"name\": \"Drama\"}, {\"id\": ...</td>\n",
              "      <td>http://www.thedarkknightrises.com/</td>\n",
              "      <td>49026</td>\n",
              "      <td>[{\"id\": 849, \"name\": \"dc comics\"}, {\"id\": 853, \"name\": \"crime fighter\"}, {\"id\": 949, \"name\": \"te...</td>\n",
              "      <td>en</td>\n",
              "      <td>The Dark Knight Rises</td>\n",
              "      <td>Following the death of District Attorney Harvey Dent, Batman assumes responsibility for Dent's c...</td>\n",
              "      <td>112.31</td>\n",
              "      <td>[{\"name\": \"Legendary Pictures\", \"id\": 923}, {\"name\": \"Warner Bros.\", \"id\": 6194}, {\"name\": \"DC E...</td>\n",
              "      <td>[{\"iso_3166_1\": \"US\", \"name\": \"United States of America\"}]</td>\n",
              "      <td>2012-07-16</td>\n",
              "      <td>1084939099</td>\n",
              "      <td>165.00</td>\n",
              "      <td>[{\"iso_639_1\": \"en\", \"name\": \"English\"}]</td>\n",
              "      <td>Released</td>\n",
              "      <td>The Legend Ends</td>\n",
              "      <td>The Dark Knight Rises</td>\n",
              "      <td>7.60</td>\n",
              "      <td>9106</td>\n",
              "    </tr>\n",
              "    <tr>\n",
              "      <th>4</th>\n",
              "      <td>260000000</td>\n",
              "      <td>[{\"id\": 28, \"name\": \"Action\"}, {\"id\": 12, \"name\": \"Adventure\"}, {\"id\": 878, \"name\": \"Science Fic...</td>\n",
              "      <td>http://movies.disney.com/john-carter</td>\n",
              "      <td>49529</td>\n",
              "      <td>[{\"id\": 818, \"name\": \"based on novel\"}, {\"id\": 839, \"name\": \"mars\"}, {\"id\": 1456, \"name\": \"medal...</td>\n",
              "      <td>en</td>\n",
              "      <td>John Carter</td>\n",
              "      <td>John Carter is a war-weary, former military captain who's inexplicably transported to the myster...</td>\n",
              "      <td>43.93</td>\n",
              "      <td>[{\"name\": \"Walt Disney Pictures\", \"id\": 2}]</td>\n",
              "      <td>[{\"iso_3166_1\": \"US\", \"name\": \"United States of America\"}]</td>\n",
              "      <td>2012-03-07</td>\n",
              "      <td>284139100</td>\n",
              "      <td>132.00</td>\n",
              "      <td>[{\"iso_639_1\": \"en\", \"name\": \"English\"}]</td>\n",
              "      <td>Released</td>\n",
              "      <td>Lost in our world, found in another.</td>\n",
              "      <td>John Carter</td>\n",
              "      <td>6.10</td>\n",
              "      <td>2124</td>\n",
              "    </tr>\n",
              "    <tr>\n",
              "      <th>5</th>\n",
              "      <td>258000000</td>\n",
              "      <td>[{\"id\": 14, \"name\": \"Fantasy\"}, {\"id\": 28, \"name\": \"Action\"}, {\"id\": 12, \"name\": \"Adventure\"}]</td>\n",
              "      <td>http://www.sonypictures.com/movies/spider-man3/</td>\n",
              "      <td>559</td>\n",
              "      <td>[{\"id\": 851, \"name\": \"dual identity\"}, {\"id\": 1453, \"name\": \"amnesia\"}, {\"id\": 1965, \"name\": \"sa...</td>\n",
              "      <td>en</td>\n",
              "      <td>Spider-Man 3</td>\n",
              "      <td>The seemingly invincible Spider-Man goes up against an all-new crop of villain – including the s...</td>\n",
              "      <td>115.70</td>\n",
              "      <td>[{\"name\": \"Columbia Pictures\", \"id\": 5}, {\"name\": \"Laura Ziskin Productions\", \"id\": 326}, {\"name...</td>\n",
              "      <td>[{\"iso_3166_1\": \"US\", \"name\": \"United States of America\"}]</td>\n",
              "      <td>2007-05-01</td>\n",
              "      <td>890871626</td>\n",
              "      <td>139.00</td>\n",
              "      <td>[{\"iso_639_1\": \"en\", \"name\": \"English\"}, {\"iso_639_1\": \"fr\", \"name\": \"Fran\\u00e7ais\"}]</td>\n",
              "      <td>Released</td>\n",
              "      <td>The battle within.</td>\n",
              "      <td>Spider-Man 3</td>\n",
              "      <td>5.90</td>\n",
              "      <td>3576</td>\n",
              "    </tr>\n",
              "    <tr>\n",
              "      <th>6</th>\n",
              "      <td>260000000</td>\n",
              "      <td>[{\"id\": 16, \"name\": \"Animation\"}, {\"id\": 10751, \"name\": \"Family\"}]</td>\n",
              "      <td>http://disney.go.com/disneypictures/tangled/</td>\n",
              "      <td>38757</td>\n",
              "      <td>[{\"id\": 1562, \"name\": \"hostage\"}, {\"id\": 2343, \"name\": \"magic\"}, {\"id\": 2673, \"name\": \"horse\"}, ...</td>\n",
              "      <td>en</td>\n",
              "      <td>Tangled</td>\n",
              "      <td>When the kingdom's most wanted-and most charming-bandit Flynn Rider hides out in a mysterious to...</td>\n",
              "      <td>48.68</td>\n",
              "      <td>[{\"name\": \"Walt Disney Pictures\", \"id\": 2}, {\"name\": \"Walt Disney Animation Studios\", \"id\": 6125}]</td>\n",
              "      <td>[{\"iso_3166_1\": \"US\", \"name\": \"United States of America\"}]</td>\n",
              "      <td>2010-11-24</td>\n",
              "      <td>591794936</td>\n",
              "      <td>100.00</td>\n",
              "      <td>[{\"iso_639_1\": \"en\", \"name\": \"English\"}]</td>\n",
              "      <td>Released</td>\n",
              "      <td>They're taking adventure to new lengths.</td>\n",
              "      <td>Tangled</td>\n",
              "      <td>7.40</td>\n",
              "      <td>3330</td>\n",
              "    </tr>\n",
              "    <tr>\n",
              "      <th>7</th>\n",
              "      <td>280000000</td>\n",
              "      <td>[{\"id\": 28, \"name\": \"Action\"}, {\"id\": 12, \"name\": \"Adventure\"}, {\"id\": 878, \"name\": \"Science Fic...</td>\n",
              "      <td>http://marvel.com/movies/movie/193/avengers_age_of_ultron</td>\n",
              "      <td>99861</td>\n",
              "      <td>[{\"id\": 8828, \"name\": \"marvel comic\"}, {\"id\": 9663, \"name\": \"sequel\"}, {\"id\": 9715, \"name\": \"sup...</td>\n",
              "      <td>en</td>\n",
              "      <td>Avengers: Age of Ultron</td>\n",
              "      <td>When Tony Stark tries to jumpstart a dormant peacekeeping program, things go awry and Earth’s Mi...</td>\n",
              "      <td>134.28</td>\n",
              "      <td>[{\"name\": \"Marvel Studios\", \"id\": 420}, {\"name\": \"Prime Focus\", \"id\": 15357}, {\"name\": \"Revoluti...</td>\n",
              "      <td>[{\"iso_3166_1\": \"US\", \"name\": \"United States of America\"}]</td>\n",
              "      <td>2015-04-22</td>\n",
              "      <td>1405403694</td>\n",
              "      <td>141.00</td>\n",
              "      <td>[{\"iso_639_1\": \"en\", \"name\": \"English\"}]</td>\n",
              "      <td>Released</td>\n",
              "      <td>A New Age Has Come.</td>\n",
              "      <td>Avengers: Age of Ultron</td>\n",
              "      <td>7.30</td>\n",
              "      <td>6767</td>\n",
              "    </tr>\n",
              "    <tr>\n",
              "      <th>8</th>\n",
              "      <td>250000000</td>\n",
              "      <td>[{\"id\": 12, \"name\": \"Adventure\"}, {\"id\": 14, \"name\": \"Fantasy\"}, {\"id\": 10751, \"name\": \"Family\"}]</td>\n",
              "      <td>http://harrypotter.warnerbros.com/harrypotterandthehalf-bloodprince/dvd/index.html</td>\n",
              "      <td>767</td>\n",
              "      <td>[{\"id\": 616, \"name\": \"witch\"}, {\"id\": 2343, \"name\": \"magic\"}, {\"id\": 3872, \"name\": \"broom\"}, {\"i...</td>\n",
              "      <td>en</td>\n",
              "      <td>Harry Potter and the Half-Blood Prince</td>\n",
              "      <td>As Harry begins his sixth year at Hogwarts, he discovers an old book marked as 'Property of the ...</td>\n",
              "      <td>98.89</td>\n",
              "      <td>[{\"name\": \"Warner Bros.\", \"id\": 6194}, {\"name\": \"Heyday Films\", \"id\": 7364}]</td>\n",
              "      <td>[{\"iso_3166_1\": \"GB\", \"name\": \"United Kingdom\"}, {\"iso_3166_1\": \"US\", \"name\": \"United States of ...</td>\n",
              "      <td>2009-07-07</td>\n",
              "      <td>933959197</td>\n",
              "      <td>153.00</td>\n",
              "      <td>[{\"iso_639_1\": \"en\", \"name\": \"English\"}]</td>\n",
              "      <td>Released</td>\n",
              "      <td>Dark Secrets Revealed</td>\n",
              "      <td>Harry Potter and the Half-Blood Prince</td>\n",
              "      <td>7.40</td>\n",
              "      <td>5293</td>\n",
              "    </tr>\n",
              "    <tr>\n",
              "      <th>9</th>\n",
              "      <td>250000000</td>\n",
              "      <td>[{\"id\": 28, \"name\": \"Action\"}, {\"id\": 12, \"name\": \"Adventure\"}, {\"id\": 14, \"name\": \"Fantasy\"}]</td>\n",
              "      <td>http://www.batmanvsupermandawnofjustice.com/</td>\n",
              "      <td>209112</td>\n",
              "      <td>[{\"id\": 849, \"name\": \"dc comics\"}, {\"id\": 7002, \"name\": \"vigilante\"}, {\"id\": 9715, \"name\": \"supe...</td>\n",
              "      <td>en</td>\n",
              "      <td>Batman v Superman: Dawn of Justice</td>\n",
              "      <td>Fearing the actions of a god-like Super Hero left unchecked, Gotham City’s own formidable, force...</td>\n",
              "      <td>155.79</td>\n",
              "      <td>[{\"name\": \"DC Comics\", \"id\": 429}, {\"name\": \"Atlas Entertainment\", \"id\": 507}, {\"name\": \"Warner ...</td>\n",
              "      <td>[{\"iso_3166_1\": \"US\", \"name\": \"United States of America\"}]</td>\n",
              "      <td>2016-03-23</td>\n",
              "      <td>873260194</td>\n",
              "      <td>151.00</td>\n",
              "      <td>[{\"iso_639_1\": \"en\", \"name\": \"English\"}]</td>\n",
              "      <td>Released</td>\n",
              "      <td>Justice or revenge</td>\n",
              "      <td>Batman v Superman: Dawn of Justice</td>\n",
              "      <td>5.70</td>\n",
              "      <td>7004</td>\n",
              "    </tr>\n",
              "  </tbody>\n",
              "</table>\n",
              "</div>"
            ],
            "text/plain": [
              "      budget  ... vote_count\n",
              "0  237000000  ...      11800\n",
              "1  300000000  ...       4500\n",
              "2  245000000  ...       4466\n",
              "3  250000000  ...       9106\n",
              "4  260000000  ...       2124\n",
              "5  258000000  ...       3576\n",
              "6  260000000  ...       3330\n",
              "7  280000000  ...       6767\n",
              "8  250000000  ...       5293\n",
              "9  250000000  ...       7004\n",
              "\n",
              "[10 rows x 20 columns]"
            ]
          },
          "metadata": {
            "tags": []
          },
          "execution_count": 142
        }
      ]
    },
    {
      "cell_type": "code",
      "metadata": {
        "id": "h6yilouUe5Gz",
        "colab_type": "code",
        "outputId": "155ad22b-b69f-4e2b-e36e-49e14271da31",
        "colab": {
          "base_uri": "https://localhost:8080/",
          "height": 437
        }
      },
      "source": [
        "movies.info()"
      ],
      "execution_count": 143,
      "outputs": [
        {
          "output_type": "stream",
          "text": [
            "<class 'pandas.core.frame.DataFrame'>\n",
            "RangeIndex: 4803 entries, 0 to 4802\n",
            "Data columns (total 20 columns):\n",
            "budget                  4803 non-null int64\n",
            "genres                  4803 non-null object\n",
            "homepage                1712 non-null object\n",
            "id                      4803 non-null int64\n",
            "keywords                4803 non-null object\n",
            "original_language       4803 non-null object\n",
            "original_title          4803 non-null object\n",
            "overview                4800 non-null object\n",
            "popularity              4803 non-null float64\n",
            "production_companies    4803 non-null object\n",
            "production_countries    4803 non-null object\n",
            "release_date            4802 non-null object\n",
            "revenue                 4803 non-null int64\n",
            "runtime                 4801 non-null float64\n",
            "spoken_languages        4803 non-null object\n",
            "status                  4803 non-null object\n",
            "tagline                 3959 non-null object\n",
            "title                   4803 non-null object\n",
            "vote_average            4803 non-null float64\n",
            "vote_count              4803 non-null int64\n",
            "dtypes: float64(3), int64(4), object(13)\n",
            "memory usage: 750.6+ KB\n"
          ],
          "name": "stdout"
        }
      ]
    },
    {
      "cell_type": "code",
      "metadata": {
        "id": "LMfbcirUfHiu",
        "colab_type": "code",
        "outputId": "0db4ddbb-8f3a-4290-fe96-78300f1bbc52",
        "colab": {
          "base_uri": "https://localhost:8080/",
          "height": 254
        }
      },
      "source": [
        "movies.describe().T"
      ],
      "execution_count": 144,
      "outputs": [
        {
          "output_type": "execute_result",
          "data": {
            "text/html": [
              "<div>\n",
              "<style scoped>\n",
              "    .dataframe tbody tr th:only-of-type {\n",
              "        vertical-align: middle;\n",
              "    }\n",
              "\n",
              "    .dataframe tbody tr th {\n",
              "        vertical-align: top;\n",
              "    }\n",
              "\n",
              "    .dataframe thead th {\n",
              "        text-align: right;\n",
              "    }\n",
              "</style>\n",
              "<table border=\"1\" class=\"dataframe\">\n",
              "  <thead>\n",
              "    <tr style=\"text-align: right;\">\n",
              "      <th></th>\n",
              "      <th>count</th>\n",
              "      <th>mean</th>\n",
              "      <th>std</th>\n",
              "      <th>min</th>\n",
              "      <th>25%</th>\n",
              "      <th>50%</th>\n",
              "      <th>75%</th>\n",
              "      <th>max</th>\n",
              "    </tr>\n",
              "  </thead>\n",
              "  <tbody>\n",
              "    <tr>\n",
              "      <th>budget</th>\n",
              "      <td>4803.00</td>\n",
              "      <td>29045039.88</td>\n",
              "      <td>40722391.26</td>\n",
              "      <td>0.00</td>\n",
              "      <td>790000.00</td>\n",
              "      <td>15000000.00</td>\n",
              "      <td>40000000.00</td>\n",
              "      <td>380000000.00</td>\n",
              "    </tr>\n",
              "    <tr>\n",
              "      <th>id</th>\n",
              "      <td>4803.00</td>\n",
              "      <td>57165.48</td>\n",
              "      <td>88694.61</td>\n",
              "      <td>5.00</td>\n",
              "      <td>9014.50</td>\n",
              "      <td>14629.00</td>\n",
              "      <td>58610.50</td>\n",
              "      <td>459488.00</td>\n",
              "    </tr>\n",
              "    <tr>\n",
              "      <th>popularity</th>\n",
              "      <td>4803.00</td>\n",
              "      <td>21.49</td>\n",
              "      <td>31.82</td>\n",
              "      <td>0.00</td>\n",
              "      <td>4.67</td>\n",
              "      <td>12.92</td>\n",
              "      <td>28.31</td>\n",
              "      <td>875.58</td>\n",
              "    </tr>\n",
              "    <tr>\n",
              "      <th>revenue</th>\n",
              "      <td>4803.00</td>\n",
              "      <td>82260638.65</td>\n",
              "      <td>162857100.94</td>\n",
              "      <td>0.00</td>\n",
              "      <td>0.00</td>\n",
              "      <td>19170001.00</td>\n",
              "      <td>92917187.00</td>\n",
              "      <td>2787965087.00</td>\n",
              "    </tr>\n",
              "    <tr>\n",
              "      <th>runtime</th>\n",
              "      <td>4801.00</td>\n",
              "      <td>106.88</td>\n",
              "      <td>22.61</td>\n",
              "      <td>0.00</td>\n",
              "      <td>94.00</td>\n",
              "      <td>103.00</td>\n",
              "      <td>118.00</td>\n",
              "      <td>338.00</td>\n",
              "    </tr>\n",
              "    <tr>\n",
              "      <th>vote_average</th>\n",
              "      <td>4803.00</td>\n",
              "      <td>6.09</td>\n",
              "      <td>1.19</td>\n",
              "      <td>0.00</td>\n",
              "      <td>5.60</td>\n",
              "      <td>6.20</td>\n",
              "      <td>6.80</td>\n",
              "      <td>10.00</td>\n",
              "    </tr>\n",
              "    <tr>\n",
              "      <th>vote_count</th>\n",
              "      <td>4803.00</td>\n",
              "      <td>690.22</td>\n",
              "      <td>1234.59</td>\n",
              "      <td>0.00</td>\n",
              "      <td>54.00</td>\n",
              "      <td>235.00</td>\n",
              "      <td>737.00</td>\n",
              "      <td>13752.00</td>\n",
              "    </tr>\n",
              "  </tbody>\n",
              "</table>\n",
              "</div>"
            ],
            "text/plain": [
              "               count        mean  ...         75%           max\n",
              "budget       4803.00 29045039.88  ... 40000000.00  380000000.00\n",
              "id           4803.00    57165.48  ...    58610.50     459488.00\n",
              "popularity   4803.00       21.49  ...       28.31        875.58\n",
              "revenue      4803.00 82260638.65  ... 92917187.00 2787965087.00\n",
              "runtime      4801.00      106.88  ...      118.00        338.00\n",
              "vote_average 4803.00        6.09  ...        6.80         10.00\n",
              "vote_count   4803.00      690.22  ...      737.00      13752.00\n",
              "\n",
              "[7 rows x 8 columns]"
            ]
          },
          "metadata": {
            "tags": []
          },
          "execution_count": 144
        }
      ]
    },
    {
      "cell_type": "markdown",
      "metadata": {
        "id": "VX8nGX-5hFW5",
        "colab_type": "text"
      },
      "source": [
        "## Basic Visualizations "
      ]
    },
    {
      "cell_type": "markdown",
      "metadata": {
        "id": "Yl70S8rEZnta",
        "colab_type": "text"
      },
      "source": [
        "### What authors have published the most books?"
      ]
    },
    {
      "cell_type": "code",
      "metadata": {
        "id": "w5c54ZSmYS0Q",
        "colab_type": "code",
        "outputId": "63c367ff-e93a-49bd-b4b5-5d3af1bf4f65",
        "colab": {
          "base_uri": "https://localhost:8080/",
          "height": 343
        }
      },
      "source": [
        "most_published_authors = books['authors'].value_counts()[:10]\n",
        "mostcounts = most_published_authors.reset_index()\n",
        "mostcounts\n"
      ],
      "execution_count": 145,
      "outputs": [
        {
          "output_type": "execute_result",
          "data": {
            "text/html": [
              "<div>\n",
              "<style scoped>\n",
              "    .dataframe tbody tr th:only-of-type {\n",
              "        vertical-align: middle;\n",
              "    }\n",
              "\n",
              "    .dataframe tbody tr th {\n",
              "        vertical-align: top;\n",
              "    }\n",
              "\n",
              "    .dataframe thead th {\n",
              "        text-align: right;\n",
              "    }\n",
              "</style>\n",
              "<table border=\"1\" class=\"dataframe\">\n",
              "  <thead>\n",
              "    <tr style=\"text-align: right;\">\n",
              "      <th></th>\n",
              "      <th>index</th>\n",
              "      <th>authors</th>\n",
              "    </tr>\n",
              "  </thead>\n",
              "  <tbody>\n",
              "    <tr>\n",
              "      <th>0</th>\n",
              "      <td>Agatha Christie</td>\n",
              "      <td>69</td>\n",
              "    </tr>\n",
              "    <tr>\n",
              "      <th>1</th>\n",
              "      <td>Stephen King</td>\n",
              "      <td>66</td>\n",
              "    </tr>\n",
              "    <tr>\n",
              "      <th>2</th>\n",
              "      <td>Orson Scott Card</td>\n",
              "      <td>48</td>\n",
              "    </tr>\n",
              "    <tr>\n",
              "      <th>3</th>\n",
              "      <td>Rumiko Takahashi</td>\n",
              "      <td>46</td>\n",
              "    </tr>\n",
              "    <tr>\n",
              "      <th>4</th>\n",
              "      <td>P.G. Wodehouse</td>\n",
              "      <td>42</td>\n",
              "    </tr>\n",
              "    <tr>\n",
              "      <th>5</th>\n",
              "      <td>Terry Brooks</td>\n",
              "      <td>40</td>\n",
              "    </tr>\n",
              "    <tr>\n",
              "      <th>6</th>\n",
              "      <td>Piers Anthony</td>\n",
              "      <td>34</td>\n",
              "    </tr>\n",
              "    <tr>\n",
              "      <th>7</th>\n",
              "      <td>Margaret Weis-Tracy Hickman</td>\n",
              "      <td>33</td>\n",
              "    </tr>\n",
              "    <tr>\n",
              "      <th>8</th>\n",
              "      <td>Dan Simmons</td>\n",
              "      <td>32</td>\n",
              "    </tr>\n",
              "    <tr>\n",
              "      <th>9</th>\n",
              "      <td>Sandra Brown</td>\n",
              "      <td>31</td>\n",
              "    </tr>\n",
              "  </tbody>\n",
              "</table>\n",
              "</div>"
            ],
            "text/plain": [
              "                         index  authors\n",
              "0              Agatha Christie       69\n",
              "1                 Stephen King       66\n",
              "2             Orson Scott Card       48\n",
              "3             Rumiko Takahashi       46\n",
              "4               P.G. Wodehouse       42\n",
              "5                 Terry Brooks       40\n",
              "6                Piers Anthony       34\n",
              "7  Margaret Weis-Tracy Hickman       33\n",
              "8                  Dan Simmons       32\n",
              "9                 Sandra Brown       31"
            ]
          },
          "metadata": {
            "tags": []
          },
          "execution_count": 145
        }
      ]
    },
    {
      "cell_type": "code",
      "metadata": {
        "id": "sAKjC8-UZRIt",
        "colab_type": "code",
        "outputId": "3180fcc7-b9dc-41a2-bae9-45a8e778cc4f",
        "colab": {
          "base_uri": "https://localhost:8080/",
          "height": 374
        }
      },
      "source": [
        "authorplot = sns.barplot(x = 'index',y='authors', data=mostcounts, palette=\"pastel\")\n",
        "authorplot.set_xticklabels(authorplot.get_xticklabels(), rotation=40, ha=\"right\")\n",
        "authorplot.set(xlabel='Author', ylabel='Frequency')\n",
        "plt.show()"
      ],
      "execution_count": 146,
      "outputs": [
        {
          "output_type": "display_data",
          "data": {
            "image/png": "[encoded data removed]",
            "text/plain": [
              "<Figure size 432x288 with 1 Axes>"
            ]
          },
          "metadata": {
            "tags": []
          }
        }
      ]
    },
    {
      "cell_type": "markdown",
      "metadata": {
        "id": "ml81FGXKZxDQ",
        "colab_type": "text"
      },
      "source": [
        "### What are the 25 highest rated books?"
      ]
    },
    {
      "cell_type": "code",
      "metadata": {
        "id": "WFl4RqP7Zz8i",
        "colab_type": "code",
        "outputId": "bdd9391d-1194-4c47-cd17-fa3e305db383",
        "colab": {
          "base_uri": "https://localhost:8080/",
          "height": 452
        }
      },
      "source": [
        "# Do with groupby?\n",
        "\n",
        "highest_rated_all = books.sort_values('average_rating', ascending=False)[:100]\n",
        "highest_rated_books = highest_rated_all[['title', 'authors', 'average_rating', 'ratings_count', 'text_reviews_count']]\n",
        "highest_rated_books\n"
      ],
      "execution_count": 147,
      "outputs": [
        {
          "output_type": "execute_result",
          "data": {
            "text/html": [
              "<div>\n",
              "<style scoped>\n",
              "    .dataframe tbody tr th:only-of-type {\n",
              "        vertical-align: middle;\n",
              "    }\n",
              "\n",
              "    .dataframe tbody tr th {\n",
              "        vertical-align: top;\n",
              "    }\n",
              "\n",
              "    .dataframe thead th {\n",
              "        text-align: right;\n",
              "    }\n",
              "</style>\n",
              "<table border=\"1\" class=\"dataframe\">\n",
              "  <thead>\n",
              "    <tr style=\"text-align: right;\">\n",
              "      <th></th>\n",
              "      <th>title</th>\n",
              "      <th>authors</th>\n",
              "      <th>average_rating</th>\n",
              "      <th>ratings_count</th>\n",
              "      <th>text_reviews_count</th>\n",
              "    </tr>\n",
              "  </thead>\n",
              "  <tbody>\n",
              "    <tr>\n",
              "      <th>6077</th>\n",
              "      <td>The Complete Theory Fun Factory: Music Theory Puzzles and Games for the Early Grades</td>\n",
              "      <td>Ian        Martin-Katie Elliott</td>\n",
              "      <td>5.00</td>\n",
              "      <td>1</td>\n",
              "      <td>0</td>\n",
              "    </tr>\n",
              "    <tr>\n",
              "      <th>4939</th>\n",
              "      <td>Zone of the Enders: The 2nd Runner Official Strategy Guide</td>\n",
              "      <td>Tim Bogenn</td>\n",
              "      <td>5.00</td>\n",
              "      <td>2</td>\n",
              "      <td>0</td>\n",
              "    </tr>\n",
              "    <tr>\n",
              "      <th>963</th>\n",
              "      <td>Literature Circle Guide: Bridge to Terabithia: Everything You Need For Successful Literature Cir...</td>\n",
              "      <td>Tara MacCarthy</td>\n",
              "      <td>5.00</td>\n",
              "      <td>4</td>\n",
              "      <td>1</td>\n",
              "    </tr>\n",
              "    <tr>\n",
              "      <th>7506</th>\n",
              "      <td>The New Big Book of America</td>\n",
              "      <td>Todd Davis-Marc Frey</td>\n",
              "      <td>5.00</td>\n",
              "      <td>2</td>\n",
              "      <td>1</td>\n",
              "    </tr>\n",
              "    <tr>\n",
              "      <th>11067</th>\n",
              "      <td>Bubbles in the Middle (The Powerpuff Girls Plus You Club  #16)</td>\n",
              "      <td>Aaron Rosenberg-Christopher Cook</td>\n",
              "      <td>5.00</td>\n",
              "      <td>5</td>\n",
              "      <td>0</td>\n",
              "    </tr>\n",
              "    <tr>\n",
              "      <th>...</th>\n",
              "      <td>...</td>\n",
              "      <td>...</td>\n",
              "      <td>...</td>\n",
              "      <td>...</td>\n",
              "      <td>...</td>\n",
              "    </tr>\n",
              "    <tr>\n",
              "      <th>13708</th>\n",
              "      <td>The Sandman: King of Dreams</td>\n",
              "      <td>Alisa Kwitney-Neil Gaiman</td>\n",
              "      <td>4.62</td>\n",
              "      <td>12775</td>\n",
              "      <td>34</td>\n",
              "    </tr>\n",
              "    <tr>\n",
              "      <th>11218</th>\n",
              "      <td>Organizational Architecture: Designs for Changing Organizations</td>\n",
              "      <td>David A. Nadler-Robert B. Shaw-Marc S. Gerstein</td>\n",
              "      <td>4.62</td>\n",
              "      <td>2</td>\n",
              "      <td>0</td>\n",
              "    </tr>\n",
              "    <tr>\n",
              "      <th>10721</th>\n",
              "      <td>The Feynman Lectures on Physics Vol 2</td>\n",
              "      <td>Richard P. Feynman-Robert B. Leighton-Matthew L. Sands</td>\n",
              "      <td>4.61</td>\n",
              "      <td>17</td>\n",
              "      <td>2</td>\n",
              "    </tr>\n",
              "    <tr>\n",
              "      <th>7555</th>\n",
              "      <td>Nausicaä de la vallée du vent  tome 5</td>\n",
              "      <td>Hayao Miyazaki</td>\n",
              "      <td>4.61</td>\n",
              "      <td>55</td>\n",
              "      <td>3</td>\n",
              "    </tr>\n",
              "    <tr>\n",
              "      <th>6501</th>\n",
              "      <td>A Guide to the Words of My Perfect Teacher</td>\n",
              "      <td>Ngawang Pelzang-Padmakara Translation Group-Patrul Rinpoche-Alak Zenkar</td>\n",
              "      <td>4.61</td>\n",
              "      <td>79</td>\n",
              "      <td>0</td>\n",
              "    </tr>\n",
              "  </tbody>\n",
              "</table>\n",
              "<p>100 rows × 5 columns</p>\n",
              "</div>"
            ],
            "text/plain": [
              "                                                                                                     title  ... text_reviews_count\n",
              "6077                  The Complete Theory Fun Factory: Music Theory Puzzles and Games for the Early Grades  ...                  0\n",
              "4939                                            Zone of the Enders: The 2nd Runner Official Strategy Guide  ...                  0\n",
              "963    Literature Circle Guide: Bridge to Terabithia: Everything You Need For Successful Literature Cir...  ...                  1\n",
              "7506                                                                           The New Big Book of America  ...                  1\n",
              "11067                                       Bubbles in the Middle (The Powerpuff Girls Plus You Club  #16)  ...                  0\n",
              "...                                                                                                    ...  ...                ...\n",
              "13708                                                                          The Sandman: King of Dreams  ...                 34\n",
              "11218                                      Organizational Architecture: Designs for Changing Organizations  ...                  0\n",
              "10721                                                                The Feynman Lectures on Physics Vol 2  ...                  2\n",
              "7555                                                                 Nausicaä de la vallée du vent  tome 5  ...                  3\n",
              "6501                                                            A Guide to the Words of My Perfect Teacher  ...                  0\n",
              "\n",
              "[100 rows x 5 columns]"
            ]
          },
          "metadata": {
            "tags": []
          },
          "execution_count": 147
        }
      ]
    },
    {
      "cell_type": "markdown",
      "metadata": {
        "id": "vEMO-kLiFtdl",
        "colab_type": "text"
      },
      "source": [
        "### The above cell showed an important detail, that not all entries have the same amount of reviews\n",
        "\n",
        "### Let's see what the highest rated books with at least 100 reviews are"
      ]
    },
    {
      "cell_type": "code",
      "metadata": {
        "id": "h_D-P8DjF7f4",
        "colab_type": "code",
        "outputId": "fffbf769-c46f-471f-ffac-583ccef3e7c0",
        "colab": {
          "base_uri": "https://localhost:8080/",
          "height": 343
        }
      },
      "source": [
        "highest_with_hundred = highest_rated_all[highest_rated_all['ratings_count'] >= 100][:10]\n",
        "highest_with_hundred = highest_with_hundred[['title', 'authors', 'average_rating', 'ratings_count']]\n",
        "\n",
        "fave_cols = highest_with_hundred[['title', 'average_rating']]\n",
        "\n",
        "highest_with_hundred"
      ],
      "execution_count": 148,
      "outputs": [
        {
          "output_type": "execute_result",
          "data": {
            "text/html": [
              "<div>\n",
              "<style scoped>\n",
              "    .dataframe tbody tr th:only-of-type {\n",
              "        vertical-align: middle;\n",
              "    }\n",
              "\n",
              "    .dataframe tbody tr th {\n",
              "        vertical-align: top;\n",
              "    }\n",
              "\n",
              "    .dataframe thead th {\n",
              "        text-align: right;\n",
              "    }\n",
              "</style>\n",
              "<table border=\"1\" class=\"dataframe\">\n",
              "  <thead>\n",
              "    <tr style=\"text-align: right;\">\n",
              "      <th></th>\n",
              "      <th>title</th>\n",
              "      <th>authors</th>\n",
              "      <th>average_rating</th>\n",
              "      <th>ratings_count</th>\n",
              "    </tr>\n",
              "  </thead>\n",
              "  <tbody>\n",
              "    <tr>\n",
              "      <th>7922</th>\n",
              "      <td>The Complete Calvin and Hobbes</td>\n",
              "      <td>Bill Watterson</td>\n",
              "      <td>4.82</td>\n",
              "      <td>31249</td>\n",
              "    </tr>\n",
              "    <tr>\n",
              "      <th>5</th>\n",
              "      <td>Harry Potter Boxed Set  Books 1-5 (Harry Potter  #1-5)</td>\n",
              "      <td>J.K. Rowling-Mary GrandPré</td>\n",
              "      <td>4.78</td>\n",
              "      <td>38872</td>\n",
              "    </tr>\n",
              "    <tr>\n",
              "      <th>8400</th>\n",
              "      <td>It's A Magical World</td>\n",
              "      <td>Bill Watterson</td>\n",
              "      <td>4.76</td>\n",
              "      <td>138</td>\n",
              "    </tr>\n",
              "    <tr>\n",
              "      <th>7924</th>\n",
              "      <td>It's a Magical World (Calvin and Hobbes #11)</td>\n",
              "      <td>Bill Watterson</td>\n",
              "      <td>4.76</td>\n",
              "      <td>23336</td>\n",
              "    </tr>\n",
              "    <tr>\n",
              "      <th>7925</th>\n",
              "      <td>The Indispensable Calvin and Hobbes</td>\n",
              "      <td>Bill Watterson</td>\n",
              "      <td>4.74</td>\n",
              "      <td>15641</td>\n",
              "    </tr>\n",
              "    <tr>\n",
              "      <th>7</th>\n",
              "      <td>Harry Potter Collection (Harry Potter  #1-6)</td>\n",
              "      <td>J.K. Rowling</td>\n",
              "      <td>4.73</td>\n",
              "      <td>27410</td>\n",
              "    </tr>\n",
              "    <tr>\n",
              "      <th>2182</th>\n",
              "      <td>Early Color</td>\n",
              "      <td>Saul Leiter-Martin Harrison</td>\n",
              "      <td>4.73</td>\n",
              "      <td>114</td>\n",
              "    </tr>\n",
              "    <tr>\n",
              "      <th>7926</th>\n",
              "      <td>Homicidal Psycho Jungle Cat (Calvin and Hobbes #9)</td>\n",
              "      <td>Bill Watterson</td>\n",
              "      <td>4.72</td>\n",
              "      <td>14952</td>\n",
              "    </tr>\n",
              "    <tr>\n",
              "      <th>7930</th>\n",
              "      <td>Calvin and Hobbes: Sunday Pages 1985-1995: An Exhibition Catalogue</td>\n",
              "      <td>Bill Watterson</td>\n",
              "      <td>4.71</td>\n",
              "      <td>3537</td>\n",
              "    </tr>\n",
              "    <tr>\n",
              "      <th>12976</th>\n",
              "      <td>The Price of the Ticket: Collected Nonfiction  1948-1985</td>\n",
              "      <td>James Baldwin</td>\n",
              "      <td>4.70</td>\n",
              "      <td>396</td>\n",
              "    </tr>\n",
              "  </tbody>\n",
              "</table>\n",
              "</div>"
            ],
            "text/plain": [
              "                                                                    title  ... ratings_count\n",
              "7922                                       The Complete Calvin and Hobbes  ...         31249\n",
              "5                  Harry Potter Boxed Set  Books 1-5 (Harry Potter  #1-5)  ...         38872\n",
              "8400                                                 It's A Magical World  ...           138\n",
              "7924                         It's a Magical World (Calvin and Hobbes #11)  ...         23336\n",
              "7925                                  The Indispensable Calvin and Hobbes  ...         15641\n",
              "7                            Harry Potter Collection (Harry Potter  #1-6)  ...         27410\n",
              "2182                                                          Early Color  ...           114\n",
              "7926                   Homicidal Psycho Jungle Cat (Calvin and Hobbes #9)  ...         14952\n",
              "7930   Calvin and Hobbes: Sunday Pages 1985-1995: An Exhibition Catalogue  ...          3537\n",
              "12976            The Price of the Ticket: Collected Nonfiction  1948-1985  ...           396\n",
              "\n",
              "[10 rows x 4 columns]"
            ]
          },
          "metadata": {
            "tags": []
          },
          "execution_count": 148
        }
      ]
    },
    {
      "cell_type": "markdown",
      "metadata": {
        "id": "6g9dkpBrG_lE",
        "colab_type": "text"
      },
      "source": [
        "### The world really likes Calvin and Hobbes"
      ]
    },
    {
      "cell_type": "code",
      "metadata": {
        "id": "ZuNm7UTDHtDM",
        "colab_type": "code",
        "outputId": "a16f3e78-1e02-4e7f-bc98-e48e55821918",
        "colab": {
          "base_uri": "https://localhost:8080/",
          "height": 506
        }
      },
      "source": [
        "favebookplot = sns.barplot(x = 'title',y='average_rating', data=fave_cols, palette=\"pastel\")\n",
        "favebookplot.set_xticklabels(favebookplot.get_xticklabels(), rotation=40, ha=\"right\")\n",
        "favebookplot.set(xlabel='Book', ylabel='Rating')\n",
        "plt.show()"
      ],
      "execution_count": 149,
      "outputs": [
        {
          "output_type": "display_data",
          "data": {
            "image/png": "[encoded data removed]",
            "text/plain": [
              "<Figure size 432x288 with 1 Axes>"
            ]
          },
          "metadata": {
            "tags": []
          }
        }
      ]
    },
    {
      "cell_type": "code",
      "metadata": {
        "id": "JI8nI0AyJvZC",
        "colab_type": "code",
        "outputId": "01977a86-4bff-47a5-ef72-9b35773f955e",
        "colab": {
          "base_uri": "https://localhost:8080/",
          "height": 134
        }
      },
      "source": [
        "books.corr()['average_rating']"
      ],
      "execution_count": 150,
      "outputs": [
        {
          "output_type": "execute_result",
          "data": {
            "text/plain": [
              "bookID               -0.04\n",
              "average_rating        1.00\n",
              "isbn13                0.00\n",
              "# num_pages           0.17\n",
              "ratings_count         0.04\n",
              "text_reviews_count    0.04\n",
              "Name: average_rating, dtype: float64"
            ]
          },
          "metadata": {
            "tags": []
          },
          "execution_count": 150
        }
      ]
    },
    {
      "cell_type": "code",
      "metadata": {
        "id": "uVGlIAuti9Q7",
        "colab_type": "code",
        "outputId": "a6e5618f-ca42-4790-d256-dc0f66959344",
        "colab": {
          "base_uri": "https://localhost:8080/",
          "height": 134
        }
      },
      "source": [
        "books.corr()['# num_pages'].abs().sort_values(ascending=False)"
      ],
      "execution_count": 151,
      "outputs": [
        {
          "output_type": "execute_result",
          "data": {
            "text/plain": [
              "# num_pages          1.00\n",
              "average_rating       0.17\n",
              "text_reviews_count   0.03\n",
              "ratings_count        0.03\n",
              "bookID               0.01\n",
              "isbn13               0.01\n",
              "Name: # num_pages, dtype: float64"
            ]
          },
          "metadata": {
            "tags": []
          },
          "execution_count": 151
        }
      ]
    },
    {
      "cell_type": "code",
      "metadata": {
        "id": "DqLs-7XMQybY",
        "colab_type": "code",
        "outputId": "49979719-096a-4ae9-fe9c-bbd2cd865cd7",
        "colab": {
          "base_uri": "https://localhost:8080/",
          "height": 437
        }
      },
      "source": [
        "movies.info()"
      ],
      "execution_count": 152,
      "outputs": [
        {
          "output_type": "stream",
          "text": [
            "<class 'pandas.core.frame.DataFrame'>\n",
            "RangeIndex: 4803 entries, 0 to 4802\n",
            "Data columns (total 20 columns):\n",
            "budget                  4803 non-null int64\n",
            "genres                  4803 non-null object\n",
            "homepage                1712 non-null object\n",
            "id                      4803 non-null int64\n",
            "keywords                4803 non-null object\n",
            "original_language       4803 non-null object\n",
            "original_title          4803 non-null object\n",
            "overview                4800 non-null object\n",
            "popularity              4803 non-null float64\n",
            "production_companies    4803 non-null object\n",
            "production_countries    4803 non-null object\n",
            "release_date            4802 non-null object\n",
            "revenue                 4803 non-null int64\n",
            "runtime                 4801 non-null float64\n",
            "spoken_languages        4803 non-null object\n",
            "status                  4803 non-null object\n",
            "tagline                 3959 non-null object\n",
            "title                   4803 non-null object\n",
            "vote_average            4803 non-null float64\n",
            "vote_count              4803 non-null int64\n",
            "dtypes: float64(3), int64(4), object(13)\n",
            "memory usage: 750.6+ KB\n"
          ],
          "name": "stdout"
        }
      ]
    },
    {
      "cell_type": "markdown",
      "metadata": {
        "id": "ihfV3TsjcBVf",
        "colab_type": "text"
      },
      "source": [
        "### What are the highest budget movies?"
      ]
    },
    {
      "cell_type": "code",
      "metadata": {
        "id": "8t3xLAE6cE5H",
        "colab_type": "code",
        "outputId": "cc393f8c-ccff-4b31-a4f9-4058d447c8d8",
        "colab": {
          "base_uri": "https://localhost:8080/",
          "height": 417
        }
      },
      "source": [
        "most_expensive_df = movies.sort_values('budget',ascending=False)[:10]\n",
        "\n",
        "most_expensive = most_expensive_df[['title', 'budget', 'revenue']]\n",
        "\n",
        "expensiveplot = sns.barplot(x = 'title',y='budget', data=most_expensive, palette=\"pastel\")\n",
        "expensiveplot.set_xticklabels(expensiveplot.get_xticklabels(), rotation=40, ha=\"right\")\n",
        "expensiveplot.set(xlabel='Movie', ylabel='Budget (in US dollars)')\n",
        "plt.ticklabel_format(style='plain', axis='y')\n",
        "plt.show()"
      ],
      "execution_count": 153,
      "outputs": [
        {
          "output_type": "display_data",
          "data": {
            "image/png": "[encoded data removed]",
            "text/plain": [
              "<Figure size 432x288 with 1 Axes>"
            ]
          },
          "metadata": {
            "tags": []
          }
        }
      ]
    },
    {
      "cell_type": "code",
      "metadata": {
        "id": "6sLkrtLBIOWt",
        "colab_type": "code",
        "outputId": "eea0c2dc-4cf0-4f47-c783-d9119d44bef3",
        "colab": {
          "base_uri": "https://localhost:8080/",
          "height": 343
        }
      },
      "source": [
        "most_expensive"
      ],
      "execution_count": 154,
      "outputs": [
        {
          "output_type": "execute_result",
          "data": {
            "text/html": [
              "<div>\n",
              "<style scoped>\n",
              "    .dataframe tbody tr th:only-of-type {\n",
              "        vertical-align: middle;\n",
              "    }\n",
              "\n",
              "    .dataframe tbody tr th {\n",
              "        vertical-align: top;\n",
              "    }\n",
              "\n",
              "    .dataframe thead th {\n",
              "        text-align: right;\n",
              "    }\n",
              "</style>\n",
              "<table border=\"1\" class=\"dataframe\">\n",
              "  <thead>\n",
              "    <tr style=\"text-align: right;\">\n",
              "      <th></th>\n",
              "      <th>title</th>\n",
              "      <th>budget</th>\n",
              "      <th>revenue</th>\n",
              "    </tr>\n",
              "  </thead>\n",
              "  <tbody>\n",
              "    <tr>\n",
              "      <th>17</th>\n",
              "      <td>Pirates of the Caribbean: On Stranger Tides</td>\n",
              "      <td>380000000</td>\n",
              "      <td>1045713802</td>\n",
              "    </tr>\n",
              "    <tr>\n",
              "      <th>1</th>\n",
              "      <td>Pirates of the Caribbean: At World's End</td>\n",
              "      <td>300000000</td>\n",
              "      <td>961000000</td>\n",
              "    </tr>\n",
              "    <tr>\n",
              "      <th>7</th>\n",
              "      <td>Avengers: Age of Ultron</td>\n",
              "      <td>280000000</td>\n",
              "      <td>1405403694</td>\n",
              "    </tr>\n",
              "    <tr>\n",
              "      <th>10</th>\n",
              "      <td>Superman Returns</td>\n",
              "      <td>270000000</td>\n",
              "      <td>391081192</td>\n",
              "    </tr>\n",
              "    <tr>\n",
              "      <th>4</th>\n",
              "      <td>John Carter</td>\n",
              "      <td>260000000</td>\n",
              "      <td>284139100</td>\n",
              "    </tr>\n",
              "    <tr>\n",
              "      <th>6</th>\n",
              "      <td>Tangled</td>\n",
              "      <td>260000000</td>\n",
              "      <td>591794936</td>\n",
              "    </tr>\n",
              "    <tr>\n",
              "      <th>5</th>\n",
              "      <td>Spider-Man 3</td>\n",
              "      <td>258000000</td>\n",
              "      <td>890871626</td>\n",
              "    </tr>\n",
              "    <tr>\n",
              "      <th>13</th>\n",
              "      <td>The Lone Ranger</td>\n",
              "      <td>255000000</td>\n",
              "      <td>89289910</td>\n",
              "    </tr>\n",
              "    <tr>\n",
              "      <th>46</th>\n",
              "      <td>X-Men: Days of Future Past</td>\n",
              "      <td>250000000</td>\n",
              "      <td>747862775</td>\n",
              "    </tr>\n",
              "    <tr>\n",
              "      <th>22</th>\n",
              "      <td>The Hobbit: The Desolation of Smaug</td>\n",
              "      <td>250000000</td>\n",
              "      <td>958400000</td>\n",
              "    </tr>\n",
              "  </tbody>\n",
              "</table>\n",
              "</div>"
            ],
            "text/plain": [
              "                                          title     budget     revenue\n",
              "17  Pirates of the Caribbean: On Stranger Tides  380000000  1045713802\n",
              "1      Pirates of the Caribbean: At World's End  300000000   961000000\n",
              "7                       Avengers: Age of Ultron  280000000  1405403694\n",
              "10                             Superman Returns  270000000   391081192\n",
              "4                                   John Carter  260000000   284139100\n",
              "6                                       Tangled  260000000   591794936\n",
              "5                                  Spider-Man 3  258000000   890871626\n",
              "13                              The Lone Ranger  255000000    89289910\n",
              "46                   X-Men: Days of Future Past  250000000   747862775\n",
              "22          The Hobbit: The Desolation of Smaug  250000000   958400000"
            ]
          },
          "metadata": {
            "tags": []
          },
          "execution_count": 154
        }
      ]
    },
    {
      "cell_type": "markdown",
      "metadata": {
        "id": "1GeqYl3-dwig",
        "colab_type": "text"
      },
      "source": [
        "### What are the most popular movies?"
      ]
    },
    {
      "cell_type": "code",
      "metadata": {
        "id": "WjDXMRxydzX9",
        "colab_type": "code",
        "outputId": "7a5bfdf7-3a7d-4bad-8ffb-38c235d0c1ed",
        "colab": {
          "base_uri": "https://localhost:8080/",
          "height": 343
        }
      },
      "source": [
        "most_popular_df = movies.sort_values('popularity',ascending=False)[:10]\n",
        "most_popular = most_popular_df[['title', 'popularity', 'release_date']]\n",
        "most_popular"
      ],
      "execution_count": 155,
      "outputs": [
        {
          "output_type": "execute_result",
          "data": {
            "text/html": [
              "<div>\n",
              "<style scoped>\n",
              "    .dataframe tbody tr th:only-of-type {\n",
              "        vertical-align: middle;\n",
              "    }\n",
              "\n",
              "    .dataframe tbody tr th {\n",
              "        vertical-align: top;\n",
              "    }\n",
              "\n",
              "    .dataframe thead th {\n",
              "        text-align: right;\n",
              "    }\n",
              "</style>\n",
              "<table border=\"1\" class=\"dataframe\">\n",
              "  <thead>\n",
              "    <tr style=\"text-align: right;\">\n",
              "      <th></th>\n",
              "      <th>title</th>\n",
              "      <th>popularity</th>\n",
              "      <th>release_date</th>\n",
              "    </tr>\n",
              "  </thead>\n",
              "  <tbody>\n",
              "    <tr>\n",
              "      <th>546</th>\n",
              "      <td>Minions</td>\n",
              "      <td>875.58</td>\n",
              "      <td>2015-06-17</td>\n",
              "    </tr>\n",
              "    <tr>\n",
              "      <th>95</th>\n",
              "      <td>Interstellar</td>\n",
              "      <td>724.25</td>\n",
              "      <td>2014-11-05</td>\n",
              "    </tr>\n",
              "    <tr>\n",
              "      <th>788</th>\n",
              "      <td>Deadpool</td>\n",
              "      <td>514.57</td>\n",
              "      <td>2016-02-09</td>\n",
              "    </tr>\n",
              "    <tr>\n",
              "      <th>94</th>\n",
              "      <td>Guardians of the Galaxy</td>\n",
              "      <td>481.10</td>\n",
              "      <td>2014-07-30</td>\n",
              "    </tr>\n",
              "    <tr>\n",
              "      <th>127</th>\n",
              "      <td>Mad Max: Fury Road</td>\n",
              "      <td>434.28</td>\n",
              "      <td>2015-05-13</td>\n",
              "    </tr>\n",
              "    <tr>\n",
              "      <th>28</th>\n",
              "      <td>Jurassic World</td>\n",
              "      <td>418.71</td>\n",
              "      <td>2015-06-09</td>\n",
              "    </tr>\n",
              "    <tr>\n",
              "      <th>199</th>\n",
              "      <td>Pirates of the Caribbean: The Curse of the Black Pearl</td>\n",
              "      <td>271.97</td>\n",
              "      <td>2003-07-09</td>\n",
              "    </tr>\n",
              "    <tr>\n",
              "      <th>82</th>\n",
              "      <td>Dawn of the Planet of the Apes</td>\n",
              "      <td>243.79</td>\n",
              "      <td>2014-06-26</td>\n",
              "    </tr>\n",
              "    <tr>\n",
              "      <th>200</th>\n",
              "      <td>The Hunger Games: Mockingjay - Part 1</td>\n",
              "      <td>206.23</td>\n",
              "      <td>2014-11-18</td>\n",
              "    </tr>\n",
              "    <tr>\n",
              "      <th>88</th>\n",
              "      <td>Big Hero 6</td>\n",
              "      <td>203.73</td>\n",
              "      <td>2014-10-24</td>\n",
              "    </tr>\n",
              "  </tbody>\n",
              "</table>\n",
              "</div>"
            ],
            "text/plain": [
              "                                                      title  ...  release_date\n",
              "546                                                 Minions  ...    2015-06-17\n",
              "95                                             Interstellar  ...    2014-11-05\n",
              "788                                                Deadpool  ...    2016-02-09\n",
              "94                                  Guardians of the Galaxy  ...    2014-07-30\n",
              "127                                      Mad Max: Fury Road  ...    2015-05-13\n",
              "28                                           Jurassic World  ...    2015-06-09\n",
              "199  Pirates of the Caribbean: The Curse of the Black Pearl  ...    2003-07-09\n",
              "82                           Dawn of the Planet of the Apes  ...    2014-06-26\n",
              "200                   The Hunger Games: Mockingjay - Part 1  ...    2014-11-18\n",
              "88                                               Big Hero 6  ...    2014-10-24\n",
              "\n",
              "[10 rows x 3 columns]"
            ]
          },
          "metadata": {
            "tags": []
          },
          "execution_count": 155
        }
      ]
    },
    {
      "cell_type": "code",
      "metadata": {
        "id": "yyIUoXfQJriR",
        "colab_type": "code",
        "outputId": "a9d0d3e4-7dba-4a68-b8d8-455292edc538",
        "colab": {
          "base_uri": "https://localhost:8080/",
          "height": 151
        }
      },
      "source": [
        "movies.corr()['popularity'].sort_values(ascending=False)"
      ],
      "execution_count": 156,
      "outputs": [
        {
          "output_type": "execute_result",
          "data": {
            "text/plain": [
              "popularity     1.00\n",
              "vote_count     0.78\n",
              "revenue        0.64\n",
              "budget         0.51\n",
              "vote_average   0.27\n",
              "runtime        0.23\n",
              "id             0.03\n",
              "Name: popularity, dtype: float64"
            ]
          },
          "metadata": {
            "tags": []
          },
          "execution_count": 156
        }
      ]
    },
    {
      "cell_type": "markdown",
      "metadata": {
        "id": "mJJJTLwUIf5P",
        "colab_type": "text"
      },
      "source": [
        "## This section attempts to merge the two datasets\n"
      ]
    },
    {
      "cell_type": "markdown",
      "metadata": {
        "id": "DRL-_7MViFSb",
        "colab_type": "text"
      },
      "source": [
        "By default, the pandas merge method looks for a shared column in the two datasets. Both books and movies have a 'title' column, so our resulting dataframe should have the amount of entries which have duplicate titles in books and movies"
      ]
    },
    {
      "cell_type": "code",
      "metadata": {
        "id": "LqrdiE84Q2L4",
        "colab_type": "code",
        "outputId": "9a4c5ffc-3434-41d7-a208-13ed1938bbe2",
        "colab": {
          "base_uri": "https://localhost:8080/",
          "height": 588
        }
      },
      "source": [
        "merged = pd.merge(books, movies)\n",
        "merged.info()"
      ],
      "execution_count": 157,
      "outputs": [
        {
          "output_type": "stream",
          "text": [
            "<class 'pandas.core.frame.DataFrame'>\n",
            "Int64Index: 508 entries, 0 to 507\n",
            "Data columns (total 29 columns):\n",
            "bookID                  508 non-null int64\n",
            "title                   508 non-null object\n",
            "authors                 508 non-null object\n",
            "average_rating          508 non-null float64\n",
            "isbn                    508 non-null object\n",
            "isbn13                  508 non-null int64\n",
            "language_code           508 non-null object\n",
            "# num_pages             508 non-null int64\n",
            "ratings_count           508 non-null int64\n",
            "text_reviews_count      508 non-null int64\n",
            "budget                  508 non-null int64\n",
            "genres                  508 non-null object\n",
            "homepage                184 non-null object\n",
            "id                      508 non-null int64\n",
            "keywords                508 non-null object\n",
            "original_language       508 non-null object\n",
            "original_title          508 non-null object\n",
            "overview                508 non-null object\n",
            "popularity              508 non-null float64\n",
            "production_companies    508 non-null object\n",
            "production_countries    508 non-null object\n",
            "release_date            508 non-null object\n",
            "revenue                 508 non-null int64\n",
            "runtime                 508 non-null float64\n",
            "spoken_languages        508 non-null object\n",
            "status                  508 non-null object\n",
            "tagline                 440 non-null object\n",
            "vote_average            508 non-null float64\n",
            "vote_count              508 non-null int64\n",
            "dtypes: float64(4), int64(9), object(16)\n",
            "memory usage: 119.1+ KB\n"
          ],
          "name": "stdout"
        }
      ]
    },
    {
      "cell_type": "markdown",
      "metadata": {
        "id": "xDKI3_CZIsB0",
        "colab_type": "text"
      },
      "source": [
        "### Everything in this dataframe should be both a book and a movie; does that seem true?\n",
        "\n",
        "The first entry is Hatchet by Gary Paulsen, the famous survival novel,\n",
        "but it was merged with what looks like a slasher horror movie.\n",
        "\n",
        "So this method will combine movie and books of the same title, even if they are different things."
      ]
    },
    {
      "cell_type": "code",
      "metadata": {
        "id": "GG3V_ufBSTSF",
        "colab_type": "code",
        "colab": {}
      },
      "source": [
        "merged.head(10);"
      ],
      "execution_count": 0,
      "outputs": []
    },
    {
      "cell_type": "markdown",
      "metadata": {
        "id": "kSQQGNGhoYjJ",
        "colab_type": "text"
      },
      "source": [
        "### Merge attempt 2\n",
        "Notice 'keywords' column of Movies seems to have a bit of metadata for SOME movies based on a novel.\n",
        "If we look for any occurence of the word 'novel' in the 'keywords' section of each movie, we get 241 results."
      ]
    },
    {
      "cell_type": "markdown",
      "metadata": {
        "id": "z5fiqa_v2j9h",
        "colab_type": "text"
      },
      "source": [
        "### Working algorithm for merging on books/movies\n",
        "1.   Look for movies which explicitly say based on novel\n",
        "2.   Look for matching titles\n",
        "\n",
        "      a. Titles must have at least x words or characters in common to be considered, i.e. rule out 'Hatchet' case\n",
        "\n",
        "      b. Use fuzzy wuzzy for partial string matching\n",
        "3. (Optional)    Look for reference to book author or characters in movie credits\n",
        "\n",
        "      a. Credits 'cast' field has character names, look for top 3 character neames in title of book\n",
        "4.   Merge step 1-3 results\n",
        "5.   Check for duplicated\n",
        "6.   Verify somehow\n",
        "\n",
        "\n",
        "Look for 3rd party dataset: wikipedia?"
      ]
    },
    {
      "cell_type": "markdown",
      "metadata": {
        "id": "n6tAmWlx3GJe",
        "colab_type": "text"
      },
      "source": [
        "#### 1.\n",
        "Grab the movie entries who explicitly have the word 'novel' in their keywords. This is vague enough to lead to errors, but shows good results for this dataset. There are 241 entries. "
      ]
    },
    {
      "cell_type": "code",
      "metadata": {
        "id": "DicdZItvIca7",
        "colab_type": "code",
        "outputId": "bebefc28-a79e-4f39-dc6b-88266f6f0f15",
        "colab": {
          "base_uri": "https://localhost:8080/",
          "height": 1000
        }
      },
      "source": [
        "select_novel_from_movies = movies[movies['keywords'].str.contains('novel')]\n",
        "\n",
        "select_novel_from_movies.head(10)"
      ],
      "execution_count": 159,
      "outputs": [
        {
          "output_type": "execute_result",
          "data": {
            "text/html": [
              "<div>\n",
              "<style scoped>\n",
              "    .dataframe tbody tr th:only-of-type {\n",
              "        vertical-align: middle;\n",
              "    }\n",
              "\n",
              "    .dataframe tbody tr th {\n",
              "        vertical-align: top;\n",
              "    }\n",
              "\n",
              "    .dataframe thead th {\n",
              "        text-align: right;\n",
              "    }\n",
              "</style>\n",
              "<table border=\"1\" class=\"dataframe\">\n",
              "  <thead>\n",
              "    <tr style=\"text-align: right;\">\n",
              "      <th></th>\n",
              "      <th>budget</th>\n",
              "      <th>genres</th>\n",
              "      <th>homepage</th>\n",
              "      <th>id</th>\n",
              "      <th>keywords</th>\n",
              "      <th>original_language</th>\n",
              "      <th>original_title</th>\n",
              "      <th>overview</th>\n",
              "      <th>popularity</th>\n",
              "      <th>production_companies</th>\n",
              "      <th>production_countries</th>\n",
              "      <th>release_date</th>\n",
              "      <th>revenue</th>\n",
              "      <th>runtime</th>\n",
              "      <th>spoken_languages</th>\n",
              "      <th>status</th>\n",
              "      <th>tagline</th>\n",
              "      <th>title</th>\n",
              "      <th>vote_average</th>\n",
              "      <th>vote_count</th>\n",
              "    </tr>\n",
              "  </thead>\n",
              "  <tbody>\n",
              "    <tr>\n",
              "      <th>2</th>\n",
              "      <td>245000000</td>\n",
              "      <td>[{\"id\": 28, \"name\": \"Action\"}, {\"id\": 12, \"name\": \"Adventure\"}, {\"id\": 80, \"name\": \"Crime\"}]</td>\n",
              "      <td>http://www.sonypictures.com/movies/spectre/</td>\n",
              "      <td>206647</td>\n",
              "      <td>[{\"id\": 470, \"name\": \"spy\"}, {\"id\": 818, \"name\": \"based on novel\"}, {\"id\": 4289, \"name\": \"secret...</td>\n",
              "      <td>en</td>\n",
              "      <td>Spectre</td>\n",
              "      <td>A cryptic message from Bond’s past sends him on a trail to uncover a sinister organization. Whil...</td>\n",
              "      <td>107.38</td>\n",
              "      <td>[{\"name\": \"Columbia Pictures\", \"id\": 5}, {\"name\": \"Danjaq\", \"id\": 10761}, {\"name\": \"B24\", \"id\": ...</td>\n",
              "      <td>[{\"iso_3166_1\": \"GB\", \"name\": \"United Kingdom\"}, {\"iso_3166_1\": \"US\", \"name\": \"United States of ...</td>\n",
              "      <td>2015-10-26</td>\n",
              "      <td>880674609</td>\n",
              "      <td>148.00</td>\n",
              "      <td>[{\"iso_639_1\": \"fr\", \"name\": \"Fran\\u00e7ais\"}, {\"iso_639_1\": \"en\", \"name\": \"English\"}, {\"iso_639...</td>\n",
              "      <td>Released</td>\n",
              "      <td>A Plan No One Escapes</td>\n",
              "      <td>Spectre</td>\n",
              "      <td>6.30</td>\n",
              "      <td>4466</td>\n",
              "    </tr>\n",
              "    <tr>\n",
              "      <th>4</th>\n",
              "      <td>260000000</td>\n",
              "      <td>[{\"id\": 28, \"name\": \"Action\"}, {\"id\": 12, \"name\": \"Adventure\"}, {\"id\": 878, \"name\": \"Science Fic...</td>\n",
              "      <td>http://movies.disney.com/john-carter</td>\n",
              "      <td>49529</td>\n",
              "      <td>[{\"id\": 818, \"name\": \"based on novel\"}, {\"id\": 839, \"name\": \"mars\"}, {\"id\": 1456, \"name\": \"medal...</td>\n",
              "      <td>en</td>\n",
              "      <td>John Carter</td>\n",
              "      <td>John Carter is a war-weary, former military captain who's inexplicably transported to the myster...</td>\n",
              "      <td>43.93</td>\n",
              "      <td>[{\"name\": \"Walt Disney Pictures\", \"id\": 2}]</td>\n",
              "      <td>[{\"iso_3166_1\": \"US\", \"name\": \"United States of America\"}]</td>\n",
              "      <td>2012-03-07</td>\n",
              "      <td>284139100</td>\n",
              "      <td>132.00</td>\n",
              "      <td>[{\"iso_639_1\": \"en\", \"name\": \"English\"}]</td>\n",
              "      <td>Released</td>\n",
              "      <td>Lost in our world, found in another.</td>\n",
              "      <td>John Carter</td>\n",
              "      <td>6.10</td>\n",
              "      <td>2124</td>\n",
              "    </tr>\n",
              "    <tr>\n",
              "      <th>15</th>\n",
              "      <td>225000000</td>\n",
              "      <td>[{\"id\": 12, \"name\": \"Adventure\"}, {\"id\": 10751, \"name\": \"Family\"}, {\"id\": 14, \"name\": \"Fantasy\"}]</td>\n",
              "      <td>NaN</td>\n",
              "      <td>2454</td>\n",
              "      <td>[{\"id\": 818, \"name\": \"based on novel\"}, {\"id\": 855, \"name\": \"fictional place\"}, {\"id\": 1155, \"na...</td>\n",
              "      <td>en</td>\n",
              "      <td>The Chronicles of Narnia: Prince Caspian</td>\n",
              "      <td>One year after their incredible adventures in the Lion, the Witch and the Wardrobe, Peter, Edmun...</td>\n",
              "      <td>53.98</td>\n",
              "      <td>[{\"name\": \"Walt Disney\", \"id\": 5888}, {\"name\": \"Walden Media\", \"id\": 10221}, {\"name\": \"Stillking...</td>\n",
              "      <td>[{\"iso_3166_1\": \"CZ\", \"name\": \"Czech Republic\"}, {\"iso_3166_1\": \"PL\", \"name\": \"Poland\"}, {\"iso_3...</td>\n",
              "      <td>2008-05-15</td>\n",
              "      <td>419651413</td>\n",
              "      <td>150.00</td>\n",
              "      <td>[{\"iso_639_1\": \"en\", \"name\": \"English\"}]</td>\n",
              "      <td>Released</td>\n",
              "      <td>Hope has a new face.</td>\n",
              "      <td>The Chronicles of Narnia: Prince Caspian</td>\n",
              "      <td>6.30</td>\n",
              "      <td>1630</td>\n",
              "    </tr>\n",
              "    <tr>\n",
              "      <th>23</th>\n",
              "      <td>180000000</td>\n",
              "      <td>[{\"id\": 12, \"name\": \"Adventure\"}, {\"id\": 14, \"name\": \"Fantasy\"}]</td>\n",
              "      <td>http://www.goldencompassmovie.com/index_german.html</td>\n",
              "      <td>2268</td>\n",
              "      <td>[{\"id\": 392, \"name\": \"england\"}, {\"id\": 1461, \"name\": \"compass\"}, {\"id\": 1706, \"name\": \"experime...</td>\n",
              "      <td>en</td>\n",
              "      <td>The Golden Compass</td>\n",
              "      <td>After overhearing a shocking secret, precocious orphan Lyra Belacqua trades her carefree existen...</td>\n",
              "      <td>42.99</td>\n",
              "      <td>[{\"name\": \"New Line Cinema\", \"id\": 12}, {\"name\": \"Ingenious Film Partners\", \"id\": 289}, {\"name\":...</td>\n",
              "      <td>[{\"iso_3166_1\": \"GB\", \"name\": \"United Kingdom\"}, {\"iso_3166_1\": \"US\", \"name\": \"United States of ...</td>\n",
              "      <td>2007-12-04</td>\n",
              "      <td>372234864</td>\n",
              "      <td>113.00</td>\n",
              "      <td>[{\"iso_639_1\": \"is\", \"name\": \"\\u00cdslenska\"}, {\"iso_639_1\": \"en\", \"name\": \"English\"}, {\"iso_639...</td>\n",
              "      <td>Released</td>\n",
              "      <td>There are worlds beyond our own - the compass will show the way.</td>\n",
              "      <td>The Golden Compass</td>\n",
              "      <td>5.80</td>\n",
              "      <td>1303</td>\n",
              "    </tr>\n",
              "    <tr>\n",
              "      <th>32</th>\n",
              "      <td>200000000</td>\n",
              "      <td>[{\"id\": 10751, \"name\": \"Family\"}, {\"id\": 14, \"name\": \"Fantasy\"}, {\"id\": 12, \"name\": \"Adventure\"}]</td>\n",
              "      <td>http://disney.go.com/wonderland/</td>\n",
              "      <td>12155</td>\n",
              "      <td>[{\"id\": 818, \"name\": \"based on novel\"}, {\"id\": 855, \"name\": \"fictional place\"}, {\"id\": 2011, \"na...</td>\n",
              "      <td>en</td>\n",
              "      <td>Alice in Wonderland</td>\n",
              "      <td>Alice, an unpretentious and individual 19-year-old, is betrothed to a dunce of an English noblem...</td>\n",
              "      <td>78.53</td>\n",
              "      <td>[{\"name\": \"Walt Disney Pictures\", \"id\": 2}, {\"name\": \"Team Todd\", \"id\": 598}, {\"name\": \"Tim Burt...</td>\n",
              "      <td>[{\"iso_3166_1\": \"US\", \"name\": \"United States of America\"}]</td>\n",
              "      <td>2010-03-03</td>\n",
              "      <td>1025491110</td>\n",
              "      <td>108.00</td>\n",
              "      <td>[{\"iso_639_1\": \"en\", \"name\": \"English\"}]</td>\n",
              "      <td>Released</td>\n",
              "      <td>You're invited to a very important date.</td>\n",
              "      <td>Alice in Wonderland</td>\n",
              "      <td>6.40</td>\n",
              "      <td>4645</td>\n",
              "    </tr>\n",
              "    <tr>\n",
              "      <th>49</th>\n",
              "      <td>105000000</td>\n",
              "      <td>[{\"id\": 18, \"name\": \"Drama\"}, {\"id\": 10749, \"name\": \"Romance\"}]</td>\n",
              "      <td>NaN</td>\n",
              "      <td>64682</td>\n",
              "      <td>[{\"id\": 818, \"name\": \"based on novel\"}, {\"id\": 1326, \"name\": \"infidelity\"}, {\"id\": 1523, \"name\":...</td>\n",
              "      <td>en</td>\n",
              "      <td>The Great Gatsby</td>\n",
              "      <td>An adaptation of F. Scott Fitzgerald's Long Island-set novel, where Midwesterner Nick Carraway i...</td>\n",
              "      <td>61.20</td>\n",
              "      <td>[{\"name\": \"Village Roadshow Pictures\", \"id\": 79}, {\"name\": \"Bazmark Films\", \"id\": 240}, {\"name\":...</td>\n",
              "      <td>[{\"iso_3166_1\": \"US\", \"name\": \"United States of America\"}, {\"iso_3166_1\": \"AU\", \"name\": \"Austral...</td>\n",
              "      <td>2013-05-10</td>\n",
              "      <td>351040419</td>\n",
              "      <td>143.00</td>\n",
              "      <td>[{\"iso_639_1\": \"en\", \"name\": \"English\"}]</td>\n",
              "      <td>Released</td>\n",
              "      <td>Reserving judgments is a matter of infinite hope... I come to the admission that it has a limit.</td>\n",
              "      <td>The Great Gatsby</td>\n",
              "      <td>7.30</td>\n",
              "      <td>3769</td>\n",
              "    </tr>\n",
              "    <tr>\n",
              "      <th>60</th>\n",
              "      <td>200000000</td>\n",
              "      <td>[{\"id\": 16, \"name\": \"Animation\"}, {\"id\": 18, \"name\": \"Drama\"}]</td>\n",
              "      <td>http://disney.go.com/disneypictures/achristmascarol/?cmp=dcom_VAN_WDSHE_ACC_van_dcomcc__Extl</td>\n",
              "      <td>17979</td>\n",
              "      <td>[{\"id\": 65, \"name\": \"holiday\"}, {\"id\": 818, \"name\": \"based on novel\"}, {\"id\": 8250, \"name\": \"vic...</td>\n",
              "      <td>en</td>\n",
              "      <td>A Christmas Carol</td>\n",
              "      <td>Miser Ebenezer Scrooge is awakened on Christmas Eve by spirits who reveal to him his own miserab...</td>\n",
              "      <td>39.74</td>\n",
              "      <td>[{\"name\": \"Walt Disney\", \"id\": 5888}, {\"name\": \"ImageMovers\", \"id\": 11395}]</td>\n",
              "      <td>[{\"iso_3166_1\": \"US\", \"name\": \"United States of America\"}]</td>\n",
              "      <td>2009-11-04</td>\n",
              "      <td>325233863</td>\n",
              "      <td>96.00</td>\n",
              "      <td>[{\"iso_639_1\": \"en\", \"name\": \"English\"}]</td>\n",
              "      <td>Released</td>\n",
              "      <td>Season's Greedings</td>\n",
              "      <td>A Christmas Carol</td>\n",
              "      <td>6.60</td>\n",
              "      <td>1095</td>\n",
              "    </tr>\n",
              "    <tr>\n",
              "      <th>63</th>\n",
              "      <td>180000000</td>\n",
              "      <td>[{\"id\": 12, \"name\": \"Adventure\"}, {\"id\": 10751, \"name\": \"Family\"}, {\"id\": 14, \"name\": \"Fantasy\"}]</td>\n",
              "      <td>NaN</td>\n",
              "      <td>411</td>\n",
              "      <td>[{\"id\": 83, \"name\": \"saving the world\"}, {\"id\": 616, \"name\": \"witch\"}, {\"id\": 818, \"name\": \"base...</td>\n",
              "      <td>en</td>\n",
              "      <td>The Chronicles of Narnia: The Lion, the Witch and the Wardrobe</td>\n",
              "      <td>Siblings Lucy, Edmund, Susan and Peter step through a magical wardrobe and find the land of Narn...</td>\n",
              "      <td>67.39</td>\n",
              "      <td>[{\"name\": \"Walt Disney\", \"id\": 5888}, {\"name\": \"Walden Media\", \"id\": 10221}]</td>\n",
              "      <td>[{\"iso_3166_1\": \"GB\", \"name\": \"United Kingdom\"}, {\"iso_3166_1\": \"US\", \"name\": \"United States of ...</td>\n",
              "      <td>2005-12-07</td>\n",
              "      <td>748806957</td>\n",
              "      <td>143.00</td>\n",
              "      <td>[{\"iso_639_1\": \"en\", \"name\": \"English\"}, {\"iso_639_1\": \"de\", \"name\": \"Deutsch\"}]</td>\n",
              "      <td>Released</td>\n",
              "      <td>Evil Has Reigned For 100 Years...</td>\n",
              "      <td>The Chronicles of Narnia: The Lion, the Witch and the Wardrobe</td>\n",
              "      <td>6.70</td>\n",
              "      <td>2629</td>\n",
              "    </tr>\n",
              "    <tr>\n",
              "      <th>78</th>\n",
              "      <td>175000000</td>\n",
              "      <td>[{\"id\": 10751, \"name\": \"Family\"}, {\"id\": 12, \"name\": \"Adventure\"}, {\"id\": 18, \"name\": \"Drama\"}, ...</td>\n",
              "      <td>http://movies.disney.com/the-jungle-book-2016</td>\n",
              "      <td>278927</td>\n",
              "      <td>[{\"id\": 818, \"name\": \"based on novel\"}, {\"id\": 1585, \"name\": \"snake\"}, {\"id\": 1994, \"name\": \"wol...</td>\n",
              "      <td>en</td>\n",
              "      <td>The Jungle Book</td>\n",
              "      <td>After a threat from the tiger Shere Khan forces him to flee the jungle, a man-cub named Mowgli e...</td>\n",
              "      <td>94.20</td>\n",
              "      <td>[{\"name\": \"Walt Disney Pictures\", \"id\": 2}, {\"name\": \"Walt Disney Studios Motion Pictures\", \"id\"...</td>\n",
              "      <td>[{\"iso_3166_1\": \"GB\", \"name\": \"United Kingdom\"}, {\"iso_3166_1\": \"US\", \"name\": \"United States of ...</td>\n",
              "      <td>2016-04-07</td>\n",
              "      <td>966550600</td>\n",
              "      <td>106.00</td>\n",
              "      <td>[{\"iso_639_1\": \"en\", \"name\": \"English\"}]</td>\n",
              "      <td>Released</td>\n",
              "      <td>NaN</td>\n",
              "      <td>The Jungle Book</td>\n",
              "      <td>6.70</td>\n",
              "      <td>2892</td>\n",
              "    </tr>\n",
              "    <tr>\n",
              "      <th>102</th>\n",
              "      <td>160000000</td>\n",
              "      <td>[{\"id\": 28, \"name\": \"Action\"}, {\"id\": 12, \"name\": \"Adventure\"}, {\"id\": 878, \"name\": \"Science Fic...</td>\n",
              "      <td>http://www.thehungergames.movie/</td>\n",
              "      <td>131634</td>\n",
              "      <td>[{\"id\": 2020, \"name\": \"revolution\"}, {\"id\": 2660, \"name\": \"strong woman\"}, {\"id\": 4565, \"name\": ...</td>\n",
              "      <td>en</td>\n",
              "      <td>The Hunger Games: Mockingjay - Part 2</td>\n",
              "      <td>With the nation of Panem in a full scale war, Katniss confronts President Snow in the final show...</td>\n",
              "      <td>127.28</td>\n",
              "      <td>[{\"name\": \"Studio Babelsberg\", \"id\": 264}, {\"name\": \"Lionsgate\", \"id\": 1632}, {\"name\": \"Color Fo...</td>\n",
              "      <td>[{\"iso_3166_1\": \"DE\", \"name\": \"Germany\"}, {\"iso_3166_1\": \"US\", \"name\": \"United States of America\"}]</td>\n",
              "      <td>2015-11-18</td>\n",
              "      <td>653428261</td>\n",
              "      <td>137.00</td>\n",
              "      <td>[{\"iso_639_1\": \"en\", \"name\": \"English\"}]</td>\n",
              "      <td>Released</td>\n",
              "      <td>The fire will burn forever.</td>\n",
              "      <td>The Hunger Games: Mockingjay - Part 2</td>\n",
              "      <td>6.60</td>\n",
              "      <td>3984</td>\n",
              "    </tr>\n",
              "  </tbody>\n",
              "</table>\n",
              "</div>"
            ],
            "text/plain": [
              "        budget  ... vote_count\n",
              "2    245000000  ...       4466\n",
              "4    260000000  ...       2124\n",
              "15   225000000  ...       1630\n",
              "23   180000000  ...       1303\n",
              "32   200000000  ...       4645\n",
              "49   105000000  ...       3769\n",
              "60   200000000  ...       1095\n",
              "63   180000000  ...       2629\n",
              "78   175000000  ...       2892\n",
              "102  160000000  ...       3984\n",
              "\n",
              "[10 rows x 20 columns]"
            ]
          },
          "metadata": {
            "tags": []
          },
          "execution_count": 159
        }
      ]
    },
    {
      "cell_type": "markdown",
      "metadata": {
        "id": "ZEdaBBR8jW1O",
        "colab_type": "text"
      },
      "source": [
        "We saw the MOVIES that say they are based on a novel, merge2 combines that with books to see those that are actually in the books dataset."
      ]
    },
    {
      "cell_type": "code",
      "metadata": {
        "id": "6y-JhO6SoFCg",
        "colab_type": "code",
        "outputId": "c8f031df-8176-4d57-df80-b97cabb4096b",
        "colab": {
          "base_uri": "https://localhost:8080/",
          "height": 588
        }
      },
      "source": [
        "merge2 = pd.merge(books, select_novel_from_movies)\n",
        "merge2.info()\n",
        "# 119 entries\n",
        "\n",
        "\n"
      ],
      "execution_count": 160,
      "outputs": [
        {
          "output_type": "stream",
          "text": [
            "<class 'pandas.core.frame.DataFrame'>\n",
            "Int64Index: 119 entries, 0 to 118\n",
            "Data columns (total 29 columns):\n",
            "bookID                  119 non-null int64\n",
            "title                   119 non-null object\n",
            "authors                 119 non-null object\n",
            "average_rating          119 non-null float64\n",
            "isbn                    119 non-null object\n",
            "isbn13                  119 non-null int64\n",
            "language_code           119 non-null object\n",
            "# num_pages             119 non-null int64\n",
            "ratings_count           119 non-null int64\n",
            "text_reviews_count      119 non-null int64\n",
            "budget                  119 non-null int64\n",
            "genres                  119 non-null object\n",
            "homepage                51 non-null object\n",
            "id                      119 non-null int64\n",
            "keywords                119 non-null object\n",
            "original_language       119 non-null object\n",
            "original_title          119 non-null object\n",
            "overview                119 non-null object\n",
            "popularity              119 non-null float64\n",
            "production_companies    119 non-null object\n",
            "production_countries    119 non-null object\n",
            "release_date            119 non-null object\n",
            "revenue                 119 non-null int64\n",
            "runtime                 119 non-null float64\n",
            "spoken_languages        119 non-null object\n",
            "status                  119 non-null object\n",
            "tagline                 105 non-null object\n",
            "vote_average            119 non-null float64\n",
            "vote_count              119 non-null int64\n",
            "dtypes: float64(4), int64(9), object(16)\n",
            "memory usage: 27.9+ KB\n"
          ],
          "name": "stdout"
        }
      ]
    },
    {
      "cell_type": "code",
      "metadata": {
        "id": "_BjBG5RPfQIF",
        "colab_type": "code",
        "colab": {}
      },
      "source": [
        "books_for_match = books.copy()\n",
        "movies_for_match = movies.copy()\n"
      ],
      "execution_count": 0,
      "outputs": []
    },
    {
      "cell_type": "markdown",
      "metadata": {
        "id": "F_yWR87XZv4r",
        "colab_type": "text"
      },
      "source": [
        "Now we are looking to do exact title matches.\n",
        "\n",
        "Thinking back to the 'Hatchet' example, we can prune some values.\n",
        "Can drop titles with only one word, since it is highly likely single word titles have been used repeatedly.\n",
        "\n",
        "The below code drops 800 book rows, 1000 movie rows\n",
        "\n",
        "I made copies of the dataset here rather than modifying the original."
      ]
    },
    {
      "cell_type": "code",
      "metadata": {
        "id": "OYgon_AcZ1D6",
        "colab_type": "code",
        "colab": {}
      },
      "source": [
        "books_for_match['wordcount'] = books_for_match['title'].str.split().str.len()\n",
        "books_for_match = books_for_match[books_for_match['wordcount'] > 1]\n",
        "movies_for_match['wordcount'] = movies_for_match['title'].str.split().str.len()\n",
        "movies_for_match = movies_for_match[movies_for_match['wordcount'] > 1]\n"
      ],
      "execution_count": 0,
      "outputs": []
    },
    {
      "cell_type": "code",
      "metadata": {
        "id": "szC3bvP9Z5ZV",
        "colab_type": "code",
        "colab": {}
      },
      "source": [
        "# try merging these two\n",
        "merge3 = pd.merge(books_for_match, movies_for_match)\n",
        "\n",
        "#merge3.info()\n",
        "merge3.head(10);"
      ],
      "execution_count": 0,
      "outputs": []
    },
    {
      "cell_type": "markdown",
      "metadata": {
        "id": "WbuFNtk2auwZ",
        "colab_type": "text"
      },
      "source": [
        "In merged2 we combined: books and movies explicitly marked as being based on a book.\n",
        "In merged3 we combined: all books and movies with titles greater than 1 word\n",
        "\n",
        "We want to combine these without the duplicates, try pandas method 'concat'"
      ]
    },
    {
      "cell_type": "code",
      "metadata": {
        "id": "53xTKxGHawh3",
        "colab_type": "code",
        "outputId": "c9748356-eaf5-4750-fd8d-880156d01a19",
        "colab": {
          "base_uri": "https://localhost:8080/",
          "height": 605
        }
      },
      "source": [
        "merge4 = pd.concat([merge2,merge3],sort=True).drop_duplicates().reset_index(drop=True)\n",
        "\n",
        "merge4.info()"
      ],
      "execution_count": 164,
      "outputs": [
        {
          "output_type": "stream",
          "text": [
            "<class 'pandas.core.frame.DataFrame'>\n",
            "RangeIndex: 520 entries, 0 to 519\n",
            "Data columns (total 30 columns):\n",
            "# num_pages             520 non-null int64\n",
            "authors                 520 non-null object\n",
            "average_rating          520 non-null float64\n",
            "bookID                  520 non-null int64\n",
            "budget                  520 non-null int64\n",
            "genres                  520 non-null object\n",
            "homepage                204 non-null object\n",
            "id                      520 non-null int64\n",
            "isbn                    520 non-null object\n",
            "isbn13                  520 non-null int64\n",
            "keywords                520 non-null object\n",
            "language_code           520 non-null object\n",
            "original_language       520 non-null object\n",
            "original_title          520 non-null object\n",
            "overview                520 non-null object\n",
            "popularity              520 non-null float64\n",
            "production_companies    520 non-null object\n",
            "production_countries    520 non-null object\n",
            "ratings_count           520 non-null int64\n",
            "release_date            520 non-null object\n",
            "revenue                 520 non-null int64\n",
            "runtime                 520 non-null float64\n",
            "spoken_languages        520 non-null object\n",
            "status                  520 non-null object\n",
            "tagline                 455 non-null object\n",
            "text_reviews_count      520 non-null int64\n",
            "title                   520 non-null object\n",
            "vote_average            520 non-null float64\n",
            "vote_count              520 non-null int64\n",
            "wordcount               401 non-null float64\n",
            "dtypes: float64(5), int64(9), object(16)\n",
            "memory usage: 122.0+ KB\n"
          ],
          "name": "stdout"
        }
      ]
    },
    {
      "cell_type": "markdown",
      "metadata": {
        "id": "tqQ4iZE0dXYw",
        "colab_type": "text"
      },
      "source": [
        "#### The above dataframe merge4, is our most accurate and complete thus far. It has 520 entries, but with notable absences like the Harry Potter series. The reason for this is that the book entries have more complex titles. See below."
      ]
    },
    {
      "cell_type": "code",
      "metadata": {
        "id": "JHoPcrUseiNS",
        "colab_type": "code",
        "outputId": "330930ae-655d-4c6e-caca-7cd3b5590966",
        "colab": {
          "base_uri": "https://localhost:8080/",
          "height": 235
        }
      },
      "source": [
        "books[books['title'].str.contains('Har')]['title'][:5], ' ', movies[movies['title'].str.contains('Har')]['title'][:5]"
      ],
      "execution_count": 165,
      "outputs": [
        {
          "output_type": "execute_result",
          "data": {
            "text/plain": [
              "(0       Harry Potter and the Half-Blood Prince (Harry Potter  #6)\n",
              " 1    Harry Potter and the Order of the Phoenix (Harry Potter  #5)\n",
              " 2        Harry Potter and the Sorcerer's Stone (Harry Potter  #1)\n",
              " 3      Harry Potter and the Chamber of Secrets (Harry Potter  #2)\n",
              " 4     Harry Potter and the Prisoner of Azkaban (Harry Potter  #3)\n",
              " Name: title, dtype: object,\n",
              " ' ',\n",
              " 8         Harry Potter and the Half-Blood Prince\n",
              " 110                                 Pearl Harbor\n",
              " 113    Harry Potter and the Order of the Phoenix\n",
              " 114          Harry Potter and the Goblet of Fire\n",
              " 191     Harry Potter and the Prisoner of Azkaban\n",
              " Name: title, dtype: object)"
            ]
          },
          "metadata": {
            "tags": []
          },
          "execution_count": 165
        }
      ]
    },
    {
      "cell_type": "markdown",
      "metadata": {
        "id": "A9ofTyZogCKq",
        "colab_type": "text"
      },
      "source": [
        "#### One potential solution would be to manually remove differences like the trailing (Harry Potter '#') book entries, but it would be difficult to identify those in a general case. \n",
        "\n",
        "A better solution is to use partial string matching, to say that if two strings are at least xx% the same, we will consider them a match. The fuzzywuzzy library for Python implements partial string matching using the Levenshtein Distance."
      ]
    },
    {
      "cell_type": "markdown",
      "metadata": {
        "id": "BXgyaGBj9BYN",
        "colab_type": "text"
      },
      "source": [
        "#### 2. "
      ]
    },
    {
      "cell_type": "markdown",
      "metadata": {
        "id": "i4B1DnqB7osl",
        "colab_type": "text"
      },
      "source": [
        "Compare titles 1: O(n^2) over ~15,000 elements\n",
        "\n",
        "    for the title of each book entry:  \n",
        "     compare to the title of each movie entry:\n",
        "        if titles are within acceptabe range of same:\n",
        "          found match!\n",
        "\n",
        "\n",
        "Look for pandas vectorized operations to do above:\n",
        "\n"
      ]
    },
    {
      "cell_type": "code",
      "metadata": {
        "id": "IzE1nMCeoMkX",
        "colab_type": "code",
        "outputId": "4969795e-d1c7-44f0-cc3d-8d2238e60404",
        "colab": {
          "base_uri": "https://localhost:8080/",
          "height": 54
        }
      },
      "source": [
        "#  WiP brute force\n",
        "\"\"\"\n",
        "def compare_titles(book_title, movie_title):\n",
        "  # sameness ratio. 80% and at least two words?\n",
        "  ratio = .8\n",
        "  tmp = fuzz.ratio(book_title, movie_title)\n",
        "  if tmp > ratio:\n",
        "    return True\n",
        "\n",
        "for i in books_for_match['title']:\n",
        "  book_title = i\n",
        "  book_title = book_title.strip()\n",
        "  for j in movies['title']:\n",
        "    movie_title = j\n",
        "    movie_title = movie_title.strip()\n",
        "    result = compare_titles(i, j)\n",
        "\n",
        "    if result == True: # our titles are a match, we've founded an entry that occurs in both sets\n",
        "      # do something\n",
        "      books.loc[i,'match'] = j\n",
        "      #print('Found True!!')\n",
        "\n",
        "\"\"\"\n"
      ],
      "execution_count": 166,
      "outputs": [
        {
          "output_type": "execute_result",
          "data": {
            "text/plain": [
              "\"\\ndef compare_titles(book_title, movie_title):\\n  # sameness ratio. 80% and at least two words?\\n  ratio = .8\\n  tmp = fuzz.ratio(book_title, movie_title)\\n  if tmp > ratio:\\n    return True\\n\\nfor i in books_for_match['title']:\\n  book_title = i\\n  book_title = book_title.strip()\\n  for j in movies['title']:\\n    movie_title = j\\n    movie_title = movie_title.strip()\\n    result = compare_titles(i, j)\\n\\n    if result == True: # our titles are a match, we've founded an entry that occurs in both sets\\n      # do something\\n      books.loc[i,'match'] = j\\n      #print('Found True!!')\\n\\n\""
            ]
          },
          "metadata": {
            "tags": []
          },
          "execution_count": 166
        }
      ]
    },
    {
      "cell_type": "code",
      "metadata": {
        "id": "RYG8q8cCwVIf",
        "colab_type": "code",
        "colab": {}
      },
      "source": [
        "#books['sameness'] = book_copy.apply(lambda x: fuzz.ratio(x['title'], movies.title[x]))\n",
        "#books['sameness']"
      ],
      "execution_count": 0,
      "outputs": []
    },
    {
      "cell_type": "markdown",
      "metadata": {
        "id": "v_3Wt1Nyyt33",
        "colab_type": "text"
      },
      "source": [
        "### Can we come up with algorithm to verify book/movie pair are the same thing? (incomplete)\n",
        "\n",
        "\n",
        "Steps:\n",
        "*   Can see if languages are the same\n",
        "*   Look for 'based on novel' type phrase in movie: keywords, genre, credits\n",
        "*   Look for reference to book author in movie credits or production company\n",
        "*   Variation in title?\n",
        "\n",
        "\n",
        "\n"
      ]
    },
    {
      "cell_type": "code",
      "metadata": {
        "id": "aRd9ZDfkUU-j",
        "colab_type": "code",
        "colab": {}
      },
      "source": [
        "def verify(row):\n",
        "  # do something\n",
        "  pass\n"
      ],
      "execution_count": 0,
      "outputs": []
    },
    {
      "cell_type": "markdown",
      "metadata": {
        "id": "hJ5svtPjo_yP",
        "colab_type": "text"
      },
      "source": [
        "## Merged Set Descriptives\n",
        "Using merge4, acknowledging that it is currently incomplete"
      ]
    },
    {
      "cell_type": "code",
      "metadata": {
        "id": "jPH4I1zxo-Rm",
        "colab_type": "code",
        "outputId": "1d66167c-6fce-43fe-f514-b0f3b3299650",
        "colab": {
          "base_uri": "https://localhost:8080/",
          "height": 605
        }
      },
      "source": [
        "merge4.info()"
      ],
      "execution_count": 169,
      "outputs": [
        {
          "output_type": "stream",
          "text": [
            "<class 'pandas.core.frame.DataFrame'>\n",
            "RangeIndex: 520 entries, 0 to 519\n",
            "Data columns (total 30 columns):\n",
            "# num_pages             520 non-null int64\n",
            "authors                 520 non-null object\n",
            "average_rating          520 non-null float64\n",
            "bookID                  520 non-null int64\n",
            "budget                  520 non-null int64\n",
            "genres                  520 non-null object\n",
            "homepage                204 non-null object\n",
            "id                      520 non-null int64\n",
            "isbn                    520 non-null object\n",
            "isbn13                  520 non-null int64\n",
            "keywords                520 non-null object\n",
            "language_code           520 non-null object\n",
            "original_language       520 non-null object\n",
            "original_title          520 non-null object\n",
            "overview                520 non-null object\n",
            "popularity              520 non-null float64\n",
            "production_companies    520 non-null object\n",
            "production_countries    520 non-null object\n",
            "ratings_count           520 non-null int64\n",
            "release_date            520 non-null object\n",
            "revenue                 520 non-null int64\n",
            "runtime                 520 non-null float64\n",
            "spoken_languages        520 non-null object\n",
            "status                  520 non-null object\n",
            "tagline                 455 non-null object\n",
            "text_reviews_count      520 non-null int64\n",
            "title                   520 non-null object\n",
            "vote_average            520 non-null float64\n",
            "vote_count              520 non-null int64\n",
            "wordcount               401 non-null float64\n",
            "dtypes: float64(5), int64(9), object(16)\n",
            "memory usage: 122.0+ KB\n"
          ],
          "name": "stdout"
        }
      ]
    },
    {
      "cell_type": "code",
      "metadata": {
        "id": "hnnk0Zy7RzEn",
        "colab_type": "code",
        "outputId": "06a91ecd-6919-41e5-d938-cdbc22d4c011",
        "colab": {
          "base_uri": "https://localhost:8080/",
          "height": 462
        }
      },
      "source": [
        "merge4.describe().T"
      ],
      "execution_count": 170,
      "outputs": [
        {
          "output_type": "execute_result",
          "data": {
            "text/html": [
              "<div>\n",
              "<style scoped>\n",
              "    .dataframe tbody tr th:only-of-type {\n",
              "        vertical-align: middle;\n",
              "    }\n",
              "\n",
              "    .dataframe tbody tr th {\n",
              "        vertical-align: top;\n",
              "    }\n",
              "\n",
              "    .dataframe thead th {\n",
              "        text-align: right;\n",
              "    }\n",
              "</style>\n",
              "<table border=\"1\" class=\"dataframe\">\n",
              "  <thead>\n",
              "    <tr style=\"text-align: right;\">\n",
              "      <th></th>\n",
              "      <th>count</th>\n",
              "      <th>mean</th>\n",
              "      <th>std</th>\n",
              "      <th>min</th>\n",
              "      <th>25%</th>\n",
              "      <th>50%</th>\n",
              "      <th>75%</th>\n",
              "      <th>max</th>\n",
              "    </tr>\n",
              "  </thead>\n",
              "  <tbody>\n",
              "    <tr>\n",
              "      <th># num_pages</th>\n",
              "      <td>520.00</td>\n",
              "      <td>329.12</td>\n",
              "      <td>219.47</td>\n",
              "      <td>0.00</td>\n",
              "      <td>206.75</td>\n",
              "      <td>302.50</td>\n",
              "      <td>400.25</td>\n",
              "      <td>1480.00</td>\n",
              "    </tr>\n",
              "    <tr>\n",
              "      <th>average_rating</th>\n",
              "      <td>520.00</td>\n",
              "      <td>3.92</td>\n",
              "      <td>0.23</td>\n",
              "      <td>2.86</td>\n",
              "      <td>3.81</td>\n",
              "      <td>3.96</td>\n",
              "      <td>4.08</td>\n",
              "      <td>4.44</td>\n",
              "    </tr>\n",
              "    <tr>\n",
              "      <th>bookID</th>\n",
              "      <td>520.00</td>\n",
              "      <td>16525.51</td>\n",
              "      <td>13301.29</td>\n",
              "      <td>151.00</td>\n",
              "      <td>5799.75</td>\n",
              "      <td>12299.00</td>\n",
              "      <td>24658.00</td>\n",
              "      <td>47056.00</td>\n",
              "    </tr>\n",
              "    <tr>\n",
              "      <th>budget</th>\n",
              "      <td>520.00</td>\n",
              "      <td>37163497.14</td>\n",
              "      <td>41121526.22</td>\n",
              "      <td>0.00</td>\n",
              "      <td>7000000.00</td>\n",
              "      <td>25000000.00</td>\n",
              "      <td>50000000.00</td>\n",
              "      <td>200000000.00</td>\n",
              "    </tr>\n",
              "    <tr>\n",
              "      <th>id</th>\n",
              "      <td>520.00</td>\n",
              "      <td>30678.47</td>\n",
              "      <td>56050.75</td>\n",
              "      <td>66.00</td>\n",
              "      <td>2289.00</td>\n",
              "      <td>10533.00</td>\n",
              "      <td>25549.00</td>\n",
              "      <td>345911.00</td>\n",
              "    </tr>\n",
              "    <tr>\n",
              "      <th>isbn13</th>\n",
              "      <td>520.00</td>\n",
              "      <td>9780815174394.99</td>\n",
              "      <td>1263219375.82</td>\n",
              "      <td>9780006498520.00</td>\n",
              "      <td>9780312264647.50</td>\n",
              "      <td>9780517223628.00</td>\n",
              "      <td>9780812976526.00</td>\n",
              "      <td>9789998691568.00</td>\n",
              "    </tr>\n",
              "    <tr>\n",
              "      <th>popularity</th>\n",
              "      <td>520.00</td>\n",
              "      <td>27.29</td>\n",
              "      <td>23.33</td>\n",
              "      <td>0.00</td>\n",
              "      <td>10.74</td>\n",
              "      <td>22.14</td>\n",
              "      <td>37.49</td>\n",
              "      <td>146.76</td>\n",
              "    </tr>\n",
              "    <tr>\n",
              "      <th>ratings_count</th>\n",
              "      <td>520.00</td>\n",
              "      <td>77157.99</td>\n",
              "      <td>213424.27</td>\n",
              "      <td>2.00</td>\n",
              "      <td>234.50</td>\n",
              "      <td>1536.00</td>\n",
              "      <td>24673.75</td>\n",
              "      <td>1464909.00</td>\n",
              "    </tr>\n",
              "    <tr>\n",
              "      <th>revenue</th>\n",
              "      <td>520.00</td>\n",
              "      <td>101848159.15</td>\n",
              "      <td>149807279.10</td>\n",
              "      <td>0.00</td>\n",
              "      <td>10382407.00</td>\n",
              "      <td>44017374.00</td>\n",
              "      <td>132274484.00</td>\n",
              "      <td>1025491110.00</td>\n",
              "    </tr>\n",
              "    <tr>\n",
              "      <th>runtime</th>\n",
              "      <td>520.00</td>\n",
              "      <td>119.72</td>\n",
              "      <td>21.56</td>\n",
              "      <td>80.00</td>\n",
              "      <td>102.00</td>\n",
              "      <td>117.00</td>\n",
              "      <td>136.00</td>\n",
              "      <td>238.00</td>\n",
              "    </tr>\n",
              "    <tr>\n",
              "      <th>text_reviews_count</th>\n",
              "      <td>520.00</td>\n",
              "      <td>2185.47</td>\n",
              "      <td>6838.92</td>\n",
              "      <td>0.00</td>\n",
              "      <td>20.75</td>\n",
              "      <td>146.00</td>\n",
              "      <td>1137.50</td>\n",
              "      <td>84237.00</td>\n",
              "    </tr>\n",
              "    <tr>\n",
              "      <th>vote_average</th>\n",
              "      <td>520.00</td>\n",
              "      <td>6.63</td>\n",
              "      <td>0.79</td>\n",
              "      <td>4.40</td>\n",
              "      <td>6.00</td>\n",
              "      <td>6.70</td>\n",
              "      <td>7.20</td>\n",
              "      <td>8.50</td>\n",
              "    </tr>\n",
              "    <tr>\n",
              "      <th>vote_count</th>\n",
              "      <td>520.00</td>\n",
              "      <td>946.24</td>\n",
              "      <td>1265.45</td>\n",
              "      <td>2.00</td>\n",
              "      <td>156.75</td>\n",
              "      <td>513.50</td>\n",
              "      <td>1099.50</td>\n",
              "      <td>9413.00</td>\n",
              "    </tr>\n",
              "    <tr>\n",
              "      <th>wordcount</th>\n",
              "      <td>401.00</td>\n",
              "      <td>3.03</td>\n",
              "      <td>1.19</td>\n",
              "      <td>2.00</td>\n",
              "      <td>2.00</td>\n",
              "      <td>3.00</td>\n",
              "      <td>4.00</td>\n",
              "      <td>8.00</td>\n",
              "    </tr>\n",
              "  </tbody>\n",
              "</table>\n",
              "</div>"
            ],
            "text/plain": [
              "                    count             mean  ...              75%              max\n",
              "# num_pages        520.00           329.12  ...           400.25          1480.00\n",
              "average_rating     520.00             3.92  ...             4.08             4.44\n",
              "bookID             520.00         16525.51  ...         24658.00         47056.00\n",
              "budget             520.00      37163497.14  ...      50000000.00     200000000.00\n",
              "id                 520.00         30678.47  ...         25549.00        345911.00\n",
              "isbn13             520.00 9780815174394.99  ... 9780812976526.00 9789998691568.00\n",
              "popularity         520.00            27.29  ...            37.49           146.76\n",
              "ratings_count      520.00         77157.99  ...         24673.75       1464909.00\n",
              "revenue            520.00     101848159.15  ...     132274484.00    1025491110.00\n",
              "runtime            520.00           119.72  ...           136.00           238.00\n",
              "text_reviews_count 520.00          2185.47  ...          1137.50         84237.00\n",
              "vote_average       520.00             6.63  ...             7.20             8.50\n",
              "vote_count         520.00           946.24  ...          1099.50          9413.00\n",
              "wordcount          401.00             3.03  ...             4.00             8.00\n",
              "\n",
              "[14 rows x 8 columns]"
            ]
          },
          "metadata": {
            "tags": []
          },
          "execution_count": 170
        }
      ]
    },
    {
      "cell_type": "code",
      "metadata": {
        "id": "JTu0-UzA9fyL",
        "colab_type": "code",
        "outputId": "24865d98-2419-4f83-c53e-4711c63b8bbc",
        "colab": {
          "base_uri": "https://localhost:8080/",
          "height": 1000
        }
      },
      "source": [
        "merge4['title'].unique()"
      ],
      "execution_count": 171,
      "outputs": [
        {
          "output_type": "execute_result",
          "data": {
            "text/plain": [
              "array(['Anna Karenina', 'The Lovely Bones', 'The Da Vinci Code',\n",
              "       'A Home at the End of the World', 'Moby Dick', 'On the Road',\n",
              "       'To Kill a Mockingbird', 'Howards End', 'A Walk to Remember',\n",
              "       'The Giver', 'American Psycho', 'The Great Gatsby',\n",
              "       'A Christmas Carol', 'Dear John', \"All the King's Men\",\n",
              "       'Charlie and the Chocolate Factory', 'The BFG', 'Never Let Me Go',\n",
              "       'Atonement', 'The Shipping News', 'Anne of Green Gables', 'Nerve',\n",
              "       'Carrie', 'The Town', 'The Green Mile', 'The Dead Zone',\n",
              "       'Stand by Me', 'The Hotel New Hampshire', 'The Scarlet Letter',\n",
              "       'Rebecca', \"Winter's Tale\", 'Alice in Wonderland', 'Hoot',\n",
              "       \"The Time Traveler's Wife\", 'A Scanner Darkly', 'The Outsiders',\n",
              "       'Sense and Sensibility', 'The Ice Storm', 'Wonder Boys',\n",
              "       'Stardust', 'A Single Man', 'Notes on a Scandal',\n",
              "       \"It's Kind of a Funny Story\", 'Shutter Island',\n",
              "       'The Silence of the Lambs', 'Trainspotting', 'Ella Enchanted',\n",
              "       'The Postman Always Rings Twice', 'Angels & Demons', 'Dark Water',\n",
              "       'Blood and Chocolate', 'The Mothman Prophecies', 'Stuart Little',\n",
              "       'Thank You for Smoking', 'White Fang', 'Something Borrowed',\n",
              "       'The Untouchables', 'Love Letters',\n",
              "       'Perfume: The Story of a Murderer', 'The Kite Runner',\n",
              "       'Memoirs of a Geisha', 'Snow Flower and the Secret Fan',\n",
              "       'Life of Pi', 'Veronika Decides to Die', 'Brokeback Mountain',\n",
              "       'The Men Who Stare at Goats', 'Into the Wild', 'Pride & Prejudice',\n",
              "       'Little Women', 'The Hours', 'In Cold Blood', 'The House of Mirth',\n",
              "       'The Time Machine', 'The Cave', 'Bridge to Terabithia',\n",
              "       'Girl with a Pearl Earring', 'A Room with a View', 'Runaway Bride',\n",
              "       'Message in a Bottle', 'The Quiet American',\n",
              "       'From Russia with Love', 'Fever Pitch', 'High Fidelity',\n",
              "       'About a Boy', 'Running with Scissors', \"Bridget Jones's Diary\",\n",
              "       \"Angela's Ashes\", 'Breakfast of Champions', 'Where the Heart Is',\n",
              "       'The Reader', 'White Oleander', 'An Ideal Husband',\n",
              "       'A Christmas Story', 'The Rainmaker', 'The Firm', 'The Client',\n",
              "       'Fight Club', 'Vanity Fair', 'V for Vendetta', 'Casino Royale',\n",
              "       'All the Pretty Horses', 'Wuthering Heights',\n",
              "       'A Very Long Engagement', 'The Road', 'Rob Roy',\n",
              "       'Fantastic Mr. Fox', 'Cloud Atlas', \"My Sister's Keeper\",\n",
              "       'The Count of Monte Cristo', 'The Secret Life of Bees',\n",
              "       'Midnight in the Garden of Good and Evil', \"Gulliver's Travels\",\n",
              "       'Fear and Loathing in Las Vegas', 'The Cat in the Hat',\n",
              "       'Cloudy with a Chance of Meatballs', 'The Gift', 'Rat Race',\n",
              "       'The Last Temptation of Christ', 'The Beach', 'Planet of the Apes',\n",
              "       'Conquest of the Planet of the Apes',\n",
              "       'Battle for the Planet of the Apes', 'Hocus Pocus',\n",
              "       'Love in the Time of Cholera', 'The Art of War', \"Jesus' Son\",\n",
              "       'The Rules of Attraction', 'The Informers', 'Flags of Our Fathers',\n",
              "       'The Namesake', 'The Three Musketeers', 'The Mist', 'Pet Sematary',\n",
              "       'The Shining', 'A Farewell to Arms', \"Charlotte's Web\",\n",
              "       'The Pursuit of Happyness', 'Cold Mountain', 'The Virgin Suicides',\n",
              "       \"One Flew Over the Cuckoo's Nest\", 'Elmer Gantry', 'Old School',\n",
              "       'The Color Purple', 'The Promise', 'Hearts in Atlantis',\n",
              "       'The Running Man', 'White Noise', 'The Killer Inside Me',\n",
              "       'Glengarry Glen Ross', 'A Streetcar Named Desire',\n",
              "       'Independence Day', 'No Country for Old Men', 'The Covenant',\n",
              "       'Much Ado About Nothing', 'Hide and Seek', 'The Interpreter',\n",
              "       'A Beautiful Mind', 'I Am Legend', 'Absolute Power',\n",
              "       'Garden State', 'Total Recall', 'House of Sand and Fog',\n",
              "       'Mirror Mirror', 'At First Sight', 'The Awakening',\n",
              "       'The Prince of Tides', 'Starship Troopers', 'The Gambler',\n",
              "       'Oliver Twist', 'Gone with the Wind', 'The Spy Who Loved Me',\n",
              "       'Brick Lane', 'The Book Thief', 'Where the Wild Things Are',\n",
              "       'Four Weddings and a Funeral', 'The Good Guy', 'Mystic River',\n",
              "       'The Ruins', 'The Princess Bride', 'First Blood', 'The Godfather',\n",
              "       'Jurassic Park', 'The Soloist', 'The Other Woman',\n",
              "       'Practical Magic', 'Are We There Yet?', 'Miracle at St. Anna',\n",
              "       'From Hell', 'The Merchant of Venice', 'Les Misérables',\n",
              "       'East Is East', 'City of God', 'Inside Job', 'Tuck Everlasting',\n",
              "       'Out of Africa', 'Lights Out', 'A Civil Action', 'Close Range',\n",
              "       'Taxi Driver', 'The Prince', 'Layer Cake', 'Hard Candy',\n",
              "       'The End of the Affair', 'The Switch', 'Up in the Air',\n",
              "       'The Other Boleyn Girl', 'This Christmas', 'Tom Jones',\n",
              "       'The Polar Express', 'Silent Running', 'The Pelican Brief',\n",
              "       'A Time to Kill', 'The Tempest', 'What Dreams May Come',\n",
              "       'Broken Vessels', 'Interview with the Vampire',\n",
              "       'The Chronicles of Riddick', 'Side Effects',\n",
              "       'Bridget Jones: The Edge of Reason', 'The Woman in Black',\n",
              "       'The Tale of Despereaux', 'Little Children', 'Henry V',\n",
              "       'Rabbit Hole', 'The Shawshank Redemption', 'The Abyss',\n",
              "       'How Green Was My Valley', 'The Last Castle', 'The Right Stuff',\n",
              "       'The Prestige', 'Head Over Heels', 'Richard III',\n",
              "       'The Little Prince', 'Water for Elephants', 'The Master',\n",
              "       'A Passage to India', 'Quo Vadis', 'The Eye',\n",
              "       'Requiem for a Dream'], dtype=object)"
            ]
          },
          "metadata": {
            "tags": []
          },
          "execution_count": 171
        }
      ]
    },
    {
      "cell_type": "markdown",
      "metadata": {
        "id": "P_sY_PMLRi_O",
        "colab_type": "text"
      },
      "source": [
        "Note, the merge seems to still have duplicate entries, and to be putting the movie director in authors. For some reason."
      ]
    },
    {
      "cell_type": "code",
      "metadata": {
        "id": "kfExlp8XpFPa",
        "colab_type": "code",
        "outputId": "27673e3a-ff80-43fd-c4da-558d71666205",
        "colab": {
          "base_uri": "https://localhost:8080/",
          "height": 202
        }
      },
      "source": [
        "merge4['authors'].head(10)"
      ],
      "execution_count": 172,
      "outputs": [
        {
          "output_type": "execute_result",
          "data": {
            "text/plain": [
              "0                Leo Tolstoy-Richard Pevear-Larissa Volokhonsky\n",
              "1                  Leo Tolstoy-David Magarshack-Priscilla Meyer\n",
              "2    Leo Tolstoy-Richard Pevear-Larissa Volokhonsky-John Bayley\n",
              "3                   Leo Tolstoy-Amy Mandelker-Constance Garnett\n",
              "4                         Leo Tolstoy-Louise Maude-Aylmer Maude\n",
              "5                   Leo Tolstoy-Constance Garnett-Amy Mandelker\n",
              "6                Leo Tolstoy-Richard Pevear-Larissa Volokhonsky\n",
              "7                                 Leo Tolstoy-Constance Garnett\n",
              "8                                                  Alice Sebold\n",
              "9                                                  Alice Sebold\n",
              "Name: authors, dtype: object"
            ]
          },
          "metadata": {
            "tags": []
          },
          "execution_count": 172
        }
      ]
    },
    {
      "cell_type": "code",
      "metadata": {
        "id": "AfcreguvYBp-",
        "colab_type": "code",
        "outputId": "4f63bef4-f6fd-4906-b8b3-e94a26ed25ed",
        "colab": {
          "base_uri": "https://localhost:8080/",
          "height": 1000
        }
      },
      "source": [
        "for i in merge4:\n",
        "  if merge4[i].dtype == 'int64' or 'float64':\n",
        "    merge4[i].hist()\n",
        "    plt.ylabel(i)\n",
        "    plt.show()\n",
        "\n"
      ],
      "execution_count": 173,
      "outputs": [
        {
          "output_type": "display_data",
          "data": {
            "image/png": "[encoded data removed]",
            "text/plain": [
              "<Figure size 432x288 with 1 Axes>"
            ]
          },
          "metadata": {
            "tags": []
          }
        },
        {
          "output_type": "display_data",
          "data": {
            "image/png": "[encoded data removed]",
            "text/plain": [
              "<Figure size 432x288 with 1 Axes>"
            ]
          },
          "metadata": {
            "tags": []
          }
        },
        {
          "output_type": "display_data",
          "data": {
            "image/png": "[encoded data removed]",
            "text/plain": [
              "<Figure size 432x288 with 1 Axes>"
            ]
          },
          "metadata": {
            "tags": []
          }
        },
        {
          "output_type": "display_data",
          "data": {
            "image/png": "[encoded data removed]",
            "text/plain": [
              "<Figure size 432x288 with 1 Axes>"
            ]
          },
          "metadata": {
            "tags": []
          }
        },
        {
          "output_type": "display_data",
          "data": {
            "image/png": "[encoded data removed]",
            "text/plain": [
              "<Figure size 432x288 with 1 Axes>"
            ]
          },
          "metadata": {
            "tags": []
          }
        },
        {
          "output_type": "display_data",
          "data": {
            "image/png": "[encoded data removed]",
            "text/plain": [
              "<Figure size 432x288 with 1 Axes>"
            ]
          },
          "metadata": {
            "tags": []
          }
        },
        {
          "output_type": "display_data",
          "data": {
            "image/png": "[encoded data removed]",
            "text/plain": [
              "<Figure size 432x288 with 1 Axes>"
            ]
          },
          "metadata": {
            "tags": []
          }
        },
        {
          "output_type": "display_data",
          "data": {
            "image/png": "[encoded data removed]",
            "text/plain": [
              "<Figure size 432x288 with 1 Axes>"
            ]
          },
          "metadata": {
            "tags": []
          }
        },
        {
          "output_type": "display_data",
          "data": {
            "image/png": "[encoded data removed]",
            "text/plain": [
              "<Figure size 432x288 with 1 Axes>"
            ]
          },
          "metadata": {
            "tags": []
          }
        },
        {
          "output_type": "display_data",
          "data": {
            "image/png": "[encoded data removed]",
            "text/plain": [
              "<Figure size 432x288 with 1 Axes>"
            ]
          },
          "metadata": {
            "tags": []
          }
        },
        {
          "output_type": "display_data",
          "data": {
            "image/png": "[encoded data removed]",
            "text/plain": [
              "<Figure size 432x288 with 1 Axes>"
            ]
          },
          "metadata": {
            "tags": []
          }
        },
        {
          "output_type": "display_data",
          "data": {
            "image/png": "[encoded data removed]",
            "text/plain": [
              "<Figure size 432x288 with 1 Axes>"
            ]
          },
          "metadata": {
            "tags": []
          }
        },
        {
          "output_type": "display_data",
          "data": {
            "image/png": "[encoded data removed]",
            "text/plain": [
              "<Figure size 432x288 with 1 Axes>"
            ]
          },
          "metadata": {
            "tags": []
          }
        },
        {
          "output_type": "display_data",
          "data": {
            "image/png": "[encoded data removed]",
            "text/plain": [
              "<Figure size 432x288 with 1 Axes>"
            ]
          },
          "metadata": {
            "tags": []
          }
        },
        {
          "output_type": "display_data",
          "data": {
            "image/png": "[encoded data removed]",
            "text/plain": [
              "<Figure size 432x288 with 1 Axes>"
            ]
          },
          "metadata": {
            "tags": []
          }
        },
        {
          "output_type": "display_data",
          "data": {
            "image/png": "[encoded data removed]",
            "text/plain": [
              "<Figure size 432x288 with 1 Axes>"
            ]
          },
          "metadata": {
            "tags": []
          }
        },
        {
          "output_type": "display_data",
          "data": {
            "image/png": "[encoded data removed]",
            "text/plain": [
              "<Figure size 432x288 with 1 Axes>"
            ]
          },
          "metadata": {
            "tags": []
          }
        },
        {
          "output_type": "display_data",
          "data": {
            "image/png": "[encoded data removed]",
            "text/plain": [
              "<Figure size 432x288 with 1 Axes>"
            ]
          },
          "metadata": {
            "tags": []
          }
        },
        {
          "output_type": "display_data",
          "data": {
            "image/png": "[encoded data removed]",
            "text/plain": [
              "<Figure size 432x288 with 1 Axes>"
            ]
          },
          "metadata": {
            "tags": []
          }
        },
        {
          "output_type": "display_data",
          "data": {
            "image/png": "[encoded data removed]",
            "text/plain": [
              "<Figure size 432x288 with 1 Axes>"
            ]
          },
          "metadata": {
            "tags": []
          }
        },
        {
          "output_type": "display_data",
          "data": {
            "image/png": "[encoded data removed]",
            "text/plain": [
              "<Figure size 432x288 with 1 Axes>"
            ]
          },
          "metadata": {
            "tags": []
          }
        },
        {
          "output_type": "display_data",
          "data": {
            "image/png": "[encoded data removed]",
            "text/plain": [
              "<Figure size 432x288 with 1 Axes>"
            ]
          },
          "metadata": {
            "tags": []
          }
        },
        {
          "output_type": "display_data",
          "data": {
            "image/png": "[encoded data removed]",
            "text/plain": [
              "<Figure size 432x288 with 1 Axes>"
            ]
          },
          "metadata": {
            "tags": []
          }
        },
        {
          "output_type": "display_data",
          "data": {
            "image/png": "[encoded data removed]",
            "text/plain": [
              "<Figure size 432x288 with 1 Axes>"
            ]
          },
          "metadata": {
            "tags": []
          }
        },
        {
          "output_type": "display_data",
          "data": {
            "image/png": "[encoded data removed]",
            "text/plain": [
              "<Figure size 432x288 with 1 Axes>"
            ]
          },
          "metadata": {
            "tags": []
          }
        },
        {
          "output_type": "display_data",
          "data": {
            "image/png": "[encoded data removed]",
            "text/plain": [
              "<Figure size 432x288 with 1 Axes>"
            ]
          },
          "metadata": {
            "tags": []
          }
        },
        {
          "output_type": "display_data",
          "data": {
            "image/png": "[encoded data removed]",
            "text/plain": [
              "<Figure size 432x288 with 1 Axes>"
            ]
          },
          "metadata": {
            "tags": []
          }
        },
        {
          "output_type": "display_data",
          "data": {
            "image/png": "[encoded data removed]",
            "text/plain": [
              "<Figure size 432x288 with 1 Axes>"
            ]
          },
          "metadata": {
            "tags": []
          }
        },
        {
          "output_type": "display_data",
          "data": {
            "image/png": "[encoded data removed]",
            "text/plain": [
              "<Figure size 432x288 with 1 Axes>"
            ]
          },
          "metadata": {
            "tags": []
          }
        },
        {
          "output_type": "display_data",
          "data": {
            "image/png": "[encoded data removed]",
            "text/plain": [
              "<Figure size 432x288 with 1 Axes>"
            ]
          },
          "metadata": {
            "tags": []
          }
        }
      ]
    },
    {
      "cell_type": "code",
      "metadata": {
        "id": "M0cFKz-qUvwI",
        "colab_type": "code",
        "colab": {}
      },
      "source": [
        ""
      ],
      "execution_count": 0,
      "outputs": []
    },
    {
      "cell_type": "markdown",
      "metadata": {
        "id": "H4OtuvVuLOJ9",
        "colab_type": "text"
      },
      "source": [
        "### Combined rating\n",
        "Books on goodreads are rated out out of 5.\n",
        "\n",
        "Movies are rated out of 10\n",
        "\n",
        "In comparing a book+movie combination it would make sense to have a total rating that fairly weighs the two scores. For now I am multiplying the book rating by 2, adding it to the movie score, dividing the total by 2."
      ]
    },
    {
      "cell_type": "code",
      "metadata": {
        "id": "ZsgR0zG_k61z",
        "colab_type": "code",
        "outputId": "2640c40f-f77d-4b02-cf7a-13e2752c1826",
        "colab": {
          "base_uri": "https://localhost:8080/",
          "height": 343
        }
      },
      "source": [
        "#col_list = ['average_rating', 'popularity']\n",
        "merge4['Combined Rating'] = ((merge4['average_rating'] * 2)  + merge4['vote_average']) / 2\n",
        "merge4.sort_values('Combined Rating', ascending=False)[:10][['title','Combined Rating']]"
      ],
      "execution_count": 174,
      "outputs": [
        {
          "output_type": "execute_result",
          "data": {
            "text/html": [
              "<div>\n",
              "<style scoped>\n",
              "    .dataframe tbody tr th:only-of-type {\n",
              "        vertical-align: middle;\n",
              "    }\n",
              "\n",
              "    .dataframe tbody tr th {\n",
              "        vertical-align: top;\n",
              "    }\n",
              "\n",
              "    .dataframe thead th {\n",
              "        text-align: right;\n",
              "    }\n",
              "</style>\n",
              "<table border=\"1\" class=\"dataframe\">\n",
              "  <thead>\n",
              "    <tr style=\"text-align: right;\">\n",
              "      <th></th>\n",
              "      <th>title</th>\n",
              "      <th>Combined Rating</th>\n",
              "    </tr>\n",
              "  </thead>\n",
              "  <tbody>\n",
              "    <tr>\n",
              "      <th>496</th>\n",
              "      <td>The Shawshank Redemption</td>\n",
              "      <td>8.67</td>\n",
              "    </tr>\n",
              "    <tr>\n",
              "      <th>428</th>\n",
              "      <td>The Godfather</td>\n",
              "      <td>8.57</td>\n",
              "    </tr>\n",
              "    <tr>\n",
              "      <th>427</th>\n",
              "      <td>The Godfather</td>\n",
              "      <td>8.57</td>\n",
              "    </tr>\n",
              "    <tr>\n",
              "      <th>343</th>\n",
              "      <td>The Green Mile</td>\n",
              "      <td>8.54</td>\n",
              "    </tr>\n",
              "    <tr>\n",
              "      <th>66</th>\n",
              "      <td>The Green Mile</td>\n",
              "      <td>8.54</td>\n",
              "    </tr>\n",
              "    <tr>\n",
              "      <th>239</th>\n",
              "      <td>Fight Club</td>\n",
              "      <td>8.35</td>\n",
              "    </tr>\n",
              "    <tr>\n",
              "      <th>60</th>\n",
              "      <td>Anne of Green Gables</td>\n",
              "      <td>8.34</td>\n",
              "    </tr>\n",
              "    <tr>\n",
              "      <th>292</th>\n",
              "      <td>Anne of Green Gables</td>\n",
              "      <td>8.34</td>\n",
              "    </tr>\n",
              "    <tr>\n",
              "      <th>439</th>\n",
              "      <td>The Silence of the Lambs</td>\n",
              "      <td>8.32</td>\n",
              "    </tr>\n",
              "    <tr>\n",
              "      <th>103</th>\n",
              "      <td>The Silence of the Lambs</td>\n",
              "      <td>8.32</td>\n",
              "    </tr>\n",
              "  </tbody>\n",
              "</table>\n",
              "</div>"
            ],
            "text/plain": [
              "                        title  Combined Rating\n",
              "496  The Shawshank Redemption             8.67\n",
              "428             The Godfather             8.57\n",
              "427             The Godfather             8.57\n",
              "343            The Green Mile             8.54\n",
              "66             The Green Mile             8.54\n",
              "239                Fight Club             8.35\n",
              "60       Anne of Green Gables             8.34\n",
              "292      Anne of Green Gables             8.34\n",
              "439  The Silence of the Lambs             8.32\n",
              "103  The Silence of the Lambs             8.32"
            ]
          },
          "metadata": {
            "tags": []
          },
          "execution_count": 174
        }
      ]
    },
    {
      "cell_type": "code",
      "metadata": {
        "id": "a7vI1HaXQm9e",
        "colab_type": "code",
        "outputId": "c5528a80-47f2-40bc-d61b-1edce9ff6dbe",
        "colab": {
          "base_uri": "https://localhost:8080/",
          "height": 343
        }
      },
      "source": [
        "merge4.sort_values('Combined Rating', ascending=True)[:10][['title','Combined Rating']]"
      ],
      "execution_count": 175,
      "outputs": [
        {
          "output_type": "execute_result",
          "data": {
            "text/html": [
              "<div>\n",
              "<style scoped>\n",
              "    .dataframe tbody tr th:only-of-type {\n",
              "        vertical-align: middle;\n",
              "    }\n",
              "\n",
              "    .dataframe tbody tr th {\n",
              "        vertical-align: top;\n",
              "    }\n",
              "\n",
              "    .dataframe thead th {\n",
              "        text-align: right;\n",
              "    }\n",
              "</style>\n",
              "<table border=\"1\" class=\"dataframe\">\n",
              "  <thead>\n",
              "    <tr style=\"text-align: right;\">\n",
              "      <th></th>\n",
              "      <th>title</th>\n",
              "      <th>Combined Rating</th>\n",
              "    </tr>\n",
              "  </thead>\n",
              "  <tbody>\n",
              "    <tr>\n",
              "      <th>308</th>\n",
              "      <td>The Informers</td>\n",
              "      <td>5.58</td>\n",
              "    </tr>\n",
              "    <tr>\n",
              "      <th>279</th>\n",
              "      <td>Gulliver's Travels</td>\n",
              "      <td>5.79</td>\n",
              "    </tr>\n",
              "    <tr>\n",
              "      <th>128</th>\n",
              "      <td>Love Letters</td>\n",
              "      <td>5.97</td>\n",
              "    </tr>\n",
              "    <tr>\n",
              "      <th>410</th>\n",
              "      <td>Brick Lane</td>\n",
              "      <td>6.00</td>\n",
              "    </tr>\n",
              "    <tr>\n",
              "      <th>281</th>\n",
              "      <td>Gulliver's Travels</td>\n",
              "      <td>6.01</td>\n",
              "    </tr>\n",
              "    <tr>\n",
              "      <th>282</th>\n",
              "      <td>Gulliver's Travels</td>\n",
              "      <td>6.01</td>\n",
              "    </tr>\n",
              "    <tr>\n",
              "      <th>283</th>\n",
              "      <td>Gulliver's Travels</td>\n",
              "      <td>6.01</td>\n",
              "    </tr>\n",
              "    <tr>\n",
              "      <th>284</th>\n",
              "      <td>Gulliver's Travels</td>\n",
              "      <td>6.01</td>\n",
              "    </tr>\n",
              "    <tr>\n",
              "      <th>277</th>\n",
              "      <td>Gulliver's Travels</td>\n",
              "      <td>6.01</td>\n",
              "    </tr>\n",
              "    <tr>\n",
              "      <th>278</th>\n",
              "      <td>Gulliver's Travels</td>\n",
              "      <td>6.01</td>\n",
              "    </tr>\n",
              "  </tbody>\n",
              "</table>\n",
              "</div>"
            ],
            "text/plain": [
              "                  title  Combined Rating\n",
              "308       The Informers             5.58\n",
              "279  Gulliver's Travels             5.79\n",
              "128        Love Letters             5.97\n",
              "410          Brick Lane             6.00\n",
              "281  Gulliver's Travels             6.01\n",
              "282  Gulliver's Travels             6.01\n",
              "283  Gulliver's Travels             6.01\n",
              "284  Gulliver's Travels             6.01\n",
              "277  Gulliver's Travels             6.01\n",
              "278  Gulliver's Travels             6.01"
            ]
          },
          "metadata": {
            "tags": []
          },
          "execution_count": 175
        }
      ]
    },
    {
      "cell_type": "code",
      "metadata": {
        "id": "wwF1F6ZuLFoE",
        "colab_type": "code",
        "colab": {}
      },
      "source": [
        ""
      ],
      "execution_count": 0,
      "outputs": []
    }
  ]
}